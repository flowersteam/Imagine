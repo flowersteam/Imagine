{
 "cells": [
  {
   "cell_type": "code",
   "execution_count": 1,
   "metadata": {},
   "outputs": [],
   "source": [
    "!jt -t grade3 -tf firacode -tfs 13 -mathfs 110 -fs 13 -N -T"
   ]
  },
  {
   "cell_type": "markdown",
   "metadata": {
    "id": "IVb1EQw89d7C"
   },
   "source": [
    "# <strong> Language as a Cognitive Tool to Imagine Goals in Curiosity Driven Exploration </strong>\n",
    "\n",
    "--------------------------------------------------------------------------------\n"
   ]
  },
  {
   "cell_type": "markdown",
   "metadata": {
    "id": "awPzJKCs5dmE"
   },
   "source": [
    "Here add general introduction blog-post like with motivations, and illustrate with the schema that shows all modules."
   ]
  },
  {
   "cell_type": "markdown",
   "metadata": {
    "id": "HmGFArOeXvps"
   },
   "source": [
    "Configuring everything:"
   ]
  },
  {
   "cell_type": "code",
   "execution_count": 31,
   "metadata": {
    "colab": {
     "base_uri": "https://localhost:8080/",
     "height": 443
    },
    "id": "Jo7scb9TnVcO",
    "outputId": "304576c4-9ef0-4f0f-9adf-8c742794bfa3"
   },
   "outputs": [],
   "source": [
    "%%capture\n",
    "\n",
    "import numpy as np\n",
    "import pygame\n",
    "import matplotlib.pyplot as plt\n",
    "import matplotlib.animation as animation\n",
    "import pandas as pd\n",
    "from IPython.display import HTML\n",
    "\n",
    "from src.imagine.experiment import config\n",
    "from src.imagine.goal_sampler import GoalSampler\n",
    "from src.utils.notebook_utils import get_params_for_notebook, get_modules_for_notebook\n",
    "\n",
    "path= 'pretrained_weights/'\n",
    "params = get_params_for_notebook(path)\n",
    "policy_language_model, reward_language_model, policy, reward_function, goal_sampler = get_modules_for_notebook(path, params)"
   ]
  },
  {
   "cell_type": "markdown",
   "metadata": {
    "id": "214I7YWy9h98"
   },
   "source": [
    "## 1. IMAGINE under the hood\n",
    "\n",
    "------------------------------------------------\n",
    "\n",
    "### 1.1 The Social Partner Module\n",
    "\n",
    "\n",
    "\n"
   ]
  },
  {
   "cell_type": "markdown",
   "metadata": {
    "id": "3LHg1vnYEIbK"
   },
   "source": [
    "#### 1.1.1 First Role of the Social Partner: Setting up the scene\n",
    "\n",
    "-----------\n",
    "\n",
    "The first role of the Social Partner is to set up the scene so that the goal targeted by the agent can be achieved.\n",
    "\n",
    "It provides the agent with optimal learning opportunities by organizing the scene with:\n",
    "1. The required objects to reach the goal (not too difficult)\n",
    "2. Procedurally-generated distracting objects (not too easy and providing further discovery opportunities)\n",
    "\n",
    "The following lines of code show how scenes are generated according to this assumption:"
   ]
  },
  {
   "cell_type": "code",
   "execution_count": 17,
   "metadata": {
    "id": "32QSAzXwWj1z"
   },
   "outputs": [],
   "source": [
    "# Enter a valid goal description\n",
    "goal_str = 'Grasp blue lion'\n",
    "if goal_str not in (params['train_descriptions'] + params['test_descriptions']):\n",
    "    print('Please enter a feasible goal description.')"
   ]
  },
  {
   "cell_type": "code",
   "execution_count": 3,
   "metadata": {
    "colab": {
     "base_uri": "https://localhost:8080/",
     "height": 531
    },
    "id": "WeVvEj0wbU8I",
    "outputId": "560e50ba-1c9b-4a98-cf34-b4ff15f00261"
   },
   "outputs": [
    {
     "data": {
      "image/png": "[encoded data removed]",
      "text/plain": [
       "<Figure size 864x576 with 1 Axes>"
      ]
     },
     "metadata": {
      "needs_background": "light"
     },
     "output_type": "display_data"
    }
   ],
   "source": [
    "# Generating a scene which is compatible with the goal description\n",
    "env = params['make_env']()\n",
    "env.reset()\n",
    "initial_o = env.unwrapped.reset_with_goal(goal_str)\n",
    "env.step(np.array([0, 0, 0]))\n",
    "env.render(close=True)\n",
    "obs = pygame.surfarray.array3d(env.viewer).transpose([1,0,2])\n",
    "# pygame.display.quit()\n",
    "# pygame.quit()\n",
    "\n",
    "\n",
    "plt.rcParams['figure.figsize'] = [12, 8]\n",
    "fig = plt.imshow(obs)\n",
    "fig.axes.get_xaxis().set_visible(False)\n",
    "fig.axes.get_yaxis().set_visible(False)"
   ]
  },
  {
   "cell_type": "markdown",
   "metadata": {
    "id": "6UsYaxIE4jrw"
   },
   "source": [
    "#### 1.1.2 Second Role of the Social Partner: Providing Descriptions\n",
    "\n",
    "----------\n",
    "\n",
    "Now talk about the different types of feedbacks, add the option, then run a trajectory and show the resulting set of descriptions."
   ]
  },
  {
   "cell_type": "code",
   "execution_count": 16,
   "metadata": {},
   "outputs": [],
   "source": [
    "%%capture\n",
    "# In order to build vizualization\n",
    "fig = plt.figure()\n",
    "ims = []\n",
    "\n",
    "## Rollout of a policy\n",
    "o = initial_o.copy()\n",
    "goal_encoding = policy_language_model.encode(goal_str)\n",
    "episode={'obs':[]}\n",
    "for t in range(30):\n",
    "    action = policy.get_actions(o, goal_encoding)\n",
    "    o,_,_,_ = env.step(action)\n",
    "    episode['obs'].append(o)\n",
    "    env.render(close=True)\n",
    "    obs = pygame.surfarray.array3d(env.viewer).transpose([1,0,2])\n",
    "    plt.rcParams['figure.figsize'] = [12, 8]\n",
    "    im = plt.imshow(obs, animated=True)\n",
    "    ims.append([im])\n",
    "    \n",
    "ani = animation.ArtistAnimation(fig, ims, interval=400, blit=False,\n",
    "                                repeat=False)"
   ]
  },
  {
   "cell_type": "code",
   "execution_count": 5,
   "metadata": {},
   "outputs": [
    {
     "data": {
      "text/html": [
       "<video width=\"864\" height=\"576\" controls autoplay>\n",
       "  <source type=\"video/mp4\" src=\"data:video/mp4;base64,AAAAHGZ0eXBNNFYgAAACAGlzb21pc28yYXZjMQAAAAhmcmVlAAA11G1kYXQAAAKgBgX//5zcRem9\n",
       "5tlIt5Ys2CDZI+7veDI2NCAtIGNvcmUgMTU3IC0gSC4yNjQvTVBFRy00IEFWQyBjb2RlYyAtIENv\n",
       "cHlsZWZ0IDIwMDMtMjAxOCAtIGh0dHA6Ly93d3cudmlkZW9sYW4ub3JnL3gyNjQuaHRtbCAtIG9w\n",
       "dGlvbnM6IGNhYmFjPTEgcmVmPTMgZGVibG9jaz0xOjA6MCBhbmFseXNlPTB4MzoweDExMyBtZT1o\n",
       "ZXggc3VibWU9NyBwc3k9MSBwc3lfcmQ9MS4wMDowLjAwIG1peGVkX3JlZj0xIG1lX3JhbmdlPTE2\n",
       "IGNocm9tYV9tZT0xIHRyZWxsaXM9MSA4eDhkY3Q9MSBjcW09MCBkZWFkem9uZT0yMSwxMSBmYXN0\n",
       "X3Bza2lwPTEgY2hyb21hX3FwX29mZnNldD0tMiB0aHJlYWRzPTEyIGxvb2thaGVhZF90aHJlYWRz\n",
       "PTIgc2xpY2VkX3RocmVhZHM9MCBucj0wIGRlY2ltYXRlPTEgaW50ZXJsYWNlZD0wIGJsdXJheV9j\n",
       "b21wYXQ9MCBjb25zdHJhaW5lZF9pbnRyYT0wIGJmcmFtZXM9MyBiX3B5cmFtaWQ9MiBiX2FkYXB0\n",
       "PTEgYl9iaWFzPTAgZGlyZWN0PTEgd2VpZ2h0Yj0xIG9wZW5fZ29wPTAgd2VpZ2h0cD0yIGtleWlu\n",
       "dD0yNTAga2V5aW50X21pbj0yIHNjZW5lY3V0PTQwIGludHJhX3JlZnJlc2g9MCByY19sb29rYWhl\n",
       "YWQ9NDAgcmM9Y3JmIG1idHJlZT0xIGNyZj0yMy4wIHFjb21wPTAuNjAgcXBtaW49MCBxcG1heD02\n",
       "OSBxcHN0ZXA9NCBpcF9yYXRpbz0xLjQwIGFxPTE6MS4wMACAAAAbMWWIhAAV//73ye/AputbW7W/\n",
       "k89I/Cy3PsIqP25bE7TqAAADAAADAAADAAALckCHv9Tu4pzCAAADAABOwAjgBE+YfW6A9Qi+ABnu\n",
       "UYgclkbq4EgJi3TJ1qIsQGe2zSibtWOBGvKoUUjXN4pU4pvjexq/iGYd0U4JCHwULI3SfrehbCqJ\n",
       "HvXJkljPIYTcyMrDMgtHbAgn0HL4XQDzWP0fovv/YUA0hJB1n/bvRZ2hIkty5oGMKfWYQYxWTMOM\n",
       "ll4ZMhfp54aRoBpQiRAY1gbbODfLPBAJEgud8AAC9APlDuTPFTIfeMlFfHsjQoiytBp3UgBNUfp6\n",
       "0SjHKot08bD3fxs+qujZx8XCdYpzNOqcZMubVovztxRttLMxKghZUKZ9ViDIKnENjQ7s3LBErwcq\n",
       "sB33Dgy11WSi2cFtQ5myh3Lib1rF9kIxz9g2qAtAPmerQPDtQG4FTOeXjRH4Zq3ByVpsQGW46o4V\n",
       "GCym03zxyq0Po47sFntn5EM1A/l2BF3uyrkQptT85mc6ZcBM1KgHKA49dL8nZnKDzccH0EWAsHCV\n",
       "vy8u2+emeaL5sHMyWwQVbxAb1lpmJjhChOFDLIuweoDWofDyAx38zN4sv+E+mnb+k97L5zymJMcg\n",
       "IlFgm+ttGkzOUSlYKVaDYPHOlTDdrqcnMgy4ZR0kqhm0tshGtuziG54TEkfIptSWnq8BNTn+u8Tu\n",
       "rR4BBD5kU7l34PtBqlkXGMMtIz5Wrod/c+/1OQxkpaf4AfWwKZMu6Ij4Ym7IWdSfyYqaAQnW/Vxe\n",
       "2GfAdQZApy0XZ2TCMwbT/Z3Z7KcH9inYdbIWT3xpd61zxlIjJhRAUy4L8yXqqHjtooASJ/pPd8tC\n",
       "jJs5KkxgRgBWgKsIO8nPM0wOPHWtIBtuzJgosXbCbbrGECmUwOnkrvT3NF4aOr3RwoVA65rwQHR/\n",
       "emzPek1KjrG57o/b3mKd+XWCwmHmqZdfVELonIXTleYko7wZBj4dFp8ZDbXw4uQaUeUEl+541jPm\n",
       "WhR+Gs9QD2lQ0HrS2viNL1cwAOk0u37sriNthp2YhkyAAvXLO5jwX/IeOL6A056zPwIpf1XwBVx6\n",
       "PCXqajqBXn1v0zgXabTBGGKl36AAAAMD/dE7oeL/J6ODhZv4BSGrbVZlAcAgkCuVAEzV8Cc/1CHs\n",
       "ZqkSAK4GGzp7z9NgANjZYTfnqmuj98vkcTqxMSUYviLDNVGRVcoGD25Iug52knWOJG235YdZ2RYR\n",
       "BgYtN4AaKnul+77DGrlJ9+chyue6HPYUEuD01rCIKInvQhPeexTBho3Y4O2ovFpaYNrEdCg5D6t6\n",
       "5dJfukwEG9n6OoeIkxqEQOGTFhDlK3EWUZgQ1d4JIKG3KpTvbmU2t+rLF0g/QU4Y1ipJiRczNbXi\n",
       "y+wvkAtAv/5ZQ4Nk0DMnu1mAiRkH5NaHiMClj74/253xxrvcKktTslGDUWgEg/w22uf91H7ceiqs\n",
       "qeC32DX6CyVIfey4umc9g9/rsPhi/0n8AA++yIKaI16GOSkZk341MCGR7jb9+w4qtp65JaQ+QLaW\n",
       "Hk9PKO3vtuwy8WAQBgP0a+Ekz6BwC5IOHNcNhF5VtR1xBeTWflk9SzwYoifBMFm6/aBXM7aRi8XN\n",
       "3LGMI9xRNPunw10Cj905SllOkowckSGRDsnMafCO27brROyVMMQT8zmlc3d3fri3OQzO6nU+GLD0\n",
       "wsJDnf60E5cc696e4yPpfL2s5atZq9Q6mMK3P0dwJSwZ/nAsIAig3E8a1dgjpY1S0E0lWeAMhWyc\n",
       "72n6vDsh7+kaOGTrBYOmIhC8Tkch4aDUqNOkd4gJ/VYzGbdpltpDoQmAk/dJQAvD9A482Pk67cEU\n",
       "5/yjjjzZOKbbS0fii8jEGWYaywAm1VdFz353L6gAUZej5jlyfoHPDW/jO9s//P56HOkObAqaz7Zk\n",
       "HEkZcbjgzeZELL42+41hQslXi/xTgJ4Qs0Yy6pSMCXq68DTxWyeu/7xvqpnM1VOuXETln6i7D4c5\n",
       "0E0Pu/CBkgf8LzjSPBwfU4pz5RUXW4pjupFqRt58BrhknapTnbo81wYCXaNsCXrOYiwU+NzegPfv\n",
       "27yIQEY8hSkVEBUJT7EH2JTm/jA8Q6qveI23caOt1xR9m/Ptcp/QJeH3uRvhV6pyKcdhgd2+bUVq\n",
       "QV1rARmHbZB0H+b7B1OAoKemVHOmzwAAXB+aphv+ntnxa6gkMub6vvV+L8z5Wb2jgzB08DI5iFUu\n",
       "nXkZEpVzBqSvDvwearljrF5Z4vQ+cNRcOvlWO80aAndGmlmpZ800lVz2PyAC4shUua1EldA/mItz\n",
       "D/M1OtpeDl7B+BlwO3DDPTcMABchs/UOZNvVzI4MHMyc2bFK+OA7V+iQZHlWt0xzgA0bBJeatLbD\n",
       "vmFwM4sfSpTsyYPM7duY8qgvK9oTa/RGCxQObj6ha5BnaC1aGvxN6/g2xFJGBZhYLaIio1PNOQp4\n",
       "mqkOHV239l+beEliV6Bu7qn8ks4eTDB9PsZqpHe20jmp8KkpMnu19Li37AgLb5LuLgA3raHNAzZ0\n",
       "uITJQjoJH8TSfrI5sybG32jAplDRneb9bD6fEkqwsQjpKu9nY5PC73oQh2iWpzy5ZjzL25OKp6cl\n",
       "/VZ1RqyA+JyEz8cZ941Bn95sspdMdwiDTN9XD+0tlqfHV6cUjrwxBx4vzTh/H7OyDi9EEVfh95LV\n",
       "hvoq3zOVir1Tv8EBWzYPb2GVAuQ/hXes5roVyOzjqBKmOX27xFmqEYXERKBmy6SQ+jUi6hjjsQAh\n",
       "De9s/7jiw9NV1WCx2Afi3dOMGJQt3CQuRA0c5Uee4tXgiKtJ7k+NVcmNqdFZWViALO0EZvIfbYdG\n",
       "x+vyCBnTw/4j46IFvL58jFz6MXQmiV0G/30t+vZzLs90osgVJNC5B6xGCuJuPiO+KTFQ9WZc4zDj\n",
       "f7kvLLXWD0Z2GENB1usAkOnOnRWYCx8Zf3YpSYFaCfkxiRuGxSbKISX7lzuUpdwyDaagtLen715Y\n",
       "W0wuQrzEt+6JTeQP+BqRiwb2ntv0tFx22UBQ7CKHMAxRDlXztmJp5U/3ooQMmIDfr/WPhe1J0otc\n",
       "MoMtVlCAzFOmr5x91eOlq4J0dU8ZFfTku9S31M7o+cDQHu2H1CcR1YfP+9+MLvQuJdGpYyztVc+m\n",
       "fw9GJoAGM40hnJz2yk1Aik1LPOxDPkPnX/E6aTdUIMqc2XAgESHeBX9n7zOCc4CAdk/Y7vJpgk3C\n",
       "Zdi2apQAxeBzb2Q9LjZqkCGC2wRKfDLoqFe3F69dVrAdi4tlVeGYE/0TJTbP73BgiPiggSlczHpX\n",
       "dIVs2GQJtqpOMVXTR8GoyvXsIuEgMnRyrmn6Swqx+NrEt9wMph9TEJoo6D4Vv2SvKn+ceRLFUsgx\n",
       "7f3e6meQalEiMqVEe9lpx0EREgTNax7nkXrpd+K5/inr2aHZQzqfY1udqt4098n+GFciKlurXcDZ\n",
       "yds/RBgx8HXPP8PwjK3tFIg+ZadTGT02//M9LFXfIQxCE8wEYQX124HPxneqQd3yb6esvs5tcDDx\n",
       "pEL0gtgSWz8xIXdLKHeEitSXdr/qFh2PsNAMrCfC5nh35MSHKGcD+81Sik+GtMTAee1ZfI53mpZc\n",
       "YvYzBai92WaUJqAAAEcUvg7I23WgoFwVTlGsHLTfpjtUgQ8A8Var8WywwpLDRol21cdyTIpG2iIP\n",
       "9duyP6/l951C1HXApAmPP3EUtBg0kJIzQSatZ6D936lxMvO+nrxfSJ48OU0TAIHwy/E6Wb5aBixG\n",
       "OhrUIqsVaFqrdEMR9Ch5XVEQFW99UJg4WDWsuA9Eby9KwONHJToSjv7jBxKl61CDx1/qlDxAfx+o\n",
       "gXwzx8G7YtqgMijrZlKIknbYbUIGpdFHj87QmzcfrA8WVBcuiepWb0RCIO5M3EcgMkQRKhyNoLsT\n",
       "rJHjSUbmllS0IXN/nPgr0i8m6EF8CKw+PCwr6RFs4eGue97KlLsj4T8aeXWH+4z7w1t9+HKE/RqO\n",
       "RYdJmSr1Nkml6FNg3UIPv8hdDvKRKmiFVoyvi8wrdBKjrCVLEq8XNtLb7Q7QKcssymxxnfsIuDQT\n",
       "pnPtbUqJ3wdY0HXzbRBLRAXS5PK3KUwefm040Vhs2BPKVL78LOnD60jZillLKUu18Bd7iHoakQ6D\n",
       "WBCcet3uzq/epOEyBd/CIEQDdkBUI0THRMQAHXSWHy++xb8JTqzMMSTdNqJ8BYb44V7i+S6uEofM\n",
       "zbzchs0m8cWAOhRZL2Wrm7TQj/ZqXXaHeaaAVRQ1tcVj26yp5u6f9CVP28G6doOvU/sNP1MEa3T0\n",
       "BWlaT696ELJEKsEiJmVcNVDAkmIb//sLJZTQWRa0L+d8AtB1kEvXgcq/Gc8KdD4UPzfTQIuLd+/m\n",
       "7ep/g+Ec//Tx1Wns+kId7zS2tFXRo13C2MebdjcNxaZxGhE1nm09YJynmSQrdd9eLBlO7iwiHErC\n",
       "qehS204PiRpdFtdHvLa9Vd2p73VMUYZk+1IwyaIsHBcz3dskqIBCSVmK30xFhMLc6twKR1HAGNfC\n",
       "gpP/+mkL+X24vnhlWN1yCBcaTr//3RoVlJziXy4bWeyi6Ukcpq2d7frk8dxaEN2LybXdYBqvQQoU\n",
       "Xyt3+EjHHnJSGuPrSTllHto/Hu0pDNncF32KiGQ6IyIqXZ13+QBNz0yYLxO7zj/dTtqSxjiTnteQ\n",
       "2Y58Q/L/IUn+TT0mwBQxx2lli8W3QMsj6+VycDfuAEBATN6FTwuuZvUp+QwJ95dGfROuCPI8xcBm\n",
       "RlD1huUT3UZ2iPso+/RYQIzD4AN6PZPk9FaZOi/nsd7b7X0+qcbhSG2Yz9CekMi+7ovaFfz9gCtp\n",
       "4HtUfTEAeTXFE55Kg7VKpxvTyCwf1aqlgI9qezUe2Et+eZxft65WCZnF+FKf/FptM+lmsPEi2FK7\n",
       "dWdCAY4WVTGQ7rgZDt+25r0ZvHrE0uGKIQGb6TbujGeVcs8AG8GoiduwI11LAhRA2Y7wGumWQAEl\n",
       "6hbGQjglypwW9COXLdz2vdOXUjm7QDsL/Cfar9Dr5ZeOQXB7oQVl/T7fHsYVC2b/ZM1//mVbTH8K\n",
       "agZThOU55Irn1AEkfQ+w/TmnVVFTrbWX9zY9++9ueJl6F9MNnA3Ir0n0HeFr0+CYdWe7uI1XKKKV\n",
       "zDTKHF8inM5dAkEzuXgX6FhEDYjllKk45OjqHoM4DS2m7nwJz7z6d0m7qWaT+iI8SkDD3pm7Ftru\n",
       "vyFctrH/70APzu5GIkxoBIV0SiLBy7fNmP6kHMLHYwA24sWid0ySYtYbMkJ8clPOGNAUJKJ6l/k0\n",
       "ldxdJWAl5Lw64gqysfVSFx7A53MpTyvH73WbK0Cb1TfhNLhPMNTSW+60CxBwN1IRLk37q1zz9FPn\n",
       "1BGlh9UM7vumA6QAnjVtMJAb5kPmGCS1CNuvF5ZPwfyyckEN4AtauI3U391wAmFQ+JFJOyniFdcu\n",
       "jv2w28mMz4VjvZydoBSrH2K+tUXPRZruzjgWbBbQC5uKFtF4MI4dGOf6UkRagABLJCb2TzeYK7Y8\n",
       "FJ2cfRodnnkrBjhHhxxi11euAQCnAT3cIaY8oo2fqMdESmCjPDVRBL1DAMMUjVQ7/VO18fGWZV8f\n",
       "R3hwLe+zBnMFyChTYpdG4tKpYQT5ORmwfvqhPhJ2ZvSaXnxcqZdbIc22EMbq5xFcXQ0bglVLVmzg\n",
       "597iQH6nioTCVCA62GlJuFXluxS5MAi3YyTSM+dwYUcEVhhLbH6bh78DZ0Yk+ebNUO0pR8Lknjol\n",
       "E7Fm6/uF5hryVzcolRmRNGcEK5OTcabreF8BS/4WROVkvqHN2cb9W4dnZn4rmITTt1eHmmAZ3dys\n",
       "NwM7PqW1ifNvVz9rHMRURV0ds4XoB1lT83N7zfMyKdrnGyB9inmUgFVqjHmFGK3S/VtkH1gWzlXr\n",
       "/aBlijlOgxZ5ExRJUNd77U0M5+wWSuEbdEicFv6wAJl/yhLw8+nC0wlVD/kqdX3rXKdnYWYfUMY+\n",
       "ujui0+w1Gd+z1+WH8pSf2GHRetUobpd/kluZympU9l+x5XbOFG9ggaaaBUzbwv15e/pGk0mdsXc3\n",
       "2QEL1DsQ2FQI8eqX5rBHZCA2QGrGwhFhjDBWRUrPnFe8d2ou/mfJi3rGfXNLBXnQWPjJEtzNlE38\n",
       "4x/mFYZfGm9wAp+dw60NSLkCe4qBhm380gtTWlz//yNMs0pf7q+MpdNWoKTApBudEN4k48qqKRKA\n",
       "6vMKtTLi9hiZp50cDiH6PwEvxMKz8F9/ZbQXfH+uhiYwAxrYEtd0kd2bnyskkjz3luMwx8KXGWKU\n",
       "q81CMAF3RDcELUXv3bXQvrz+FwSjw/Fftxhz3at06GUcwhPHUODkKnnofXT5iJFefy/HR+WJSJjy\n",
       "EzIcnprcsV0H00ccuFmZSstKFHx4ZOxxK8SqJyQVPeuZ8TG8aOpnpjtG/R8ZKWRJ5S2f3JvFv5r3\n",
       "H9m8aForUY2OQevKW702Q1HgczbRPhSYTHZ7nykLGTcQWoCrF01tmcQj5qt6JYc7QNT8X98qYZBd\n",
       "LLG7zo+1WqpO02d1tlcZFwt/h+dzoWQz0vQm9nz6mMtW79hJ226hVTjpYOmQ4mYdZjD/hZgmgyBs\n",
       "ciLqA9NJpXb1Nq7/XsuNRfmizyVtCdMQLNaZ286fnewrhrmGT14b7E4eDnZgxw11/yx/R/u5szkY\n",
       "sj5EX5cWSaAXFtGC8CICIHR4CI7aYVl/VH3+lvXwpjTqTOUp/P6w1UqhVbKkTuuz78pyUa6zTxWb\n",
       "b2IqnqgZDc5Pu4x2J22OVR4baQGpMbfFJCLjjw+MFlgjfHzID8+JAA0x7/wSIVkO+hlHnExP4129\n",
       "dtzUxfr9GlyJUPtWGzoEqzUDHl8v7P2GfTu5gGGobf/SIAYv0Ey8pbFII12JL4RToUv/5NptgAYa\n",
       "cOaToFfgX0b1i5JY1MBsVzo30rf60t/Xo7SSwY6ScryctF2djn4r9y2/JOammkVyw9jRHVxyNEfz\n",
       "MiNde8eixTB14vnOZ2fXLxh0d+BCj5gDGs2E0nYXxkYAAAMAAAMAErB2eyAXoURMJUY6dBFNMovj\n",
       "a14cqiWSeDCgQi9lJ0AGXsj2y/ns3JOJ9ELKenHou7fjdKhXOPNZRNov5eWM+zNKqsSIVsHXXU3Y\n",
       "3Kv+iMiGaKC0EOP7ce5s/e9/fg4EqJRmDvfNN2VNaShVbl8ij9DZMT5ga+17CrHUUz8mpZgiITtI\n",
       "+0epd2cJBSUEcxe4gVl+U6tLL5k+Be7q6yIveNC4MRdjFW6pVGUZVteRHiGPi40COY+qgotNKF3N\n",
       "jrgyDUqaKVz63wa+x3cuFNhtEsY065zN6Bbx5QOqxW5YyuofA5nOmOW40YnJWDLtk/yq6exhmMpD\n",
       "DgZ4Rvktij1PpCMnRTOJzyS5tvyPvMNwHbtnNDiJD13SrFeFPobbEOd7ffvA/QAdGr59aVzygTw2\n",
       "Q7ahgP//+NHiNKqzSY5peygvSevEfYj+zp5w0M73oT6k17u07hqeq9UqEYWUVeCekahMtYSKiZRX\n",
       "RF49JUc51F7kle9EtKH5+TfDxdd6VBDiSRQ0r6c4Ax3nBtD05AJopCIqnDUN9Za39+s52GmcfekS\n",
       "eDn8hRuBgjGhImLnd6yayGZbFiiHKvO5FSd6CR8+uiYIUUPfLHOyS31dmMFZmeY01da7IaNZamP8\n",
       "E2pGiX5fD50Ui9piGg5vF5phtxFtm1/zERurkTgwU4IbblBJ0OX/GKXZ+ogUQiOne4U/JBkUGUuv\n",
       "DdReeclOgg130w742NKLXZXTcEEV0hO7wlSzDkE8Jbutk/tmtoTkNpo+jLWyZY3+GbyBZnWP6E/X\n",
       "yihjJhsRLbU40oNGXwnURBQYAAADAUfc+fVpxxWADLa7AbMyPzMs6bLyfigy9ublka7pVU/IbHLi\n",
       "fj003bSt6yd+HyA2z4uULdKWWm/HyVnEqnpJf4wEx9bAFvZqcnY6t6J+WIekwfo9oErjCrzu1W6N\n",
       "IhkAEVmNZv6GRgaF64MqExH1i7ALgNOJp/A3qTCSxnpoXEipn95CJhVtsZc1uyINC0bmEgsqQpD4\n",
       "Q2P6GdvcaBWg533GkDRl34w+8VtKJ0xQrqK4KLJcDJNcYG4Xx9rpvyXX+W4tYwFVkV85i8AJXEVf\n",
       "9FjmNTe//qZ1dpbuHJE7FXsPCfNnvCWp39K6MUeYMaMeLVgsqcU939+pVxrRuSwgRLIxA/TQe6kU\n",
       "Sdn+hNga74t7nq3gJNJhyonc7s6CCxik7zSdpMvXHt0YWeZ/UXT/cIv+cC/YleqW2g49/HfOMbUX\n",
       "UYy22URSthegUdAXYln1g65IqpDIlM7PqKQ5OpbjEwpUqGpbZ0nZ4uHrMxqhdxSFx4TA7gZD0txN\n",
       "SojZ92i/wmen0fWGP58pbLW42EP6fUTbwBcpzz5U1ju2roSE+8ct/xb4TCnO/HfX+a/g/wtqlz6S\n",
       "x71RG3CauotmC9+Ns88ps0KDQ0Y/pyfPQi1g7xXX69+S211NitBqPUh4e+YD/Nl6Wf80FqeITnWm\n",
       "2M4XQ0vu+0grnjUqQDPXilnT/w3ekASGS8Pj/tA3n5Et77vaqEcs5us1GDuUz/mipTbGXrgd5O/1\n",
       "81/m/2/N5zTqoe7SfIx1jbYgMxhyd/jZn92Rwbd2yJDnVFTHn1WdygIs+tOr3HPEBPYqnDLiVrK8\n",
       "OjN4GccGTJGEW3d5D3gpMn+NC6nFX9QKmW0n4vn+Fyptm0VrP4vVmgkqYJfpZ/qKmISxxYfT3SgI\n",
       "TltplzqsYwhwLpguxy73gfdXxkrJ/P4NxqoFTpJfUGhvGdfv+sxTbDQwT6joE02p07w4CuVWy3um\n",
       "j5IG66Mp117Qljfo95ZTzmFKOVZ0oCd4F/mguAwx2YdKGU9E6mv5+fp4NBAey/z3vFtQd5/74GS7\n",
       "e8tlXz/Sfw+x/Jxqu6v8gKBzqIbN3to+QdR1JetLFolLGyXOYbo5Y/ILhUuoEWG3nysfu753v95z\n",
       "uePnSg2Rpe/KsyOa633QCHIjLpBhre4G2GaXnJGY/ctP9G3WrFIN8iT0oRR7qrnLkgvYY4/KIvqj\n",
       "3QTlGVepUjtxbrQdUFbheaGIcoO5x1B5t0/s0YAMptxXaE9SMH3LeZak1OSUjySD+SeOjZiSU5NL\n",
       "kg9hrfpXiDTrvYR+xjBO3/c3Vas8TexjLF2dWHbu6gQ/PZL6W8ZLvh6lbj7GJQz5+CnYVPfhbUqw\n",
       "Im3njanLCVnP97SsU/o8vTxG50Ul9+kYqI1Hyy3sFtzSwiXjxSchy9z26omJm1NcQPkc4w9k8GHD\n",
       "MN1MfQfZK1Vj9+QvQrFQXVwCs8uj1ua5ImfqqxRIEIFjNF4AAAMAAAMAAAMAwIEAAADNQZohbEFv\n",
       "/talUAAAAwAACIOdSgAlrfcallZONXup9InsG9+yWydPFwzNFkZnwm+xTotLfPWQSqSSj3wXawnz\n",
       "VSKwoDiUF2IV5v4C/TlT/5m5L97pzRl73aJ09ES/kH0B5JnNkt6DOVlExY4HxshCAmf31TWrf18t\n",
       "YjVcQZvOCoTrSu/1TJuoE3n6CqqTSpSMRCiu/ipBF33+SBm9csk3bJDzpjeVJcvrsognZDBod9q6\n",
       "LCFYIFnGHAL+pbDMDXrve5oeV82+dGocgAD5gAAAA8lBmkU8IZMphBb//talUAAAAwAACI/y2XZr\n",
       "Y/8Z24QAtrel73UvkNccJKjkmef1pxSrkM9bjc7AI+XQTrbshz9vTMV1nYbNFH1NJGiAgQDozKfl\n",
       "T0+bsN/ix+GAe5i20w4smSYpH+pO56zg7Rol/c0nGfnPVYHhRy/n9vul2RRcrM9/RvlloC74UYOo\n",
       "vNCZuMy+NABR1ombA6yR1sNsz1xokzm5ZMszUH+LH4XdWrt7vB+w+zLP5s42IzQfVzsPw79+VfoP\n",
       "K1GbU0baht5Ab3RfIGmJGrQ/k14Jo1mdtduyrEmYofCg3CjvE3UVTE4yP1Em9uGQ6sh+d/HUjZEG\n",
       "XSabbtL/+9P6SFPVDHau/v147/gNYix4WLfFejGTbUN0NtJLhSRLHS32NyFgKfAABOTeD4u88klx\n",
       "rDdVh5Iq077OSafbRx4APO/4uwD9SyPaTaKMGuzJs5hgDe7eieCUO55ZJbMHod3IX+xJ4KD0WSAL\n",
       "6h7vdk16vVsFBc2pfkIJnHJ3voOlBEGwbbag6ezhuQgwqb2U5CAnkYKHIIgsj6n/M1myClKpM+Ew\n",
       "Vgxxr3dD2zyBbeaVD51N4khJnjBzGfbIXOOEM6/IhOHK6eOY2TAaJF++TIi92X22qaJ4f/Ijd7L+\n",
       "8Jd7t1YvQAzRzbcYfV+VkZznWwbf7T7/DVHM/aaEsOubw63PUIXtQiqVNIiY0uQVUtnfQy7eHlP4\n",
       "NwOJHgK6OgNMkAn1Pqxk6qW1BOuj148uCgI5plg+ENH0KLZIbQ94mTbpGCEDL0M0KxpULkAqCKdW\n",
       "JoqWoWN6H1Cwq2AMDeZCF3aYSbrkmiYiEE4JnbN6aHL6VUdhpVM5jXSDcUrjpI98LIpd7BhT4Cwe\n",
       "XhX2z7BERRofSJKUT9l1y6PjHCqZYb9XypHFb9aVK8nUOcnFYkLrGjWrK8dGnzjkofcP9ug197JM\n",
       "IbM0y/ETGdoIQo7GiGslp3oUwA2LSgpdG7GDWdh+ju7F3RyaffFdyTkFgtxVjO4jspPEWMVyW8e1\n",
       "pUqpkTc5EOrNy624niHDSTjckcJVBcjQmdwxUTr7Ix4tFDlC3viinr2lbHAyRA6BrQ5NM4oKUJn+\n",
       "tnBwBFydVzOev4YG9wsDRg5G/Ii9QPc3NBSV88NdWWuDg4jG5/uzGFLopoMKoqA4yl65Lt1xHPxq\n",
       "7KU02DWbyTIGjl2VULsvkAJZYttvXSO4GPc33CIsZ60Z4R8fdKYmxbfg7eyoHvY9XRNkGagQDb3v\n",
       "kZ/INNN+wzFH0EkvMGvllh5+g4iDl6c3mrNwXlPQzIMAAADDQZ5jalPBPwAAAwAAAwAWSM6p1NwG\n",
       "u/HSpNbqiLgA/rc7wabyyjULDPsKiR9jcDNqo0yN83N+YDO1kzH/Up3Mje9mi1B3nX2fQR5NtZ4r\n",
       "8FRYt23P3fWFuajGbx7KFUVzqTAGvd/GT8RVh7bwlxALL6On85aD2Sc5K0j9YelPWlg3ncvMo9v8\n",
       "BH90oXh1hUmKypss1jEzx91hNpgj6EBv/NCXYOzyJr1OK2hRiy+0/iXwIXpJ5n/kHjwn5NkkAAAD\n",
       "AOOAAAAAvAGegnRBLwAAAwAAAwAgoh2bVEv4crFgAOOpOSDoM7hmNgwTNSzhUj1P8bA5g8PtQAHZ\n",
       "xtTTmeigL9nKaAQp2PMmM4szDfBMqv185V0/vth1ReZdZ5ixmPIIDiZYMbbVMI1P3KIXlBOJ+xGu\n",
       "woUgugcWMHe2yJ3qUkR21f1za3czYFD0kn0ron53O9tZFd0QaMBlt/j+iXxxq5w5yRmnviHnjqG4\n",
       "XUM1xFHTVaGp+0+S7/9ca+Ubb/AAAO6BAAAAKAGehGpBLwAAAwAAAwAJKGB1ANwPdE2J990FtX5V\n",
       "ENPgGA7kuiAAAk8AAAMJQZqJSahBaJlMCC3//talUAAAAwAAAwJj91T7v2UwgrwSzZb39sJsO0mV\n",
       "SvQLgXxBk/RjFz3vExKiqE41KYJfLlzU2XqDtFjBMNWauDv98NoFp2V6LGSE+K53EGdzBi+R2Dlz\n",
       "nIWPn7Sa5ATbhGLBwTbqSxsvye1WeweZdGOkzQTEQkvIz/fDQ93NiQ39b89beIpPCesKlh6I73/G\n",
       "RgPve6JIGjgamyTuy3Ehf7hmYQ+Zlds6/tBEKqsI5y1NXiwCg9LCLQ/47c0FTquGkCiU+OXinFG9\n",
       "EHinPZEALlRoWb9IlUvdWCVU8/d/rrtVVtszcL1zbFvR+ixf8ZrMAcFIkfZ+12yqDboHaAsIRpT7\n",
       "S35NFsxnsbgDVa665G3a0Bcm9pFNmOCznXRORxxmsW98HIIDC/VQEqDjoAgR4rjBrJMXOISNeY/n\n",
       "uRwv0zmc/JdTQ6WWAbZ64/90vNQkchMngm2sO8x+DN1O9awWQ/PYXbYJjaMW0A356H4uis4lHQMe\n",
       "BFqZ8W30TEJ8QGDqVmRoOFxL6WYPlfRmlaipuVrw1mGiEOyoqXaRyAnBn5sjNHzKANdENvkG/zVJ\n",
       "WDuXhjPpYapRYOaJlU45yGFM41sotFC4Oa08lrFCWI0XIFRsuceEKnQZz/S94e9b+vTABgPfBYHT\n",
       "2TmvOckA1MhDDO0O5ptSaO37ifAqV9qVorfMsHHNKyGovyKy2Succ6BkU0HOeyNRP1Sbkkqb8XcC\n",
       "NaqhtIBnSNGp7iURQcZkvrQC10E88wUcH61KZHWluUAFeiTG/26PewwyvWfevci+ngmjTKP6tQuK\n",
       "AAM6ZJbYWfoDOaVB+E1AY6opGRfdd1dNKat47Zz4KROXNGpxYEKt+ua2D6nSgOtgkPA7juE3rlbr\n",
       "/0Xi3ZO1rxWYlR3iNpCLGViWH0HiSnh2fiYoY7zwr/44gMlRUqKjXqueKcQOmLAipWGCFXM27ovT\n",
       "csbpUOUXr9sNKdee/hWUqCFxThtl2tJXtXrgLyw9s2D7ayGwG05QRu7f3CZqlMAAAEXBAAABH0Ge\n",
       "p0URLBP/AAADAAADAAYoP0OttEanGQAFp+aHBxb7gnby/++1e/ftYUmiD+i1QgO3jvHc9uVudaGg\n",
       "n+OuXTIuJHP5AfD3jCYuR1R5jmzBhcRpGSk7lKJcRTrkWlQZ53WUkkVjn/kPhpsBJ/2Uk4nRY5xL\n",
       "VYq/ch6+pgeFodSpLG28Ah9PKRY7uGe1WP/Ocl3oKmMBmNRqvFLpY0hE7u6R2d7CRHEthMaV9LkR\n",
       "cTqHgkHx8jb2kTujxgIzA2McFu9+RqDlg3j3cpUyUHKKiH1BCzpwxykX63nv/mb/HsZTbsMD0f8z\n",
       "sIoo+4pfA1WF41VsQhFIVKyevXsChjrD+0od/wJwi9JZzsdVAnLTpyS4VfRiFbPjDJ4bVzgAAAfd\n",
       "AAAAIgGexnRBLwAAAwAAAwAJKR6V+t+yKIcc99E6LOrycAAARsAAAAAgAZ7IakEvAAADAAADAAJa\n",
       "GB065pwfVNsS0qPRHAAACvgAAAAoQZrNSahBbJlMCC3//talUAAAAwAAAwAJA7jUNUzdZJEU+4IA\n",
       "AAMB8wAAABhBnutFFSwT/wAAAwAAAwAAAwAAAwAAKaAAAAAWAZ8KdEEvAAADAAADAAADAAADAAA9\n",
       "IAAAABYBnwxqQS8AAAMAAAMAAAMAAAMAAD0hAAADlEGbEUmoQWyZTAgt//7WpVAAAAMAAAMCY/dU\n",
       "+77gTJEyKJ2SRg66u5SWQ6Qto6KzzbLA7gQ3PKQky8L2fCnZbX/G1/07RQeejQToTbF698m505zs\n",
       "4q4HA2RpldoT9NU5c069lvR6T4PH6B6z59vD5VbWRex9GMxblQuMjjt+ZjVqNEhRKg0ebkPtInng\n",
       "UnLkyPWechL9VsiASiKr5W/yX4WpCVS+RS0uT5qEWANYEAs7bcjakboG2nsv+xvHUrYlLDcO2vSi\n",
       "1nTwteqTtQL5TfmWthYN4C5asiclbN8Nbj8kePDV788+6ORGIEp6H/9kEV3oAHfslCxs96gqBBKD\n",
       "xhv41lMU3nLqoliHcq6f81rpXp6iBrKXLjvvspBazgIYcHd/1XQTos/+wu4J5y50UX9cWxhb2XF0\n",
       "YahjOIlsOVi5V2GtgLmhfrIctyScvuSWGTuj93D0oIyEenQ0y0ef+9zOXgc2CTmey/j9DlGA5ztV\n",
       "gJtVHlO+Ck2IHquJpjCFMqc1kYFa2pAwJrpCPiZ5jtIG7YDb1D+/0tqK3lMq4kDgCaGiFCzTZwM1\n",
       "9K9nZblu/2Q/HuQJZwfeFSItTCX66ocyUGWXDw+8BozHax1/XGRHdhZxt2cPHrd0HZLKGa5kSddr\n",
       "BAVYRLloBK4Uta+3YrRR2UePria8tiTRuPQ6ckxD76hhAtbExDUVA/nuoHipMJqcwXyOUkFtdjtZ\n",
       "M5DSKdyKp22U8jaaMUM2XTK7XaOYens9F0GRySc3jPkTmvgHmKCekdhuEvbzbTvvF0bAgMC8hYSb\n",
       "SZShrdImoi53sFo7nHZmpm1YmpJACkhyF3Wz0VoqguAmNQLtrx3VrNRgdU4gbiA4wvcdqwCBYn3t\n",
       "fqC7bMND0Rhho+ZR7E5Xw121coGlW1uunQYLknMkPJlOQabZGHnTIhcUP/tjazm1rLDgyDOFTNEL\n",
       "ReE4gEqwRi2gGNUlGq+/QVf3OeigZdHbw70vyyhVwkbEYgPaaVNd9jBNdky2hq9aTXF3LBMdtuzs\n",
       "guAlJ7TEwLct463IG5pjy8tkw5GQI6CXSeM2mPTWP/PyxACg0eQPmYWrcj9y7VSn8M2fbaFzA7lg\n",
       "oxDaWPXtApPf9jyBuamHlQDyap0n3bV6DF39iO92MFwO1xXVuRK88RLWgJMiH/1HTvj2A75j18Zf\n",
       "MJz2tz2PoRJ01VzYoEDY7iGOLip7rwgpuQhQ2rSwz3SQLuEAAAFdQZ8vRRUsE/8AAAMAAAMAAZP1\n",
       "BE+IAV3W/X+j1xVMYvAMISckWZr7CX23XRjX1xI00dZg4sc2Ml/ZLK7N76wGZqLAfmWRWTs2H2bC\n",
       "UAp2IL7hkMJuYx9vJHf69s/hF5Zlt66tD5flEzxZ/jvbs7eO7z6uemicNY214yXdS/nmaI2/uF1F\n",
       "WcY/yvboMD9Uz4SH8b7BDvrNCe9Fb2VQKJc/gqDIpYSKeN+iY46v1xw8aDPWkVgI8CsJxfZUbPhe\n",
       "aFUQLK9fLjjewl7RFq4xBSifDGJx9zQlK556r5Hc4UJZ50C7wExEkFZHzUvff4OTzKGuKak46C7b\n",
       "tIWCCQNQCLhgysIWyWOnKdYuWEQ/67PBKWNTwhkS1gif5ZjFUyDzVN22Au8Sp2Bcv2JzX5glKl8m\n",
       "OGtTwhXJFGCYpYPKGCpkdzxgKVxbXf3so3+x3ABo1K+N4AbnSOdw/QowAAAj4QAAACQBn050QS8A\n",
       "AAMAAAMAAlohzcabCaeexpw1Bp1RvRIAAAMA8IAAAAAgAZ9QakEvAAADAAADAAJaGB065pwfVNrN\n",
       "hHtW+OAAAb0AAAJPQZtVSahBbJlMCCv//talUAAAAwAAAwJj/D8F2JYF8gjI3p4VoJHxc6hJICtC\n",
       "0WKSjDmXWVYebzF1uC9ARdJNj7vT92HvxoT8G36hp6AaBlPAXloe33raJm5YnSq7kBT29ltt1yVQ\n",
       "edpwyGo22A1UfppRv6H7Xs2GzM/D/3Y12luGt54nXvXN7/mNBTU0ygcIdB/Wjcaq7sM3A8fqXJ7m\n",
       "u5drh9Rm75bthK8elVLzVoAWjOeBPiHEgVfiow3ywkBtjzZLDxNjEljW9twN5/UwaIRA+/rbIK7E\n",
       "gS7kOH3qdMnSLzrhOuXodtNW9wapht8cK7diJjJrFfoYl+FtowCIDgfCKE120HUqkQSLqCGRkEAR\n",
       "qS+woLD+SLEOgjsPpwzFQwMUlDdmmKb2M8J3cxQdVpDYmGddtE7l0+CC7EDtDbBZXtAHcd0PiNOv\n",
       "x1I+4i6oJ0PZse5EFjMIxWiNsiIe//kGT0xuPvZEFWrozPRH+mXzz7rL6X8cHYtQc66+mtjGf/gm\n",
       "Uti7FpoDjSFXD10Hy8zDB0ThDe7V7YY3dgBq1afAWO+nvNkB3jh3xif6Kf1GjCZL0IMSUQxsp2bS\n",
       "zkv8NlhRtDuCOcIGCZ/9MGBmDwZ00ak7JjYIcnfNSne71Sv79QGxO4vW8iAFEEzgCLHWvG1ZV1Hv\n",
       "bgaz5HyA9gzRFxrrZWEVK5GrUjzRnFv7bYmIhBi7HKTrDQpekGaX4vQ8tjGQijbpCSRy434A+siX\n",
       "61cf8y6819Ma61cvTFguNa2U+g1MxysVFLmuOvAAAAoJAAAALkGfc0UVLBP/AAADAAADAAYBaQh6\n",
       "yaVdRdmS9Rl97sUjUTVtRTgwzZju+QAABvQAAAAWAZ+SdEEvAAADAAADAAADAAADAAA9IAAAADYB\n",
       "n5RqQS8AAAMAAAMACSpxDzbikD1qeSzkRD7Pw0yRQ21o+l6Df59JyOaZMuYuvRDwdgAALuEAAAJy\n",
       "QZuZSahBbJlMCCn//taMsAAAAwAAAwE5vgX/4AlAFfCr7HUtPanW1/Lgwn7wGUcsDlS8ERKz9rzF\n",
       "dr3HfIqOlb2S9vP2uhCxaqyh0EuPgxugIFXDMnp+o7LF4Swp8jn6tGeyCT+i36ldDsnvmEQkrsZv\n",
       "2BxeIF3YVUr8/D0J43p1/FVAgu07XIwkMvwFBdQ5+FI9xbDYq8+W7+sMIGdMfMnoHG0jmfz/k/0W\n",
       "XDjzAB72adbqhgNnnvI+Ccl0fPCY25ZNkziyxCWRMpj+18C5AODwbP7a+TKKFisMSYgAzoSDgyBu\n",
       "KpMCp8GFX3ieDDo9AHcnp7EjzTLz4cI9VmZsjGq9tVDvrPhW6vE2lU/GmfL2zbUzcj8FPrOunnQC\n",
       "V3qg9UcwuCw4dMUIx2AHXEqf/C3wvYBKG2e3r+Gm9ddu5mpnrBYgjNxPB242x3c13SKaIleADupg\n",
       "A3/JJirQTAix+SZ3kgFFE+9eI7Fc0NkCPL+jbjuj22zrK2F3SVH+nSAJ1Qxfy7ENDthjKO+7CS3p\n",
       "vnahpxNyT8/zN3M6vwHFhHdu+fZG3SCqK7mGdYq/W8jqMO/d/+6RMcwrchazEFeoPqo/gyvjt9fN\n",
       "y/bTmaQWqVBjkVkd7ggolRwjGu2LyTOjMiW6ae7l8egUBq2Bpc6/nlriEaR+jYfdmv8QMJppUu3C\n",
       "FiU7XOzkesMTvt2wE+KeZlS3Nck7+KBz4ZNl4G5a/cq5x7cb06fb8nwEBU8dLYO34KQSRCSqeByo\n",
       "D73Y6mzAleaO/RK4EHqtN3WuYhzf6nDDGEX/ohmS03aiq4uSwmseq9ygtob1PliIIz6MSAAAETAA\n",
       "AAAqQZ+3RRUsE/8AAAMAAAMAAZQr0uNITsnnmkQ7NuuRogeHSXZ179lAAAIXAAAAGQGf1nRBLwAA\n",
       "AwAAAwAAIqIdnJ4FhWAAAb8AAAAhAZ/YakEvAAADAAADAAJaGB065pwVZjxYMhT8LNQAADwgAAAB\n",
       "M0Gb3UmoQWyZTAgl//61KoAAAAMAAATGp+/WAEMe35mTfI3+ITBIPI/G+h+C/4eXlQNkByjGNiwJ\n",
       "evAZRdujGPF5dohMfe96AKgeL+faGmxxThW4rqsh3z08FlnipX1O7xfP2t59VF/hWRoghgkjm8ji\n",
       "W9SvoAF0BCTMhMk8nqmkb24WImCNcZRl7Tz6WnwAlSxAzsc01CpW+V0TOf3qK9ytsqR7VEe/FvGj\n",
       "XPtee0vE/23nrw52N+SYGZIVUJi4UbqW+fcpJhH5mlMkwDWMcgWnAE9Fd7EjM36Yd9EwrxOqs4n+\n",
       "mXNJ/yzDwR9d98NIZxxrfClDd0oJiWmi9HU4AMQyD9MkeScIx+oz1Hs3VjQGDB4TwAJBQUNJwp6n\n",
       "g2b4bU9QGUgCvIB/yMGMVIQxIAAARMEAAAAnQZ/7RRUsE/8AAAMAAAMAAZQr0uNIVNfiU5VzeWbv\n",
       "RtlwWtUAABHwAAAAFwGeGnRBLwAAAwAAAwAACSiHZKgAADjhAAAAJwGeHGpBLwAAAwAAAwACWhgd\n",
       "OupFsQEKaZX7DPJ0HssvOzR+AAAXEQAABI9tb292AAAAbG12aGQAAAAAAAAAAAAAAAAAAAPoAAAu\n",
       "4AABAAABAAAAAAAAAAAAAAAAAQAAAAAAAAAAAAAAAAAAAAEAAAAAAAAAAAAAAAAAAEAAAAAAAAAA\n",
       "AAAAAAAAAAAAAAAAAAAAAAAAAAAAAAACAAADuXRyYWsAAABcdGtoZAAAAAMAAAAAAAAAAAAAAAEA\n",
       "AAAAAAAu4AAAAAAAAAAAAAAAAAAAAAAAAQAAAAAAAAAAAAAAAAAAAAEAAAAAAAAAAAAAAAAAAEAA\n",
       "AAADYAAAAkAAAAAAACRlZHRzAAAAHGVsc3QAAAAAAAAAAQAALuAAACAAAAEAAAAAAzFtZGlhAAAA\n",
       "IG1kaGQAAAAAAAAAAAAAAAAAACgAAAHgAFXEAAAAAAAtaGRscgAAAAAAAAAAdmlkZQAAAAAAAAAA\n",
       "AAAAAFZpZGVvSGFuZGxlcgAAAALcbWluZgAAABR2bWhkAAAAAQAAAAAAAAAAAAAAJGRpbmYAAAAc\n",
       "ZHJlZgAAAAAAAAABAAAADHVybCAAAAABAAACnHN0YmwAAAC0c3RzZAAAAAAAAAABAAAApGF2YzEA\n",
       "AAAAAAAAAQAAAAAAAAAAAAAAAAAAAAADYAJAAEgAAABIAAAAAAAAAAEAAAAAAAAAAAAAAAAAAAAA\n",
       "AAAAAAAAAAAAAAAAAAAAAAAY//8AAAAyYXZjQwFkAB//4QAZZ2QAH6zZQNgSaEAAAAMAgAAAAwKD\n",
       "xgxlgAEABmjr48siwAAAABx1dWlka2hA8l8kT8W6OaUbzwMj8wAAAAAAAAAYc3R0cwAAAAAAAAAB\n",
       "AAAAHgAAEAAAAAAUc3RzcwAAAAAAAAABAAAAAQAAAPhjdHRzAAAAAAAAAB0AAAACAAAgAAAAAAEA\n",
       "AFAAAAAAAQAAIAAAAAABAAAAAAAAAAEAABAAAAAAAQAAUAAAAAABAAAgAAAAAAEAAAAAAAAAAQAA\n",
       "EAAAAAABAABQAAAAAAEAACAAAAAAAQAAAAAAAAABAAAQAAAAAAEAAFAAAAAAAQAAIAAAAAABAAAA\n",
       "AAAAAAEAABAAAAAAAQAAUAAAAAABAAAgAAAAAAEAAAAAAAAAAQAAEAAAAAABAABQAAAAAAEAACAA\n",
       "AAAAAQAAAAAAAAABAAAQAAAAAAEAAFAAAAAAAQAAIAAAAAABAAAAAAAAAAEAABAAAAAAHHN0c2MA\n",
       "AAAAAAAAAQAAAAEAAAAeAAAAAQAAAIxzdHN6AAAAAAAAAAAAAAAeAAAd2QAAANEAAAPNAAAAxwAA\n",
       "AMAAAAAsAAADDQAAASMAAAAmAAAAJAAAACwAAAAcAAAAGgAAABoAAAOYAAABYQAAACgAAAAkAAAC\n",
       "UwAAADIAAAAaAAAAOgAAAnYAAAAuAAAAHQAAACUAAAE3AAAAKwAAABsAAAArAAAAFHN0Y28AAAAA\n",
       "AAAAAQAAACwAAABidWR0YQAAAFptZXRhAAAAAAAAACFoZGxyAAAAAAAAAABtZGlyYXBwbAAAAAAA\n",
       "AAAAAAAAAC1pbHN0AAAAJal0b28AAAAdZGF0YQAAAAEAAAAATGF2ZjU4LjI5LjEwMA==\n",
       "\">\n",
       "  Your browser does not support the video tag.\n",
       "</video>"
      ],
      "text/plain": [
       "<IPython.core.display.HTML object>"
      ]
     },
     "execution_count": 5,
     "metadata": {},
     "output_type": "execute_result"
    }
   ],
   "source": [
    "HTML(ani.to_html5_video())"
   ]
  },
  {
   "cell_type": "code",
   "execution_count": 25,
   "metadata": {},
   "outputs": [
    {
     "data": {
      "text/html": [
       "<div>\n",
       "<style scoped>\n",
       "    .dataframe tbody tr th:only-of-type {\n",
       "        vertical-align: middle;\n",
       "    }\n",
       "\n",
       "    .dataframe tbody tr th {\n",
       "        vertical-align: top;\n",
       "    }\n",
       "\n",
       "    .dataframe thead th {\n",
       "        text-align: right;\n",
       "    }\n",
       "</style>\n",
       "<table border=\"1\" class=\"dataframe\">\n",
       "  <thead>\n",
       "    <tr style=\"text-align: right;\">\n",
       "      <th></th>\n",
       "      <th>Descriptive Feedback from Social Partner</th>\n",
       "    </tr>\n",
       "  </thead>\n",
       "  <tbody>\n",
       "    <tr>\n",
       "      <th>0</th>\n",
       "      <td>Go left</td>\n",
       "    </tr>\n",
       "    <tr>\n",
       "      <th>1</th>\n",
       "      <td>Go bottom</td>\n",
       "    </tr>\n",
       "    <tr>\n",
       "      <th>2</th>\n",
       "      <td>Grasp blue living_thing</td>\n",
       "    </tr>\n",
       "    <tr>\n",
       "      <th>3</th>\n",
       "      <td>Grasp blue lion</td>\n",
       "    </tr>\n",
       "    <tr>\n",
       "      <th>4</th>\n",
       "      <td>Grasp any blue thing</td>\n",
       "    </tr>\n",
       "    <tr>\n",
       "      <th>5</th>\n",
       "      <td>Grasp any living_thing</td>\n",
       "    </tr>\n",
       "    <tr>\n",
       "      <th>6</th>\n",
       "      <td>Grasp any lion</td>\n",
       "    </tr>\n",
       "  </tbody>\n",
       "</table>\n",
       "</div>"
      ],
      "text/plain": [
       "  Descriptive Feedback from Social Partner\n",
       "0                                  Go left\n",
       "1                                Go bottom\n",
       "2                  Grasp blue living_thing\n",
       "3                          Grasp blue lion\n",
       "4                     Grasp any blue thing\n",
       "5                   Grasp any living_thing\n",
       "6                           Grasp any lion"
      ]
     },
     "execution_count": 25,
     "metadata": {},
     "output_type": "execute_result"
    }
   ],
   "source": [
    "from src.imagine.social_partner import SocialPartner\n",
    "oracle_reward_function = config.get_oracle_reward_function(goal_sampler, params)\n",
    "social_partner = SocialPartner(oracle_reward_function=oracle_reward_function,\n",
    "                                   feedback_strategy='exhaustive', p_availability=1.,\n",
    "                                   params=params)\n",
    "\n",
    "pd.DataFrame(social_partner.get_feedback([episode])[0][0], columns=['Descriptive Feedback from Social Partner'])"
   ]
  },
  {
   "cell_type": "code",
   "execution_count": 24,
   "metadata": {},
   "outputs": [
    {
     "data": {
      "text/html": [
       "<div>\n",
       "<style scoped>\n",
       "    .dataframe tbody tr th:only-of-type {\n",
       "        vertical-align: middle;\n",
       "    }\n",
       "\n",
       "    .dataframe tbody tr th {\n",
       "        vertical-align: top;\n",
       "    }\n",
       "\n",
       "    .dataframe thead th {\n",
       "        text-align: right;\n",
       "    }\n",
       "</style>\n",
       "<table border=\"1\" class=\"dataframe\">\n",
       "  <thead>\n",
       "    <tr style=\"text-align: right;\">\n",
       "      <th></th>\n",
       "      <th>Descriptive Feedback from Social Partner</th>\n",
       "    </tr>\n",
       "  </thead>\n",
       "  <tbody>\n",
       "    <tr>\n",
       "      <th>0</th>\n",
       "      <td>Go left</td>\n",
       "    </tr>\n",
       "    <tr>\n",
       "      <th>1</th>\n",
       "      <td>Go bottom</td>\n",
       "    </tr>\n",
       "    <tr>\n",
       "      <th>2</th>\n",
       "      <td>Grasp blue living_thing</td>\n",
       "    </tr>\n",
       "    <tr>\n",
       "      <th>3</th>\n",
       "      <td>Grasp blue lion</td>\n",
       "    </tr>\n",
       "    <tr>\n",
       "      <th>4</th>\n",
       "      <td>Grasp any blue thing</td>\n",
       "    </tr>\n",
       "    <tr>\n",
       "      <th>5</th>\n",
       "      <td>Grasp any living_thing</td>\n",
       "    </tr>\n",
       "    <tr>\n",
       "      <th>6</th>\n",
       "      <td>Grasp any lion</td>\n",
       "    </tr>\n",
       "  </tbody>\n",
       "</table>\n",
       "</div>"
      ],
      "text/plain": [
       "  Descriptive Feedback from Social Partner\n",
       "0                                  Go left\n",
       "1                                Go bottom\n",
       "2                  Grasp blue living_thing\n",
       "3                          Grasp blue lion\n",
       "4                     Grasp any blue thing\n",
       "5                   Grasp any living_thing\n",
       "6                           Grasp any lion"
      ]
     },
     "execution_count": 24,
     "metadata": {},
     "output_type": "execute_result"
    }
   ],
   "source": [
    "# Fix this the social partner has no switch between one_pos_one_neg and exhaustive\n",
    "\n",
    "social_partner2 = SocialPartner(oracle_reward_function=oracle_reward_function,\n",
    "                                   feedback_strategy='one_pos_one_neg', p_availability=1.,\n",
    "                                   params=params)\n",
    "\n",
    "pd.DataFrame(social_partner2.get_feedback([episode])[0][0], columns=['Descriptive Feedback from Social Partner'])"
   ]
  },
  {
   "cell_type": "markdown",
   "metadata": {
    "id": "KK5Cfu0ColeQ"
   },
   "source": [
    "### 1.2 The Reward Function Module"
   ]
  },
  {
   "cell_type": "markdown",
   "metadata": {
    "id": "bOyovQwWppfM"
   },
   "source": [
    "Draw a goal description and a scene fulfilling this goal description. Maybe plot the evolution of the probability for each object as a function of time, and the overall probability in black."
   ]
  },
  {
   "cell_type": "code",
   "execution_count": null,
   "metadata": {
    "id": "Es80gPecozDr"
   },
   "outputs": [],
   "source": [
    "# draw a scene configuration fulfilling a goal description (from a previously generated dataset)\n",
    "# Display the configuration using matplotlib\n"
   ]
  },
  {
   "cell_type": "markdown",
   "metadata": {
    "id": "O4MS1YhKpxAF"
   },
   "source": [
    "Explain intuition behind reward function architecture"
   ]
  },
  {
   "cell_type": "markdown",
   "metadata": {
    "id": "ppouVDJ7tYIY"
   },
   "source": [
    "<img src=\"https://drive.google.com/uc?export=view&id=1-74Gx9PkoPz4DC2gNPkdlSDeQsRVCq5G\" alt=\"drawing\" width=\"700\"/>\n",
    "\n",
    "\n",
    "Explain inference of reward function"
   ]
  },
  {
   "cell_type": "code",
   "execution_count": null,
   "metadata": {
    "id": "OPjdOPCNpvz-"
   },
   "outputs": [],
   "source": [
    "# Load a pretrained reward function\n",
    "# Use reward function in inference\n",
    "# Show results of reward function before or (object specific rewards)\n",
    "# Show results of reward function "
   ]
  },
  {
   "cell_type": "markdown",
   "metadata": {
    "id": "5p-Lt8Bh1yGp"
   },
   "source": [
    "### 1.3 The Policy Module"
   ]
  },
  {
   "cell_type": "markdown",
   "metadata": {
    "id": "022mfhNz77IC"
   },
   "source": [
    "Dunno yet what we can show here. Maybe just a run towards a goal, and maybe the evolution of the norm of the signal before the deepset aggregation (showing the norm of the module handling the relevant object is higher).\n"
   ]
  },
  {
   "cell_type": "code",
   "execution_count": null,
   "metadata": {
    "id": "T_-ihcP72E9e"
   },
   "outputs": [],
   "source": [
    "# Dunno yet what we can show here. Maybe just a run towards a goal, and maybe the evolution of the norm of the signal before the deepset aggregation (showing the norm of the module handling the objects )"
   ]
  },
  {
   "cell_type": "markdown",
   "metadata": {
    "id": "UTRu83rCpDsh"
   },
   "source": [
    "### 1.4 The Goal Imagination Module"
   ]
  },
  {
   "cell_type": "code",
   "execution_count": null,
   "metadata": {
    "id": "ab-EDf1Gt8hG"
   },
   "outputs": [],
   "source": [
    "# Show the set of imagined goal generated from a subset of known goals"
   ]
  },
  {
   "cell_type": "markdown",
   "metadata": {
    "id": "JCTxPAQd2JO_"
   },
   "source": [
    "## 2. How to train IMAGINE\n",
    "\n",
    "------------"
   ]
  },
  {
   "cell_type": "code",
   "execution_count": null,
   "metadata": {
    "id": "H7oGU_JD2Ko-"
   },
   "outputs": [],
   "source": [
    "# Insert train script here"
   ]
  },
  {
   "cell_type": "markdown",
   "metadata": {
    "id": "T3njuS192W5V"
   },
   "source": [
    "## 3. Examples of Generalization"
   ]
  },
  {
   "cell_type": "code",
   "execution_count": null,
   "metadata": {
    "id": "8l8oiTCC2ZxC"
   },
   "outputs": [],
   "source": [
    "# Enter goal here"
   ]
  },
  {
   "cell_type": "code",
   "execution_count": null,
   "metadata": {
    "id": "7kZ1_h2J2bOO"
   },
   "outputs": [],
   "source": [
    "# Load pretrained model and generate rollout here"
   ]
  },
  {
   "cell_type": "markdown",
   "metadata": {
    "id": "GdxUhwT82iOX"
   },
   "source": [
    "## 4.  Vizualization"
   ]
  },
  {
   "cell_type": "code",
   "execution_count": null,
   "metadata": {
    "id": "LdmD7YIw2jaI"
   },
   "outputs": [],
   "source": [
    "# Insert cool vizualization of attention vectors here"
   ]
  },
  {
   "cell_type": "code",
   "execution_count": null,
   "metadata": {
    "id": "aXrlM4Gg2nQY"
   },
   "outputs": [],
   "source": [
    "# Insert interactive viz of t-sne goals here"
   ]
  },
  {
   "cell_type": "code",
   "execution_count": null,
   "metadata": {
    "id": "1OhwwDSJ2qGg"
   },
   "outputs": [],
   "source": []
  }
 ],
 "metadata": {
  "colab": {
   "collapsed_sections": [],
   "name": "IMAGINE.ipynb",
   "provenance": [],
   "toc_visible": true
  },
  "kernelspec": {
   "display_name": "Python 3",
   "language": "python",
   "name": "python3"
  },
  "language_info": {
   "codemirror_mode": {
    "name": "ipython",
    "version": 3
   },
   "file_extension": ".py",
   "mimetype": "text/x-python",
   "name": "python",
   "nbconvert_exporter": "python",
   "pygments_lexer": "ipython3",
   "version": "3.6.9"
  }
 },
 "nbformat": 4,
 "nbformat_minor": 4
}
