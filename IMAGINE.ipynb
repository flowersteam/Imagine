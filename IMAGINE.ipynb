{
 "cells": [
  {
   "cell_type": "markdown",
   "metadata": {
    "id": "IVb1EQw89d7C"
   },
   "source": [
    "# <strong> Language as a Cognitive Tool to Imagine Goals in Curiosity Driven Exploration </strong>\n",
    "\n",
    "--------------------------------------------------------------------------------\n"
   ]
  },
  {
   "cell_type": "markdown",
   "metadata": {
    "id": "awPzJKCs5dmE"
   },
   "source": [
    "Here add general introduction blog-post like with motivations, and illustrate with the schema that shows all modules."
   ]
  },
  {
   "cell_type": "markdown",
   "metadata": {
    "id": "HmGFArOeXvps"
   },
   "source": [
    "Configuring everything:"
   ]
  },
  {
   "cell_type": "code",
   "execution_count": 7,
   "metadata": {
    "colab": {
     "base_uri": "https://localhost:8080/",
     "height": 443
    },
    "id": "Jo7scb9TnVcO",
    "outputId": "304576c4-9ef0-4f0f-9adf-8c742794bfa3"
   },
   "outputs": [],
   "source": [
    "%%capture\n",
    "\n",
    "import numpy as np\n",
    "import torch\n",
    "import random\n",
    "import gym\n",
    "import pygame\n",
    "import matplotlib.pyplot as plt\n",
    "import matplotlib.animation as animation\n",
    "import seaborn as sns\n",
    "import pandas as pd\n",
    "from IPython.display import HTML\n",
    "import os\n",
    "# os.environ['SDL_VIDEODRIVER'] = 'dummy'\n",
    "# os.environ['SDL_AUDIODRIVER'] = 'dummy'\n",
    "from src.imagine.experiment import config\n",
    "from src.imagine.goal_sampler import GoalSampler\n",
    "from src.utils.notebook_utils import get_params_for_notebook, get_modules_for_notebook\n",
    "\n",
    "\n",
    "path= 'pretrained_weights/'\n",
    "params = get_params_for_notebook(path)\n",
    "policy_language_model, reward_language_model, policy, reward_function, goal_sampler = get_modules_for_notebook(path, params)"
   ]
  },
  {
   "cell_type": "markdown",
   "metadata": {},
   "source": [
    "!!! TODO add packages to yml"
   ]
  },
  {
   "cell_type": "markdown",
   "metadata": {
    "id": "214I7YWy9h98"
   },
   "source": [
    "## 1. IMAGINE under the hood\n",
    "\n",
    "------------------------------------------------\n",
    "\n",
    "### 1.1 The Social Partner Module\n",
    "\n",
    "\n",
    "\n"
   ]
  },
  {
   "cell_type": "markdown",
   "metadata": {
    "id": "3LHg1vnYEIbK"
   },
   "source": [
    "#### 1.1.1 First Role of the Social Partner: Setting up the scene\n",
    "\n",
    "-----------\n",
    "\n",
    "The first role of the Social Partner is to set up the scene so that the goal targeted by the agent can be achieved.\n",
    "\n",
    "It provides the agent with optimal learning opportunities by organizing the scene with:\n",
    "1. The required objects to reach the goal (not too difficult)\n",
    "2. Procedurally-generated distracting objects (not too easy and providing further discovery opportunities)\n",
    "\n",
    "The following lines of code show how scenes are generated according to this assumption:"
   ]
  },
  {
   "cell_type": "code",
   "execution_count": 8,
   "metadata": {
    "id": "32QSAzXwWj1z"
   },
   "outputs": [],
   "source": [
    "# Enter a valid goal description\n",
    "goal_str = 'Grasp blue lion'\n",
    "if goal_str not in (params['train_descriptions'] + params['test_descriptions']):\n",
    "    print('Please enter a feasible goal description.')"
   ]
  },
  {
   "cell_type": "code",
   "execution_count": 9,
   "metadata": {},
   "outputs": [
    {
     "data": {
      "text/plain": [
       "<function src.imagine.experiment.config.configure_everything.<locals>.make_env()>"
      ]
     },
     "execution_count": 9,
     "metadata": {},
     "output_type": "execute_result"
    }
   ],
   "source": [
    "params['make_env']"
   ]
  },
  {
   "cell_type": "code",
   "execution_count": 12,
   "metadata": {
    "colab": {
     "base_uri": "https://localhost:8080/",
     "height": 531
    },
    "id": "WeVvEj0wbU8I",
    "outputId": "560e50ba-1c9b-4a98-cf34-b4ff15f00261"
   },
   "outputs": [
    {
     "data": {
      "image/png": "[encoded data removed]",
      "text/plain": [
       "<Figure size 864x576 with 1 Axes>"
      ]
     },
     "metadata": {
      "needs_background": "light"
     },
     "output_type": "display_data"
    }
   ],
   "source": [
    "# Generating a scene which is compatible with the goal description\n",
    "env = gym.make(params['conditions']['env_name'], display=False)\n",
    "env.reset()\n",
    "initial_o = env.unwrapped.reset_with_goal(goal_str)\n",
    "env.step(np.array([0, 0, 0]))\n",
    "env.render(close=True)\n",
    "obs = pygame.surfarray.array3d(env.viewer).transpose([1,0,2])\n",
    "# pygame.display.quit()\n",
    "# pygame.quit()\n",
    "\n",
    "\n",
    "plt.rcParams['figure.figsize'] = [12, 8]\n",
    "fig = plt.imshow(obs)\n",
    "fig.axes.get_xaxis().set_visible(False)\n",
    "fig.axes.get_yaxis().set_visible(False)"
   ]
  },
  {
   "cell_type": "code",
   "execution_count": 11,
   "metadata": {},
   "outputs": [
    {
     "data": {
      "text/plain": [
       "dict_keys(['env_name', 'policy_architecture', 'imagination_method', 'policy_encoding', 'reward_checkpoint', 'goal_invention', 'p_imagined', 'reward_function', 'feedback_strategy', 'p_social_partner_availability', 'rl_positive_ratio', 'reward_positive_ratio'])"
      ]
     },
     "execution_count": 11,
     "metadata": {},
     "output_type": "execute_result"
    }
   ],
   "source": [
    "params['conditions'].keys()"
   ]
  },
  {
   "cell_type": "markdown",
   "metadata": {},
   "source": [
    "We observe that the generated scene contains the object of the specified goal description as well as two distractor objects."
   ]
  },
  {
   "cell_type": "markdown",
   "metadata": {
    "id": "6UsYaxIE4jrw"
   },
   "source": [
    "#### 1.1.2 Second Role of the Social Partner: Providing Descriptions\n",
    "\n",
    "----------\n",
    "\n",
    "The second role of the social partner is to provide language descriptions about the goals reached by the agent __at the end of an episode__.\n",
    "\n",
    "In this section, we play a policy conditioned by the goal we defined in 1.1.1 and observe the descriptive feedback given by the Social Partner at the end of the episode.\n",
    "\n",
    "We first do the rollout of the policy:"
   ]
  },
  {
   "cell_type": "code",
   "execution_count": 4,
   "metadata": {},
   "outputs": [],
   "source": [
    "%%capture\n",
    "# In order to build vizualization\n",
    "fig = plt.figure()\n",
    "ims = []\n",
    "\n",
    "## Rollout of a policy\n",
    "o = initial_o.copy()\n",
    "goal_encoding = policy_language_model.encode(goal_str)\n",
    "episode={'obs':[]}\n",
    "for t in range(50):\n",
    "    action = policy.get_actions(o, goal_encoding)\n",
    "    o,_,_,_ = env.step(action)\n",
    "    episode['obs'].append(o)\n",
    "    env.render(close=True)\n",
    "    obs = pygame.surfarray.array3d(env.viewer).transpose([1,0,2])\n",
    "    plt.rcParams['figure.figsize'] = [12, 8]\n",
    "    im = plt.imshow(obs, animated=True)\n",
    "    ims.append([im])\n",
    "    \n",
    "ani = animation.ArtistAnimation(fig, ims, interval=400, blit=False,\n",
    "                                repeat=False)"
   ]
  },
  {
   "cell_type": "markdown",
   "metadata": {},
   "source": [
    "We generate a small animation in order to vizualise the rollout:"
   ]
  },
  {
   "cell_type": "code",
   "execution_count": 5,
   "metadata": {},
   "outputs": [
    {
     "data": {
      "text/html": [
       "<video width=\"864\" height=\"576\" controls autoplay>\n",
       "  <source type=\"video/mp4\" src=\"data:video/mp4;base64,AAAAHGZ0eXBNNFYgAAACAGlzb21pc28yYXZjMQAAAAhmcmVlAAAy9m1kYXQAAAKgBgX//5zcRem9\n",
       "5tlIt5Ys2CDZI+7veDI2NCAtIGNvcmUgMTU3IC0gSC4yNjQvTVBFRy00IEFWQyBjb2RlYyAtIENv\n",
       "cHlsZWZ0IDIwMDMtMjAxOCAtIGh0dHA6Ly93d3cudmlkZW9sYW4ub3JnL3gyNjQuaHRtbCAtIG9w\n",
       "dGlvbnM6IGNhYmFjPTEgcmVmPTMgZGVibG9jaz0xOjA6MCBhbmFseXNlPTB4MzoweDExMyBtZT1o\n",
       "ZXggc3VibWU9NyBwc3k9MSBwc3lfcmQ9MS4wMDowLjAwIG1peGVkX3JlZj0xIG1lX3JhbmdlPTE2\n",
       "IGNocm9tYV9tZT0xIHRyZWxsaXM9MSA4eDhkY3Q9MSBjcW09MCBkZWFkem9uZT0yMSwxMSBmYXN0\n",
       "X3Bza2lwPTEgY2hyb21hX3FwX29mZnNldD0tMiB0aHJlYWRzPTEyIGxvb2thaGVhZF90aHJlYWRz\n",
       "PTIgc2xpY2VkX3RocmVhZHM9MCBucj0wIGRlY2ltYXRlPTEgaW50ZXJsYWNlZD0wIGJsdXJheV9j\n",
       "b21wYXQ9MCBjb25zdHJhaW5lZF9pbnRyYT0wIGJmcmFtZXM9MyBiX3B5cmFtaWQ9MiBiX2FkYXB0\n",
       "PTEgYl9iaWFzPTAgZGlyZWN0PTEgd2VpZ2h0Yj0xIG9wZW5fZ29wPTAgd2VpZ2h0cD0yIGtleWlu\n",
       "dD0yNTAga2V5aW50X21pbj0yIHNjZW5lY3V0PTQwIGludHJhX3JlZnJlc2g9MCByY19sb29rYWhl\n",
       "YWQ9NDAgcmM9Y3JmIG1idHJlZT0xIGNyZj0yMy4wIHFjb21wPTAuNjAgcXBtaW49MCBxcG1heD02\n",
       "OSBxcHN0ZXA9NCBpcF9yYXRpbz0xLjQwIGFxPTE6MS4wMACAAAAWd2WIhAAU//73x0/Apuj5Zsud\n",
       "RT0hMIrY+kgovVjs0DJ1AAADAAADAAADAAAYO9iEaMQvcvMIAAADAAE7ACOAET5e9boYDnnAB1OM\n",
       "+L1HoAYMtmPbpUOVZzGCJIFTOsDnPJSB0aTh7+IYEgZwryIAdMg8RqNC6oCbmNhhcHC7rZktcmJb\n",
       "ceCpUwGiyXGhpg48bJ/obomf/tEEjQ4BWWr3UZ94FhT/3RqkdDmmfugUgnFkSPY+7lVW0ormj4mD\n",
       "IMuAXf9ZMgxShDJedm/hmUCPN3E+RP8lYyLhZ//mjxDCrJIgAAgoCqnek5jgJNAPH22H3HbL4pme\n",
       "6Qz5Q4R2VgeALBTtnpXjQiiYITak8sRgP8iFZ8NYOMvR+3k2BAou60mxQsuI+cGmw2injuvKqnhG\n",
       "zIPQL+HXB6K80lyqJaTokKzYqW/hyNzVYBFnLAtSsRK9/sb3l1B3i6KJgJwz6xEEsUTivhNnyFsJ\n",
       "YEdUHtMLgAm5IgJ5gnqaGZRZE3zLeOraNX1hQYjEuzhj7EIXmcvRVmK2HKvax0NtYMh7dNHmIwl4\n",
       "+0ayBnxs/ptvNA32oN1n0IBeX29dmVCPQMEcKq/2tMLPTDNNJfFfZxRXTRzx2frxhz0DYZ5zjZ6a\n",
       "Na8f6I1nKGyWS5SCkoUfTabsDmWlZ6+ImHAwGFoEYyynFhX0NRZC+9EsbT2yRiCTt41fHQNl8f7i\n",
       "ADTQsK3hAKxWDtvHDGVmqaoPboDjLqRd63Ll2tmPw7VA2qdr6mN73clHh7jPUjs6P65xAzcZW0fj\n",
       "cjkR6h5tqdVda7PDF6i7NPP3zzLOnkXUZMMEW7ht0zLBXyUcC00oDbvUffE0BJ2uCv56gYrBp3GC\n",
       "/vkCxfbx5i7nr4ncG4AEgxZxtoRkdnmPxvxf3huJxJb8ziDfUrSppi94aCJdczofMAbyuC7Y4oOR\n",
       "Ta1bPgqzSCM/p8CUdGIACbaYgpEYlHO3eP5980Wyveb9AgUYvlVzS9ziO2O8b4/aAgYOf23xmGD0\n",
       "zkmQEM1YPsBhvcDmjlc6Z8WlTMlSFoG4Kj+zq8pW+aHv7oTU40BIxePkAaLAgP+durbnOX7lU5TK\n",
       "GiPlqOa+cGkD7Z6GjmBnZA0uAvXJFjBNYvXf2iNeSbxlfBclynMukFbzQgDeImeU4FSOTCn1OkbJ\n",
       "Ldo5aic3/yXmUjyCgkQUQ3DnRPnGWyWfF7kCut4Ok823R5g+JjbxwynwKnUwGgCr6dnzj7ku8Dwc\n",
       "JPuIrZG4lbuyp4rgFO2ISq8/1TldmC8jlPTKUVrVB+n0UL+7I322r+y4SJdESb6N3d9UE0jFszXs\n",
       "dYvw2f04ag91VswJ9FjiE+BVWpQECu1Tp1EvtnWNpIYLRclEABUqiB+dz8Ti7qW6Bwpy6Uk9CjV3\n",
       "uTVuBX9K6ERX9TUlQ4J5aQA/1FnJlwJS9oCEawpcICDZMepwyZ2bIp50BQ6rfABrzt/A3fGneCwl\n",
       "hDQNKWYFi457fQ1udrHhV0sV25HLBKDzaFLkDj7j2SNc9L2oW44X0zRScN8CNckg12CFnkEvJMgN\n",
       "E4u7r/Pu4Sx/wsButPqR4PHMyd0bvnnMJ9LyGnlo37QPwNoIV0Ix32uYuGtHLNt3leCSPKKWsjPN\n",
       "uFQe3oAAbaqKryM4BOFLRbKCXn6oqhkS0U2ZBTvtvXqqerMoQWxHJIzon9w3w7AaWVo+FRtKl9sU\n",
       "b/OoUe4aNc+tenWrsmrN/+QON7lYcdgzRmYx0RQ8UpEaGmXECtQAn1kJVQ8Z/OPAYiQWFYeAYD/0\n",
       "DjWHgC/5OnNcJ4mTd4YtfqGBRS8wxOidEzroxScY5pZNqYKDxQeA58u8PtOz0tzkm5mSMEcSLZw3\n",
       "USh6Yfz6i4TjhFxjBKYjytSZLa0CGYy+N7pkC/JfBRRWdGN0Wg2ng39998FBGEc+dmdTdgkeahuM\n",
       "voSuWHRi7hqu9YwKvj1R8GvxA8vwJ2I5PZnlOcBWTv2aFtt/x4Eew3DA75AETJVFFQ4kB/okktDs\n",
       "HqcpLqP9Phih49c8fY1QOLDDM+N5S1ggF7l+cB11cksdH2F+XHommlC7JFCftb752bZTw6Ybyanq\n",
       "PBsV1xSAhucuglwtz+17bnbo4NPCDr6tjZ0qkPHqwyKXbdeRLiCfGL1+/e2iehaS0zx5gDVmiXSm\n",
       "+gFTpX9MRsLGXJw7ST8ca4GXrs+phAZMxww5vv4j5S37PM4H2aaw+YDUoUvUPglbq1ZdksnIw55v\n",
       "janxRUzZy9Oi4XX8ZKZcNQVSq/n3d0pmuegsEYeqTw8Cwja8A+2XnpZfVx1Z5isvEFAnfa9HO59P\n",
       "KBGnfKWYCkQGaehWlENIctPQEKGWInDTwmYiFJKKkAIaEomyu6yQ7K/geWvz/U2UqeM6uQeIPOEM\n",
       "TAgIH43ek1uX+9OURuBUqoCC3QYXU3XeFJeUmJ7Lxay+f8OqNVaTSUyB5jxPxlugSR6hvPCA5BFe\n",
       "Cl5wizjE0kT4L70jsxVgSEJ6Ib2zKCBY/QvBsdjnnyPd0Bd1aNjxcPeZsyDxQ0khvkMhEMkvgQec\n",
       "KUiy01T3BXm+35HtIJdEeRL/OOu3OnS+rWM7ZFIE03GXa0jfwn+32DiqJz1YY5zvj1OemX8m8fsL\n",
       "B/+SyXZL1Nh1pZNrtqgPEALxqcHEZ1hxYIapUNftD8IN4iBwFq6t1IsR81cM5MvSaHsqpIxPCVzj\n",
       "CzZoUDiaC92q/e5NN9CYEwIiqsW5Icxz4Vhg3IA1ohZV+bfZK51welZ39/LLNhbVg9zBk8gWhDKE\n",
       "v5j/llaUcRaoIuozkF3ppJVo+V+qjcm8Gs0hmeXIEd/OCpgfFNC21v2EbF7I8kc2Yjbi5Mi6pMsN\n",
       "DzxHNMJ34JzZ3uuRgAOOnAeHXrN9x3jXFFadRHiBQyMwpPTOZKSgMqcgDKa6MHGugp4V39CBTYPr\n",
       "ugeNAOuY7BXRze4sKTc5bAbix1VpAh2gos3G1SgYQTWqfJIAnfX7ECXLcNU6qCSCJBKS97mFEv1K\n",
       "XFKvI402fEmlE2j/Om9oKzlG0k7L5Lsh9bZxcHjUmoO/zlFxyH3WoK0K+BZRfkNvhVcfSsvtZ4Vy\n",
       "QN6ewmnXvq2ugiw5qtyuaYUFLfZ0t+d+F5h8sZBL4uPsyuiVhQC2W9OwknJIr4cYCoWJfYvrL6iD\n",
       "9GdH4gmCbQTu6gtaSTfrk7yYiasgUOsjW1DdNUKhNVVBYyjyJ4/CuqJmmgdtk1a137DAjQKWaWCD\n",
       "0MudOdkK+ti/hLImjKA5yqBbR7Soh73JCN0X4xZ6gG5+8WPL/HcW1JTthWEOCI4bzjxEUgvfTVMG\n",
       "3FUKHUPeAB/eYAJ4ezM/z7l6diOX5Yzov6hrElsYWCRl9r3HHcH1o10cZj5yA2MODlWoPBWiTcuw\n",
       "p5xtFhJ81tDKxJqS/KY2DnfIaznnaano+kyofEwIGzV9jF+ZfTOYXX5kKuu8J9Gpgl/8Kbrr+CYB\n",
       "3VmIKovyrRjLo+XkTtyCxyaJwItOZvWe2avYffVMtddqQa0j1kPaeZvlHKQ+IcgaTisHSgWLqFZn\n",
       "Dem9p0OyTrZCbMCalm+Ecc47+Nr95zTDTcefmhGDtd6g8TdY1OASdG/iUv+7kz78FvdRRRIX9aBI\n",
       "wJknDxYnKpMk06PZjkyrn/nh+clAsEhnP2sYq6zNs2ILb07PRbLY4ah2tZHvTqOe94B1vHWoc7Bd\n",
       "ZaIcXqOH7c3OIEIBO1/+2/nasqEqPSzZ0lEn/68s4sRHO0vVRkTvWWs/+KPPOUupaK6NREm9/K4z\n",
       "RpA7THaRRL43CkDTdIQncy2v+koEnAB0p43kcc68ZAQ0DfnVK1qJ5KjbpPVK2Cbr3J43tBxfe6Nx\n",
       "r9T2FQvGVC0P2TFCl1g4S+uXtIc+6O18UCSYK9/Ee88pxFgkpGHuMNWC03IbZTAWQbD2Vm9wKUzr\n",
       "gZGY+sQh3LFMAAADAAAFr7iSaRQnrgfPEe4vLtiHFYhsFMmV1JCU8ZxV1l/wvAN0aEbd7QRsjlzZ\n",
       "Vm36FB14DnX9sTn8vHbbxIvnS5LIM7OmtNW5CbrGyx/RZZd68JR86dYekZdujPgDKqYxa7m+tKQR\n",
       "fmxzsQ402mEaLXkw+XsXU9CXd23EEv8GY8fxvjbN5k59+2MWzx9vAdaz505dt7RtNL/N2CTDZADC\n",
       "CQP1L06djGin+KnzrgQuFdlDyG8p2LryF3sBGnEm2DH46KW8q67/MZqyknc+spIdNtP8JFvPM/As\n",
       "g2zV3Gm/RI37l6BFD/SAAAADAAAPB5h+VZkUPmL+iCDGMV14TQ7IlaRamjKNc5AWhrKXPReiQW1v\n",
       "pL3PUc4ayykL9qIFmn/u9hf4Q4noKusBmkwzW+iBwb605gV+HF+9gQJI1Ydep4D8lA1s/lARIZ41\n",
       "uluzEpn+jTD2YHyaI7JUvEDaWH/idWw/IVFJHj/BbYj99UC+nDGnaIzwAuETfwmrZ116oqhG3UjQ\n",
       "npH5mYmH+mOtSnhbz5wdvzHrPVO9zgALq6XT7fBAoO1ePZtxJTnOLrVMmanahULcnMuQtd1o4iZH\n",
       "yU45AcLPQm2h9eQKGoc/bLTrE4Z0ZteXEqgzhefYz8HYcYAoxp4/xWnlRIHZgAES/zBxTvMxUMB2\n",
       "2RAVqOyYVoIrrqxG5R0TiurTy20LnCuZTS0KrtoZ8e64iI5W80quk5DxkLqE3Z3NvwjsuIPM6RqB\n",
       "EfV7aG6sQ9kTQQk812sJCUgSknyC2Bo86W4+pkbWYbSJVqNd9vYmFd79qdyAZLxyAxqUIalGZw9a\n",
       "JTRYyWNaVbJlEq8jSsCS3vTiJHHvAhrIEkn+oF3Y1j17huJuzhHq9CvoPcTlrl2F3XfJOAS7ZJ/i\n",
       "c17ZXuf+KFMyXkQbWyzEQzGw9PINQESXhwCAHKZfI5026iDQ6Bbz6Z1f4gn46U+LIS2eNhuV2iEx\n",
       "lS3gE5LaMkGhd0YUUhoSHMJEoM2YBqWSMN3iLnli5bU9hsXAYiFojhO8OJ/vas2PDjibaMB4JttJ\n",
       "Hr3eWdnWLCtJn/5NIZLekQl4q9pA+ofl7wZj5GHhJ2qyknopDKwfMNUDOcGi6scJpW97RGva2f7Y\n",
       "8oIxDXZd2sDmCnGjR22xgb1iQBje8jph0qvuEqthRL+bUxOEWQlAFt39K8ABAZxMf0p4gm0Vg92T\n",
       "pAPSOawJDhzr9bXWetg2PsAg6GySc1Cj9ntnt1Wrg/Li62E4jgk8hD6/MPVOCO+eyRcJZ4s/+fo2\n",
       "+UmEQRluVklHQmvTrtHnGbdpVF4B3TgpAgrr54T6ZCnr2Yy9rgWznfzpU70cB+EAAfh+/XCVS/g1\n",
       "o7dPt9NZa5OnQ2DvM63oMzTOiFEtX1wrG4B06rw5OjufT8AAAAMAAAMCimnsgU5MgvfewaElHs3/\n",
       "f1Wd506i4uSCpLxHQSi/odBnz2XILAFMr7BbpXXUhpKip9OnOar6cmL6SIEUEhMKQRbW4xDGgS+h\n",
       "WVqyQUi15owKhZAtD0hiOHY5V5nHjVufMp9VvrLaQJiT8ZDhOL/SfB8rwoW5whSp8ZucHCm6W/Mt\n",
       "MUHhgtzKEySZBC+EV1cfpGezt1BbeXYc6K1xG/kYlN6RNpxNhN31cDEUvrJVonssjJ4QTn8gOaou\n",
       "12V5adqq29A8lGq0nnVjonZhjddnJcsdF95ao///zdQJD75lEgYYHmsLlzsdpCO3U7R1yWsWfMRn\n",
       "9rfB1woloNb460TyvQKk5SImc8xciU5gTxlgsNsRpktIbUC/e7xpxN44TyxDASBXq0O8eal9e41F\n",
       "l/1T7GmQzyWYmtQu45Sn3CD//88u2RXwYvQpB8qhm2vCWCpEhNaOZxkGOYAA1Wmt4XdoauC3T6l8\n",
       "0IjZ38jR7yfkq8LCmSB4JnjC6s9dWrMsF71NPrxq84sIEz2sYQInlg7UsBDmPh3pfr2RlaLMxjPS\n",
       "u9+VGvm261Sgzyob6yVgUPIQlAmtHDNrs+OJX/fDLW0oJBZPMYjEXrL6twfj1QxDwZ0GAPoipFnO\n",
       "7qnAuYWkE7gQOtsF40OTJ9h2gvPy8+bBab3U3G86a5nA2OiXZfy4xmRvfzpUjmgJPM8CZAXKUPTC\n",
       "fTHxCCANyHWqbjZCxk7v3MTjqFN/54qF8Irq4/SMuKq6x/xOkZ5vONApSrdKk1/ai5cs2wgKsJMO\n",
       "eeodTgnnWbX4CJir+MJLE2zyUarSedWOn2AQygn0wQQC/I12vAnKMw/sZIz+Ih4e6yCAL+rMa/+l\n",
       "zxdOKGvGjLMkbMe/sYyolTNd6FSODsXRoY6eEqu+RRKzJ+uvdIC5KZ2zNMZmSgLrTlwMWBFOwHK/\n",
       "bdImpqjrHw8Swn8sYKOL9B/KDXCh1elCdVB8J6R0PVNGAx2XxW74wJ7Oleh3KkbaLHy3nBGEM6Q+\n",
       "ebE4/FNz54D/+RzSOh1c3Ajjj8sxRWwoc3Pm98cn/wNUFUMNts1SJleyuAie9GvaPuaLJ0PsjriM\n",
       "rcPV6MbT4Bh3BvHMitGghrkS4jI56DIzwv0XC4jvBJtOfRdxfdv+OxA+Js6UuRaWF+930LyKiH4N\n",
       "jO0tDXLKwCaq2n1js+9C5PCiZOxiQlW4ZGntQ/6hBxhwBvgYBjW0m51Y2ZBI0u7JVvHt628wEheZ\n",
       "UKf1FDHV8i1sE1EXkZq6VjQ2mYh2zvm3iW+TuflP0GCIpKpTgGPNsnew4Zhupj6D7JWqsfvyF6FY\n",
       "p7hHnZjbUDfTsUcX3H62AzfAqdL4Lf42O/uoEYDCqgR6Y75r9WgCn2/G23GDrcMLXVTfSz6lucra\n",
       "ATlgj3ex3Fwd/ZdVq0uQynhJcTY4a1uTjHCZmL98EmBs+FMYcMl3Bzk0nilIikC18dmpiqniDCX/\n",
       "AfSqpPikOnwkZ17RyQivyclFQJSEBxVR1YcdyNYVmzKOjm01BJkVoXYhZJtPdJq0VkxmxvgI7IO4\n",
       "wXfYFEpG2yrtJGzyltP06UDJZ/DlHwQ9aKxL/hMSIZ4Ou9g/fH/VsOO77G+9fzN43VjjwjUzpNyo\n",
       "N/i86pZpqcZxQL7LrVzL419hfzO4cBQlMfineklPfsj0FtYm8VPcjpo3/0lsxDmXHMODgEI/xY55\n",
       "YfKz4X0+pU8vfiP3SxxBFYh8ezDB+SsLqQo3gTPp7AATzD0hjdkNLmCpC5sFvQQxEzeC8/NpsKho\n",
       "/CsUwQH2hXF+XB0DgaQuPXOrGmpC+4CLc2WE2EMwVlaWZT9c/43fERmAxZ6hAL+NeWHQjPOF3Ho5\n",
       "bOvw1xn1nCexHNXOhW2nqAfdt4lIHyngp2LpO+RtUQ5rtU/ktYyGT/H/q948PplO//52/qm3jj2d\n",
       "xw05rnV31J7W1MIke0ZBdpK2RJ1HJVeQjHMMqxOtu73fumSQFimtIYgKBwqxVYWiYX8ZoFmbbrs6\n",
       "mT2TIdIRXP9DvZQlnKT+WpkJOzVBuS/3jhevTETzaf/W5wMxY69HqUAlKREUGFS97dTFwKOS+9wB\n",
       "K9idRmHB4yFcv1AlbzvxyqzpM1rucSgE6Aenr8fsjVm6w5G0Z/jDJGOAT+7AYqzzYde6f7fXv4mg\n",
       "fZOfTjYML3BvAQA7VlMtjsgXzv/8X76X03bOu058qRAQCg+4ME9fZ0jSDE8xUUodJXSIJets5onH\n",
       "tGrcO/GNIkuE3Koxv+JjaGdc4f7mc2A6XHHxfrzF0oUHgnVTgBMtiwkGZWn2DK4utf8a7PoAkPwD\n",
       "Wg0h5vD29EzyoLLhM1/X/k+1CqzAAAADAAADAAADAAATMQAAAIxBmiFsQU/+1oywAAADAADv7y/4\n",
       "dN1EBQnL5wfb9t9dVy/qP0IBBiGA+uEaJKy5Vcg7SryTgA6H094AoUDlg7BOcqx0ZdE+v79HXnch\n",
       "BLicvFZDBRZ5rlZevWjUfCJLXGEkFjiBwLO7uOiuzfHMgZu39EYCh7MsgxYAE348O3YFi9zKtwDV\n",
       "d4ynUmg7oAAAAG5BmkI8IZMphBX//talUAAAAwAB0nziGY15jQAJ0EeU7cu3W4XQSrME7g/x+fn3\n",
       "3qt/hMIKQH5/DfzQEwKbb4deKP4+qnnnDzEiQirRl3ZJb8d+D2+Qt2OAd/7ilfjhcFXz4g01V0/p\n",
       "UanQNRkEzQAAAJtBmmNJ4Q8mUwIK//7WpVAAAAMAByd6/8WSjwAAnNjZBsNCDcmNMchLCUe3pPHe\n",
       "GTGd9T3fqhScGTZG8E+WeK+9o/0Vh7olMJX4kpEhsLx/oYJbo/MRXRcQzGtX3CXNNgIeKbOolIb0\n",
       "BNKTJM/J4/J+/xjPJ//QCiEwBLLnxFdQs/I7xlwnPYR7v8rQxy0eVuR8gOkxWPMUEjhDAgAAAHJB\n",
       "moRJ4Q8mUwILf/7WpVAAAAMAG+rRCGY2BkmYjVjsTNAAtYWKUo7lsNXk7fvYG6n/lb1Vrl/SzJC6\n",
       "I9rvDjlKZlBOxM7SF8SkkZicQ82RJg4rfwmco45wu/C+lQLhFU4G8L65tMoFTeZprcWWGEAATcEA\n",
       "AANiQZqoSeEPJlMCC3/+1qVQAAAaD9k8tvwvc/UTBnpZa/jfh4A2QZS/21x/b8lRm5zllFPonzAR\n",
       "Avk7laVZfvmoQl+UXKIo+9yX85SnJknt3JCAaH0noBaKeoDN+J70x93RNYb5kePqpXGgzoY9Bjy+\n",
       "1DocuFkvw4byWj0xBxjMwSXVLt7EA9/R45tUikVILdZ951OqWG5fzZmnA/SlQb/dw8arMvPQ5yBl\n",
       "Bl0yDTSwNHMENeC/ud+rFT5jtVbCZ4277inAcx3UQ/PKJ7qlkzEdXCJSfASI23mLRfstFA9eiAot\n",
       "FD9l34XjtZ7D8y5s46seHsoZUSPlix3nRWe+JaUHnUwG5G//6vrg4lyTaJOsFcAbLEIvxt4JWtnF\n",
       "tM/AI1CwBH1/GZzjK2tvq6beDJ3Xr7Kz1VUbRX3V7dmUJlonb/YIOhMYqt4jtwE+uvh8oEqLu1Cw\n",
       "rEr3rOPgiFKMjh/8gJaESErP0jFpjA123KG/QcLPLKn4JED8WStq4RdPn3TBUnCKeizR9lWHY2jB\n",
       "cMYyh8N7z7p3mqRU7HS6USKu8xxq15C3/Ara0p9IKUmesyV5s+V5lsNHhdwDH8LfB41kXZPcKIzV\n",
       "wpkSAau/MjbQMx4UMLJLwMTeY91xLmJdP152nWuYaDOHvkDe/fi60rNax3D3W0JCE3l/e0IgltZy\n",
       "+o1J7WyZhkJ9xaqRxWdfZ271Ld2Ewm0ZNuRaAEuD/Hk7+mbmtSeW+yerk7bxl1mOjQQqReYLW1fQ\n",
       "SspNN8R8W6wwypvt50yV5eav0wPKYCYNTSKqGKvoj9j/EQffcA6+hvpe+ofpsd0uChVMFec6MDC0\n",
       "xQjzFpROfc+XXUHezj0KmhCIvfy89XMqMUQuZet+X5dkcSnHqw2yje38VUY6Iq08cg4lfNOvib2p\n",
       "3BarxIeL9k3gCyBg1K0G19L57vDvrktkS58tIstlRlDchn+OtHVEtikg9YPPVQacjHW/+ilBCdU8\n",
       "Bq3rHi7PG1Cg+HFOrrRVgyuk3ivPxfLM3d6qyDPd2ui019nXIWAZb6Cix4fLdQv8OgQRhqjW4DSZ\n",
       "r9HdAb93hc9mIRqSUVjPMZ1CHN2qu+a3EaO9ICDQAehutSps7lSKBmbYpOXU0r5C0/limByV++NJ\n",
       "numaYRebi3AAAAMAAScAAAAnQZ7GRRE8E/8AAAMAQfh2le97cajK/Vw15WTTn+8ctwcgAAADAAGL\n",
       "AAAAgAGe5XRBLwAAAwBkW5QoQ0cRRDj0dtJ4Vd14GdakACIMHG2BWD+EPXrpwNSWDEfNJqoX/Qo1\n",
       "5kdn7+LsjMFrprBLFSIlUXPvdgsSKOpCodYMWU7wCqaHzc/GYiTaRBPvK6rG8Ok1WediserCw5EZ\n",
       "2/BJ9T1OqHpjn1gAAAMAAFVBAAAAFgGe52pBLwAAAwAAAwAAAwAAAwAAPSAAAAMxQZrsSahBaJlM\n",
       "CC3//talUAAABqN4pqEBQz9rrFcMT8eiPtrPiO/WXkNdUw1NGU3HYP+cIrIkBMStofZ8AWGlT483\n",
       "Vp5i2esrWKIG5zqVkprgqhAI8y8CNNwU/l+kmvCdNEuzmm17rvCn4cgYt7mQb9v3BK9/utuAv1bG\n",
       "osv/PsqmTa14YeWDT/OJMkvKPS61LJNBsqmr0jsUTlzB1aa0AOPsnvHVnEKbRD5r6PZ7w9esHbZy\n",
       "tWGU5I6/4O7PX8i7PE3Jyxm/t83DKMRcmcPeUkEv2wGwA7YmNI99emFb7R4D5h//e+/RVA/IMeNH\n",
       "jTgH2hSR8AiI07GAK3+xhnN1uPm1SOeDQGMteF6I+LYMT8THTFLd09aJqJ0gYkhd2HvhkaWOgr7I\n",
       "GIl5uhAP+uYb9oXde5swQ3QsIZpeufW8HYBWKNZEvDUWZk9031cEUbENPYSDjwoM39HeuIJwR7IU\n",
       "RzwlN6Sgu3YizBLwTkwpNVcjeTtcIkr45AdMAQ4cKwn9MokrlqND6IkkENSo9laHryIp9HQdnSKl\n",
       "Ho9LStN4bcyegbqdrB6kQZfnKiZa50qXxRUc/TbtJJDvj9uyzeKeR2yJA+BMBbhuYWdushu0BNiG\n",
       "Ey/vENjek2ISZwqUpUx49qg7gLKGApqMlu6tTQrbzjxh1ndOW7KS7frr9GwZF0pQ6968+sswcLhg\n",
       "TVAiHAy+vTCF/hIKSJp9kQSjCLHiiqsbn5s2RFB5nswC2h4jpvELH5l1BYla60ALSzfeNAXOIh9H\n",
       "rUTYRDhl7dtscaFnMjEoAlEC97ZqYT+b/qOOTnuIknqBc1uJ/n3h+Aiy5gJFLczised0dNzPYM5T\n",
       "HKlryGY6FU0C0Gk6osKLfmt+XzKZwMGALf3Zuz8IsrkygXUXShVAB5qV6pxD/Jwf/I0/2LSep1vI\n",
       "NokhlEwUYD+cbXtsnq2cfvNW6CIAcBQdJ24BnTYPzvT/Udk/JuC1eZkWSICge8CLolJQoEWQ/ZCg\n",
       "/oep+vAUjh31+Pi+Wxuwn8FjH7JJx5fduUAth4HCPAHj4nUHixIKI/5K063tRVFjc9jS3NNzgPE3\n",
       "u5JiQ5TgZbyakAAAAD9BnwpFESwT/wAAAwAQ/gqD3z+IAAT6RW0NKvjbfZ6NrlWx+LdXpdu0CjgT\n",
       "jvWvZIO8/yMPPO6woAAAAwAANmEAAAAjAZ8pdEEvAAADABm25Qn2ueo8JrygBiOlObUnsAAAAwAA\n",
       "g4AAAAAkAZ8rakEvAAADABm3MoB9Fz0/1E5Q9SeQscedYG4AAAMAAAwYAAAAH0GbMEmoQWyZTAgt\n",
       "//7WpVAAAAMAAAMAAAMAAAMAD7kAAAAZQZ9ORRUsE/8AAAMAABD+p5RWAAADAAAGLQAAABYBn210\n",
       "QS8AAAMAAAMAAAMAAAMAAD0hAAAAFgGfb2pBLwAAAwAAAwAAAwAAAwAAPSAAAAF3QZt0SahBbJlM\n",
       "CC3//talUAAABqgiT85AKTA8RamCSaql9fHQYyUUcd7tTyJ2fcm/OcZZ/m3QQ4uxvP1dfx4FwGsq\n",
       "t+eUorxu9fu5h7muHuTsfMbOz+p5VayUxOS4Eh4oHUHbTs9RfZ63aBI4fEvc+B92qjL6W5TFLFam\n",
       "6h+7I3fbaMMB6zulzdPUzmkyojf2Q/uhrNpTAWIiAzoy1GVums3kTI5VThWJFAFXTNIOq63SjuvU\n",
       "BMvjWIbPd9pfTwDnA+2IJCALcqB8rthdt2vznFE1F7EN/CX1jgj1pN0vabTqaLu1J0AeFe8V+twt\n",
       "WaCwJoYVg9PcWR5G5ZJ+X4rhdVmxvr8EYBiK6awcFY+ISHJsB+7VAzKpGVL4IC4f6/WpKX4qrdW4\n",
       "KYPJwVkiUvrpOkvNIAKnP51lD0C76KknF/dqA6Cyxvg2FDCdVou8YHNOLYqDLqLfE1lTMEfIV45f\n",
       "XPNfrrka0R0OCqBYmUdpV6KhCPghkhNSAAAAJUGfkkUVLBP/AAADABD+HaVsXU9ORDcz09QXEakA\n",
       "AAMAAAMACpkAAAAiAZ+xdEEvAAADABm25Qn2ueo8JrygBiOlOeTgAAADAAAy4AAAABYBn7NqQS8A\n",
       "AAMAAAMAAAMAAAMAAD0gAAACCkGbuEmoQWyZTAgt//7WpVAAAAanoFYjUAbdFh92ce9a9boG/Jle\n",
       "hjqfo0G5FWfwckgCALZ3BCBAym+d1nNTHdMWNB6QW4Q2mqbVZ862nfOsgBDfuwiLljyT4Nq2zSpc\n",
       "zyddq+16LKBxcLaD8TUsHazIpq3krSKbD0KJ0I+Qu2gfwPUpZQWytP5/BuTcVo+ukQf/8yAOSQMb\n",
       "gjl3JoLpF7NnDoNbxLCQXT/Ui35DPRDDd96q/Kygc7ZsZbtYQhviMWeoigX+0xP4/bpmLucSFIBb\n",
       "nDbKWvHG23t8KdMoVCLOzmVZ2oojgLcm6zWa64MUmb9qtm16AwNIq8+w0V5bMUCaYGJxBgoCx0OT\n",
       "52ksT8BhDM3zL8T0nUyfxlHoqZANQB0K4Ovl7f8+HZqdDN8ChdHfNdxV5Ztmhq6bWcbLxa4sdI3a\n",
       "YTpWNHUEREw3TlTvxsjbCl9rDUkLeUjFEmRU3o9N8qZKvFSL8+tP/jMUPb2B3WmlVVYSIHPCdds8\n",
       "FHy2LlrxNWQxHiWrRVCn7dDWbHmZokSkD657kWkpK8TRI7GTXNOirgJZoikVFAw4LUXpWrv0eUpJ\n",
       "RQJ6TMPidU8psMta8y9VOND7P33S/XJ2vI1H6lpqn37JZAn8Y+XPsFIvf6sUqmJLnuTWUk3NaQP+\n",
       "8pMNF37U9WwIVt3dZc39lktYajwWyCtGqIyPgQAAACZBn9ZFFSwT/wAAAwAQ/h53YtwYFKg2jXpF\n",
       "Ib2rGDgigAAAAwABUwAAACMBn/V0QS8AAAMAGbWMp4DYGG1coUliZRgvZvS7gAAAAwABFwAAABYB\n",
       "n/dqQS8AAAMAAAMAAAMAAAMAAD0hAAABc0Gb/EmoQWyZTAgt//7WpVAAAAaoIk/OQBuCI/hhZDYG\n",
       "JB3t89V5P9AqsKK9oerwBsvpQuNur3NTJLQW1h8qHPC41gDm2nbqWSCd6tJHg7fpoJQHTIkqGjEs\n",
       "HK+XDf16evzBxdwXaV2LsYDi0qgYc7dNc1whT5TsYL/srz+pLBXpDTrAoWwo+h2bAAyDADsa+7SB\n",
       "hnQi+Liydt1wBNsDU/NJ8ouY7hCE3eCBUWJvfNPM0AFmljIcjjKMh+JiRvM4YXIps82RxzfF4as8\n",
       "9n8X17FUa3eQ0H01JY0VwenSGWOs2zYZ1lcJaE8gcC7yyE6S/sADeZpMxLX8EkMZW7fx7J19IY8D\n",
       "0Zc6Yj4exvEaQ8tp0lhCsaYR7afBXMXtRcJeDEqiyAJFlvMj1epbI3TkqKo1W7x8N2zs4lPJ2nUu\n",
       "F7dou8EqIqO2SnaP7nKtidISjdykDcIChe6fMMbGzpji1vjvdnDntxUbEuSrSUAAAAMAAGLAAAAA\n",
       "J0GeGkUVLBP/AAADABD+HaVsXU9ORDcz06yV0XBTSkkwAAADAABLwQAAACMBnjl0QS8AAAMAGbWL\n",
       "vfz9EmeVqtPodR7fpmAAAAMAAAMBUwAAABYBnjtqQS8AAAMAAAMAAAMAAAMAAD0hAAAClEGaIEmo\n",
       "QWyZTAgt//7WpVAAAAammy5aRyANwHDEtSoWufp1PsTn9bkFmrIhWXS7196Ip8xzSgUWhqIBfMFH\n",
       "U+AsCvU2GKxXczKybDIXJRjThPlYvNQanXzewFaUbALP8Fy2n7UmXFOfibEpUs96oeT5pbODwr+P\n",
       "J4N42SqFUjU9FOjcoNmp5eUcwpdTi3b8M8FxZwsEKdxj0jhGZAh3VSax1egQia8Oun9jKZjKxujH\n",
       "MoYznE/Sb2jj71Ue/eaVUlos7a03IwkiOyWDgKbVDmdilckoN5dyRbe/PCfWHQEBAdOfLVlFbP4G\n",
       "KMchBgCVFTAKRlCX80RoQNY9HP3qk4RT9Q4e4vtAFybsJObm1X2+y6hL1aUj5TLQiwdSI2G4XSyR\n",
       "Yy0QE/JHXW6rden0NxD8Xsd/zRAewePC9x6ZFN8kqG5DU1MWYqqjqfO3ZJMQduBDIyxNFu/GR/pI\n",
       "EGKfP7WAAs54a2Fao0o5mhQZrjahconjoCcDE49/d053nCPaJ6eJDmaaFuo7o5zHD+YMLDDqhPID\n",
       "cAeeBxl9gx6bJYRJyieq9RY5+y1UzlHGFk9/NKLdzPiHCU/027XwVWQJEZ/a4oFPjz3KmvB3o6sh\n",
       "40jyd/P8B8Mm1hIP9pR4oaY7ZBED6wlROVci4fw4sAsSRHH/N9Jgci6jClhSfwMaCMmxV3NiTfqX\n",
       "bRdCZF9B3GDOn6FWkGfcKJrnR8kkF1yFhJyqVjXMOqF1teBBowLcJ+My5k/CxO2CG4kqZEEMvhjs\n",
       "/Hi4rN3aJtAbI092ljXXExrppyWszcybGhND8eL5ThmNOKIIrXST/NtbXP2NA/kdCdvTRtHBfjiK\n",
       "gwAOeIKQ+U04QXybhcggpdSxegwUAAADAAAQMQAAAGlBnl5FFSwT/wAAAwAQ/0UBROPwcH6lVm1E\n",
       "ql9mAFboUAfj9J6Fo48jA0o77n/WnbPz30awgoywCXK5TK/s6DHrPwYgB9LWlT+Y7jx1hkKCdtI5\n",
       "4wBfAnC9sXEXoVAp1uJ7k0AAAAMAAQsAAAAjAZ59dEEvAAADABm1i738/RJnlarT6HUe36WJzcAA\n",
       "AAMAAYMAAAApAZ5/akEvAAADABm3MoB9Fz0/1E5Q9SeQscefbJAaRUIRKIAAAAMAA1MAAAAlQZpk\n",
       "SahBbJlMCC3//talUAAAAwAIg8JiAAhXrSwAAAMAAAMDFgAAAB1BnoJFFSwT/wAAAwAA95Lqj/77\n",
       "Ci0AAAMAAAMDjwAAABYBnqF0QS8AAAMAAAMAAAMAAAMAAD0gAAAAFgGeo2pBLwAAAwAAAwAAAwAA\n",
       "AwAAPSEAAAImQZqoSahBbJlMCCv//talUAAABqNxB94AoIhMlMPZrKXQPzSMdosS/T6LPBDXDBUq\n",
       "9EUmy5BcjvtP1ZFO7A43F5ac1CK8/AiwQ5trZCdcx3+4T7eIuLQCuwx0g3Z/6j/Sq3s09GnPUXtO\n",
       "+qGCh46vEVYny6KsacY3N37QiAOlKxYWw0Th5vVBTcixmcXDsZiYxRVGEgk08lYiqCObTFSaDdTm\n",
       "HnkvIpdSGRI48dzzRGDpSg9Dp1EpTJzxTadsdQe1JKdnROZDwBuid6xnWSe29AhULQySShqdKEui\n",
       "kGcyzxW4yDz+BAK7ur5AoQBhVlS7E4FuCXeV0PdJ7KytAhLvssCCvHZ2MUiFWkkLiH1u+Hv7o85y\n",
       "o7G7rQiITmXakMSgTmdm/R+KVb34IOy0MtWbJtv2Hm0D9WOk9MUL3QwWtNcV6uNIMdcMCQjQ7XQt\n",
       "lI4SrDDebcAPuDOFTNAnzt6LC5BkZCkIbp5zO+0+6UH1FFAxatFi1M/Xle8fWJX5vA2CzzT8USZl\n",
       "FBFXFN3oPP2Kk3VyTStCcfTBjUppJp5nq2RZGfYomCbWfl2O2oLvwF1P3DXZaPpZX0onmVz49tr0\n",
       "5ZNb52xMMRhCYn0jCjnR/eF176EA4wbyFJKPuzH6XbMHilLGuFnzEXQWBmCyoxpPfS5ntwBPFA9C\n",
       "6fenRT5YhOw2CqnvI+Xq3ZF1dyIR1Gyq0yQDO3WdaL/gbYe0B4BVtpOsmk/qSQAAAC9BnsZFFSwT\n",
       "/wAAAwAQ/0UBROPwcH6lVoEVaclt6skLeiTnEnw0Uqg7gAAAAwABCwAAACwBnuV0QS8AAAMAGbWM\n",
       "p4DYGG1XGADQD20mOxKKCSBkKMJ7FAAAAwAAAwAqYQAAACIBnudqQS8AAAMAGbUxjjmT0yCKRwjH\n",
       "O++Ne2AAAAMAADZgAAAAIkGa7EmoQWyZTAgr//7WpVAAAAMAYq4yKuwAAAMAAAMAKCAAAAAcQZ8K\n",
       "RRUsE/8AAAMAAEX76sFzX7R6AAADAAAMGQAAABcBnyl0QS8AAAMAAGlWMMrAAAADAAAwIAAAABcB\n",
       "nytqQS8AAAMAAGlcyyVAAAADAAAoIAAAATNBmzBJqEFsmUwIJ//+tSqAAAAz2wTeKAFejuaazRxW\n",
       "BRYKBJfcys5cp1A3hR/6lpdAd9gvB7r4Bc/UKG0R4l33xQGedUgMTsSIbD2ufhT2zkhLg03eUxel\n",
       "XLbKOVzFo4gYXeE8nFKjSiP2TBmyZ/tPrA8RZd48E74mFqn882KZgYSo6csoqHFwLhSKWGtk0Qmu\n",
       "xc/sve0yZrxzYaZ3nxC4LPUGIPb6Mtbzdpx0d8wLj8qwZMaopdiRNR4Cb7rmhZb9+S33UEF8P2rZ\n",
       "ePqiFICCqlUY115M0by5ime22HKrYUnPZ7RL5yBHehK2gNiUVubZhJrVzuz+E3ZNRiiODq1FzEAN\n",
       "a5P9hHSZQnxqyFxnuml3GCROCx63eI04K4SDkPfIdvD61/Nv8BCmVPlidEq9P1CBAAAAS0GfTkUV\n",
       "LBP/AAADABD+HaVsXU9QeQAXFG+ZYPFZOItj+OfQGCgf0gZd+5nSpCuiGz4HyDFRokx/9bOsVd7J\n",
       "FPmfcBiSAAADAAAO6QAAADwBn210QS8AAAMAGba2wTDjcS4fwkgxv0ADPmJoMyEkg15VENtjFFte\n",
       "lzZG/aiyzxA5P622RAAAAwAABC0AAAAaAZ9vakEvAAADAAF9Uycn7AsOAAADAAADAoYAAAAgQZtx\n",
       "SahBbJlMCCX//rUqgAAAAwDPUHDkkAAAAwAABDwAAAVnbW9vdgAAAGxtdmhkAAAAAAAAAAAAAAAA\n",
       "AAAD6AAATiAAAQAAAQAAAAAAAAAAAAAAAAEAAAAAAAAAAAAAAAAAAAABAAAAAAAAAAAAAAAAAABA\n",
       "AAAAAAAAAAAAAAAAAAAAAAAAAAAAAAAAAAAAAAAAAgAABJF0cmFrAAAAXHRraGQAAAADAAAAAAAA\n",
       "AAAAAAABAAAAAAAATiAAAAAAAAAAAAAAAAAAAAAAAAEAAAAAAAAAAAAAAAAAAAABAAAAAAAAAAAA\n",
       "AAAAAABAAAAAA2AAAAJAAAAAAAAkZWR0cwAAABxlbHN0AAAAAAAAAAEAAE4gAAAgAAABAAAAAAQJ\n",
       "bWRpYQAAACBtZGhkAAAAAAAAAAAAAAAAAAAoAAADIABVxAAAAAAALWhkbHIAAAAAAAAAAHZpZGUA\n",
       "AAAAAAAAAAAAAABWaWRlb0hhbmRsZXIAAAADtG1pbmYAAAAUdm1oZAAAAAEAAAAAAAAAAAAAACRk\n",
       "aW5mAAAAHGRyZWYAAAAAAAAAAQAAAAx1cmwgAAAAAQAAA3RzdGJsAAAAtHN0c2QAAAAAAAAAAQAA\n",
       "AKRhdmMxAAAAAAAAAAEAAAAAAAAAAAAAAAAAAAAAA2ACQABIAAAASAAAAAAAAAABAAAAAAAAAAAA\n",
       "AAAAAAAAAAAAAAAAAAAAAAAAAAAAAAAAGP//AAAAMmF2Y0MBZAAf/+EAGWdkAB+s2UDYEmhAAAAD\n",
       "AIAAAAMCg8YMZYABAAZo6+PLIsAAAAAcdXVpZGtoQPJfJE/FujmlG88DI/MAAAAAAAAAGHN0dHMA\n",
       "AAAAAAAAAQAAADIAABAAAAAAFHN0c3MAAAAAAAAAAQAAAAEAAAGAY3R0cwAAAAAAAAAuAAAABQAA\n",
       "IAAAAAABAABQAAAAAAEAACAAAAAAAQAAAAAAAAABAAAQAAAAAAEAAFAAAAAAAQAAIAAAAAABAAAA\n",
       "AAAAAAEAABAAAAAAAQAAUAAAAAABAAAgAAAAAAEAAAAAAAAAAQAAEAAAAAABAABQAAAAAAEAACAA\n",
       "AAAAAQAAAAAAAAABAAAQAAAAAAEAAFAAAAAAAQAAIAAAAAABAAAAAAAAAAEAABAAAAAAAQAAUAAA\n",
       "AAABAAAgAAAAAAEAAAAAAAAAAQAAEAAAAAABAABQAAAAAAEAACAAAAAAAQAAAAAAAAABAAAQAAAA\n",
       "AAEAAFAAAAAAAQAAIAAAAAABAAAAAAAAAAEAABAAAAAAAQAAUAAAAAABAAAgAAAAAAEAAAAAAAAA\n",
       "AQAAEAAAAAABAABQAAAAAAEAACAAAAAAAQAAAAAAAAABAAAQAAAAAAEAAFAAAAAAAQAAIAAAAAAB\n",
       "AAAAAAAAAAEAABAAAAAAAQAAIAAAAAAcc3RzYwAAAAAAAAABAAAAAQAAADIAAAABAAAA3HN0c3oA\n",
       "AAAAAAAAAAAAADIAABkfAAAAkAAAAHIAAACfAAAAdgAAA2YAAAArAAAAhAAAABoAAAM1AAAAQwAA\n",
       "ACcAAAAoAAAAIwAAAB0AAAAaAAAAGgAAAXsAAAApAAAAJgAAABoAAAIOAAAAKgAAACcAAAAaAAAB\n",
       "dwAAACsAAAAnAAAAGgAAApgAAABtAAAAJwAAAC0AAAApAAAAIQAAABoAAAAaAAACKgAAADMAAAAw\n",
       "AAAAJgAAACYAAAAgAAAAGwAAABsAAAE3AAAATwAAAEAAAAAeAAAAJAAAABRzdGNvAAAAAAAAAAEA\n",
       "AAAsAAAAYnVkdGEAAABabWV0YQAAAAAAAAAhaGRscgAAAAAAAAAAbWRpcmFwcGwAAAAAAAAAAAAA\n",
       "AAAtaWxzdAAAACWpdG9vAAAAHWRhdGEAAAABAAAAAExhdmY1OC4yOS4xMDA=\n",
       "\">\n",
       "  Your browser does not support the video tag.\n",
       "</video>"
      ],
      "text/plain": [
       "<IPython.core.display.HTML object>"
      ]
     },
     "execution_count": 5,
     "metadata": {},
     "output_type": "execute_result"
    }
   ],
   "source": [
    "HTML(ani.to_html5_video())"
   ]
  },
  {
   "cell_type": "markdown",
   "metadata": {},
   "source": [
    "__Exhaustive feedback:__\n",
    "\n",
    "In its default configuration, the social partner gives __exhaustive feedbacks__. It outputs all the goals that the agent has achieved at the end of the episode. "
   ]
  },
  {
   "cell_type": "code",
   "execution_count": 7,
   "metadata": {},
   "outputs": [
    {
     "data": {
      "text/html": [
       "<div>\n",
       "<style scoped>\n",
       "    .dataframe tbody tr th:only-of-type {\n",
       "        vertical-align: middle;\n",
       "    }\n",
       "\n",
       "    .dataframe tbody tr th {\n",
       "        vertical-align: top;\n",
       "    }\n",
       "\n",
       "    .dataframe thead th {\n",
       "        text-align: right;\n",
       "    }\n",
       "</style>\n",
       "<table border=\"1\" class=\"dataframe\">\n",
       "  <thead>\n",
       "    <tr style=\"text-align: right;\">\n",
       "      <th></th>\n",
       "      <th>Descriptive Feedback from Social Partner</th>\n",
       "    </tr>\n",
       "  </thead>\n",
       "  <tbody>\n",
       "    <tr>\n",
       "      <th>0</th>\n",
       "      <td>Go right</td>\n",
       "    </tr>\n",
       "    <tr>\n",
       "      <th>1</th>\n",
       "      <td>Go top</td>\n",
       "    </tr>\n",
       "    <tr>\n",
       "      <th>2</th>\n",
       "      <td>Go top right</td>\n",
       "    </tr>\n",
       "    <tr>\n",
       "      <th>3</th>\n",
       "      <td>Grasp blue living_thing</td>\n",
       "    </tr>\n",
       "    <tr>\n",
       "      <th>4</th>\n",
       "      <td>Grasp blue lion</td>\n",
       "    </tr>\n",
       "    <tr>\n",
       "      <th>5</th>\n",
       "      <td>Grasp any blue thing</td>\n",
       "    </tr>\n",
       "    <tr>\n",
       "      <th>6</th>\n",
       "      <td>Grasp any living_thing</td>\n",
       "    </tr>\n",
       "    <tr>\n",
       "      <th>7</th>\n",
       "      <td>Grasp any lion</td>\n",
       "    </tr>\n",
       "  </tbody>\n",
       "</table>\n",
       "</div>"
      ],
      "text/plain": [
       "  Descriptive Feedback from Social Partner\n",
       "0                                 Go right\n",
       "1                                   Go top\n",
       "2                             Go top right\n",
       "3                  Grasp blue living_thing\n",
       "4                          Grasp blue lion\n",
       "5                     Grasp any blue thing\n",
       "6                   Grasp any living_thing\n",
       "7                           Grasp any lion"
      ]
     },
     "execution_count": 7,
     "metadata": {},
     "output_type": "execute_result"
    }
   ],
   "source": [
    "from src.imagine.social_partner import SocialPartner\n",
    "oracle_reward_function = config.get_oracle_reward_function(goal_sampler, params)\n",
    "social_partner = SocialPartner(oracle_reward_function=oracle_reward_function,\n",
    "                                   feedback_strategy='exhaustive', p_availability=1.,\n",
    "                                   params=params)\n",
    "\n",
    "exhaustive_feedback = pd.DataFrame(social_partner.get_feedback([episode])[0][0], columns=['Descriptive Feedback from Social Partner'])\n",
    "exhaustive_feedback"
   ]
  },
  {
   "cell_type": "markdown",
   "metadata": {},
   "source": [
    "The agent can then infer the negative feedbacks by simply removing the communicated goals to the set of goal he has already discovered:"
   ]
  },
  {
   "cell_type": "code",
   "execution_count": 24,
   "metadata": {},
   "outputs": [
    {
     "data": {
      "text/html": [
       "<div>\n",
       "<style scoped>\n",
       "    .dataframe tbody tr th:only-of-type {\n",
       "        vertical-align: middle;\n",
       "    }\n",
       "\n",
       "    .dataframe tbody tr th {\n",
       "        vertical-align: top;\n",
       "    }\n",
       "\n",
       "    .dataframe thead th {\n",
       "        text-align: right;\n",
       "    }\n",
       "</style>\n",
       "<table border=\"1\" class=\"dataframe\">\n",
       "  <thead>\n",
       "    <tr style=\"text-align: right;\">\n",
       "      <th></th>\n",
       "      <th>Negative examples</th>\n",
       "    </tr>\n",
       "  </thead>\n",
       "  <tbody>\n",
       "    <tr>\n",
       "      <th>0</th>\n",
       "      <td>Grow green table</td>\n",
       "    </tr>\n",
       "    <tr>\n",
       "      <th>1</th>\n",
       "      <td>Grasp green supply</td>\n",
       "    </tr>\n",
       "    <tr>\n",
       "      <th>2</th>\n",
       "      <td>Grasp any dog</td>\n",
       "    </tr>\n",
       "    <tr>\n",
       "      <th>3</th>\n",
       "      <td>Go center</td>\n",
       "    </tr>\n",
       "    <tr>\n",
       "      <th>4</th>\n",
       "      <td>Grasp red rose</td>\n",
       "    </tr>\n",
       "    <tr>\n",
       "      <th>5</th>\n",
       "      <td>Go bottom center</td>\n",
       "    </tr>\n",
       "    <tr>\n",
       "      <th>6</th>\n",
       "      <td>Grasp blue tree</td>\n",
       "    </tr>\n",
       "    <tr>\n",
       "      <th>7</th>\n",
       "      <td>Grasp blue human</td>\n",
       "    </tr>\n",
       "    <tr>\n",
       "      <th>8</th>\n",
       "      <td>Grow blue lamp</td>\n",
       "    </tr>\n",
       "    <tr>\n",
       "      <th>9</th>\n",
       "      <td>Grow any lion</td>\n",
       "    </tr>\n",
       "    <tr>\n",
       "      <th>10</th>\n",
       "      <td>Grasp green door</td>\n",
       "    </tr>\n",
       "    <tr>\n",
       "      <th>11</th>\n",
       "      <td>Grow any lamp</td>\n",
       "    </tr>\n",
       "    <tr>\n",
       "      <th>12</th>\n",
       "      <td>Grow red supply</td>\n",
       "    </tr>\n",
       "    <tr>\n",
       "      <th>13</th>\n",
       "      <td>Grasp red desk</td>\n",
       "    </tr>\n",
       "    <tr>\n",
       "      <th>14</th>\n",
       "      <td>Grow blue chair</td>\n",
       "    </tr>\n",
       "  </tbody>\n",
       "</table>\n",
       "</div>"
      ],
      "text/plain": [
       "     Negative examples\n",
       "0     Grow green table\n",
       "1   Grasp green supply\n",
       "2        Grasp any dog\n",
       "3            Go center\n",
       "4       Grasp red rose\n",
       "5     Go bottom center\n",
       "6      Grasp blue tree\n",
       "7     Grasp blue human\n",
       "8       Grow blue lamp\n",
       "9        Grow any lion\n",
       "10    Grasp green door\n",
       "11       Grow any lamp\n",
       "12     Grow red supply\n",
       "13      Grasp red desk\n",
       "14     Grow blue chair"
      ]
     },
     "execution_count": 24,
     "metadata": {},
     "output_type": "execute_result"
    }
   ],
   "source": [
    "negative_examples = set(goal_sampler.feedback_memory['string']) - set([descr for sublist in exhaustive_feedback.values.tolist() for descr in sublist])\n",
    "negative_examples = pd.DataFrame(negative_examples, columns=['Negative examples'])\n",
    "negative_examples.head(15)"
   ]
  },
  {
   "cell_type": "code",
   "execution_count": 21,
   "metadata": {},
   "outputs": [
    {
     "data": {
      "text/plain": [
       "array([['Go right'],\n",
       "       ['Go top'],\n",
       "       ['Go top right'],\n",
       "       ['Grasp blue living_thing'],\n",
       "       ['Grasp blue lion'],\n",
       "       ['Grasp any blue thing'],\n",
       "       ['Grasp any living_thing'],\n",
       "       ['Grasp any lion']], dtype=object)"
      ]
     },
     "execution_count": 21,
     "metadata": {},
     "output_type": "execute_result"
    }
   ],
   "source": []
  },
  {
   "cell_type": "code",
   "execution_count": 10,
   "metadata": {},
   "outputs": [
    {
     "data": {
      "text/html": [
       "<div>\n",
       "<style scoped>\n",
       "    .dataframe tbody tr th:only-of-type {\n",
       "        vertical-align: middle;\n",
       "    }\n",
       "\n",
       "    .dataframe tbody tr th {\n",
       "        vertical-align: top;\n",
       "    }\n",
       "\n",
       "    .dataframe thead th {\n",
       "        text-align: right;\n",
       "    }\n",
       "</style>\n",
       "<table border=\"1\" class=\"dataframe\">\n",
       "  <thead>\n",
       "    <tr style=\"text-align: right;\">\n",
       "      <th></th>\n",
       "      <th>Descriptive Feedback from Social Partner</th>\n",
       "    </tr>\n",
       "  </thead>\n",
       "  <tbody>\n",
       "    <tr>\n",
       "      <th>0</th>\n",
       "      <td>Go left</td>\n",
       "    </tr>\n",
       "    <tr>\n",
       "      <th>1</th>\n",
       "      <td>Go top</td>\n",
       "    </tr>\n",
       "    <tr>\n",
       "      <th>2</th>\n",
       "      <td>Go center</td>\n",
       "    </tr>\n",
       "    <tr>\n",
       "      <th>3</th>\n",
       "      <td>Grasp blue living_thing</td>\n",
       "    </tr>\n",
       "    <tr>\n",
       "      <th>4</th>\n",
       "      <td>Grasp blue lion</td>\n",
       "    </tr>\n",
       "    <tr>\n",
       "      <th>5</th>\n",
       "      <td>Grasp any blue thing</td>\n",
       "    </tr>\n",
       "    <tr>\n",
       "      <th>6</th>\n",
       "      <td>Grasp any living_thing</td>\n",
       "    </tr>\n",
       "    <tr>\n",
       "      <th>7</th>\n",
       "      <td>Grasp any lion</td>\n",
       "    </tr>\n",
       "  </tbody>\n",
       "</table>\n",
       "</div>"
      ],
      "text/plain": [
       "  Descriptive Feedback from Social Partner\n",
       "0                                  Go left\n",
       "1                                   Go top\n",
       "2                                Go center\n",
       "3                  Grasp blue living_thing\n",
       "4                          Grasp blue lion\n",
       "5                     Grasp any blue thing\n",
       "6                   Grasp any living_thing\n",
       "7                           Grasp any lion"
      ]
     },
     "execution_count": 10,
     "metadata": {},
     "output_type": "execute_result"
    }
   ],
   "source": [
    "# Fix this the social partner has no switch between one_pos_one_neg and exhaustive\n",
    "\n",
    "social_partner2 = SocialPartner(oracle_reward_function=oracle_reward_function,\n",
    "                                   feedback_strategy='one_pos_one_neg', p_availability=1.,\n",
    "                                   params=params)\n",
    "\n",
    "one_pos_one_neg_feedback = pd.DataFrame(social_partner2.get_feedback([episode])[0][0], columns=['Descriptive Feedback from Social Partner'])\n",
    "one_pos_one_neg_feedback"
   ]
  },
  {
   "cell_type": "markdown",
   "metadata": {
    "id": "KK5Cfu0ColeQ"
   },
   "source": [
    "### 1.2 The Reward Function Module"
   ]
  },
  {
   "cell_type": "markdown",
   "metadata": {
    "id": "ppouVDJ7tYIY"
   },
   "source": [
    "<img src=\"https://drive.google.com/uc?export=view&id=1-74Gx9PkoPz4DC2gNPkdlSDeQsRVCq5G\" alt=\"drawing\" width=\"700\"/>\n",
    "\n",
    "\n",
    "Explain inference of reward function"
   ]
  },
  {
   "cell_type": "markdown",
   "metadata": {
    "id": "bOyovQwWppfM"
   },
   "source": [
    "In the following lines of code we will compute the object specific reward and the overall reward of the scene\n",
    "\n",
    "Let's consider the following state (from our previous rollout):"
   ]
  },
  {
   "cell_type": "code",
   "execution_count": 1,
   "metadata": {
    "id": "Es80gPecozDr"
   },
   "outputs": [
    {
     "ename": "NameError",
     "evalue": "name 'plt' is not defined",
     "output_type": "error",
     "traceback": [
      "\u001b[0;31m---------------------------------------------------------------------------\u001b[0m",
      "\u001b[0;31mNameError\u001b[0m                                 Traceback (most recent call last)",
      "\u001b[0;32m<ipython-input-1-2aaf82b35fc2>\u001b[0m in \u001b[0;36m<module>\u001b[0;34m\u001b[0m\n\u001b[0;32m----> 1\u001b[0;31m \u001b[0mfig\u001b[0m \u001b[0;34m=\u001b[0m \u001b[0mplt\u001b[0m\u001b[0;34m.\u001b[0m\u001b[0mimshow\u001b[0m\u001b[0;34m(\u001b[0m\u001b[0mobs\u001b[0m\u001b[0;34m)\u001b[0m\u001b[0;34m\u001b[0m\u001b[0;34m\u001b[0m\u001b[0m\n\u001b[0m\u001b[1;32m      2\u001b[0m \u001b[0mfig\u001b[0m\u001b[0;34m.\u001b[0m\u001b[0maxes\u001b[0m\u001b[0;34m.\u001b[0m\u001b[0mget_xaxis\u001b[0m\u001b[0;34m(\u001b[0m\u001b[0;34m)\u001b[0m\u001b[0;34m.\u001b[0m\u001b[0mset_visible\u001b[0m\u001b[0;34m(\u001b[0m\u001b[0;32mFalse\u001b[0m\u001b[0;34m)\u001b[0m\u001b[0;34m\u001b[0m\u001b[0;34m\u001b[0m\u001b[0m\n\u001b[1;32m      3\u001b[0m \u001b[0mfig\u001b[0m\u001b[0;34m.\u001b[0m\u001b[0maxes\u001b[0m\u001b[0;34m.\u001b[0m\u001b[0mget_yaxis\u001b[0m\u001b[0;34m(\u001b[0m\u001b[0;34m)\u001b[0m\u001b[0;34m.\u001b[0m\u001b[0mset_visible\u001b[0m\u001b[0;34m(\u001b[0m\u001b[0;32mFalse\u001b[0m\u001b[0;34m)\u001b[0m\u001b[0;34m\u001b[0m\u001b[0;34m\u001b[0m\u001b[0m\n",
      "\u001b[0;31mNameError\u001b[0m: name 'plt' is not defined"
     ]
    }
   ],
   "source": [
    "fig = plt.imshow(obs)\n",
    "fig.axes.get_xaxis().set_visible(False)\n",
    "fig.axes.get_yaxis().set_visible(False)"
   ]
  },
  {
   "cell_type": "code",
   "execution_count": 12,
   "metadata": {},
   "outputs": [],
   "source": [
    "def compute_reward_probabilities(state, goal_str, reward_language_model, reward_function, env):\n",
    "    goal_encoding = reward_language_model.encode(goal_str)\n",
    "    input_o = torch.tensor(state).float().view(1,len(o))\n",
    "    input_goal = torch.tensor(goal_encoding).float().view(1,len(goal_encoding))\n",
    "    reward_per_object = reward_function.reward_function.compute_logits_before_or(input_o, input_goal)\n",
    "    reward_per_object = [elem.detach()[0][0].item() for elem in reward_per_object]\n",
    "    objects = [obj.object_descr['colors'] + ' ' + obj.object_descr['types'] for obj in env.objects]\n",
    "    d = {'Objects':objects, 'Reward':reward_per_object}\n",
    "    df_rew = pd.DataFrame(d)\n",
    "    return df_rew\n",
    "\n",
    "def generate_other_possible_goal(goal_str, env):\n",
    "    objects = [obj.object_descr['colors'] + ' ' + obj.object_descr['types'] for obj in env.objects]\n",
    "    other_objects = [o for o in objects if o not in goal_str]\n",
    "    return ' '.join(random.sample(['Grow', 'Grasp'], 1) + random.sample(other_objects, 1))"
   ]
  },
  {
   "cell_type": "code",
   "execution_count": 20,
   "metadata": {},
   "outputs": [
    {
     "name": "stdout",
     "output_type": "stream",
     "text": [
      "Grow green parrot\n"
     ]
    }
   ],
   "source": [
    "other_goal_str = generate_other_possible_goal(goal_str,env)\n",
    "print(other_goal_str)"
   ]
  },
  {
   "cell_type": "markdown",
   "metadata": {},
   "source": [
    "\n",
    "Explain that we scan the reward per object for:\n",
    "\n",
    "1. the achieved goal\n",
    "2. another feasible goal considering the scene which is not achieved\n",
    "\n",
    "Discuss the probabilities\n",
    "\n"
   ]
  },
  {
   "cell_type": "code",
   "execution_count": 19,
   "metadata": {},
   "outputs": [
    {
     "data": {
      "image/png": "[encoded data removed]",
      "text/plain": [
       "<Figure size 1152x504 with 2 Axes>"
      ]
     },
     "metadata": {
      "needs_background": "light"
     },
     "output_type": "display_data"
    }
   ],
   "source": [
    "df_rew1 = compute_reward_probabilities(o, goal_str, reward_language_model, reward_function, env)\n",
    "df_rew2 = compute_reward_probabilities(o, other_goal_str, reward_language_model, reward_function, env)\n",
    "\n",
    "f, axes = plt.subplots(1, 2, figsize=(16, 7), sharex=True)\n",
    "sns.despine(left=True)\n",
    "sns.barplot(x=\"Objects\", y=\"Reward\", data=df_rew1, ax=axes[0]).set_title(goal_str)\n",
    "for index, row in df_rew1.iterrows():\n",
    "    axes[0].text(row.name,row.Reward, row.Reward, color='black', ha=\"center\")\n",
    "    \n",
    "sns.despine(left=True)\n",
    "sns.barplot(x=\"Objects\", y=\"Reward\", data=df_rew2, ax=axes[1]).set_title(other_goal_str)\n",
    "for index, row in df_rew2.iterrows():\n",
    "    axes[1].text(row.name,row.Reward, row.Reward, color='black', ha=\"center\")\n"
   ]
  },
  {
   "cell_type": "markdown",
   "metadata": {
    "id": "O4MS1YhKpxAF"
   },
   "source": [
    "Explain intuition behind reward function architecture"
   ]
  },
  {
   "cell_type": "code",
   "execution_count": 3,
   "metadata": {
    "id": "OPjdOPCNpvz-"
   },
   "outputs": [],
   "source": [
    "# Load a pretrained reward function\n",
    "# Use reward function in inference\n",
    "# Show results of reward function before or (object specific rewards)\n",
    "# Show results of reward function "
   ]
  },
  {
   "cell_type": "markdown",
   "metadata": {
    "id": "5p-Lt8Bh1yGp"
   },
   "source": [
    "### 1.3 The Policy Module"
   ]
  },
  {
   "cell_type": "markdown",
   "metadata": {
    "id": "022mfhNz77IC"
   },
   "source": [
    "Dunno yet what we can show here. Maybe just a run towards a goal, and maybe the evolution of the norm of the signal before the deepset aggregation (showing the norm of the module handling the relevant object is higher).\n"
   ]
  },
  {
   "cell_type": "code",
   "execution_count": null,
   "metadata": {
    "id": "T_-ihcP72E9e"
   },
   "outputs": [],
   "source": [
    "# Dunno yet what we can show here. Maybe just a run towards a goal, and maybe the evolution of the norm of the signal before the deepset aggregation (showing the norm of the module handling the objects )"
   ]
  },
  {
   "cell_type": "markdown",
   "metadata": {
    "id": "UTRu83rCpDsh"
   },
   "source": [
    "### 1.4 The Goal Imagination Module"
   ]
  },
  {
   "cell_type": "code",
   "execution_count": null,
   "metadata": {
    "id": "ab-EDf1Gt8hG"
   },
   "outputs": [],
   "source": [
    "# Show the set of imagined goal generated from a subset of known goals"
   ]
  },
  {
   "cell_type": "markdown",
   "metadata": {
    "id": "JCTxPAQd2JO_"
   },
   "source": [
    "## 2. How to train IMAGINE\n",
    "\n",
    "------------"
   ]
  },
  {
   "cell_type": "code",
   "execution_count": null,
   "metadata": {
    "id": "H7oGU_JD2Ko-"
   },
   "outputs": [],
   "source": [
    "# Insert train script here"
   ]
  },
  {
   "cell_type": "markdown",
   "metadata": {
    "id": "T3njuS192W5V"
   },
   "source": [
    "## 3. Examples of Generalization"
   ]
  },
  {
   "cell_type": "code",
   "execution_count": null,
   "metadata": {
    "id": "8l8oiTCC2ZxC"
   },
   "outputs": [],
   "source": [
    "# Enter goal here"
   ]
  },
  {
   "cell_type": "code",
   "execution_count": null,
   "metadata": {
    "id": "7kZ1_h2J2bOO"
   },
   "outputs": [],
   "source": [
    "# Load pretrained model and generate rollout here"
   ]
  },
  {
   "cell_type": "markdown",
   "metadata": {
    "id": "GdxUhwT82iOX"
   },
   "source": [
    "## 4.  Vizualization"
   ]
  },
  {
   "cell_type": "code",
   "execution_count": null,
   "metadata": {
    "id": "LdmD7YIw2jaI"
   },
   "outputs": [],
   "source": [
    "# Insert cool vizualization of attention vectors here"
   ]
  },
  {
   "cell_type": "code",
   "execution_count": null,
   "metadata": {
    "id": "aXrlM4Gg2nQY"
   },
   "outputs": [],
   "source": [
    "# Insert interactive viz of t-sne goals here"
   ]
  },
  {
   "cell_type": "code",
   "execution_count": null,
   "metadata": {
    "id": "1OhwwDSJ2qGg"
   },
   "outputs": [],
   "source": []
  }
 ],
 "metadata": {
  "colab": {
   "collapsed_sections": [],
   "name": "IMAGINE.ipynb",
   "provenance": [],
   "toc_visible": true
  },
  "kernelspec": {
   "display_name": "Python 3",
   "language": "python",
   "name": "python3"
  },
  "language_info": {
   "codemirror_mode": {
    "name": "ipython",
    "version": 3
   },
   "file_extension": ".py",
   "mimetype": "text/x-python",
   "name": "python",
   "nbconvert_exporter": "python",
   "pygments_lexer": "ipython3",
   "version": "3.6.9"
  }
 },
 "nbformat": 4,
 "nbformat_minor": 4
}
