{
 "cells": [
  {
   "cell_type": "markdown",
   "metadata": {
    "id": "IVb1EQw89d7C"
   },
   "source": [
    "# <strong> Language as a Cognitive Tool to Imagine Goals in Curiosity Driven Exploration </strong>\n",
    "\n",
    "--------------------------------------------------------------------------------\n"
   ]
  },
  {
   "cell_type": "markdown",
   "metadata": {
    "id": "awPzJKCs5dmE"
   },
   "source": [
    "Here add general introduction blog-post like with motivations, and illustrate with the schema that shows all modules."
   ]
  },
  {
   "cell_type": "markdown",
   "metadata": {
    "id": "HmGFArOeXvps"
   },
   "source": [
    "Configuring everything:"
   ]
  },
  {
   "cell_type": "code",
   "execution_count": 1,
   "metadata": {
    "colab": {
     "base_uri": "https://localhost:8080/",
     "height": 443
    },
    "id": "Jo7scb9TnVcO",
    "outputId": "304576c4-9ef0-4f0f-9adf-8c742794bfa3"
   },
   "outputs": [],
   "source": [
    "%%capture\n",
    "\n",
    "import numpy as np\n",
    "import torch\n",
    "import random\n",
    "import pygame\n",
    "import matplotlib.pyplot as plt\n",
    "import matplotlib.animation as animation\n",
    "import seaborn as sns\n",
    "import pandas as pd\n",
    "from IPython.display import HTML\n",
    "\n",
    "from src.imagine.experiment import config\n",
    "from src.imagine.goal_sampler import GoalSampler\n",
    "from src.utils.notebook_utils import get_params_for_notebook, get_modules_for_notebook\n",
    "\n",
    "path= 'pretrained_weights/'\n",
    "params = get_params_for_notebook(path)\n",
    "policy_language_model, reward_language_model, policy, reward_function, goal_sampler = get_modules_for_notebook(path, params)"
   ]
  },
  {
   "cell_type": "markdown",
   "metadata": {},
   "source": [
    "!!! TODO add packages to yml"
   ]
  },
  {
   "cell_type": "markdown",
   "metadata": {
    "id": "214I7YWy9h98"
   },
   "source": [
    "## 1. IMAGINE under the hood\n",
    "\n",
    "------------------------------------------------\n",
    "\n",
    "### 1.1 The Social Partner Module\n",
    "\n",
    "\n",
    "\n"
   ]
  },
  {
   "cell_type": "markdown",
   "metadata": {
    "id": "3LHg1vnYEIbK"
   },
   "source": [
    "#### 1.1.1 First Role of the Social Partner: Setting up the scene\n",
    "\n",
    "-----------\n",
    "\n",
    "The first role of the Social Partner is to set up the scene so that the goal targeted by the agent can be achieved.\n",
    "\n",
    "It provides the agent with optimal learning opportunities by organizing the scene with:\n",
    "1. The required objects to reach the goal (not too difficult)\n",
    "2. Procedurally-generated distracting objects (not too easy and providing further discovery opportunities)\n",
    "\n",
    "The following lines of code show how scenes are generated according to this assumption:"
   ]
  },
  {
   "cell_type": "code",
   "execution_count": 2,
   "metadata": {
    "id": "32QSAzXwWj1z"
   },
   "outputs": [],
   "source": [
    "# Enter a valid goal description\n",
    "goal_str = 'Grasp blue lion'\n",
    "if goal_str not in (params['train_descriptions'] + params['test_descriptions']):\n",
    "    print('Please enter a feasible goal description.')"
   ]
  },
  {
   "cell_type": "code",
   "execution_count": 3,
   "metadata": {
    "colab": {
     "base_uri": "https://localhost:8080/",
     "height": 531
    },
    "id": "WeVvEj0wbU8I",
    "outputId": "560e50ba-1c9b-4a98-cf34-b4ff15f00261"
   },
   "outputs": [
    {
     "data": {
      "image/png": "[encoded data removed]",
      "text/plain": [
       "<Figure size 864x576 with 1 Axes>"
      ]
     },
     "metadata": {
      "needs_background": "light"
     },
     "output_type": "display_data"
    }
   ],
   "source": [
    "# Generating a scene which is compatible with the goal description\n",
    "env = params['make_env']()\n",
    "env.reset()\n",
    "initial_o = env.unwrapped.reset_with_goal(goal_str)\n",
    "env.step(np.array([0, 0, 0]))\n",
    "env.render(close=True)\n",
    "obs = pygame.surfarray.array3d(env.viewer).transpose([1,0,2])\n",
    "# pygame.display.quit()\n",
    "# pygame.quit()\n",
    "\n",
    "\n",
    "plt.rcParams['figure.figsize'] = [12, 8]\n",
    "fig = plt.imshow(obs)\n",
    "fig.axes.get_xaxis().set_visible(False)\n",
    "fig.axes.get_yaxis().set_visible(False)"
   ]
  },
  {
   "cell_type": "markdown",
   "metadata": {
    "id": "6UsYaxIE4jrw"
   },
   "source": [
    "#### 1.1.2 Second Role of the Social Partner: Providing Descriptions\n",
    "\n",
    "----------\n",
    "\n",
    "Now talk about the different types of feedbacks, add the option, then run a trajectory and show the resulting set of descriptions."
   ]
  },
  {
   "cell_type": "code",
   "execution_count": 4,
   "metadata": {},
   "outputs": [],
   "source": [
    "%%capture\n",
    "# In order to build vizualization\n",
    "fig = plt.figure()\n",
    "ims = []\n",
    "\n",
    "## Rollout of a policy\n",
    "o = initial_o.copy()\n",
    "goal_encoding = policy_language_model.encode(goal_str)\n",
    "episode={'obs':[]}\n",
    "for t in range(30):\n",
    "    action = policy.get_actions(o, goal_encoding)\n",
    "    o,_,_,_ = env.step(action)\n",
    "    episode['obs'].append(o)\n",
    "    env.render(close=True)\n",
    "    obs = pygame.surfarray.array3d(env.viewer).transpose([1,0,2])\n",
    "    plt.rcParams['figure.figsize'] = [12, 8]\n",
    "    im = plt.imshow(obs, animated=True)\n",
    "    ims.append([im])\n",
    "    \n",
    "ani = animation.ArtistAnimation(fig, ims, interval=400, blit=False,\n",
    "                                repeat=False)"
   ]
  },
  {
   "cell_type": "code",
   "execution_count": 5,
   "metadata": {},
   "outputs": [
    {
     "data": {
      "text/html": [
       "<video width=\"864\" height=\"576\" controls autoplay>\n",
       "  <source type=\"video/mp4\" src=\"data:video/mp4;base64,AAAAHGZ0eXBNNFYgAAACAGlzb21pc28yYXZjMQAAAAhmcmVlAAAo5W1kYXQAAAKgBgX//5zcRem9\n",
       "5tlIt5Ys2CDZI+7veDI2NCAtIGNvcmUgMTU3IC0gSC4yNjQvTVBFRy00IEFWQyBjb2RlYyAtIENv\n",
       "cHlsZWZ0IDIwMDMtMjAxOCAtIGh0dHA6Ly93d3cudmlkZW9sYW4ub3JnL3gyNjQuaHRtbCAtIG9w\n",
       "dGlvbnM6IGNhYmFjPTEgcmVmPTMgZGVibG9jaz0xOjA6MCBhbmFseXNlPTB4MzoweDExMyBtZT1o\n",
       "ZXggc3VibWU9NyBwc3k9MSBwc3lfcmQ9MS4wMDowLjAwIG1peGVkX3JlZj0xIG1lX3JhbmdlPTE2\n",
       "IGNocm9tYV9tZT0xIHRyZWxsaXM9MSA4eDhkY3Q9MSBjcW09MCBkZWFkem9uZT0yMSwxMSBmYXN0\n",
       "X3Bza2lwPTEgY2hyb21hX3FwX29mZnNldD0tMiB0aHJlYWRzPTEyIGxvb2thaGVhZF90aHJlYWRz\n",
       "PTIgc2xpY2VkX3RocmVhZHM9MCBucj0wIGRlY2ltYXRlPTEgaW50ZXJsYWNlZD0wIGJsdXJheV9j\n",
       "b21wYXQ9MCBjb25zdHJhaW5lZF9pbnRyYT0wIGJmcmFtZXM9MyBiX3B5cmFtaWQ9MiBiX2FkYXB0\n",
       "PTEgYl9iaWFzPTAgZGlyZWN0PTEgd2VpZ2h0Yj0xIG9wZW5fZ29wPTAgd2VpZ2h0cD0yIGtleWlu\n",
       "dD0yNTAga2V5aW50X21pbj0yIHNjZW5lY3V0PTQwIGludHJhX3JlZnJlc2g9MCByY19sb29rYWhl\n",
       "YWQ9NDAgcmM9Y3JmIG1idHJlZT0xIGNyZj0yMy4wIHFjb21wPTAuNjAgcXBtaW49MCBxcG1heD02\n",
       "OSBxcHN0ZXA9NCBpcF9yYXRpbz0xLjQwIGFxPTE6MS4wMACAAAAZFGWIhAAW//730z/Msuv3ObXj\n",
       "qPeiniZfQ3UlAZuWxO06gAAAAwAAAwAAAwAC3JArPemTWkcwgAAAAwATwAHuAQKmSnfIqYwcQCTP\n",
       "xQ+8DVjZ0IjXU3kUCQ1i3SJrcovMtmcuPsmhPl0xkjOf8XuZzbdcBgRyHpIeYLy/d81crN0W7YPa\n",
       "JOvP96mqnEDphTTGJf5T22wgOaC9ofHZnDsbeYf+35WuQglF/DKa931Oeh6jVT8Ty6QyfDboHcHO\n",
       "xShDKudnPjpRQ+Cr8CJGF6h52ZYAxvwzEVkmgAAO8BHiRGG8VXiI4yUUceyNCiLK0GndRzHEM/dj\n",
       "pwz4tnNDEsqAEB/1V0bOPi4TrFOZp1WDJlzatF+duKNtpZmJUELOBzRS6RHmzabZY29m5YIlmuy1\n",
       "bOcrJNfWqyUWzgtqHM2UDzcTetYvshGOfsG1QCmI/EZ4bfv6A3AqZzy8aI/DNW4OStNiAy3HVHCo\n",
       "wWU2m+eOVWh9HHdgs9s/IkGoIMuwIu92VciFNqfnMzMADIormcLfK8apd/ijwEiBERuo1/P0YDr8\n",
       "ZUVaj4zUzLPYDERTc1BEaGU/6tB5sFNpFxiXY0FzUIDuuA8BFtzTSJ8Byxxx5eFw9Xm7hsGp9Qwx\n",
       "0fNky/cfsF+gCBfftJhO4fSFg9BPtUzoxpzyJXs+Gols+mKNT6Of9YcEJVQxJNuRiW9wWVmhu17A\n",
       "GY9jXGkM3BFB3NBM/nbAko2/iNe+krq3KkjshX4q3HcJaenCgHVVK2ds/ez4Z59hfEQ0U/0KYTmh\n",
       "z97N3IAodSWEbpXJjM9glyASULZXw3hEJWjx9/CQk50QedpUqz9M8AvAgJpH57o553KNl9Ry6YIU\n",
       "jxsm8iqD2o8wHGd+ImPxR/6QbIMYQM288DLNcwf4+sPcSmkto7OAid0/+NTBsQDpD+Y51t4iTDBe\n",
       "+jFmFSTQplhIXgMRksJONdcSEZYkVRoXTMVpqa8tEZD6aTBKQu+Uit1mW2vT+WkAXH5s//QCCbQr\n",
       "IMuRvv9IkET9IPiO/H64bFW3ZzEL+3OSWifSdzmO32t7qZaa+W1qTzAJeFEBZ7N0MVC4/sMSekDI\n",
       "pOkRNFXAEfN9vZOf4iMXkgrrbudcTAZMLERpRPwOYo0RPxguDFeF2R8F++pxIFOItJQtKD16g8uE\n",
       "ZnsobbKewW/CBMvA0N6YW9wDN44r0Y0gGJy1zMAMcn54viGWvYkqBjB+hMldb6cMbp+UwHqryr65\n",
       "TKa34pDki124Al0qMx0C2CwxPXhnX8TcaAtkAC1xEwBaC8OhkpfvyrmQNdHOyZlTGmkBuTaIBtyT\n",
       "SNCFHWrckFdTCJkhYYzj128THp4KKcINgNIENB+x10/ti4SUpgr5BJ6PuyNRp4E//WtfDBS/WYlj\n",
       "h/rx/EtQW4AYV47DPcPOv+RW+wr3P+coKHGqzhbc1cdLnuu5i/CO/oroUBjrGdtFZYfIatGkTp5I\n",
       "AnqAnE0Amsy0EBWAa+zSvCeR7NIXVQggml7i6JSvGuf29zkCw0oo8c76V0gI+MBNv/1hxaTmjqz9\n",
       "DLRHZsifX/kiaMmPmSkfCALBYWt+P5S4+c11jVTP7IEu8i/MvyXGVcR+s8u54lzb+r7YZcV9FQG/\n",
       "N8xVYfna6g7qyoJs5WQ3eRqLT78qyrt1D6IuEsURORhNBktKPrf7KoNOzU0LRxA0plT3C4r9BJbr\n",
       "B/QmNpY4DbTPDP85OQfiVLPkgg0tUyeDVJv3zqp/lX9wK6pL21SX57GurUjE6ULVziVuN70E+abj\n",
       "NNe6273e13bjBs7UxY+XZ3mGtmAy0vyx0sO1SzEOuJ1lltve5cwt2q5o6l/fxP2m2zspYXfulMzE\n",
       "R8hqEjODrGhdY93C4kVw1r/3W7lmABlvBNp+PfJZT2nB7NYgAIx8LnQ6+3w81IWVguww/r3hJKww\n",
       "LI5v9mk/AKIZlqJfIhYAaokF6JhgBg+ALe8kmdoHEQXhUdkGrzVZqdkiogS2P2r75XPqDNFo/DxG\n",
       "Q0Huy4c5/sN8pLJp76nC1AAZdMr5fnUVE/iGWxqVnc79/cds6BVi3WdG0AuNgzP63f8EGxAr8COo\n",
       "rrN0LgNLkB0pUqMtzcr7G3vTut2w2mym7ITjxmWbiWf48fVpd61xa3gQen919K9kYeGVRGlo0wgC\n",
       "RP9J7vloUXqqwkZZKw1PpE2NUgfbKod4VexSEDKAnFHriQWPx4+IlNfsZZ+MjP8Qs0M7VaCgtH9a\n",
       "XwN+QlwaUGq5gi+cYeVlEmbORYmjHxnQPWAXjmv7GJ0sQzZJcYT0ivZUf7MMyJOCqwKVYYiG7Rwz\n",
       "DziZP6K37UeotI0Zsv52xslak/LU9hV7LNEtF+2flopBoCPupMIHbpjB6Y5/J54teimJuUi0eerh\n",
       "32QKpTtbqMho3OlQ01O7HFqibHdY9HLiszVsAsLer8hzLu+RYjnAErc7w2vcV49gJB57qgs8iloY\n",
       "hOHBes8JBMJD/99Ery+ghtKWwtEOudwAOd0Pch3iEkLigmUIxjA/DYBP0qHB004Z5mr89/LE9dDq\n",
       "8naEMGZATDcplRfCwMytOaV6fnH0F3VPTx1KGc5EuDCw1Trc9YhLYnI8IjUlbZsuWGpNAgrGIlAu\n",
       "Tk9iG4qJFbkHWKDKDeEUcwbEfc3foNU09GWnMy7Sthc64HmULDsOyadeGtlkaAH2c/OBClQryXuR\n",
       "kY5MdPL7ixJewnl8Kr5mCWlpL7qZg+qg/aAvPxoFJMRulETwaVLpkMpa5kaUsDyHfgyDKyqSi+4g\n",
       "QUGD2KR/Ypfc3GgqH8yZBb6Htvd5jErzqcqzK7r7Qh9SGcufJvaBhP4H+t1QE9oi1sI3tNaZogmF\n",
       "5LtXzWPJXCnXAYHKOf3UYZXpQUfHzqaaCjgn2G3IWTbl4shdbT0VGLAruhzh2mc7py/DJ9OXhES/\n",
       "50ZoX7TxFDNh945oqrAEUqMgLv0j25pT7WcdE2O/T77DnBx+oIf59cDzRyJqAiKXsNDFoFLY5UIi\n",
       "cHWqHeUvfGVx7GsoSknIFUQ6MIB+u2ES4qlwOGjDNDGO6Dtn6AiJqucVT8BTknkg+vFaQRZVJHuw\n",
       "FuUCVj5xfsF3W059zPutdlXv5aGt9K5An7cpBFCw0ISgXk5rEQ1ixyVwZnpD6eVSoLzHl2Ul4cYG\n",
       "J+ZTSPWqKHeOjku17k85AJ5sc00PRVmnrbgPqBWFXu+GlSMd8xPARFYhYHnUK5GGW18RovTmAB0m\n",
       "RtbOyuI2zmrm/RkunJXpLHi8qbxgtm5ScPo8BvAQMx5+52fN9wh3Sr2eIAn5PzFkQptMETrafpzI\n",
       "uvcu+d4fWhoR7t4K5VVSaS2D/lE3uGPkrJVkrzKomiyW7Bl5M2i+wt1ZKnkn3EWzYm0374NT7WCb\n",
       "3Qj8RzDoxFWdfaGwaL7bSsXBqWkXxiONtxEhrLYBDbK2u6p+4Qjx+fkTzWj2pLEa4d3+XxD8tae9\n",
       "ORgg31fSwxyBERGYLZRhqm6AwFa+1jWkonHdhq/yvasNk7HCJyUCpwgv+BFqVTpNJBSkxgPx4rwJ\n",
       "kyEnoAaH6hJWdUYcVmJAVnvQ3DP0TG2pqhjFDtTj1K2SL12P3QbefyAxsRmtyAIAGWuBRY2/M+X/\n",
       "nH5FBo+7fhw2tJz1Mn87s9MLSvIYbZpMnv+s/L62w6ZJEjgJlE6YjVZN8hjM75pf/AirnjMUs0TC\n",
       "wMTmQWTUQ36WEvS41S/UB+m5dGOxOKXdfsnONUAXM19UAVCVJWeUv8HYua/NTOGF1Bc+k4ilBeIy\n",
       "b5wTLzaMJxq/3UJh4kKw3W4IVjen9FayzhnFS/QPiKjM3Ghi5vuxjPoriDvWJ9g/jV+vM9+w4RDZ\n",
       "n2/m5KxguBVTKk7nvsE6l8AJjLmcOx5FwSYw3PYopcAZOsLg4KMdGdTSOXvHrZ48WERwOOAqhVbT\n",
       "xfFYei3aSgwBsNkXiWy4K+gAEvMuXt8cqrc2WxXK+XU4rlvjlUlpC+TsrpLjBNvthZKm1sRfv38R\n",
       "9Pf0tyBjj3jfndaq5o317oM6Gw3wrGnwAq2G4Pw17uorPVXQ/T7ZM7W6UUHqns+/sTCEEjlVfBQ0\n",
       "CGRr3VI8HFjWFbWu+9d5eI/B8gi6uuk/zEs222531YdOyI+1Ny0bsMkHt5dwl7lUw2EIxdeJ9Ov7\n",
       "hQI/MjS/WhoyBA3W53mEDMWOC7D1b40PLB60Hjkkkg2ATeq2/fSJbJL3HSqyTUJ1+zjymEWdCVyR\n",
       "1psNQl1Qr+h2l5Y+0t4IdPg4Pzad/FaOT62fpTTBv8iOnfEA5mUY3wRTG4RcXURB1Nd1pg9A/wC3\n",
       "fnWmPOdHvL5Pq8QoomjLoiQcOaj/QxgC7a1TQ+PbLBAkw8Qmr78nJzVJ1yhZRZyNCBcjuxtW0XTc\n",
       "lC95cuNaHs/S94I6lqAv8+QrsIwfot3gdlzn+i1vn4yGyqts0fW/1XKoP/+QNrwh18tWqGQIAlMB\n",
       "PRc1hl3ROqB/74+pECUeYqRtl2ZPMv6ORbsejA2sDF0VX/oGOhJgY8iskINZwof/RB8RAprYuzOb\n",
       "SlPGlMe11oCUCx1Q7FwhWYtwAcXCRgxBWMvaxWfomTowmWvG9vfO8Fw7Pjv1qZ6sp6eAsJkSHSQu\n",
       "bchx1xT0US2oCCfrV9XzUAispDJC6mdD2SO0c4Y8zF6d+kEEAfqioUVCetbtfWY4UZLg6mqlGc27\n",
       "F7KSIAQZI9SP+pRpW/xd3oejF7fUWxgHNon0+k+K+Iceyv231/L0EJxyXVCWCwdVdz0TZSwavR0e\n",
       "iSfYhTQWsmByK6CyETGbFKu4Ricr+5IBi6ANrHJWjVCK4YgrZlt0R5J4j0BGuEhgSmOe6i44XmjR\n",
       "+zcHrr01+c2fukoO+BHCvbjeBQ7jeAneFcOP3+h+NfpAcSpxKvWdsFoOmDAQuJiluOqrGwyx0JP1\n",
       "UQ6yub47RM2wGeJ6nGqg8rewg38RscwTWA8Yx2b81u3XNsrTXvXK6vgaMVsrCJLiotSoXflU14g6\n",
       "XePN0JBnId98P8q57YmHp4B3IIQfOJzyf6aqQ6Rt3sq23co3wvJqADDpYjR9ogYwohiF07ULM0is\n",
       "lY4Le6/ijZdT1pbMlKE4e/5C2HyfVtiNPNpqdRr2MUv7yQfRWL1JYVEFsxac4gY6nVHSLMdFN94I\n",
       "N9WP/nPJ8R/KeK9bkRRkgAiA62a30/0TRhpK/rhUrHfRytrgciUPeVZxaFA2gakrbvrWB9uId2Tj\n",
       "9mlrtpLgQpiX3u4Tf6T0j0Vrk2mZzPbesTbaX0OABa3ixGRFa/rdwaSMOrMSYKSbZyBxsKGdV4vu\n",
       "DD4/xJfD/SpRyRYX/xoeq3zwtkgwmWyf2ev6YF5D0dX2HXfx03P3Ox+v7EpwLcdKDtA0L3Xb6TY8\n",
       "0VTi6WqFtbIYT3KB5/6+eXw70nALPW5diJPc+99MIAAAAwAAAwB2whwb+aesuMDudIA7QCocRIU2\n",
       "peMvOY1B2cNZmHqTz8F/+XfZ7ecvBMblLT1d9OCaiQVTAJ2aIbyWv13m3lTbUy6Xn7Gh3qcZwVgg\n",
       "3+STAgN8xC4SXUBU9RabZ9q0pxcu8afgnPzY5xblRHsmI+atVAFCvU8Qmtc+iVJn9AwnWbbZ0v2x\n",
       "bsnzhLXlMtoLHg9JNFHQfCt/r7ei/Apniszi72Xnm8LLL1Ar29DhtKcc1VE5gc6WwSW6TS+PSHSm\n",
       "JK+3euFbp67zSv50c/Foa1b5gGzpL0WCeiRHZ2z9EF8PAAADAAADAAylUeVRs6HKuKXdU0vcqLXa\n",
       "uxRTGTPR2OrYwj+/e0cLMxAvI06MjYFizgOowsInwKrI40dNz6Fa1jFCtygCcE2vsvXdpr7N1CM7\n",
       "CcVGcM8/d8UD/7BlsKrCyAeCz6s6EAxwsqmMh3XAx/VrJC6qvgCmtHZe1nVztac5DHINgCJRk2hQ\n",
       "fbpMUIkI9NwG1atLhl1Qq7wk6ZSqpLdCt58J3pVXAntsu6Q0AAQ3AAADAARaJVm1lvsbyVqtECDs\n",
       "PHhWe+M9qsFAW4/rnE1yX4NJ26b71zPOcLyzLvbcLjsPkgwlXI8bc5yo1jt5I2gkcfe3+Xf1KxWz\n",
       "SsNR8qnFdcZ75jQAGHJyS7mC9C4WWmuiX5gDlZ3XbO1qruBP29GolKJ/dAln6kEVYAHPF9CvWcsM\n",
       "d9MgPy/GQYv0Ey8pbFGv4kwDke/4Df/tKnVP83IvfyIasp7/x2h8e9yAgn9c6N9K3+tLf16PIIJT\n",
       "Wx+QG3MxokfEP4XcAlp4k1db1WPfSdhPh6NY4xNijaEykAVUwdeL529cAoIGDEd+BCj5gDGs2E0n\n",
       "a3QLAAADAAADABKvxOHhy7rJwsY+nufaH8NAMW721255HmgwoEIvZSdABl7I89n6llhOZ9ENwW6Z\n",
       "ZeP9cnHGkvpWXuLeYUwsZ9maVVYkQrY8TnvXjHWtMWeksbEp36y6BQuTq9h7+/BwJUSfMHe+absq\n",
       "a0lCq3L5FIBFwmlH83Gm8wvu7L+UcSzBEQnf4GbA+uuepU6B0EQjoIMvGLuWsvmUUF7urrIjF40L\n",
       "gxF2MVbqlUZRmOzHLWzEQHx0mhXaLYHjs2BzTDjy5ePaMoDPXOcx2O7lwpsNoljGnXOZvQLePKB1\n",
       "1v/QSBSyVH5Rydy3GjE4GwZdsn+VXT2MMxlLfLfXETZOUTqZ9IRkT6ZxOgrXNt+R95huAt3uQoPM\n",
       "OJsx06BWARwfLbEOd7ffvCkTAHRq+fWlc8oE8NkO2oWJf//fR4jSqs0mS1lNK+s6uTQ4YrMyXpYS\n",
       "maME+pNe7tO4ZgPRRcRGFlFXgnpGoTLWEI09xuStGekqOc6i9ySveiWkElPpvh4uu9KghxJG6SWI\n",
       "FXjrDdX+B6cgE0UhEVSMsu+stb+/Wc7DTOPs21Irn+Qo3AwRjQkh7vCgL0QvgLEwBDjAGGcpO9BI\n",
       "+fXRMEKKHvljLZJb6uzGCszPMaa4iPitGstTH+CbUjRL8vcOEQTOXvybJlyMH7Z2uOza/5iI3VyJ\n",
       "wYKcAKjByo9zv6O8pQciiy8O0Qz2OgWPD/5lTU+h2+dQ80iAUjZmjs8GlFrsrpuHIA629K5RFsu2\n",
       "iWqkssY/qoYi3DseXP+krQXaRdI1srICAyDeVV43LJ/KIxSIOA5liacO0fozXzAAAFUwObdJJkOs\n",
       "G5qtox5vT3WzafhupP/yuefm2ymfm3en3ADtTrlJRdj8bR04Z+OOK411cHYd231nEjb7Sytt5Y2B\n",
       "8hfvkQID+njpJ70LNTDSNaicdimlFtr6itjAjSIRO9IZwgf8Z6TKheuDKhMR9YuwCyDTiafwN6kw\n",
       "ksZ6aFxIqfR/mWHFitjLmt2RBoWmcvPWlnFIfCGx/Qzt7jdKBPO+40gaMu/GH3ivKhNPKRsrXlD5\n",
       "LgZJu7Tun8JgYGoWnLIjC06OAKtpid+s9MtkOnzW2d0Lv/6mdXawq601HimlcZoayDwlqdYWKrm/\n",
       "rURI3YbLlKCNOVWRJwhUsnOu6udSTwynw80Z4SdpCdMV59NY1eG1kVW/5rZrsfFDj5GKNzVFXZo1\n",
       "ed1+XZJUwDv+D4cItSAHZLSFxwEm0Wwe3czOgzZX7Bj0cngSL4wceyeLPrO5UP8poERVd62+Mzr/\n",
       "6V2NuD8ZVAVnSfH/kf2X6GMyqzqXYPHgzG/0V15LUBoeEN5GWbo9pOAhtfsTyjWof0+o0Jh7VDHH\n",
       "ieDDjJTITtziGICu8T4YxZtWCPr4KQr3P9ozTkGLSkHouizqHOdFHsaltB5DfLVHOnpdDh/FMj8V\n",
       "3r5szOVmeH0VFCqRY+SnFsG4y/knDMb/N7fpGO7QhzE2xtQGDru/+1WG26U9G5z+70gCi5Hh2PmX\n",
       "HT7DQfNiiiAEfqGkHQ28K5c882pKq2TWfPvdFEFqQJhZBLYuPmeoHcUQh/wxNIz36MqYcO/j5NAg\n",
       "T2VE1a4i7wmkkUHcjUfod6sThiP3H90fYHmywd5U7g3nvkSVDl93eQqOY1W5s1oubV/UCpltb+L5\n",
       "/he7w2yqWcFEokoJKTBuKWgBO7iBSAFOJb3riOneoovUgRkOP7ZI/Mcu94H3V8ZKyfz+DcaqBU6S\n",
       "X1BocLDrx1rUF2w0ME+o6BNNqdO8OArlVsr7po+SCESHGJEaddt2muE59+XI1cnxMaW1eBf5oLgM\n",
       "MdLCITo9s1it7+9OSW9ljbD+oL9MJ+zaBuOYXNS664Yj+CqR8R4cWOz/P2YioHNVcK0XcBW4m2v9\n",
       "/Fr943uXYshShWyJA05KryElIxWHz1t7s73+853Vt5vt4lWAb0/9NpeFhZo+PW5Q7qzR90SodA6Z\n",
       "skItp0Lv8/LUyEnZqg3Jf7xgvXpiJ5tP/rc4GYsdYzENvUqR24t1oOqCtwv3DEOUHc46g826f2aM\n",
       "DRk24rtCLpg5TuKutnSHJJY8StGkZphbCDEURl2XYwTP0rxBrBRDSrsgMm3/c3VaqJLexjfquMV3\n",
       "Veb8qfwVD5cqGaMKygWl2+shnz8FL3ye/C2k5udV+PG1OWErOf72auuBklxDvtGt40d+/ozb+3hx\n",
       "6kFLXRdCODSS+z/A8Jjy8iszucTiQgbwDSJiNv2qaoidpjPyRwPIlW5IK/hBFSLhiqWDFW3xG3FF\n",
       "+pdHj4/XhrDgAAADAAADAAAUMQAAACJBmiRsQW/+1qVQAAADAAADAAADAAAspb0AAVMsMqNnHBM+\n",
       "AAAAFkGeQniCfwAAAwAAAwAAAwAAAwAAKaEAAAAWAZ5hdEEvAAADAAADAAADAAADAAA9IAAAABYB\n",
       "nmNqQS8AAAMAAAMAAAMAAAMAAD0hAAACzkGaaEmoQWiZTAgt//7WpVAAAAMAACEOSa+vkuN6XsdY\n",
       "/WWx041/fxsMIBAdo0uvFCN31Vtij6oCXiiOVa1CnfQA1eN9uxHTBTu8F5F7UB/LwWuAiqs+CMyI\n",
       "uvPp5+j3XqGC1+wAjoWe7EHPOzhDtedHsiuU0EOhFa2EXSfuarbnyxBtmkqqXFg4Tpag+adb8AkF\n",
       "COHSzk0GvJF/RG9BbUhr2IAV/X+pxkF8RI8QNzg+YaU70sQjUkiCTMQDasrWZfcjlCYNlORstc61\n",
       "+3CkltyBApNwsWqRqsBBsziNAYw3yTwJlODr0HMTLpua5HJ+p+bEPEMtV0I7FXnCnuelhJT5Kmzj\n",
       "pIuHdLQaIgeO+Za8ME89dhpOhB+1Nzc7VSkmrLZznuY0+jKag0jf4pMqppbyxq5jE39XjCn/D8Jv\n",
       "fgRtdZPjvU3xBNe0scN5vBMzrr1wwWWDX3PMnuG0OorE0o+gITsOKKSQx2LBOwzWniA140BRLO9K\n",
       "+onsQqZ8Elu0Curk1cG8G0+sQXRP/08wq23zzWTAAtwRV3aX+kwlOdnyTC3au8ORYVKsibvhOGAW\n",
       "7BrMh46gKPDvfT9lxR+E+S5DZ1zEYbyveVatU1uDs6QoGW+J40LG5yuRD3UKF+d3CCQyvNB9yvAv\n",
       "5DHFL/IOOjX5yX3h7iPs8gYRhPkW1PywsryFzpjN91YFdQxf9dp6amr07t40yGztdFwR7Z/qJPj5\n",
       "/iEsY4h/t1wrUPix1+XO45Rr5qgp4IEf9teNXN85oxOp6iY/Cpb3P92Ud0JOCgWtrNdK3le0y3Pl\n",
       "q8AzYF9wbs2wwo3yAyP+C/xdFat1PPs7nJX75QPICQe60Xt2DB8sCbLCcZMa+IV6fGI/Nf9V8wgJ\n",
       "hfWXJ9EfCumzXnfnrCi9CFO9hLaIAmAdlFF/cVGBhd9nXZWsJiLJba+P4+u54YHiNZi6m48AAAMA\n",
       "FJEAAABjQZ6GRREsE/8AAAMAAAMAVukl75zyFtwAbOBllCpv2eaUOQwGRFHljZMIRol6OzqPDs8U\n",
       "NLU1QNuW1jj8TPt5HFbWXkT+8ZQxUVaIKll+SaEg4vRykurKCBTssmAjAAADAAqZAAAAIAGepXRB\n",
       "LwAAAwAAAwB8Gy77iDtR4TXlADDWAAADAAh5AAAAIQGep2pBLwAAAwAAAwB+3Jdfuq2Q84jRq3Xv\n",
       "NgAAAwAIeAAAAB9BmqxJqEFsmUwILf/+1qVQAAADAAADAAADAAADAA+4AAAAGEGeykUVLBP/AAAD\n",
       "AAADAAADAAADAAApoQAAABYBnul0QS8AAAMAAAMAAAMAAAMAAD0gAAAAFgGe62pBLwAAAwAAAwAA\n",
       "AwAAAwAAPSAAAAK0QZrwSahBbJlMCC3//talUAAAAwAAIQrvncOYAfSlJ7EQCVPOj+r1I/qVXWsM\n",
       "ETkz0FzeF6EdF4X+4W67AGCh4YDsNoQZa1ugzNznxRKYYMk2Lft9MzCsTWEk6sU1I/VEEsLxHuOp\n",
       "cFi8naaX55rKXLez/Uxw+qETstECZtxvlSelQvLOpumPxD23LZcFtOK45Y8aryY7VbMUPgMad+Td\n",
       "Razkbdp+VOvJ2Wa5VSke8Ih7AcV6ZBpwu0mNftd3a6Dx8jdLizN95rgbvk2NMfUOoBDrlj5g0Rmy\n",
       "k/JWsAv2Bo5Ng01KhMh/TpUdVyXxrIEcDwj95llQ50Uj0KSMc5BQ3Qxm6SUoB+JCJy/pc/dszP7/\n",
       "HIea/IyPnPdu1yC+EyV3GyzF0jxkKXKWXl88dVdDHlDAVp4rwK78oBub96lWq//a6WiAXsoXA5HZ\n",
       "yXPtsNYQqpa4H7ngQGtJ26n6JokaGcagkewilO+7T845DLnrT6JwATWScX8e9K8w+KOuAntv33ZV\n",
       "o98UdFqAYvdDFF61H0aPcMBWhukqtaqftpfGYDDxyjR+NM3CsdBbxYGhx1imYvVOk0W7oXGr1/jS\n",
       "Nz6Kzm2LWroOrX+0ONQBKZX+Q4pzN3ZXohaqsEPoLyJzoTkonrxgbVqQxD9I7DLwygELrlWwX1Zj\n",
       "yM+Rfcy7vFDaj94YWG1T+dyE/0/EdarUS+ORoEgh0c8JM8Hmg6WCUOEe83PEDwlO+MnsFggtOHF0\n",
       "+DhjOHy8yGYZHfpBRHZZh287a7qOnjmq8mmquvAhaUfNhpwTBJ8+E9uxvYrE429EHiAVQc+Ai2kx\n",
       "/o9eKI84h5hr9IqpTrEAvjl0xNBp78putI5BvhRE2fhaD9IMgr3DTmbUvzuDS6aSoQK2dWBjkDKu\n",
       "OVEsbpBwSXFcyUyfjhIAAAMAFDEAAAB6QZ8ORRUsE/8AAAMAAAMAVun6+bt3/pwgFQAXU4rJAOUX\n",
       "OKV6cL3Mr8byNHToe1VwTmFheTTkw+K86AZ7qy3G9xml0md6k7Auu6MNRMB32/L17GMF3075oNyu\n",
       "XysgoRQFtNOm+dWC7c0dT/DGTYM2NgUYCjAAAAMAqYEAAAAkAZ8tdEEvAAADAAADAH7Upkwmwmnn\n",
       "sadXN6tSyIAOAAADAMeBAAAAIgGfL2pBLwAAAwAAAwB+3Jdfuq2Q84jRq3XveR6rgAAADWgAAAFV\n",
       "QZs0SahBbJlMCCv//talUAAAAwAAIQ995hAVEZIECMC9wQ0t+rp3T75Ttj/g2lb3maeBKq9TupGM\n",
       "BvegDuKBH+Iu3xj5ICVZuCGjz+Ip9hsTCSqud1P18S30aGpdGkKl7xq+UPpKcRd4cskkdPM+GaQO\n",
       "z+rO07nLq8dMfESN40Xp64p64ThMo5Pm2q57N85RkdUP7AZ02CwhGQKyPn4hP7aw5aR8qOrmpGZl\n",
       "s1JnYD/pTR/ziT2wF5tBE3ZboljgnyMxvVbsvRkCB9an82lIcHcRpnupoTaPBpBAWL2f7N9+p3QR\n",
       "NliTnOu4Lxkx8nz+NM38UDYGV3+3NobTQq8n0VW6Htg7iPSkyIUaVYz1xLnPAxvPd1qjUIvaOgcu\n",
       "uAOQAJdRmnq3N/Li+X5FTicNjYsCHI9NzAVUzFnvAc9IrEUNE3lAiepmwTbmM6HHgjSgAAADAQ8A\n",
       "AAArQZ9SRRUsE/8AAAMAAAMAVukneNITsnnmkQ6z6d4VMS7AchOWXOnAAAAbMQAAABYBn3F0QS8A\n",
       "AAMAAAMAAAMAAAMAAD0gAAAAKQGfc2pBLwAAAwAAAwB+3Jdfuq2Q84jRpWnBaKklP6xN56cYAAAD\n",
       "ACbgAAABtEGbeEmoQWyZTAgr//7WpVAAAAMAACEOZ6KAFB2y0q4wMTRQBLpj3rDb9jyGWMoUGGrX\n",
       "/zLRc/gXNc9zm+nr6rHJyof2WJvM3AT3X8HeaR5+WVqfbXp0jOb4zuLtzEzf1Xp+BAtwFczK9qSr\n",
       "ywQEjrk82chy2XEIPHWfY7Gx3nB6pkCR+zybNwj4wc1pLVRi6H/5VlikMH06i7MyAlVpzXEaeOXX\n",
       "k2Lx5lZIL3+p2iWcTjXSy9Jl6YC/jAZ8ACx6bkB65EMBmv6Ppj/uM5q2GgeqqfQ4rsg1OCk+3KSz\n",
       "Hyi4wUuwEti/d7M+8+C8IybRQmeky9M3arq2+eYM/WWh6VyzTaEeUJVctFefqY36Ak2SSCFAYbBo\n",
       "pE5Afu0HqfA2TlJ4CGLwOBcfoByIUlX5+F+Zh6m9WR+5Ls6gsibCpXNg4hrFT0kCRdDpgY9MBGLH\n",
       "/gsNbmjCLSJdOF/RX5Gl4aeCShOX3fpOluWKn8+A5FwRtnkQDaiUfKCiXuXZhnt91efkOf/L5yiE\n",
       "3SB/K0jbjp45/+OxJDr2ccFfK0sJP9yuS2wpflES2jEq+zaHjcJAAAADAocAAAAkQZ+WRRUsE/8A\n",
       "AAMAAAMAVukneNITsnnmkQ6z6daQAAADANuAAAAAFgGftXRBLwAAAwAAAwAAAwAAAwAAPSEAAAAh\n",
       "AZ+3akEvAAADAAADAH7cl1+6rZDziNGlacBYAAADACHhAAAAtkGbvEmoQWyZTAgn//61KoAAAAMA\n",
       "AQBO/+8ANW9qeUvK9SGaP2brU5tBx6P/KOU8P2BA6GXD+GB7YiV1/mc0FsrV+mlqA2u2uT7MsfKW\n",
       "xcpAGK99xsiCuBd0JbFPUu52GMFgsnlJNEVo0IzVag42RlQK15m4jD1k8ZWMlk70QTixRiS9GA+q\n",
       "xo3/DcL1xlj7TrvUxUjFbaGByq9QvTJ/xSwY7bxAlMGblY2wdtvdIfiUAAADAFJAAAAAJkGf2kUV\n",
       "LBP/AAADAAADAFbpJ3jSE7J55pEOs+nd9PknAAADAGzBAAAAFgGf+XRBLwAAAwAAAwAAAwAAAwAA\n",
       "PSAAAAAhAZ/7akEvAAADAAADAH7S/OxwLp7VNrNhHtW+OAAAAwH/AAAAH0Gb/UmoQWyZTAgl//61\n",
       "KoAAAAMAAAMAAAMAAAMAesEAAASXbW9vdgAAAGxtdmhkAAAAAAAAAAAAAAAAAAAD6AAALuAAAQAA\n",
       "AQAAAAAAAAAAAAAAAAEAAAAAAAAAAAAAAAAAAAABAAAAAAAAAAAAAAAAAABAAAAAAAAAAAAAAAAA\n",
       "AAAAAAAAAAAAAAAAAAAAAAAAAgAAA8F0cmFrAAAAXHRraGQAAAADAAAAAAAAAAAAAAABAAAAAAAA\n",
       "LuAAAAAAAAAAAAAAAAAAAAAAAAEAAAAAAAAAAAAAAAAAAAABAAAAAAAAAAAAAAAAAABAAAAAA2AA\n",
       "AAJAAAAAAAAkZWR0cwAAABxlbHN0AAAAAAAAAAEAAC7gAAAgAAABAAAAAAM5bWRpYQAAACBtZGhk\n",
       "AAAAAAAAAAAAAAAAAAAoAAAB4ABVxAAAAAAALWhkbHIAAAAAAAAAAHZpZGUAAAAAAAAAAAAAAABW\n",
       "aWRlb0hhbmRsZXIAAAAC5G1pbmYAAAAUdm1oZAAAAAEAAAAAAAAAAAAAACRkaW5mAAAAHGRyZWYA\n",
       "AAAAAAAAAQAAAAx1cmwgAAAAAQAAAqRzdGJsAAAAtHN0c2QAAAAAAAAAAQAAAKRhdmMxAAAAAAAA\n",
       "AAEAAAAAAAAAAAAAAAAAAAAAA2ACQABIAAAASAAAAAAAAAABAAAAAAAAAAAAAAAAAAAAAAAAAAAA\n",
       "AAAAAAAAAAAAAAAAGP//AAAAMmF2Y0MBZAAf/+EAGWdkAB+s2UDYEmhAAAADAIAAAAMCg8YMZYAB\n",
       "AAZo6+PLIsAAAAAcdXVpZGtoQPJfJE/FujmlG88DI/MAAAAAAAAAGHN0dHMAAAAAAAAAAQAAAB4A\n",
       "ABAAAAAAFHN0c3MAAAAAAAAAAQAAAAEAAAEAY3R0cwAAAAAAAAAeAAAAAQAAIAAAAAABAABQAAAA\n",
       "AAEAACAAAAAAAQAAAAAAAAABAAAQAAAAAAEAAFAAAAAAAQAAIAAAAAABAAAAAAAAAAEAABAAAAAA\n",
       "AQAAUAAAAAABAAAgAAAAAAEAAAAAAAAAAQAAEAAAAAABAABQAAAAAAEAACAAAAAAAQAAAAAAAAAB\n",
       "AAAQAAAAAAEAAFAAAAAAAQAAIAAAAAABAAAAAAAAAAEAABAAAAAAAQAAUAAAAAABAAAgAAAAAAEA\n",
       "AAAAAAAAAQAAEAAAAAABAABQAAAAAAEAACAAAAAAAQAAAAAAAAABAAAQAAAAAAEAACAAAAAAHHN0\n",
       "c2MAAAAAAAAAAQAAAAEAAAAeAAAAAQAAAIxzdHN6AAAAAAAAAAAAAAAeAAAbvAAAACYAAAAaAAAA\n",
       "GgAAABoAAALSAAAAZwAAACQAAAAlAAAAIwAAABwAAAAaAAAAGgAAArgAAAB+AAAAKAAAACYAAAFZ\n",
       "AAAALwAAABoAAAAtAAABuAAAACgAAAAaAAAAJQAAALoAAAAqAAAAGgAAACUAAAAjAAAAFHN0Y28A\n",
       "AAAAAAAAAQAAACwAAABidWR0YQAAAFptZXRhAAAAAAAAACFoZGxyAAAAAAAAAABtZGlyYXBwbAAA\n",
       "AAAAAAAAAAAAAC1pbHN0AAAAJal0b28AAAAdZGF0YQAAAAEAAAAATGF2ZjU4LjI5LjEwMA==\n",
       "\">\n",
       "  Your browser does not support the video tag.\n",
       "</video>"
      ],
      "text/plain": [
       "<IPython.core.display.HTML object>"
      ]
     },
     "execution_count": 5,
     "metadata": {},
     "output_type": "execute_result"
    }
   ],
   "source": [
    "HTML(ani.to_html5_video())"
   ]
  },
  {
   "cell_type": "code",
   "execution_count": 9,
   "metadata": {},
   "outputs": [
    {
     "data": {
      "text/html": [
       "<div>\n",
       "<style scoped>\n",
       "    .dataframe tbody tr th:only-of-type {\n",
       "        vertical-align: middle;\n",
       "    }\n",
       "\n",
       "    .dataframe tbody tr th {\n",
       "        vertical-align: top;\n",
       "    }\n",
       "\n",
       "    .dataframe thead th {\n",
       "        text-align: right;\n",
       "    }\n",
       "</style>\n",
       "<table border=\"1\" class=\"dataframe\">\n",
       "  <thead>\n",
       "    <tr style=\"text-align: right;\">\n",
       "      <th></th>\n",
       "      <th>Descriptive Feedback from Social Partner</th>\n",
       "    </tr>\n",
       "  </thead>\n",
       "  <tbody>\n",
       "    <tr>\n",
       "      <th>0</th>\n",
       "      <td>Go left</td>\n",
       "    </tr>\n",
       "    <tr>\n",
       "      <th>1</th>\n",
       "      <td>Go top</td>\n",
       "    </tr>\n",
       "    <tr>\n",
       "      <th>2</th>\n",
       "      <td>Go center</td>\n",
       "    </tr>\n",
       "    <tr>\n",
       "      <th>3</th>\n",
       "      <td>Grasp blue living_thing</td>\n",
       "    </tr>\n",
       "    <tr>\n",
       "      <th>4</th>\n",
       "      <td>Grasp blue lion</td>\n",
       "    </tr>\n",
       "    <tr>\n",
       "      <th>5</th>\n",
       "      <td>Grasp any blue thing</td>\n",
       "    </tr>\n",
       "    <tr>\n",
       "      <th>6</th>\n",
       "      <td>Grasp any living_thing</td>\n",
       "    </tr>\n",
       "    <tr>\n",
       "      <th>7</th>\n",
       "      <td>Grasp any lion</td>\n",
       "    </tr>\n",
       "  </tbody>\n",
       "</table>\n",
       "</div>"
      ],
      "text/plain": [
       "  Descriptive Feedback from Social Partner\n",
       "0                                  Go left\n",
       "1                                   Go top\n",
       "2                                Go center\n",
       "3                  Grasp blue living_thing\n",
       "4                          Grasp blue lion\n",
       "5                     Grasp any blue thing\n",
       "6                   Grasp any living_thing\n",
       "7                           Grasp any lion"
      ]
     },
     "execution_count": 9,
     "metadata": {},
     "output_type": "execute_result"
    }
   ],
   "source": [
    "from src.imagine.social_partner import SocialPartner\n",
    "oracle_reward_function = config.get_oracle_reward_function(goal_sampler, params)\n",
    "social_partner = SocialPartner(oracle_reward_function=oracle_reward_function,\n",
    "                                   feedback_strategy='exhaustive', p_availability=1.,\n",
    "                                   params=params)\n",
    "\n",
    "exhaustive_feedback = pd.DataFrame(social_partner.get_feedback([episode])[0][0], columns=['Descriptive Feedback from Social Partner'])\n",
    "exhaustive_feedback"
   ]
  },
  {
   "cell_type": "code",
   "execution_count": 10,
   "metadata": {},
   "outputs": [
    {
     "data": {
      "text/html": [
       "<div>\n",
       "<style scoped>\n",
       "    .dataframe tbody tr th:only-of-type {\n",
       "        vertical-align: middle;\n",
       "    }\n",
       "\n",
       "    .dataframe tbody tr th {\n",
       "        vertical-align: top;\n",
       "    }\n",
       "\n",
       "    .dataframe thead th {\n",
       "        text-align: right;\n",
       "    }\n",
       "</style>\n",
       "<table border=\"1\" class=\"dataframe\">\n",
       "  <thead>\n",
       "    <tr style=\"text-align: right;\">\n",
       "      <th></th>\n",
       "      <th>Descriptive Feedback from Social Partner</th>\n",
       "    </tr>\n",
       "  </thead>\n",
       "  <tbody>\n",
       "    <tr>\n",
       "      <th>0</th>\n",
       "      <td>Go left</td>\n",
       "    </tr>\n",
       "    <tr>\n",
       "      <th>1</th>\n",
       "      <td>Go top</td>\n",
       "    </tr>\n",
       "    <tr>\n",
       "      <th>2</th>\n",
       "      <td>Go center</td>\n",
       "    </tr>\n",
       "    <tr>\n",
       "      <th>3</th>\n",
       "      <td>Grasp blue living_thing</td>\n",
       "    </tr>\n",
       "    <tr>\n",
       "      <th>4</th>\n",
       "      <td>Grasp blue lion</td>\n",
       "    </tr>\n",
       "    <tr>\n",
       "      <th>5</th>\n",
       "      <td>Grasp any blue thing</td>\n",
       "    </tr>\n",
       "    <tr>\n",
       "      <th>6</th>\n",
       "      <td>Grasp any living_thing</td>\n",
       "    </tr>\n",
       "    <tr>\n",
       "      <th>7</th>\n",
       "      <td>Grasp any lion</td>\n",
       "    </tr>\n",
       "  </tbody>\n",
       "</table>\n",
       "</div>"
      ],
      "text/plain": [
       "  Descriptive Feedback from Social Partner\n",
       "0                                  Go left\n",
       "1                                   Go top\n",
       "2                                Go center\n",
       "3                  Grasp blue living_thing\n",
       "4                          Grasp blue lion\n",
       "5                     Grasp any blue thing\n",
       "6                   Grasp any living_thing\n",
       "7                           Grasp any lion"
      ]
     },
     "execution_count": 10,
     "metadata": {},
     "output_type": "execute_result"
    }
   ],
   "source": [
    "# Fix this the social partner has no switch between one_pos_one_neg and exhaustive\n",
    "\n",
    "social_partner2 = SocialPartner(oracle_reward_function=oracle_reward_function,\n",
    "                                   feedback_strategy='one_pos_one_neg', p_availability=1.,\n",
    "                                   params=params)\n",
    "\n",
    "one_pos_one_neg_feedback = pd.DataFrame(social_partner2.get_feedback([episode])[0][0], columns=['Descriptive Feedback from Social Partner'])\n",
    "one_pos_one_neg_feedback"
   ]
  },
  {
   "cell_type": "markdown",
   "metadata": {
    "id": "KK5Cfu0ColeQ"
   },
   "source": [
    "### 1.2 The Reward Function Module"
   ]
  },
  {
   "cell_type": "markdown",
   "metadata": {
    "id": "ppouVDJ7tYIY"
   },
   "source": [
    "<img src=\"https://drive.google.com/uc?export=view&id=1-74Gx9PkoPz4DC2gNPkdlSDeQsRVCq5G\" alt=\"drawing\" width=\"700\"/>\n",
    "\n",
    "\n",
    "Explain inference of reward function"
   ]
  },
  {
   "cell_type": "markdown",
   "metadata": {
    "id": "bOyovQwWppfM"
   },
   "source": [
    "Draw a goal description and a scene fulfilling this goal description. Maybe plot the evolution of the probability for each object as a function of time, and the overall probability in black."
   ]
  },
  {
   "cell_type": "code",
   "execution_count": 11,
   "metadata": {
    "id": "Es80gPecozDr"
   },
   "outputs": [
    {
     "data": {
      "image/png": "[encoded data removed]",
      "text/plain": [
       "<Figure size 864x576 with 1 Axes>"
      ]
     },
     "metadata": {
      "needs_background": "light"
     },
     "output_type": "display_data"
    }
   ],
   "source": [
    "fig = plt.imshow(obs)\n",
    "fig.axes.get_xaxis().set_visible(False)\n",
    "fig.axes.get_yaxis().set_visible(False)"
   ]
  },
  {
   "cell_type": "code",
   "execution_count": 12,
   "metadata": {},
   "outputs": [],
   "source": [
    "def compute_reward_probabilities(state, goal_str, reward_language_model, reward_function, env):\n",
    "    goal_encoding = reward_language_model.encode(goal_str)\n",
    "    input_o = torch.tensor(state).float().view(1,len(o))\n",
    "    input_goal = torch.tensor(goal_encoding).float().view(1,len(goal_encoding))\n",
    "    reward_per_object = reward_function.reward_function.compute_logits_before_or(input_o, input_goal)\n",
    "    reward_per_object = [elem.detach()[0][0].item() for elem in reward_per_object]\n",
    "    objects = [obj.object_descr['colors'] + ' ' + obj.object_descr['types'] for obj in env.objects]\n",
    "    d = {'Objects':objects, 'Reward':reward_per_object}\n",
    "    df_rew = pd.DataFrame(d)\n",
    "    return df_rew\n",
    "\n",
    "def generate_other_possible_goal(goal_str, env):\n",
    "    objects = [obj.object_descr['colors'] + ' ' + obj.object_descr['types'] for obj in env.objects]\n",
    "    other_objects = [o for o in objects if o not in goal_str]\n",
    "    return ' '.join(random.sample(['Grow', 'Grasp'], 1) + random.sample(other_objects, 1))"
   ]
  },
  {
   "cell_type": "code",
   "execution_count": 20,
   "metadata": {},
   "outputs": [
    {
     "name": "stdout",
     "output_type": "stream",
     "text": [
      "Grow green parrot\n"
     ]
    }
   ],
   "source": [
    "other_goal_str = generate_other_possible_goal(goal_str,env)\n",
    "print(other_goal_str)"
   ]
  },
  {
   "cell_type": "markdown",
   "metadata": {},
   "source": [
    "\n",
    "Explain that we scan the reward per object for:\n",
    "\n",
    "1. the achieved goal\n",
    "2. another feasible goal considering the scene which is not achieved\n",
    "\n",
    "Discuss the probabilities\n",
    "\n"
   ]
  },
  {
   "cell_type": "code",
   "execution_count": 19,
   "metadata": {},
   "outputs": [
    {
     "data": {
      "image/png": "[encoded data removed]",
      "text/plain": [
       "<Figure size 1152x504 with 2 Axes>"
      ]
     },
     "metadata": {
      "needs_background": "light"
     },
     "output_type": "display_data"
    }
   ],
   "source": [
    "df_rew1 = compute_reward_probabilities(o, goal_str, reward_language_model, reward_function, env)\n",
    "df_rew2 = compute_reward_probabilities(o, other_goal_str, reward_language_model, reward_function, env)\n",
    "\n",
    "f, axes = plt.subplots(1, 2, figsize=(16, 7), sharex=True)\n",
    "sns.despine(left=True)\n",
    "sns.barplot(x=\"Objects\", y=\"Reward\", data=df_rew1, ax=axes[0]).set_title(goal_str)\n",
    "for index, row in df_rew1.iterrows():\n",
    "    axes[0].text(row.name,row.Reward, row.Reward, color='black', ha=\"center\")\n",
    "    \n",
    "sns.despine(left=True)\n",
    "sns.barplot(x=\"Objects\", y=\"Reward\", data=df_rew2, ax=axes[1]).set_title(other_goal_str)\n",
    "for index, row in df_rew2.iterrows():\n",
    "    axes[1].text(row.name,row.Reward, row.Reward, color='black', ha=\"center\")\n"
   ]
  },
  {
   "cell_type": "markdown",
   "metadata": {
    "id": "O4MS1YhKpxAF"
   },
   "source": [
    "Explain intuition behind reward function architecture"
   ]
  },
  {
   "cell_type": "code",
   "execution_count": 36,
   "metadata": {},
   "outputs": [
    {
     "data": {
      "text/plain": [
       "13.95"
      ]
     },
     "execution_count": 36,
     "metadata": {},
     "output_type": "execute_result"
    }
   ],
   "source": [
    "float(\"{:.2f}\".format(13.949999999999999))"
   ]
  },
  {
   "cell_type": "code",
   "execution_count": 20,
   "metadata": {},
   "outputs": [
    {
     "data": {
      "text/plain": [
       "torch.Size([1, 240])"
      ]
     },
     "execution_count": 20,
     "metadata": {},
     "output_type": "execute_result"
    }
   ],
   "source": [
    "torch.tensor(o).view([1,len(o)]).shape"
   ]
  },
  {
   "cell_type": "code",
   "execution_count": 3,
   "metadata": {
    "id": "OPjdOPCNpvz-"
   },
   "outputs": [],
   "source": [
    "# Load a pretrained reward function\n",
    "# Use reward function in inference\n",
    "# Show results of reward function before or (object specific rewards)\n",
    "# Show results of reward function "
   ]
  },
  {
   "cell_type": "markdown",
   "metadata": {
    "id": "5p-Lt8Bh1yGp"
   },
   "source": [
    "### 1.3 The Policy Module"
   ]
  },
  {
   "cell_type": "markdown",
   "metadata": {
    "id": "022mfhNz77IC"
   },
   "source": [
    "Dunno yet what we can show here. Maybe just a run towards a goal, and maybe the evolution of the norm of the signal before the deepset aggregation (showing the norm of the module handling the relevant object is higher).\n"
   ]
  },
  {
   "cell_type": "code",
   "execution_count": null,
   "metadata": {
    "id": "T_-ihcP72E9e"
   },
   "outputs": [],
   "source": [
    "# Dunno yet what we can show here. Maybe just a run towards a goal, and maybe the evolution of the norm of the signal before the deepset aggregation (showing the norm of the module handling the objects )"
   ]
  },
  {
   "cell_type": "markdown",
   "metadata": {
    "id": "UTRu83rCpDsh"
   },
   "source": [
    "### 1.4 The Goal Imagination Module"
   ]
  },
  {
   "cell_type": "code",
   "execution_count": null,
   "metadata": {
    "id": "ab-EDf1Gt8hG"
   },
   "outputs": [],
   "source": [
    "# Show the set of imagined goal generated from a subset of known goals"
   ]
  },
  {
   "cell_type": "markdown",
   "metadata": {
    "id": "JCTxPAQd2JO_"
   },
   "source": [
    "## 2. How to train IMAGINE\n",
    "\n",
    "------------"
   ]
  },
  {
   "cell_type": "code",
   "execution_count": null,
   "metadata": {
    "id": "H7oGU_JD2Ko-"
   },
   "outputs": [],
   "source": [
    "# Insert train script here"
   ]
  },
  {
   "cell_type": "markdown",
   "metadata": {
    "id": "T3njuS192W5V"
   },
   "source": [
    "## 3. Examples of Generalization"
   ]
  },
  {
   "cell_type": "code",
   "execution_count": null,
   "metadata": {
    "id": "8l8oiTCC2ZxC"
   },
   "outputs": [],
   "source": [
    "# Enter goal here"
   ]
  },
  {
   "cell_type": "code",
   "execution_count": null,
   "metadata": {
    "id": "7kZ1_h2J2bOO"
   },
   "outputs": [],
   "source": [
    "# Load pretrained model and generate rollout here"
   ]
  },
  {
   "cell_type": "markdown",
   "metadata": {
    "id": "GdxUhwT82iOX"
   },
   "source": [
    "## 4.  Vizualization"
   ]
  },
  {
   "cell_type": "code",
   "execution_count": null,
   "metadata": {
    "id": "LdmD7YIw2jaI"
   },
   "outputs": [],
   "source": [
    "# Insert cool vizualization of attention vectors here"
   ]
  },
  {
   "cell_type": "code",
   "execution_count": null,
   "metadata": {
    "id": "aXrlM4Gg2nQY"
   },
   "outputs": [],
   "source": [
    "# Insert interactive viz of t-sne goals here"
   ]
  },
  {
   "cell_type": "code",
   "execution_count": null,
   "metadata": {
    "id": "1OhwwDSJ2qGg"
   },
   "outputs": [],
   "source": []
  }
 ],
 "metadata": {
  "colab": {
   "collapsed_sections": [],
   "name": "IMAGINE.ipynb",
   "provenance": [],
   "toc_visible": true
  },
  "kernelspec": {
   "display_name": "Python 3",
   "language": "python",
   "name": "python3"
  },
  "language_info": {
   "codemirror_mode": {
    "name": "ipython",
    "version": 3
   },
   "file_extension": ".py",
   "mimetype": "text/x-python",
   "name": "python",
   "nbconvert_exporter": "python",
   "pygments_lexer": "ipython3",
   "version": "3.6.9"
  }
 },
 "nbformat": 4,
 "nbformat_minor": 4
}
