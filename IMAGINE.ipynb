{
 "cells": [
  {
   "cell_type": "markdown",
   "metadata": {
    "id": "IVb1EQw89d7C"
   },
   "source": [
    "# <strong> Language as a Cognitive Tool to Imagine Goals in Curiosity Driven Exploration </strong>\n",
    "\n",
    "--------------------------------------------------------------------------------\n"
   ]
  },
  {
   "cell_type": "markdown",
   "metadata": {
    "id": "awPzJKCs5dmE"
   },
   "source": [
    "Here add general introduction blog-post like with motivations, and illustrate with the schema that shows all modules."
   ]
  },
  {
   "cell_type": "markdown",
   "metadata": {
    "id": "HmGFArOeXvps"
   },
   "source": [
    "Configuring everything:"
   ]
  },
  {
   "cell_type": "code",
   "execution_count": 1,
   "metadata": {
    "colab": {
     "base_uri": "https://localhost:8080/",
     "height": 443
    },
    "id": "Jo7scb9TnVcO",
    "outputId": "304576c4-9ef0-4f0f-9adf-8c742794bfa3"
   },
   "outputs": [],
   "source": [
    "%%capture\n",
    "\n",
    "import numpy as np\n",
    "import torch\n",
    "import random\n",
    "import gym\n",
    "import pygame\n",
    "import matplotlib.pyplot as plt\n",
    "import matplotlib.animation as animation\n",
    "import seaborn as sns\n",
    "import pandas as pd\n",
    "from IPython.display import HTML\n",
    "import os\n",
    "# os.environ['SDL_VIDEODRIVER'] = 'dummy'\n",
    "# os.environ['SDL_AUDIODRIVER'] = 'dummy'\n",
    "from src.imagine.experiment import config\n",
    "from src.imagine.goal_sampler import GoalSampler\n",
    "from src.utils.notebook_utils import get_params_for_notebook, get_modules_for_notebook, generate_animation_reward_module,\\\n",
    "generate_animation_policy_module, plot_tsne\n",
    "\n",
    "\n",
    "path= 'pretrained_weights/'\n",
    "params = get_params_for_notebook(path)\n",
    "policy_language_model, reward_language_model, policy, reward_function, goal_sampler = get_modules_for_notebook(path, params)"
   ]
  },
  {
   "cell_type": "code",
   "execution_count": null,
   "metadata": {},
   "outputs": [],
   "source": [
    "%matplotlib inline\n",
    "from sklearn.manifold import TSNE\n",
    "from ipywidgets import interact\n",
    "code = 'categories'\n",
    " \n",
    "embs = {}\n",
    "for descr in params['train_descriptions']+params['test_descriptions']:\n",
    "    goal_encoding = reward_language_model.encode(descr)\n",
    "  embs[descr]=goal_encoding\n",
    " \n",
    "descr = sorted(list(embs.keys()))\n",
    "embeddings = np.array([embs[d] for d in descr])\n",
    "X_embedded = TSNE(n_components=2,\n",
    "                  perplexity=20,\n",
    "                  n_iter=5000,\n",
    "                  n_iter_without_progress=1000,\n",
    "                  learning_rate=10).fit_transform(embeddings)"
   ]
  },
  {
   "cell_type": "markdown",
   "metadata": {},
   "source": [
    "!!! TODO add packages to yml"
   ]
  },
  {
   "cell_type": "markdown",
   "metadata": {
    "id": "214I7YWy9h98"
   },
   "source": [
    "## 1. IMAGINE under the hood\n",
    "\n",
    "------------------------------------------------\n",
    "\n",
    "### 1.1 The Social Partner Module\n",
    "\n",
    "\n",
    "\n"
   ]
  },
  {
   "cell_type": "markdown",
   "metadata": {
    "id": "3LHg1vnYEIbK"
   },
   "source": [
    "#### 1.1.1 First Role of the Social Partner: Setting up the scene\n",
    "\n",
    "-----------\n",
    "\n",
    "The first role of the Social Partner is to set up the scene so that the goal targeted by the agent can be achieved.\n",
    "\n",
    "It provides the agent with optimal learning opportunities by organizing the scene with:\n",
    "1. The required objects to reach the goal (not too difficult)\n",
    "2. Procedurally-generated distracting objects (not too easy and providing further discovery opportunities)\n",
    "\n",
    "The following lines of code show how scenes are generated according to this assumption:"
   ]
  },
  {
   "cell_type": "code",
   "execution_count": 2,
   "metadata": {
    "id": "32QSAzXwWj1z"
   },
   "outputs": [],
   "source": [
    "# Enter a valid goal description\n",
    "goal_str = 'Grasp blue lion'\n",
    "if goal_str not in (params['train_descriptions'] + params['test_descriptions']):\n",
    "    print('Please enter a feasible goal description.')"
   ]
  },
  {
   "cell_type": "code",
   "execution_count": 3,
   "metadata": {},
   "outputs": [],
   "source": [
    "%%capture\n",
    "fig = plt.figure()\n",
    "ax1= fig.add_subplot(1,2,1)\n",
    "ax2 = fig.add_subplot(1,2,2)\n",
    "ims1 = []\n",
    "actions = []\n",
    "## Rollout of a policy\n",
    "env = gym.make(params['conditions']['env_name'], display=False)\n",
    "env.reset()\n",
    "initial_o = env.unwrapped.reset_with_goal(goal_str)\n",
    "o = initial_o.copy()\n",
    "goal_encoding = policy_language_model.encode(goal_str)\n",
    "episode={'obs':[]}\n",
    "\n",
    "for t in range(50):\n",
    "    action = policy.get_actions(o, goal_encoding)\n",
    "    actions.append(np.mean(action))\n",
    "    o,_,_,_ = env.step(action)\n",
    "    episode['obs'].append(o)\n",
    "    env.render(close=True)\n",
    "    obs = pygame.surfarray.array3d(env.viewer).transpose([1,0,2])\n",
    "    im1 = ax1.imshow(obs, animated=True)\n",
    "    line, = ax2.plot(actions,color='black')\n",
    "    ims1.append([im1, line])\n",
    "    \n",
    "ani1 = animation.ArtistAnimation(fig, ims1, interval=400, blit=False,\n",
    "                                repeat=False)"
   ]
  },
  {
   "cell_type": "code",
   "execution_count": 8,
   "metadata": {},
   "outputs": [
    {
     "data": {
      "text/plain": [
       "[tensor(0.1407, grad_fn=<MeanBackward0>),\n",
       " tensor(0.0137, grad_fn=<MeanBackward0>),\n",
       " tensor(0.0103, grad_fn=<MeanBackward0>)]"
      ]
     },
     "execution_count": 8,
     "metadata": {},
     "output_type": "execute_result"
    }
   ],
   "source": [
    "policy.actor_network.get_norm_per_object(torch.tensor(o).float().view(1,len(o)), torch.tensor(goal_encoding).float().view(1,len(goal_encoding)))"
   ]
  },
  {
   "cell_type": "code",
   "execution_count": 5,
   "metadata": {},
   "outputs": [],
   "source": [
    "%%capture\n",
    "ani = generate_animation_reward_module(env, goal_str, reward_language_model, reward_function, policy)"
   ]
  },
  {
   "cell_type": "code",
   "execution_count": 6,
   "metadata": {},
   "outputs": [
    {
     "data": {
      "text/html": [
       "<video width=\"432\" height=\"288\" controls autoplay>\n",
       "  <source type=\"video/mp4\" src=\"data:video/mp4;base64,AAAAHGZ0eXBNNFYgAAACAGlzb21pc28yYXZjMQAAAAhmcmVlAAAoC21kYXQAAAKfBgX//5vcRem9\n",
       "5tlIt5Ys2CDZI+7veDI2NCAtIGNvcmUgMTU3IC0gSC4yNjQvTVBFRy00IEFWQyBjb2RlYyAtIENv\n",
       "cHlsZWZ0IDIwMDMtMjAxOCAtIGh0dHA6Ly93d3cudmlkZW9sYW4ub3JnL3gyNjQuaHRtbCAtIG9w\n",
       "dGlvbnM6IGNhYmFjPTEgcmVmPTMgZGVibG9jaz0xOjA6MCBhbmFseXNlPTB4MzoweDExMyBtZT1o\n",
       "ZXggc3VibWU9NyBwc3k9MSBwc3lfcmQ9MS4wMDowLjAwIG1peGVkX3JlZj0xIG1lX3JhbmdlPTE2\n",
       "IGNocm9tYV9tZT0xIHRyZWxsaXM9MSA4eDhkY3Q9MSBjcW09MCBkZWFkem9uZT0yMSwxMSBmYXN0\n",
       "X3Bza2lwPTEgY2hyb21hX3FwX29mZnNldD0tMiB0aHJlYWRzPTkgbG9va2FoZWFkX3RocmVhZHM9\n",
       "MSBzbGljZWRfdGhyZWFkcz0wIG5yPTAgZGVjaW1hdGU9MSBpbnRlcmxhY2VkPTAgYmx1cmF5X2Nv\n",
       "bXBhdD0wIGNvbnN0cmFpbmVkX2ludHJhPTAgYmZyYW1lcz0zIGJfcHlyYW1pZD0yIGJfYWRhcHQ9\n",
       "MSBiX2JpYXM9MCBkaXJlY3Q9MSB3ZWlnaHRiPTEgb3Blbl9nb3A9MCB3ZWlnaHRwPTIga2V5aW50\n",
       "PTI1MCBrZXlpbnRfbWluPTIgc2NlbmVjdXQ9NDAgaW50cmFfcmVmcmVzaD0wIHJjX2xvb2thaGVh\n",
       "ZD00MCByYz1jcmYgbWJ0cmVlPTEgY3JmPTIzLjAgcWNvbXA9MC42MCBxcG1pbj0wIHFwbWF4PTY5\n",
       "IHFwc3RlcD00IGlwX3JhdGlvPTEuNDAgYXE9MToxLjAwAIAAABkiZYiEABb//vfTP8yy6/c5teOo\n",
       "96KeJl9DdSUBm5bE7TqAAAADAAZ25c2X2e1BcB9oAAeIB9+xJd1r2UjgAJ2Ag9CDx43XNfuuN6+w\n",
       "WGznWGGf0ecCwAG7Yzj4X/3jjTXXx3mZMsyFaxN9UdCmM1fiWY57uNArnejOFwx1MfESFu+if2IU\n",
       "2gjNDuT/rySwluLzMx9T2n5jSicHv9y3MdFm11Wxze7NsKshLqUaU6r9QD2KzkLa4dYzZazzQPuK\n",
       "+8dtLYrIUbeCFWSx+rtxCnR9sjk2hxSovyS82CSyfqtToJrOhaEXTgg+poT7LJF9VIU4auejOtiZ\n",
       "SM1wxa+yXS1UxyoYsHVRZIzm8fkkOE8DWuhu4yDMLMRr3aD9UTe0SQ+dlPJ/an2VfLiiUu+7bxIo\n",
       "Cy9Gjaj/zv2UT/jriZ+1NkUoGpvpWm3VAKUEPooLJSfKbxZGhiuMYUSt4gHNSh20dD4aQsmuiUJv\n",
       "kBiynlnzVegOOA6zKgBwTwexwAMo72uWVMvFuy7DYnJc9fb7C894arRwvwq39Ff1AFYDlwOtdit/\n",
       "iJMvX6O6aMB4RNCmzgH30kqoNlW76sLtoME2rkh4Z2oQn2fqnbHlFnTfaNg3TuSzSBweGSqSQI2J\n",
       "kbPd5XjMi+MFA4bm6NbJWqmm2U86NYhwXKHh1d4kTdB74F+P8oqe3o7jOXNfriOObuIuVsPD20eo\n",
       "ktvt4LRQsPqw8BzmX9Av0eln3ybgIVIhzMVlqnJ1C7XFPICpPnHKXBYZQtj5HMAemA9gvV3xlyqn\n",
       "4Fx6coPEVpFhbaoPuzWe24svhsOaV4ykd+55taZEAuJ9hhlQd3t1AmnjwZEXe9LOppMAEXLYde2P\n",
       "ugRnJS4AI5Lgenn/y0mOuvWVFWEeUJhlQsPSMaE2FjnVVhcQABg/W619a3IKGaBb1IfA4xltLCW2\n",
       "x55eimBvRakAiyii3YV/NS2ivxB4XaW+w91sK1ER01V86WU22McJ668eiJdpVS2V0f1K5gakWOSM\n",
       "vWP7G/82rPR5WLHvxK38BnfS11n3IamMWUH8Mds8RbloqTAjAiObOtWdMT5SZBf1y3/IzNT/Ukvi\n",
       "Vwfq8DaWdVSrxi8w90GFZwYPYhEa0sMaDxQcPqaYe7IbWb4Ng9QxPP1dq9rPApnrpvynvl+Vq5kv\n",
       "z4cvuAkmEIiqNArymCMNnSz7b+kOtvqmw3DZ50OjcoinZh54JN9rvaNhhMMPtkJF6+vZIZaeJcxX\n",
       "lnY0+9WdqVginC6QrRPyNmbEmJw0p/pnuc7M7md0ItZGShJ0rUm69o69/eqFDAm/1JzGyLr6CvA9\n",
       "X7uEMHkxPISe8tyjQlk15tij5pDrs0wEbbn4SLsPznl8hcX5L1ex7mZO9CBIHOqHP9suo7dsOYou\n",
       "21GZX8AKMntkXwET2xniMo2cCtEme02dT/eu6c4HbzfosHhFz/zp6q2/AdMFXJ90H9BbX1zxD9pg\n",
       "8OoOEincglq9lYhSc1vonG7SWhqnn3NN7DWpJ3BCPB/6MqZzdVx+nDZ9cVcrJvf6TSjMPi3oSAEz\n",
       "nl5g30+hAfpt0JSgPTq/i8ADg5Dux2wTrpcVk6O2rkfSuu55VAEpOhGsB7afFk15TlvYWYP8AUJu\n",
       "EIBiouawxu9HNbPMHtp+QAUlV9f3QZtPGQsY3ggnTZY+fY2dsz3C+1hTfBSs4DXEWVZAal/xPl5a\n",
       "cCaFRNvE38Eh1hj+f8KMpocou4o/LpYfrNhVvK4/3+wt+DUTqZ2iIKVvH8+31zd70mlYh2A7OkWJ\n",
       "FHyzuUAuBVTN/19/pVTLyDIHaA5ra3x4ioQkI+lDMX8SxUqVglHZtgdCTkslGi2doZ4wTcPACroF\n",
       "EDuWbJ//Ft5S3Kv8xWS4MUuSjQAn/HYY2rGgRDHnT1ad9VNQpvQzttt/DbZq5MXrO54lj7PHgKap\n",
       "eXo345H9Uwfn//V1nh/xWrGv1hk2zmOrqWdCg3QQ7VHrrIZek2g4O1MziaUAoRnCd8LCrUdvKZRa\n",
       "kFCNS7D7sTxu9izpocIYwPaTlbIoFpJfkVV2B7qSxQp9Ag7ZiYuP8O9kOjuXr3PXeBMU8wWjiXy4\n",
       "xpbMKg9xWI9ZAmmRqtq1Usg2Ufh1v0fxTP3V+sWqJt0eSKMESvZR/F5slOrMAHuv68g/hDXmpOrZ\n",
       "8LglQLIns+MVc4961/3QOzu6n17vKBRDMSU7GQ9P4BfmjNGBk1ffNGJM2cnpss+4QsI5Cqjs3sd8\n",
       "q42eHY1A35waOd2f3RzNMpd6SFWaEQVdJ4vnkaBAHZE0EgFaMc/ESawZxZuVEGfxKAJbwKIHMI/H\n",
       "u5M36Jx/2BR+gu3/7CsuSetbHBO4WQx04V3f/Ej9Pu4x49lxetSqhfWtyD0w/svhKL+JDz34N3ZC\n",
       "zcTS/ykQHGYqDvmDk+2V6w/9JFhUO1PARqcwzt7rMZmQsgacfarcr5/fFYbnrK9aR44hUlUVM5Ba\n",
       "TxwjyFvZ2VwwCgbg36330I3os/rTTNhnDB5mLGAt6NRnBf/SpoTPk7uqN06DaZBLbzTDgnzveDwr\n",
       "R5OTyzTVk0RIPjsVHSTgYnxlELql8esXcmPaW/xLY5Vw2wXdoiOVgSbYJFnJCHXCoiJDgj5/UJPk\n",
       "QXKv8ke/m3TwiymfRPqCovR4tA7xqA56uzAq1Oc+hn5j71wH2iGQPx/y4S1rppiMqQ/Wpl/2ebrP\n",
       "qb4d+S4UkNfmGadLuez7FJwvMa2bjKzI5uKZm/HxNvgS+SK0ktvlAr/YYbtums5zukCooYGXvYf+\n",
       "c0MjztTtsam1FFuk1p0OknTn+Z+DHzSNqQlEHjqkYC/mpM8ED7O9n+ddPhJjprpN/b7l9oKH5oRY\n",
       "2GLc3RiHo2C6vXLzS1VtNRiRNVbUEpuub0iwVD5BABwtMaxV9WLDRlY9Gon44FJSVN/0mzgjFifN\n",
       "LxvP6hqP6rVCIVS+DM9FqycI6zGBZMcq3tkMIW/8mdYFfVhb4H8kPLSg2UpH0y+7g9qWrx5Q7QzK\n",
       "UUf0Ndu1vPqdHcZWW/G5WGmUvXe5e53RelpPyf4y7oK1XNsAPs0qWnWaPACDvh/5IpKFCrOlinTk\n",
       "RsErsIcPDv9vj6+dnNMDqfq6Cbb7+Fud3iao6eoY0QQqk2xW0fMPPjNUKuYxsbQ3ynhkTyGqGpy/\n",
       "PWfifBN0hK6BocLCYnepSl3RBSwtm3wm2Gpm9PD6r9aEEYPvnNmjbR0bzvtp5SarjwdtGWPxJO/f\n",
       "fXrfTB9dpPkfb/IIiSK/i8nap32mCjKebC6bGpBRVZT4JEr5+l+b/dcZ3JcLEjOrCp3m0Cfp5iH7\n",
       "l5oawN8dwk7+rxMRGlCEUfEh8DpenvSS7p4R6tD9/3GYfZR9GU1nTNaqMSBfg5M2N/REfx4lwOh7\n",
       "xFBbY3nc3gqE6QFnl7AL7uhtH55fqMWa6TPjvJFbGVvu0do4klBaPLxeNKUpySEcmo4XCPUvtJFR\n",
       "6reYDss0Vfj67jmTv6Mdi4iaLWtrkkCILN0ukXXSlDFE93ErM9DOA049aQBAtmUhGCTglnR+JhI2\n",
       "usLXjtA07B8QChoKTPbtlOsXT5MbEcwR/1Kt/e8EFUMmFkL3ZU05N+89U09CXX5ekQ1AS0PYb6Ko\n",
       "iNXMh6KcCjsMb5+F9HnesHvPw7jmhvSmQweULyAFsalWyPaTFSHm0r3DDEqS3OgpG66SDNB5DK2v\n",
       "GN3nzbm148zuaVesQb9mxy1aYrwln5d6lScDVU2FyMos+gJKKJv7+i4FM/PsXKzbwB2jZ5izFmGj\n",
       "0MQfQSTPLq595UPQjwTQWIFP+tgK/7aPYDAFJFaw26o5o8buwFFEZcLTwm8mkhLbCpeD3fwX82yD\n",
       "YACibz7CAbH5wjtTNLr9llEwASiC9WJ7B0O7oRQPSW0jOg6Zbuamy4Hsu/oAlVdOcxz+2uq2w5Ji\n",
       "dDT0z+8I4GGq4978A7B4ShT3A/MV8uN8zbTXWkymN+oSvkJBTgGhcSHuIioSAa2Qa1NAma86RI0A\n",
       "dxi2L/O98FprNgsH0ysp9bUslb9Gv3beCwjmmROw5YqozFC3qY5qKHhcGYAyTbkIdhB19th+USkZ\n",
       "sMj9X9kaMYUQS1e8jaKv0z2kOB3kubrCfE2CTV1lYUStirVRwoqCGY6LVmHkdRwT9gjEqBWdO78n\n",
       "fFiIGxc3x/8hq1qM7h4WuPeMTrIMvmTtKoEB3MO40XTjQ7M5V3z3kxhZC3+1Jq99cX0xSyWi+bUq\n",
       "14rqnu3V1mZk7qBgWBcCC1fBR11wMIvImN2OrQef9a5bN5mGE4TdkIxODnUrbZ5krDj7wFpRzV0Q\n",
       "vlVHFcEFeSEqLXQTcv6tK7pVHJAHHDwXXp3TKE/zfwYqrEq/B7OUx32fmXb6NF+wvVfT3IMpHyko\n",
       "iO0bYctQsaN22V+aGahJxze3J4eardOcMVgT1b5lzIJ0oo+S9/ABx2OFgv8iJlHyn6doOrVM5eVO\n",
       "AHyzm/BnxY+RW7NUV9LokiPJIYcrl0iaZmBoLz7//4duuZ28D8OOFdVo0GblDej1+S9bdXEehQ7O\n",
       "R6Z/eeLkKow0UP7Lyp8lZeFVWz5Ko09GL9QJQU75EkaCMiudHwLleNA597oDyA6J69STb92rbNc1\n",
       "jGI8AjiX952r9n2p3TAAUNdMVRyE1BwP/IRAXE9a0W0oRw4nXOCSLIixtRQchJ2OONfGqkpgegkB\n",
       "158zacnDqBPO6cmBrvVyLsNesBbbkRljoPtRIrlMal0dnTz2uRjh/BrWcnvbPAOoyK1xep9CwO+w\n",
       "MdZRhkVIZBVv73/unFVAAggHtpcImxI+inFxNHWLRRwju5mkBF1WN1yZsbmIrvpvz1Pqe+AFz6H8\n",
       "/0qpz3p+Lw+lQDs9YYMnYB4pje634Z1u3PYHGi/VwG2hsYYxsl986EoN8o0vxHtEGadIWLBb92bE\n",
       "6A6S3saf3Jt+AO70zlO+Wk8+JSaqzuq3RST/+jceIOuKLdrV7JfLQ4XQqN9frfubz7HKERy9acls\n",
       "6eFd0Vu3PBD24Ra2vA/5bDLZkvWpS4+e5u7ehdqsvHJXz6v7ZRDPxJ1YZDoyvsR4Rvkw24prvA4f\n",
       "eL8Ioob8lGb2hrZErzEvAWIkEqLg9mXBb1GfDqL1KEsgLxYjKB5mqyc4naYN1c+OkmEYVJNaycjq\n",
       "ie5BGNqzlFfsxSpvlgTYeAcCJzYujnILK1poV/cVaJgeaY7fWEz6yG6e8rPm0/r587vSui/wEWXQ\n",
       "hV4HvCk2/DdUSI7VWI9ZQMPxZjUOVKqd+nk/Uqpjr0MOxB/9Wm65cikBwiJsEyTJzYtBMI3LBpp9\n",
       "nxtxKUVbTYqE2RZ5v1JPbJtq2k43Q39u9V4VWwR1hq3uBtG6RWMzGDGkLbPpcPtYVrVpKVVU0AQl\n",
       "KhrCxhlaHfglGiR5frn1IMpD5svl+EzINvTpSWidkHJH10M/oNpec3Iw9TTEafRUtbYZ8K8RHasL\n",
       "InbDFhhkHw70Oja9m3CsUAForZEApqFlDTbX6zGQ0UYjEJqtbx9m5/YFLvPSSkLiYfIFOHwtd8Yu\n",
       "Dhg+ttjtg/ZB/NJIopan2l1sA5LFGgFMp6Zd6v9+PEG9ZH17tgvByRj9SoxV/WXwflL4LXlef4Qq\n",
       "5ELljgelwmplb5ySPXEwXYTud+u1k6h+a8X9yvuoEJHX44HZpJD6464a2eVkkE5Iz+g3Fetn0/NT\n",
       "DqqSAvBDNlYlKZi5npWLytnLhvXDBd5CobTa7l6wY80d2/tHks4isHLNphXQ4mReYuw+st+vA17V\n",
       "1icLHPsGn5DAwFxc5t8EF2RaVFMxtT0GBLOml8ERziwqQp8dOL83/3S3s5q/1FXIPs4pYeqo0onS\n",
       "ZVVUPRsnhv7TgkhLsBB69X0tWMLJr8qEOk80jFJ1YCKBL4AqWjTSW4rqbQ/y1WadSrnvShs3zE+R\n",
       "S2QJoRZHCBs+3rGn+wlm9f8CYLn5lIFmPOQsfmGFo4fnLGRZTtLlIZNltY0dUbM5uV7yS5EQTTOZ\n",
       "YZb8Is2vtr2ItRz6IcQ2m69UkHhgSPqWeHRWgvvD9j1oEbMdgBG10ZbOvpShKi01DmgQMoh+3NTt\n",
       "Lnt8n/4FAlRTBv5qY1dAwIpAsML3OFGCJSg38eTeRNDEJRxPCnLjWlkSHoVTkhickDxT7LZtkeiE\n",
       "WfqU4fLLBdtyJMSWxuPg6bOcWaVMDuDfQQ00fJCSReEyEFZ4bkPMN1RoqJoRJUl8KAp1DmANX2Gc\n",
       "Qig8mizhkOqzeL9cLYlnKrV8mXza16hrSiqedQahQy3nMYx002XjmkV/xjhP54FE2MNTkKZyLYhh\n",
       "2PXuiBQ+U/r/IeYdrM1I8H/vo82XS/9xJ3v543eFhnYP9aTiP97YExTirV4Othbr5l/jy3plPYJD\n",
       "s320vK3+m0WjkOLsYhYSSAdQO4ya2rkZrwihMsgSz4dfKML4fbm4BOAilb3EnkX0TTtPv0DWlhYA\n",
       "dJL1UFfGBHtlgKDXJgz27nRa89qlNDQJDZqndwgiiFqHk+u7zwOcj98Vp1I7AERPhG+2uHw4GlnF\n",
       "/N3/FVWQKuGUcCYHSTr2DL7gaYIXOwoS8vIGaYpiz2LhngYHw2JwyiCCBnu5XLdJK6Bv38UvmgeP\n",
       "umYc/RIsVTRny51mtkY0Bz0RcF+rv4JO8M6dQHD9STE7QXDoaPAOUboajfCzypRAXJrvpAKanGjq\n",
       "X1Zfd1VNNxrSd6mo7gznWfx+RgrP2bX1pwwz0iTttbdeJzjIct6AjPWliqDSr60CKX/1J9f2a8la\n",
       "yBZI2gctgHdPrwrHqA/ovMO1majMlxL2O1tuGESU3nrYdtqeGBOx8lACMzF6TVfxXiuDflATKB+Y\n",
       "EvTUMYzJdQGDAkmavKGLpTr0nmie2Osz2ZHNlZ72Q+2Xb3w4M2twYHAyYSyi7s7yHv3JbpZ505rw\n",
       "QyoiuqNUsNt0TuorAZ/vPRInjz5pRr7FyOpjU4Xlbef2yAhpAfOs9eEGuGn3+mOq0bok7/AIQHSP\n",
       "z9Vx3Iy0Gg3cLq+l/tQJR9CrYSn4e50oUaPkQ4kALjGYGi7mkCROG+fk+O7CfBg3CpYMTeihtGyS\n",
       "vZqbh0U2SFLyOJKly+tiOmhukF+M+lSh3SU9pqaXNhCuicNgY2/Jgg5m83+IhLLVbeouKswc0tCy\n",
       "Wt4RCTAL4UOZGcbE4a1XbezD9XQFiVOsKGNLASLqZeIlJ/LfsII749U4RxStnW3r/zkFyYTCXhdq\n",
       "HtwTEhptDMAsiadmmJjQO5mQ9JXmdHerxo8e75eR+2y0KvzPE8mcbN+WJhTARSQbSUtPrk2fUrY2\n",
       "ppQ1oSSYOd5rbCMtB+v+JI6YuVzzs/xF+WX+eYVLQf0A4LMYWF5nIHctHverRab3yvA7NQ4uu/fX\n",
       "L0Tu2Z4z8Gxq/sUWeAJDP956WJ2MGWViixr+DRgwY3a66ddG4wLhu/gh1VzqOOJhJ98jjJ880D71\n",
       "aaTB4FRsWyNBUvk38y9Sye2cFngZhYIbAbnZ24aXaR4EEbnssJTuwEsK/Mu7btiDz5fEUUOngvMH\n",
       "Rwx/pmgJrDFtbXN/x2Z3gy9TRGs7BpOAVxFj0EgT0NqqVcmObT+e5pS9cU7u3zYlYQ39B6V/NW/Y\n",
       "6ZGmpndGNahFB9iFP66oqLQzCzxmCo3cG7c0AfC2S/pZ3PfUCF43u3XRVIVtxqrgaIPlaFVbCoI5\n",
       "bDfNZw0U8lfv4ONOQtMPDWT5Wqx+9nhRata/ohkVYmdsfLmze617wd7NUlxACV+BRXN+/KdEEqEl\n",
       "0EG8CAHEICm+wWIzFisf9uk6ZZjHqJ+jjOJAilfNhVuneWN0fYI6n/TgD6xXc3c4C2Kr7Huboqv7\n",
       "BswB53cX6TG6KM8NyIKoweBiKbfC4JKhhAAGhWMq9T/t0K8o8KZdJgw0VFuOHxH29QK3c3mdaGJC\n",
       "vetD2sTtTOHDDwIt1nMebnP2jSSeWhLX65uKGhyKJB4qw54+NdLvCaeqw/k3dpLfXEcQMGQROqK1\n",
       "Kjk4jSziQV+sbUrDErNwTXoMybwEWbcRl25iIauKpi27Y/rPHkUUjkhfZQXSABAjnU9/TvElBxFT\n",
       "wsf2Juz3TgkCyOZeHW/aGlsxpBShrsy2QXAaz9w7/F2Vm0aVpPRocmLr/8g6CDGgCL/LPscyyFmz\n",
       "vYELIcxuVRcOQIJLQ5oJe3lO6xNMOhd94gbBDzuVoQjiT+y5ZKhkV72IKPAjiSRfqXV2uT8nWp0+\n",
       "OSI/bsU4wqVWSe1TApFvgXCc/nrtKRuyLa2TXN1d0AY+79U4OavtOTy7nAliddGwfJVxezi2OSvS\n",
       "HKGHC14tP7ejNXAdhXrMzB9filha6TFWIXx7JlBY51HVk81Glul6f7D8JsvPnzLHj1DRaYDbcqZ5\n",
       "qY1zA+9HtktwsdmSDCuZ3lsQccT17oIYRMDwu+7UcAVRb5eJGI0r6aEbYrI6Vtfxl82aNVLA5ljr\n",
       "NpmkDQ8iAsFdjOBazoVNSGgeXsV0fUsb53CzbwJE1W6W7a63wtVZ8I+G/NzFlw8Fc6KLv4q3+0qw\n",
       "x4yTzG+sCZUYQVIIk3z5tpbifccnHER6uRFdLcfvb4w0a3LNMMXznu1d9i1jv5IE0JHYHXS1YTJQ\n",
       "c8vrFIlZbpbO+0OYcceQIpSgNoRfMvkW343/uKAAcEEAAAXcQZokbEFf/talUALw6NpABYlA719B\n",
       "hXPRMd/z+PDl2QZV63d7Rg+4GrF4XwRxUxTYAp/5/5c2QuQNIqWCqAtEWnnnv2fXfnwPsCKincC4\n",
       "dqbNEhmebxj66+j16/bmrWy2mY4lNMSbr8jrjJaOcL79VI3Jq7vmWnMZyrWMcxBBb16Id2kOic75\n",
       "WyyWgYoQ3EVfXZT3gtViAOTeMy/eQuOQcHxak9ajv5NJs2Y0/TMwVD8MRdSsyTpROvfC5E6DTlNF\n",
       "I7ZmxOeFCv0fB1pkvdS5nAGCGzNbR9oFZO5lhJKVzla7jjksgMxxQqSAPE67w3mJDUquNfofagXK\n",
       "1pOYGeBvQZroCtqyxQfLVqalo2+Hy8N4eRmSb1wnMoKTeiz52mV/6uXzJGAIXjF3blxyIkXjIfzr\n",
       "ibUfd734Xe+2V2pp1PNRruLC7xFeVKYWhZLU8Tms9gD3nN8VNpZt7T6t8fFk5tsZmEc4HEz4AT9G\n",
       "gaG4ZBPGc22qzutZThC1jI8r5SKUt6L/TErfOY7hEQcKHQHx165mpdShjYDlkH484uzF2WLr/p7A\n",
       "cXthMGdwMcRpaR4BONPYurgbIGEnHkNoW/Pz5cUDcZfTbeXKdO/nxFqsuvYWNmAceRvVLNnb2g+n\n",
       "11CIoH/U/FX4ZQkE3VwnZChbbzxDvptEf5Tpa/P65mXwD0OqHGiXzB9EsZx43tety40tCLrbAbdx\n",
       "CvU2tZ008TRqd1F3jvFBYSvNeTevWrp6Sztzlcj7Bu6eGyDYZEszWev+bZSiENkQOZQRlvKLTLTq\n",
       "VwpHb79JX3Azm4lCP3uV3sTHnRRPnm4iUgd4kIOvd6W+P3WdTmuAWEv5IbS9FKuT5kKuBX7vZE4b\n",
       "5dlSgRNciRAMd4wJqbyeEGiGn8nBxi2csmtzUyTAOUSwoKI5gY4Fr+g2v+V9oG4CLRDHrNk0MWwd\n",
       "cQH3NT8tR1T8tTl+3c7mv2n1hpMeHOOZihED2mPrheHJJtDSRtjC5BSXg9er/8UMI/0xoSMt93gm\n",
       "fHAUdTE/b7Ma3SFdEmKv75z7EDaxK4hJVr8ct/ZxOi9WtxFVYpwR3U/9XPCtd4mxJUTuwhyXQHI1\n",
       "gFg/afH2U+AgheANURRlDXjbxyR7ft4j4ZC+zzD3a02Y+FaG3vOlfKoObFPaDoiPE8qgn+rM+V5s\n",
       "zLltPfvtGpipDrjojWrhQxixPVXIKEa/AZM+0tWdqX3BcirIsxMen9XOmduAiq73GpvF9SGYPG+P\n",
       "6c4FDtvFtKMO1RUDC/A+ltZnnkzVrI3sA1bVpY7xoHtyqKO9IM0c7uQqJJHlWQEjSFKxWc0iBgI1\n",
       "asNU1KM3WFFxe+mWVoGG3eBqyGPZ/csY5MYIUMTeSeQrLJpIzBVfocEXOmoi3qhrLrIcEvl+vUPT\n",
       "F6rNMyEjna1iuNOw0izufSo2ILAzMaykQIdnTkj4WDZppjaBTXZKTjRYqeALhj6PbGYvEvpNIwr9\n",
       "xIq2U+eTEttMrfV9PkxN86fh5LwgqiH4T1qWNaMEkkn9hHhnaKFntKSeOi4NaSRdZm+d2XAHfYxz\n",
       "JYF+7epcnnp6odFzBODWxm6CVV7MLNiIfDI2hPocn38fftkPtrqTyhSbvRS2+yxzcEFjLguDIO7C\n",
       "Q5fp15xtloV01jns3vrohD1iQtaeeWLNMwD2HwAi9fVKmS+P8qmLsJ9w64LY98IN9nGvQLletUQW\n",
       "ymaje/JjsLgR6y9FriwGC3FIAWv4EmGmoNvU6TeC/k9B5AkXGhXR8c4/mgnez6cKC7Apl/fdmbV9\n",
       "fat6KlUTmjiRz1x9oSYO/Lntiqzj06Opu2jUk8F2e4A0IOuI2TFFuj2UpeTHChaPwRYXwD2sGt/y\n",
       "v9M+6jGXTQmUN0l9+pb4v/ivp+y1In5Tzq6AJQ93KA9sRYMAdUXKUoapqPKAVZTG/2obKJrPXbHQ\n",
       "Zrqwi5smOZbw8hO2KkfA7VxDipABcU541+DCirj/DcF49+22H0W8N8rDrcn2jOpxNbghjsyAAAAA\n",
       "ukGeQniCfwAHHCO7qWzMOCTW2jstP+UX6KVKn1IAEKHHeCjGsnK+NAZ9WF/0NAojB8YvVrtIvqm2\n",
       "qttZMZim/cEKrsYXbJSnOeLdayYBDE6C8Qz//1SJazkPe3nKWZPL+WRBPWbrSzlBeOKPy45KIhJw\n",
       "96tB45i+1Bayu0slY4hMI1olZiRF+XJcw0JeXltxv4pB7+PWMhbi/UlDe2lb8fNfppToDfFXR8Sj\n",
       "tr8kQ7y0h/nkBCKTfJkCswAAAJwBnmF0QS8ACxX1oyw/zLrozRRUgAfJKJt7B+kJRv15HYBuzWpQ\n",
       "R2t3QK5ZfqnzxSv1R+Uok9Yqf0ylAmxBHS3izzMaTMEgGmtaBNaDEvYhkH9nPMZWWSghfdqpUTwv\n",
       "U+IgGRB/b3c+AVDCqfhNbN00HaUho2Kbai2Z2guu/yiU7wEBYAorqFFylJfIq4R1QKzrbLF8zil9\n",
       "I/G30UAAAABiAZ5jakEvAApCMQAPy0zrUMzRR/Rdgwj2685BQ0XPoMlyILVMmqMehyMu5qh6vFOg\n",
       "/sgeT+dSkAV9uJ7emcTIHg3yz+T6x6mwNIH845+NiXkLxs2CX6GQdgIERNu+VuANj9kAAACXQZpm\n",
       "SahBaJlMFPBX//7WpVACm+VkgFjqOV+R9ZUwRxKypZSz9BOlpPBtd+1Pi6/R4nC49GP7rqStcKyj\n",
       "KkHAnkmbM/Ld1g5y/1srd0tXWgi8aLqD+crdyD42rex/RitxVIoXGFqOa8PWvc/wIfqkhBTLhlQi\n",
       "51RU6QShz7L01U53C+H8hpaEdd99IVUqHb/tMV7bx9mlEQAAACwBnoVqQS8ACfQhIZMF03zsHOkk\n",
       "G3g4lM5td6ITSw6Y1A5SKNr9YR3uPz0gIQAAAEdBmohJ4QpSZTBSwV/+1qVQAoXEtWY0AwAmaV6I\n",
       "UtcHwB0IciJ5uEa+xhBvvO5nauQQb6wrTZCFzpKqvj2My+rdobJBvSzckQAAACUBnqdqQS8ACa/M\n",
       "TUCMto57nptLDPcx5GUtPSKmPhBVtCAKrwZgAAAAgEGaqknhDomUwUTBX/7WpVAChcOiRtzl13OL\n",
       "CACoJXWTg7FScbcj2aGwqyB50wyp9jCZS1av1MeLkBeqw0G+JX/Xda4TwXDckGEOAbFd2xtT4NpZ\n",
       "X/OV1KuV29KUbwY7+Hp05+mNLFl6D5NEIWwvhoKd9CeTImXJvi3RM2R/GEuoAAAALAGeyWpBLwAJ\n",
       "r+J7nr8EAGgLooX3jl0LIK+CcSj/Uwqjp7KbPGqPoKK0UWGBAAAA0EGazUnhDyZTAgr//talUAJz\n",
       "u9//C7bACO7+idMAldlamVl30+8+07DsJV9mW8jKfGe5MJz+fFiwdUgvzuM/9nKjcl2IXCjK/LUD\n",
       "/WqhIecIyOO9rPuwgahzWzPkzGyLH3/QQNrXUmO3eMe2ZJBfx5ygeReD47Uo9BqxmAeCF1/a00rb\n",
       "9JpsI6y9YXjU3RAV+Q35FFW/Wvsd8MR3684sELh5Zmi2eYPrXsu5ZF7FbjsqT2DGcSFxye9s7foK\n",
       "KxE9cgg/zhLjLE0jzqgTy4J5KiUAAAAuQZ7rRRE8Ev8ACXA5vBxE3sUAE7p7TPy2LvHV6DhE1QPg\n",
       "Yde7pnOGcCfr8rhIsAAAABoBnwxqQS8ACTA2qoQ0bTx5BNKTKTgCg7mtswAAAHtBmxFJqEFomUwI\n",
       "Kf/+1oywBOFIwn0PyiUAc4JEBzU4FvULa01SymIiap8KZdtNqQclPEFTLIJiHX1XAkJqHxC8pM/X\n",
       "bjeO+XAi88j9Hv/0HHrIcYw57vtkZ1XXEbAs0nGWAOycJsB7p2MK/+xEW3Vqy+e/5fVUnmtr828A\n",
       "AABKQZ8vRREsE/8ABf9E6BYGCrvUjItupTWrwZi4Ot1xVqp1DUcHJFHZh0C382nnQGKfdgU9+Tc5\n",
       "2p71gIqlGD55lE/AL+DnAQYB0ZMAAAAhAZ9OdEEvAAjwLm6bdaR3hymSbIQAKreDrpnrQGivxyHg\n",
       "AAAAHwGfUGpBLwAIrp3X65Q9qu4YhvCKZKM01wuT3hrIVcwAAABCQZtTSahBbJlMFEwS//61KoAR\n",
       "BokTNYuivBzXk9gXAB5qbtm3KE9ho93J826+ZPMivu9lVdWZQPI6YYqxfapzxt4RAAAAIAGfcmpB\n",
       "LwAIb0YqC/FhOFjQ8PACRQIqGFpyMiwG8ZkgAAAEFm1vb3YAAABsbXZoZAAAAAAAAAAAAAAAAAAA\n",
       "A+gAAB9AAAEAAAEAAAAAAAAAAAAAAAABAAAAAAAAAAAAAAAAAAAAAQAAAAAAAAAAAAAAAAAAQAAA\n",
       "AAAAAAAAAAAAAAAAAAAAAAAAAAAAAAAAAAAAAAIAAANAdHJhawAAAFx0a2hkAAAAAwAAAAAAAAAA\n",
       "AAAAAQAAAAAAAB9AAAAAAAAAAAAAAAAAAAAAAAABAAAAAAAAAAAAAAAAAAAAAQAAAAAAAAAAAAAA\n",
       "AAAAQAAAAAGwAAABIAAAAAAAJGVkdHMAAAAcZWxzdAAAAAAAAAABAAAfQAAAIAAAAQAAAAACuG1k\n",
       "aWEAAAAgbWRoZAAAAAAAAAAAAAAAAAAAKAAAAUAAVcQAAAAAAC1oZGxyAAAAAAAAAAB2aWRlAAAA\n",
       "AAAAAAAAAAAAVmlkZW9IYW5kbGVyAAAAAmNtaW5mAAAAFHZtaGQAAAABAAAAAAAAAAAAAAAkZGlu\n",
       "ZgAAABxkcmVmAAAAAAAAAAEAAAAMdXJsIAAAAAEAAAIjc3RibAAAALNzdHNkAAAAAAAAAAEAAACj\n",
       "YXZjMQAAAAAAAAABAAAAAAAAAAAAAAAAAAAAAAGwASAASAAAAEgAAAAAAAAAAQAAAAAAAAAAAAAA\n",
       "AAAAAAAAAAAAAAAAAAAAAAAAAAAAABj//wAAADFhdmNDAWQAFf/hABhnZAAVrNlBsJaEAAADAAgA\n",
       "AAMAKDxYtlgBAAZo6+PLIsAAAAAcdXVpZGtoQPJfJE/FujmlG88DI/MAAAAAAAAAGHN0dHMAAAAA\n",
       "AAAAAQAAABQAABAAAAAAFHN0c3MAAAAAAAAAAQAAAAEAAACoY3R0cwAAAAAAAAATAAAAAQAAIAAA\n",
       "AAABAABQAAAAAAEAACAAAAAAAQAAAAAAAAABAAAQAAAAAAEAADAAAAAAAQAAEAAAAAABAAAwAAAA\n",
       "AAEAABAAAAAAAQAAMAAAAAABAAAQAAAAAAEAAEAAAAAAAgAAEAAAAAABAABQAAAAAAEAACAAAAAA\n",
       "AQAAAAAAAAABAAAQAAAAAAEAADAAAAAAAQAAEAAAAAAcc3RzYwAAAAAAAAABAAAAAQAAABQAAAAB\n",
       "AAAAZHN0c3oAAAAAAAAAAAAAABQAABvJAAAF4AAAAL4AAACgAAAAZgAAAJsAAAAwAAAASwAAACkA\n",
       "AACEAAAAMAAAANQAAAAyAAAAHgAAAH8AAABOAAAAJQAAACMAAABGAAAAJAAAABRzdGNvAAAAAAAA\n",
       "AAEAAAAsAAAAYnVkdGEAAABabWV0YQAAAAAAAAAhaGRscgAAAAAAAAAAbWRpcmFwcGwAAAAAAAAA\n",
       "AAAAAAAtaWxzdAAAACWpdG9vAAAAHWRhdGEAAAABAAAAAExhdmY1OC4yOS4xMDA=\n",
       "\">\n",
       "  Your browser does not support the video tag.\n",
       "</video>"
      ],
      "text/plain": [
       "<IPython.core.display.HTML object>"
      ]
     },
     "execution_count": 6,
     "metadata": {},
     "output_type": "execute_result"
    }
   ],
   "source": [
    "HTML(ani.to_html5_video())"
   ]
  },
  {
   "cell_type": "code",
   "execution_count": 4,
   "metadata": {},
   "outputs": [],
   "source": [
    "%%capture\n",
    "ani = generate_animation_policy_module(env, goal_str, reward_language_model, policy)"
   ]
  },
  {
   "cell_type": "code",
   "execution_count": 5,
   "metadata": {},
   "outputs": [
    {
     "data": {
      "text/plain": [
       "tensor([0.9497, 0.8936, 0.0027, 0.0051, 0.0255, 0.0044, 0.9973, 0.9931, 0.9981,\n",
       "        0.9940, 0.9729, 0.9922, 0.9966, 0.9431, 0.9964, 0.9947, 0.9894, 0.9992,\n",
       "        0.9995, 0.9971, 0.9832, 0.9992, 0.9794, 0.9986, 0.9955, 0.9998, 0.0960,\n",
       "        1.0000, 0.9996, 0.9907, 0.9983, 0.9706, 0.9939, 0.9967, 0.9411, 0.9996,\n",
       "        0.9984, 0.9974, 0.9659, 0.9621, 0.0354, 0.0012, 0.7635, 0.9786, 0.6392,\n",
       "        0.3677, 0.5136, 0.4123, 0.5780, 0.6478, 0.5219, 0.3711, 0.1952, 0.5610,\n",
       "        0.6530, 0.5771, 0.5681, 0.3092, 0.3351, 0.3677, 0.5469, 0.4667, 0.6645,\n",
       "        0.6730, 0.5206, 0.1773, 0.4637, 0.4914, 0.4056, 0.4484, 0.4766, 0.5385,\n",
       "        0.4850, 0.8096, 0.4642, 0.6655, 0.3244, 0.5711, 0.7960, 0.9975, 0.6797,\n",
       "        0.4962, 0.4251, 0.0325], grad_fn=<SigmoidBackward>)"
      ]
     },
     "execution_count": 5,
     "metadata": {},
     "output_type": "execute_result"
    }
   ],
   "source": [
    "policy.actor_network.get_attention(torch.tensor(goal_encoding))"
   ]
  },
  {
   "cell_type": "code",
   "execution_count": 3,
   "metadata": {},
   "outputs": [
    {
     "data": {
      "text/plain": [
       "<function src.imagine.experiment.config.configure_everything.<locals>.make_env()>"
      ]
     },
     "execution_count": 3,
     "metadata": {},
     "output_type": "execute_result"
    }
   ],
   "source": [
    "params['make_env']"
   ]
  },
  {
   "cell_type": "code",
   "execution_count": 4,
   "metadata": {
    "colab": {
     "base_uri": "https://localhost:8080/",
     "height": 531
    },
    "id": "WeVvEj0wbU8I",
    "outputId": "560e50ba-1c9b-4a98-cf34-b4ff15f00261"
   },
   "outputs": [
    {
     "data": {
      "image/png": "[encoded data removed]",
      "text/plain": [
       "<Figure size 864x576 with 1 Axes>"
      ]
     },
     "metadata": {
      "needs_background": "light"
     },
     "output_type": "display_data"
    }
   ],
   "source": [
    "# Generating a scene which is compatible with the goal description\n",
    "env = gym.make(params['conditions']['env_name'], display=False)\n",
    "env.reset()\n",
    "initial_o = env.unwrapped.reset_with_goal(goal_str)\n",
    "env.step(np.array([0, 0, 0]))\n",
    "env.render(close=True)\n",
    "obs = pygame.surfarray.array3d(env.viewer).transpose([1,0,2])\n",
    "# pygame.display.quit()\n",
    "# pygame.quit()\n",
    "\n",
    "\n",
    "plt.rcParams['figure.figsize'] = [12, 8]\n",
    "fig = plt.imshow(obs)\n",
    "fig.axes.get_xaxis().set_visible(False)\n",
    "fig.axes.get_yaxis().set_visible(False)"
   ]
  },
  {
   "cell_type": "markdown",
   "metadata": {},
   "source": [
    "We observe that the generated scene contains the object of the specified goal description as well as two distractor objects."
   ]
  },
  {
   "cell_type": "markdown",
   "metadata": {
    "id": "6UsYaxIE4jrw"
   },
   "source": [
    "#### 1.1.2 Second Role of the Social Partner: Providing Descriptions\n",
    "\n",
    "----------\n",
    "\n",
    "The second role of the social partner is to provide language descriptions about the goals reached by the agent __at the end of an episode__.\n",
    "\n",
    "In this section, we play a policy conditioned by the goal we defined in 1.1.1 and observe the descriptive feedback given by the Social Partner at the end of the episode.\n",
    "\n",
    "We first do the rollout of the policy:"
   ]
  },
  {
   "cell_type": "code",
   "execution_count": 5,
   "metadata": {},
   "outputs": [],
   "source": [
    "%%capture\n",
    "# In order to build vizualization\n",
    "fig = plt.figure()\n",
    "ims = []\n",
    "\n",
    "## Rollout of a policy\n",
    "o = initial_o.copy()\n",
    "goal_encoding = policy_language_model.encode(goal_str)\n",
    "episode={'obs':[]}\n",
    "for t in range(50):\n",
    "    action = policy.get_actions(o, goal_encoding)\n",
    "    o,_,_,_ = env.step(action)\n",
    "    episode['obs'].append(o)\n",
    "    env.render(close=True)\n",
    "    obs = pygame.surfarray.array3d(env.viewer).transpose([1,0,2])\n",
    "    plt.rcParams['figure.figsize'] = [12, 8]\n",
    "    im = plt.imshow(obs, animated=True)\n",
    "    ims.append([im])\n",
    "    \n",
    "ani = animation.ArtistAnimation(fig, ims, interval=400, blit=False,\n",
    "                                repeat=False)"
   ]
  },
  {
   "cell_type": "markdown",
   "metadata": {},
   "source": [
    "We generate a small animation in order to vizualise the rollout:"
   ]
  },
  {
   "cell_type": "code",
   "execution_count": 6,
   "metadata": {},
   "outputs": [
    {
     "data": {
      "text/html": [
       "<video width=\"864\" height=\"576\" controls autoplay>\n",
       "  <source type=\"video/mp4\" src=\"data:video/mp4;base64,AAAAHGZ0eXBNNFYgAAACAGlzb21pc28yYXZjMQAAAAhmcmVlAAA98W1kYXQAAAKgBgX//5zcRem9\n",
       "5tlIt5Ys2CDZI+7veDI2NCAtIGNvcmUgMTU3IC0gSC4yNjQvTVBFRy00IEFWQyBjb2RlYyAtIENv\n",
       "cHlsZWZ0IDIwMDMtMjAxOCAtIGh0dHA6Ly93d3cudmlkZW9sYW4ub3JnL3gyNjQuaHRtbCAtIG9w\n",
       "dGlvbnM6IGNhYmFjPTEgcmVmPTMgZGVibG9jaz0xOjA6MCBhbmFseXNlPTB4MzoweDExMyBtZT1o\n",
       "ZXggc3VibWU9NyBwc3k9MSBwc3lfcmQ9MS4wMDowLjAwIG1peGVkX3JlZj0xIG1lX3JhbmdlPTE2\n",
       "IGNocm9tYV9tZT0xIHRyZWxsaXM9MSA4eDhkY3Q9MSBjcW09MCBkZWFkem9uZT0yMSwxMSBmYXN0\n",
       "X3Bza2lwPTEgY2hyb21hX3FwX29mZnNldD0tMiB0aHJlYWRzPTEyIGxvb2thaGVhZF90aHJlYWRz\n",
       "PTIgc2xpY2VkX3RocmVhZHM9MCBucj0wIGRlY2ltYXRlPTEgaW50ZXJsYWNlZD0wIGJsdXJheV9j\n",
       "b21wYXQ9MCBjb25zdHJhaW5lZF9pbnRyYT0wIGJmcmFtZXM9MyBiX3B5cmFtaWQ9MiBiX2FkYXB0\n",
       "PTEgYl9iaWFzPTAgZGlyZWN0PTEgd2VpZ2h0Yj0xIG9wZW5fZ29wPTAgd2VpZ2h0cD0yIGtleWlu\n",
       "dD0yNTAga2V5aW50X21pbj0yIHNjZW5lY3V0PTQwIGludHJhX3JlZnJlc2g9MCByY19sb29rYWhl\n",
       "YWQ9NDAgcmM9Y3JmIG1idHJlZT0xIGNyZj0yMy4wIHFjb21wPTAuNjAgcXBtaW49MCBxcG1heD02\n",
       "OSBxcHN0ZXA9NCBpcF9yYXRpbz0xLjQwIGFxPTE6MS4wMACAAAAca2WIhAAW//730z/Msuv3ObXj\n",
       "qPeiniZfQ3UlAZuWxO06gAAAAwAAAwAAAwAC3JArPemTWkcwgAAAAwATwAHuAQKmSnfIqYwcQDJf\n",
       "Y5W/cve/jGZourZfKw81rTO7Mkvg7/kkqHZ4Wg4/hfAVfpga8Sh6GAVl9R2h6Bk1SHPfVipFw1eu\n",
       "KK0/p57LV898MPAt+3/6eArgAvA768noh6a1HRkg5zQf+35WuQZcaGpLutXJKLrLCcqq2lFc1fdu\n",
       "cAEvkOLRgc7FKEMq52c+OZQ+6MoT5E/yVjIuFn/+aPFLisk0AAB3gI8u3MTZAWCxuuQ817+xL6LF\n",
       "RcA7k8pjrI10FuNWN3ezy+qP5iTlpT+p0q2r++xIzzs1p3ofW7U/BbdKNpnRO/KJsObMR/RKfUOM\n",
       "N5r6Bfw64PRXmkuVRLSdEhWbFS38ORuarAIs5YFqViJXv9je8utTnHZ/exEE+sRBLFE4r4TZ8hbC\n",
       "WBHVB7TC4AJuSICeYJ6mhmUWRN8y3jq2jV9YZmn41DAdIRCk7KTD0wofmg0ygBezTAKqBE0cL8nq\n",
       "S1iSW09nL5Rx10VImh7JGnw0HPfRYoulACcvk45P6LlYp/xHlRzEHHkm9XI2SN/OWT0RibvEAZbM\n",
       "OxI864m/kAToZVgOM78h7h4Sc8st9RhtALH0cbx7H5Mf/I0BSiJXEJVn6E7gAEN71SUNDSQt4NZo\n",
       "BegRrxTWzV2CHzhx4EKcBDZhp+DXnOBlBLrTbZ0Z7Kvyfa7uTfxx566n8waq0SR6yCzeqcCfhizU\n",
       "N+X0ZcCYAGm1aKypNTyTb67b4Bc7N03HVC/BA/I7OWzOrSZsg29tGOTMDdpEFCn2+mZroZrAkDqB\n",
       "unGbMg+aL1TwVATD0Onr198oSLLTzkCnUAxgDP4r+9GF40laXS7MWBBzlhxF0je0g2ZPWUYbAJ1L\n",
       "i2cqnfHiN4IpP1fVIGlDGE/iIC0Ko0bgPUdNl9J4uiBS/YMYQA32txUC0tKHpglbYFteH8Iwhuxn\n",
       "gtUopkR+jSVVQX6WVXakE46aKrOGdfHDNE0Lb9fFY9ZU3977sFtsrgPptgvZX7nJS6bRTyU79aGW\n",
       "KpyDwYOocjf1DTZlmaGaMKDDe6SpiKc4aFRNly9+YjgLxkG0OL3kWJCXESHr9fvZoSVTTs2ZlhMl\n",
       "ZoFL+vkbutq49QiVMB/Yfp4eaZ2lLPf8AleklxPcc86S8F0NvoiOcvxsnw3IdkiQxVtZdR4sxjQ6\n",
       "rkefxYQdIASSAhzISbxzsIXObOTIGTHbE6sy3AVCxL6QPNphYXKjFKV4Q+ci8xQNea1otA+LSLCS\n",
       "D9h7HlDdUbtv8nrAEQQYzBmQqRJndAQmqhoGWgYuvyLcS1zCuhmvfPQIxM9qx8/wKqQp+hXaU2Rt\n",
       "IdpwhG6L8Ys5+tTbFytCIz9uFkdFUZtg2duKGJZu9ffjaUAWqhNackI2OvKuPzXp5pUp8Ub3MvKf\n",
       "drnVSdvMV0RbG2JhOoCpbaLjm/kfQWd4CwU2ULm/caUHiYaHnfwfm0r9En/bxGNQp13ecQfcWZAR\n",
       "YcgSe7ySncmXaZw35G4YtWt5bUC7sxUFNyPZgbRJhRkfJnCcVCCrVjcxhafYMum0zrBnCSvWN792\n",
       "7iKkiblm+uIRMsEWAvor0Ab16WKk/YyjhGFgnirEvlfGz3bcQ/BT8BlZUqnRU3J5QWUsFJlZLJfR\n",
       "Dsnxbjuod2j1DQjM7zCZ/Nb0I8a9l/fCZusxCW08kIHr/8ADLWTIfaalp9N4h6gxi5jVIED9FxeF\n",
       "qFTIlqTlYIVkRCr56WCupufc8HO4FYBNB9vA6yIChEJJhrAElmT9BcKrmU1UnSHGk9/fbU+wVvWg\n",
       "t+df6SQ20vnqJHdmjH5jqbzXf7hA+BMe8TME5JqqWzTTNQf7L//8XWS6iwjKE9SjSSALnMcOJHT2\n",
       "Au1kzUObkbbW5arkYm547VLl9GJJppoz+9rs7ilU0dvM25WArNo0aBCdHLnG23q1hdk0+6ybLWub\n",
       "5+GYLN0w0HaVDbn3IaFHWdMrHOLS1V3ZWCeIrDqgDf67dt7cjzkUZGih0jyBjzEmhoen+NW2yw/W\n",
       "+3GseFVd3ffS6zx7o54xFST4daPbzmD/JLyqe8SHXSfsYkLfUQMCPae7FsAMWXmMsUTJrcZaKGfE\n",
       "mMAD7/4UZ7c+8gAJTnH0A6Z+AAcWUEWbE8/4U1SuzkHEBZ+BJLuitkgegoRWto6/+mMWp8bKGxTV\n",
       "/sMoBqeJtIcFeR2MO21SI2miJExlgy4PNvkRFAo0nn4y26B/rTxH9aFQdWT3ysBOUwisFJxIyS+u\n",
       "hKd4JYlYDsnLrueRIoqG1xK2P6ijCBBwyUaN5tlo/7c0fF7XVohMC/++Eq0oyfCcyC82cCC9FVuj\n",
       "cTRskgxmjYwVJmJqhIOeUyoDheLJp1xTTMzTHoE1y9c4mrd2+Xei6awakuT2eSHoZ6GTRGw+Ldjl\n",
       "yguzMUUlzppApjAEPCiU2lf1hIHU7wHwlS8UXfL9Y4NG8VbLmiJp4zA1zZBMBHp9ji3C7pFDK+Av\n",
       "UqIz1H5g8BQUOKlMst54WWQWwpCIh1ZS2vtzEWupjuiQWDMiXtv2MER3eSGrknlp4WyJV59veRmh\n",
       "dEaXUEek5j2uGFYt1kNtQ4vI6I6/r2oacLoX6GZBdVLhj0cKZJHgfaRB6YLUkUhc0pLX5GyaNVV3\n",
       "LbhhhvT/C8ZrLHv04tpi1XZnvvSN4+A4AVBHQwz6H1ThY9h//pVYCCFgw07mieCVvNStLShH67rd\n",
       "aiXljasUMFnPOGq2cj8zY0uwDat5EE77ZD2apgrmslTOkq6w37D1QwBx///jtmBIxaeHoufghU0V\n",
       "RcSpDZU99PV6TvRXOm/Hcp3MH4ITIDpGmGHvlOx/szxn3Cq+mBQW1Q8fEhTtt078k2gLIkHlKpY+\n",
       "RcS7Nf9Q8KL7QfCKY8v78N4nxR/okwHGM6sPvPPTXoF2jOUn7F/7UVmI1fEbcpq2jz4IS5XfzVzH\n",
       "PUnC7wDiGypBkLBgciUlCWeVmZqqdkEtKDuxGSpfN2g0bzk5K5wBRHc0J0QkeNq4B/tOesOpkmt7\n",
       "xMoM0eNVpHyjuKJRzcJO5aP1IO4fFbZsvMW3JULHQ2JyqYuw8qVlzO5eZIMhfQgXNrrsfIqmaTHC\n",
       "U3fxL0ewGZzLrSFHvf5ecETAAdKExTSIsaSz/5lSYYDrle7Z+/D72Bkzk1x8Wk73In3B8P70xTRV\n",
       "WyPY2xj1kxyl8tbuUaqnOZyQf86bon5AAf/JgaSiO3oBzDYGLpk83eIKCVsMyRox0oPsts5CqLFo\n",
       "SAuxqmTueI0sH/Fa8vmv6nRw9PUgD5/KdvKyE5f4AI9ScCIrTLsxha2vnE6iQuEJL/KYzvqAFaU0\n",
       "Fpl8WzoKGqs5utkruscWwsqtWT4cT7OTKOm1HgsvmgpK6FopyYH0QIsElIplI1XFZZ5kUeuTiGts\n",
       "TN1+VZ/jrDRJitQkSnA4TMhTNR9yBj746jtFmNpI99bEe49g1dmYfqCwilF0ipunn///2cdeqZJI\n",
       "s7I7KOzdpc1ZKWrqAAJC+yW2vj7ib0voCbk/5FD20qazN1v23melSAbSsvY1Holn0eQjgM9AAXU4\n",
       "BUM1hospUnRqppcAfRoHrZJ6danHoyJHlF+9kboa20P9dlVhv/AIEUdupq1UgyDr9inoaIbK+yR8\n",
       "twJHhGbMCEFVCE/pZkfz4k6ih5Uw6gHkX1qKxNNfvdV7Sgqo+AMqqHeVqb60pBDhnYcazdRxR55D\n",
       "1YJty2OJ3NM6y7Yk76yG0fzfhXR3BB1kwYEJeWB+WQdNa9xlw87qpf5uwSkwoYYQQz+penTsY11X\n",
       "Qa9LSwpk8qhvfxPN2XXZCm/Mu74XC93CifEvDMwbCGbH1BjE6MnM2NEhdQo3dAcg9qgc+oolo37l\n",
       "6BFESmGpgV8PgUXtxAJ7YQmzgkNOsWlvTAQtEeO6X5qEsaDg5Sy1hTrg+6vXYUy2EtcsZuffFoRQ\n",
       "ye8JQvupo7fJTIk2JuDioVpVUSqbowQkbdMA+DlF3KNXyJmwoKjgTqaXfygKp/WRHG1igl3M81bz\n",
       "lD9HG5h6lATmcgvQSPz/hHZipJYY0YRirWRxUgCFllNg0A6brFha+WsrZnmAodHOaCUWv+mxii2m\n",
       "GkMxi83UEJYA3A3gRACtT0fb1Y46LdnVSc+KZaicEOWC9WRnPlBUwDVqdYVPLF/HZtaIa5iset9T\n",
       "yTCiSSM8gD3FjrRHPUy/mjXSdU8CThhPneCI8nT1EM1Xxhv72xMyySHsB0Hglv/TUlbQEK92Mlob\n",
       "bKTRtEV/kkfFOV9UQu6z4IrMXI2UPIwymw6oW0519CNwkaK+QmZbaB5i0hdJ5AABMUI5vPP3Jjqx\n",
       "Svn0sEm3e5sDrLV+UQNyamZ441qkDJhhB5SdPS4czS/gILkb0gpQXdxTgCmLdflYGkOSI9oF6wqH\n",
       "4I//fzBXaZvlnzUKyUVUQbk6UF17aBWPjiGEVw+QsERWpoRHQqZz+ZfwL1GKs5j5/wxtGZZUeqkN\n",
       "IOZo7icIQwLKg/VdhafFOFap/bWo5gG0HAdbHdMbJwXkigBajlkLJBbgdKa4yA9+01pA1jPJFs3K\n",
       "5PXZeWJZ7yr3O2oFaNMDXyNyPFDcDPYYRsS6r04YSjDoQllMURSlxRlo3dFtiowM0PjXZsxksl/h\n",
       "HiiLUDYAuzJIc1+Rs3/HUWbRgeAZTfAR4Tl0RUrfWDUfC77iFKDYDJsooIZvSd3X/X6r00e0xmQV\n",
       "YIU0f2zSBFBaHAOoBtGUMtvBzRdT/4x/psf0+md8Ag6La39KtQ8ZEz6Zkj1ZfokSVdQ2a2rZLm1h\n",
       "cS6YEAA8rj3OMjr1pdciJN4PyaXEQ5X5PdJ8y8wXrTREBrPpcWzZPvNkY+QWAcYRJbOq2QzQ+GwY\n",
       "7z8U/Obu11MwhFC6nWwG0588BEkwNUILkMPI9Js8noCWqe/1uQxhpFhGcCGFb3/dLMMZLEDi7abo\n",
       "4ry4xoxMhhKGKXSNYDTCukCLNDI/6LPHj4whRH1bzqOcMd64EAAREhRf5J2+++J6B0rrTiZ0Mm1F\n",
       "0U/g8dXqKzhlJaPsYE/PnViJHal4hl+wG6cF/rplqWvpFjbAMZKOdB+r6xdCvizuJNBdCUJ6TINl\n",
       "j9UIQSseFg+9SR4PugVuZCnbcXxT/goJQ5+kOkbic3jBuh9bacXld87S4TI8dObu0TWXDqGC3PIS\n",
       "d8nVYdANBZuW3r9V3eqZJ9XoRUfqf0/fEO3IMChSf9O2REjJ8KhncbkI/ZfoFtsAhm/581dxKwJr\n",
       "5JOqmzTRf12Ef9+2ynAl4/611UjFRAIeNMH2TdUEhlT85dF3Ym59/XCCp6tlXqUt9nEZegK0867W\n",
       "cdfsEelZBjoV8EXCaEDHjX3lYlgjQlnD2/Qult+PGlyxu8Z6OnpxZ2P5m35nk/kkgAe3iqHWT4Ww\n",
       "RwKq37KdxgenL27Z/uSpNDMATWsGB8poKIKIYqPLf8r+QpFVwLYfaDCdjrcHFAfOMlY4Sux02xDy\n",
       "FwHs7i6gxJgCs8Uq7+z3N0hosNyJwbyhyuY4BUQ46+hMNLYJLYAQs7q5IjxxMtitH551RXEPwwxc\n",
       "oqRpUtTjjBva4CrQarr/z9UBX8pEh1+T3grCfaxijSOLVV/vGL0WrkRAwJluvcXycyOt5bkVk+mo\n",
       "HbxzQmr+EHL+j3KgamC5ZaeS3k+R1MbWcdOfI96OXBwA6jEUQ/81YAwD/IH1hE1zsAz6zEo5j5Bs\n",
       "DFvDvjhoGYohvn07qv/m98szUyZUlBIzTOhgw6NP8j9ZHea1Cxsw5K8ZlkqJ4G77lKXVLnwYSvvg\n",
       "YpwIoLJsg5+mvc9xFJaJgBkRkO8IVPBaTJ15juDBOJEGreVMTYxN9ZWOzdV6j+ISJ/hSVk6q/qFE\n",
       "Zb7aB8mJ+yt7wPasrFhUv4VBxF7LJSfgMyBQFNU7jol1V5N1F08AQ1MN+ZNKr/P2m2Y07tgSsENd\n",
       "b/b6m6b+FBkrqB7MUw5L0dhL4fMuCfA6/4R/fjzJy8XFakfG/HNPluZkOXGwDl4jE2PAN2GF4rps\n",
       "xvJ+kiSq/OftC280eJszw4EVTSoTMJAesfFOjMBDRDgHKFjBhInP95vOSxtrGTMEBuTyTwT+KzNT\n",
       "z22n+PMZAx+X+ZEBJHsDvXhY0kWIarvT165xKg6az3LRMQeozHHN+5FpCf/SgU++Ttpxcp7W7/F3\n",
       "0HMV8NxaL0CZwH+HZxL5Ra7XgIIWwGXzCwG0iolacLgClufoJgFPdbR47NLs/JtgSIVa6YR81V7Z\n",
       "+DNRBc6YwE/oMO0rSi/p0S7f9jKjf6xBtfWpph9G7zX1bmc1TZV3lPCqF1uI3esw13uNX4HZTOzm\n",
       "rpu/nxSTO9CFSY3xI3Wiq5+36ar+lEV40a8QaDtkPFmyapHOimNA8p+K2gQxq7VQCK5ZbLgDgMjh\n",
       "kntQqt0AwwcSnthcjPk1qi7I2/ZLFum7RvIC8nfG3UAlGFCqSFJeROZfeUCP9SEfinOlq/l63oLE\n",
       "Q3CHoSGZvHtCmn0PCbaLWmdXzhW+NiokO8G/c7u9H+w1zjixhvabfewqEM7PX969rOi86PNAWK/N\n",
       "hRkrmvV3bNSt2Ikp58w2c1LJCAN7GBLektiq3y6yYFPquru9hu1EtyX2ZCQP5r2sNx7DYuAxELRH\n",
       "Cd4cTh27BRB/vt1tGA8E22kj17vLO0TCdHunEZah8btFi9kSTwVvxOUJNRCO6c8JO1WUSWlEu50k\n",
       "WYZB6fuRcupshp8P+M/bQv9Ottki5/qdtRZEgL+i0+U7vmbJhtz7u8ewQqff9Z/cxuCFS1LZo6Q1\n",
       "xejpVM/ItE1IuEts23X1NJII6HiYcrHswSn7ECJ+Alkr6WR/bpKiE4Xw9+A4fdV8LvU3IZRIWy+a\n",
       "nLNO4dSTvEiVBViL4ZMfTCMdCAjF92K0JSReIgoVHRvPZRYJiJDUIwkd9X7bf6E/JtBWdGiY2g36\n",
       "9cD/7BZd41wc3W/J305+4MhLykiB1o2zIzHbQa/bfVDFu1G0xkyAGEMGIuABv542BAj9QLoiqvud\n",
       "YF+RzdowkRMm7d7199ImOFokMPEgmokfs9s9uq1cH5cXWwnEcEnkIfX5h6pwMd6x2vEhXv7/ugPe\n",
       "q1i2BvuadE09TL176sHH7ZTGzrNHngpNUOi3LHyZfEAqqvs/ayXPu9UrbdG9YyZY1WUMxBrWHSs+\n",
       "5lPt9NZa4u4WggOVbb0GZpqhdhK4OsKxuAdOq8OTo7rn5ooKrBwValG5sUdesS+VxT+toxHff+nG\n",
       "oqPAtrSYoFfakX7jJ2krlaK1c/qyUzPL9EdCYm9lT0y/oGdIedbGaiiCshl5dHCP38lmnly3LY8z\n",
       "o1k5RdzDhCABWq36iuj4ULF1yD+AAA8iCAAATsUf/Hmi5AuixoA4jsWecUhJ3goQxTnozY8vEdBK\n",
       "L+h0GfPdErK/TIdn99TeTp9OnOar6cmL6SIDG0sbrY9r24xDGgS+hWTbDQUi15owKhZAtD0hiOKL\n",
       "eatCjxQAPFBHj75jqDMVeoTgzrLJKhI0EXJnU85wsR+dgLNR2FoME1Hwf3s3iW7YcnEEldXH6Rns\n",
       "7dQW5KWEuitcRv5GJTekO2SCKKKVcNY9dkef0ZvjrslsE5/IDmqLtdleWnVe2HltExo4styOrnSE\n",
       "ySqc5LljovvLVH//+bqBIfrMokBSLZf/dHvrsEZPUiMOuS1ifeRzSmLnLhtV3fHBR9o8NcHwQj1E\n",
       "znmLkShRm3/9lK37AW6EQpCXa99dzWTfQGA4n7gV6tDvHmpfXuNRZdz7bq0YnqBmJrULuOUp9xL/\n",
       "/+NiwRYd7yx1zBAyrTtUEL6RITWjmZXMqPOzAlQbvC7tDVwW6cLjmhEbO/kaPeT8lWngNAfdsgLk\n",
       "SPGT7hfFiVrFiUabcP8heWvfvBvUhAmmlfifRGAeH4bzoyHCxLwsFB32TIvfNoes1nlQ31krAn3M\n",
       "JQiLo4JSn7d2klhHKbm6KJtXWefO/neUtpwe15uxDwZ0GAPoipFnO7qnguYWkE7gQOtsF40OTJFh\n",
       "2gvPy8+bBab3U3G85bB0+Cd2t00fWppobNj/IskBfX4XkZAXKUPTChF1PzfPyBQRcr7CD9a31g+h\n",
       "8usvUeh3gXS4MxES8MkcL3GNykVevONApSrdHc1/ai5cs2wgKsJMNWc9dTgnnWbX4CJir+L+LE2z\n",
       "yUarSedWOn2ClaRuzaJNdfka7XgTlGYf2XsKgAABRLb7LSdbOFJenp/2iB0xH6O/O0aF/eE+DrZN\n",
       "HWfNZR/1/i9Vv1Kw17u5oN5q5ib84zGZH5/dieJEPNY5ON7m6n9UCvcGMCQwcxx9FazkI2l7cMCn\n",
       "rXZGExMpHFU5EWmNAFFL4rdn4E9nSvQ7lSNtFj5bzMux/Pb7CE0ZbQPAjc9QaluwA4tfOeT/XUZ+\n",
       "nfpi6ch+j45P/gaoKoYbbls0TK9lcBE96Ne0fcz9ONjXdcLI7MxKACjz2TC7XGOZFaNBDXIlxGR0\n",
       "EnTZhPDhPkuOqApLQFF7a9v+OxA7zfwH/GAXeKceS7Mnbr+5zqS94rCU7adNVbT6x2fehrdfKxea\n",
       "5ISrcMjT2of9Qc2w4A3wMAxraTc6sbMgnFFL6PGjyqoYj1T91V9Ex6pjq+Ra2CaiLyM1dKxRCyLm\n",
       "ZeAElhF+TuflP0GCIpKpTgGPNsnew4Zhupj6D7JWqsfvyF6FYp7hHnZjbUDfTsUcX3H62AzfAqzW\n",
       "hcS4xVb+6gRgMKqBHpjvmv1aAKf4ebgxXAqsm71HXM45Z83z3xteMmXYDncXB39l1WrS5DKeElph\n",
       "RhrW5OMcJmYv3wSaGz4UxhwyXcHOTSeKUiKQFXx2amKqeIMJf8B9KaixxpGHEZBKw3sbbuRkyqBK\n",
       "QgOKqOrDjuRrCriZR0c2moJMitC7ELJNoMRHWismM2N8AZQhOz+jIiq9IhfJqkhs8pbT9OjHDnfw\n",
       "5R8EPWisS/4TZvXsPlBOk6zMckNzd9jfev5m8bqxx4RqZvm5UG/xedUs01OM4oF1w1q5l8a+wv5n\n",
       "cOAoSmMJI091lUo7IMrafAwSM4HGAFY0xd/53+/DjgEPPxlTUSjcRarbYyce+vtkPCfeg9Yh8ezD\n",
       "B+SsLqQo3fwPWQGdAAL+UKxUHXxLmCpC5sFvQQxEzeC8/NpsKho/CsUwQH2hXF+XB0DgaQuPXOrG\n",
       "mpC+4CLc2WE2EMwVlaJ0nhbpBHYufLLziso5nld9cd5zvhMkTA0wa/hrjPrOE9iPaudCttPUA+7b\n",
       "xKQPlPBSsXSd8jaohzXap/JaxkKH+P/V7x4fTKd//zt/VNPW7osyUFaWlivxs742NDkdJh4hO/ME\n",
       "6jkqvIVfVAijLl9g5Jf7zneFSDoTjVYBvT/02l4WFmj5BblDurNH3RKh0DpnOSaJPF8/z8tTISdm\n",
       "qDcl/vGS9emInm0/+tzgZix16PUoBKUiIoMKl726mLf0cl97gCV7E6jMODxkI5fqBK3nfjlVnSZr\n",
       "XcYlAJ0A9PX4/ZGrN1hyJI20tHTeeEh4JMpyJS9mTt/wd1X9jKul16Rkj/p5ZzYDdbVlMtjsgXzv\n",
       "/8X76X03bOu058qRAQCg+4ME9fY0jSDE8xUUodJXSIJettbonHtGrcO/GNIkuE3Koy8OJjzMZqsU\n",
       "8fjs1Oh2kxyIZ2BcFB4J1U4ATLYsJBmVp1gfum5iSIoEvbeyJy0oT+mIABeiZ5UFlwma/sAFkdoY\n",
       "F47zCAAOxDXhAAADAAADAAAExQAAAOBBmiJsQW/+1qVQAAADAAAlDqHZADbdWQeOG6ptVuFH6K06\n",
       "pHfiu8BQ3mBe/3sKPUw1hBQiFq7Zt6mrROnr6K1+5Uyf+HPFYfuDyfDWE1Lh0XU3dWihtvy8jBSy\n",
       "g4pAogUIwUKirlibbPWU2v/rZn2Z/TCOpf0D1JIxIj4BXOVPpygzfvZ17Vt+MXxjqUh+gEiyLEig\n",
       "9HZ7kTxA0TOMtLpU/H7WdoGy9wlub9pet1j8ZU30WTKoAFVf2krVmEfFNnfXyHAca+m8xVQTGh/7\n",
       "7r4aPBFPXuMo6oxbUyz7ZgABtQAAAHYBnkF5BL8AAAMAAAMAB2kvztc2aZuCPGXB9CTmm4TG7XTS\n",
       "+MXKEqI1ecfVe7I6Y95sXwKW8p05/yb6iQAcnstenxphODzt/0f5MbxtO5jICzuQYV8bgVjRmx2E\n",
       "DyfEzAJr+vkp8eYREhN9OdRmP23Pi2hWAANTAAADekGaRjwhkymEFv/+1qVQAAADAAADAHJ/ZPdL\n",
       "8ZSkm+OX30p563OG4A6XAO51MDjfi8GuZ8CfKSKj2PMqacRFdgS2JVv1hlc3Q20xNfmJrrI4z2fe\n",
       "usBuqW67k4zreUquZaAfji06pGQZDhzQUt5A0aCe5bpW3rU0VKwEPZo7U4frRdxutnF9VmswiL9F\n",
       "tYnN5utPnZeRCOLFdiJt43pYa0gcFmkgZgsuUQnd6opif2zueDllM2OeKKXbbKmwjiJbDOAQeoaD\n",
       "P+m6gcKHQZrJQgFbL4UPepUrUUzt6wJjsXoH7wcCzQ+abW9pNt/ypzTWigludFmjxTjy1Ebqw85Z\n",
       "CjQ2yw36GsifQ+Igzh8IvjlNzXas6Zukic9Dddojji5rbBeQjiRDR39tFs4VUHryDdn1TbtB6/wf\n",
       "WHw9LeThRxfhl42H6j9BIIgDUC8qHx+Tt1z5lCi+y8diM6G6y//5RSAnjifFb5ReGBcB7ZQGwrkv\n",
       "YQOVsSVnPOiozSmPBfhHZMntD892XGnNZrfO/RHjoYqSuq8XvL5ZszgrhdpnX9C7jzqDFb3RdAQU\n",
       "JO2VwAlyBhKobaGia9Z0nTcc0LXa1wp5uRooqOi3IMUR+klvFa0r/2+0rI3xDdiyoR4DOWwYogjS\n",
       "G4kggkLR0vBTpZClDygNTrN9hRlS8MGU9KXvWkWIBmr1IoKE6+OatQ8xhHEHHeSZrTWBqeOYzGHc\n",
       "+XRfiKco42r8kdAU3DcHqjuZ/8F+HjSlEn2HYBTudqcLuX0a45gFLWOMzKbqqdJkGjAw//SSM2hZ\n",
       "xGFV06osG0IK4FPQzDFIrnU3twpKiwm8a4TXhXgPJWk8DCTNbaLh3gX5QZDQq+VwVjAvVGVe/TIn\n",
       "gxM5fKujTuPZFX/7RFkTkbFDMClFAtqZQX7HZm43e3zsRiDxVRB/GesBJ9t1DrarrQH5PCbGxceQ\n",
       "zvaBISsemMyb0Sk0tXIpPCn0sxKLmw0AkRRYp4sIfvrwnwYH6KwYCwFu3MPxL+SfqE4bzb0lSId8\n",
       "t2LSJsRLWV8nQd8cFh+1nMg/4/xyDn1VH1AtAN/KzhgNXPVHqxjEjoXB26BTqaD5ADbFWz4Mz7/X\n",
       "rQk/4O3gsU5A7RLHHJ/hsbU23i35+Mcy2DNMhU4fgSsD/Ae5Z+y4AAatJlCaNnaRcu0cfD94BGvx\n",
       "pCNMXlG7+LPgAAAAKEGeZGpTwT8AAAMAAAMAASfh4IGJcjG+YujXE6P4UkXEYKp6OImABH0AAAD5\n",
       "AZ6DdEEvAAADAAADAAG5WMOBnjuVNV/OGT+FA2SgBLWXZcJlHEJDjq0Jv3/tD/J+JaHTfz4fuu4k\n",
       "nkST2ym8tEnzma1nOnabFLToB+ud5rGuCwxSMAphfR14tZ1NgPLRPrlNT/rZjxOAv/vaHJgHL7ms\n",
       "CjvzIKUyLT0nzEnBLzwcsNJvx+NG9Kzf67TWcT5epjOYsbEyQJmS0KDJT5oXuBiAxcrdGQCTocYd\n",
       "DYr0IEz4ovfHAA/vsT0OpUr6uvS8Ir5txmKg1TMqwHr6duJa54d15XJaJdtqD/hXr/OV8eei5fbc\n",
       "+u3/Zj94kpgHh+lCbOgzaWQIAAQdAAAAFwGehWpBLwAAAwAAAwAAa9zLJUAAACbhAAACckGaiUmo\n",
       "QWiZTAgt//7WpVAAAAMAAAMABvfSWdIA3fiTfdDmB7SMVbsNu3y3YeO5vsPzsu/v/aXenN/l3bTz\n",
       "WXBHxFDpdkKzJjK4PNF5WIFBRmFUGGULwX4s1Y1EvxyTpKoK1y2lIQDvTN+p32gYhMrMxXX5ZQMO\n",
       "qF3AX2AyhaA3A8X/Po/u/SGYOyXEsj6hI9Vr7LeZLCJsRpB0nYkgYIyC2Xz/NVxt23fQ6izFhUpT\n",
       "BSDgG7hfWz1t7eru228Nnds/UOrv5o1b7eJq2+j4GVip7qUArlhsnsRHsYDrrQuPDTGY+XvqnJn7\n",
       "7LhC/6ioBXmICo5r/NpGvoFlsIN3lX8yjhOTrYiDsI+VKWVJLG8azgo/LDuG0CGx5rc0IdMlGaUZ\n",
       "v9OMSkFJaC6ceZ3hoV4Ab1OX9v6y1T61OXHW4q0cXIoWwe0sEaavU9ArUvzUL9Mg+nDv7FZKMsfu\n",
       "J/+duYpnIfQs2ipU+KhYxI/Az0e4dHyYPTvpz4DxyZMXjNA0jfYljsBEClW6GtcBkNWCSE9NT2Xg\n",
       "8rJ4heKNb6Oz66fIMNKvCRd4+U0pfbgNJHi3fSB4LHIKWpMTx4r/ZNcJ7q8YK5sL7Hr/90QZLGiH\n",
       "tgG+UAZtaLlhvsHaBMgZLR1EXWZs0MPPqvHs5Uks5RJhg7hDZWlm84x7Q0Q6K3b2kO6Ofs+fbkGh\n",
       "dKSqemerFER6BmX8FhsZUKZVrnFmOJbxZfSe2LJayhZSMauHd1T0s5Af/UdJEoY5yAgG92IxV7+4\n",
       "qfpLWaDxNmI2hjI2nHoihypubBI/IZm6R7u4SiaxnBx4v//yplBuODsB0g4lCaKlpmLBAAAAI0Ge\n",
       "p0URLBL/AAADAAADAABr2j2ehpKWsO5CMGn7ZAlkAAUEAAAAFwGeyGpBLwAAAwAAAwAAa9zLJUAA\n",
       "ACbgAAAB60GazUmoQWyZTAgt//7WpVAAAAMAAAMABvqRaabDABeWbklwNfNkqBxa4GYjGFLr+yPT\n",
       "k1nyV3gn/7zdTl5a07FdmijVo9s/Bmex4l/shy3d71HvBAaLdjZPyws3PvwDBtmtnCP2mxAtc3/b\n",
       "R/WUkZk+AW0Zd4+ywxGJdsHguDP4T6kZZaYdizROmPVDY5+9cd2X6UViFqJC39q+P9f14PCSDtet\n",
       "9d0L9L/UbF1Ud8nxDuDr8UD0zPoK9+Xn0gMcqj6qZYDkmQBuVQ3X85vrXFEca1xXKIA45xwM3kan\n",
       "gOqJVVuIbjkMnUQZNLxOKl62jSPyFkAR+idxe2sXT7pLjkdQyWIM5LBpk2zKG9LWpZNTgGHhatxR\n",
       "h5Q/srl0sfvc8QPcBPl8/tCStFvGKUd1RVu+7NEpd//ReyM/7EVeA0f/3TcYSoiPIEG/OGYLpFUO\n",
       "k+n0kq6lyCxN1ptDaTqL7fw69rOyb4OMzlKZG4AJWnwPKBjvVQGzxZp4pVoTG3Po4cmV/A/Qs9jh\n",
       "YjiDR17e2X7pTdc23PABG96gO3pfosviJnw6lUdU6hLEKXAMizyNK/ofutaygqnlZfQmJlW4oXQm\n",
       "U/hXM3SUxxQvP19NAmhm8J8J6gwoYMc99DnK5sb5TnnUsinH/FZmUvEfAAAAJ0Ge60UVLBP/AAAD\n",
       "AAADAABH++q9MXHMzjhqPyPHqS9ZtJ+KAAAxYAAAACEBnwp0QS8AAAMAAAMAAGvWML8FKs0j3fkK\n",
       "5E688kYAAS8AAAAXAZ8MakEvAAADAAADAABr3MslQAAAJuEAAAKCQZsQSahBbJlMCC3//talUAAA\n",
       "AwAAAwAG8tyla3SANG/IJlosEym6YNAMbCUXGmb1JB8Shkneeku6TJGp3zYf7km9kG7KRnchJYtP\n",
       "i1w32D4dS3iBOndV8KSWJb88h07kqgzviXfoJUGB4QTnVMu65WBasVUX5ya+9dPkUb0pY9AUZzJn\n",
       "ojFQPQRm1DF5AOzPJFbqEF2hS6/zmOmKYKR6MX/pUw8aiRaX+Nuw6PIfmjbUaQRC5i3YM9vmiPC3\n",
       "Hg/EV401wu1QPD2ucC2cDPItY0Hi3FvD3o/au46A2ZZIJ2wvOvrX+OaA3PyY6/mdO62t0GoI+71p\n",
       "6vBceqeZEVf6S0r8EwrZvyYt7tqwVF56e3V18AgI/KgaPxtZs3spU8AkCxHAGuYeM3zGjHLIZp1s\n",
       "egmbJiuiVNNjTaau7XfrelmEKJAqrz0YCZIBZiHqsP/BEdbjEAf1oKcaN7yPqvy5j97d6QJSzdlu\n",
       "L9/UCBUqzV2wRGjfYjb1AgRcpvY9ap+PrkT1QU/AIPy2Ser/dYe+cZMbVCQfbc/EDGn8r07OUR9A\n",
       "yiBLLrxRpTvbJqGnBiIH9A/C4yQzCcsCO47K2Shnd4GMYaz7MAK3i1/D6ud+KawyQ9PxqpKNRKOR\n",
       "fY6n9+8KVJK2jpX5ZEpFDLzAHK8ZZBvExZIgfM7YZs7/d7AjaDFy/sldSGAglX3aNx+OO1+GugAf\n",
       "IZllUjYaKwG9VURr0En/0z4lkw+l3r/yxWoy2zdEne4PhfviE6H8kXY+fwiLdvIJm+A+N9TVH6ka\n",
       "v4sgABsToBxIrSFAJpYghVtvKIgKJ3K+KSC55jQhM3EJSEZSRrP5/Mon6plaOaHntKYAAMWBAAAA\n",
       "JkGfLkUVLBL/AAADAAADAABr2j2f7b/7rRaoKNzkwFnOs/zAACghAAAAJgGfT2pBLwAAAwAAAwAA\n",
       "a9zLHQ0lLxlHSQiyMeWJ+1rjEh6gACvgAAAB00GbVEmoQWyZTAgt//7WpVAAAAMAAAMABvLcrbsM\n",
       "AF5l4ALv3hexzFM1h1w3Bghdu8E6y+HKhzJ42o0Je9HPSkqK2geHkAXvImzrBdLlkSwisV5R3KK4\n",
       "J6b/Nl1VL00a6rsxrKWoKrfVGiIUfsZ+FZEnNRiCvQLIWjkghjxsTCG83X6ZyTnELAyF68nCLIkP\n",
       "01x8npKvPcbnkaKy2jxXQS5NmWMOehZfdL0MBejz08BPO5D+K+0j3LiBz+tIM5Z21eckok1JRVWi\n",
       "UgozW8sMyJfZN3Ow9vcJa1UDGv6oGf8mPOIb2OXnKe12NXgCyzCSb9pAwBv9H3muG+OkWVqJLuY7\n",
       "Z7V9gkhWozRkTPJ3wyV0OcrD8CDcHPf6Xgrg67PPaX0EjW1Sg4e/jpPs3nXMB8LGrnVqX9m6JWUl\n",
       "Wd58ZPGmNNS9UGYmX34woimFVul7LAIBTPViMxBPEJBYXIHe4CAVMojIgI3liXhwqUylbXYRkaNo\n",
       "L2nwYEzCMDIzQ6s5A5cV/OjoedfuaydR1IN+J7fpL/SjijDhAQb4imlHCUUZ/0HDYIYdtWTOadLF\n",
       "ZtEZJidj084tn8uqoJRnGeD/Vtm33rGeRQV0n1DsYg1Iql6YW+I+AAAAKEGfckUVLBP/AAADAAAD\n",
       "AABH++q9MXHM6bv6VPrVbkHI7wbksrcAAZ8AAAAjAZ+RdEEvAAADAAADAABr1jC/BSrNNOlsYQBN\n",
       "ZN+zOQwAA+YAAAAcAZ+TakEvAAADAAADAABr3MsplI+kUXW+gAAcsAAAApBBm5hJqEFsmUwILf/+\n",
       "1qVQAAADAAADAAb2kgSMGABPefzb2D+xt8hHsvGZ00f5AFKnRE/f+F/wNjTqrsYAWuxgUoadT5+g\n",
       "xcN/Wp7gTOV8eABiiF8S3LSNEJkkLevK9ctr2sM832HKPiCF8gezwiMWSrUGjjjSgETmX/wH+SPK\n",
       "QX5tzDIcXsyZjKLTS6Cm9Cj5ozLc+ROB56rpLkNw816Rgz7UsMoPmY8aKPD/ocoL8awIqiTh2Hc9\n",
       "ALprw8XfYsXm31UpbKkSQxrynizoNAI0MsBEHl7s3JLviN9TheMQw8jpsOh0ve4XiHDOu6KIEvZU\n",
       "bFUiGpqxRjPwrQhAvcfmyAm6JS6m0wdB3CPW+zBy1AkhHGk1EFxNL/RqKDW3U5WIypJDpbY8eMzx\n",
       "6+xRhZeuJapRb59TYuPP4Sim4PzSQpo9ecN8BVBIYH5vSeXLOq0p559xnCo3O23GfhCIdeBwdqQ1\n",
       "Kgc/qyiCeLBB7IquKvG7IPbKh6SBWKHSTS8MakJLedK1sFT8KXInQAxqUZyZgwi6fsZ38UQXCIFK\n",
       "4Cp2B+ZMLEbstKi0WHLrQtE7KwcJGycGqtJvXKQP8M0RtzE6kbK/rZRTgU38aOFsb+JKek8V67XN\n",
       "OFXkErcEnit7LB5VDuj7btSCCUHo0bxmin4v91e5qOpoWlDWxrVMteaARC2D1DZ5nxRoH0FNFf2x\n",
       "gLbwXy2/Yj/i6dCAx1uknuOUioOWg0N/+p0BUAlW6su/ONwB/bH8QGa0PBdvgvDJAAn7eJC/ug4z\n",
       "rqxInOnORkIASlWDEbfn7GGobkbt9hwumVdz+te6fbICxn3OWP7cp4zqYkLMjm/JnRWq+S+G2hp6\n",
       "RLpgTETOKJigwzYk7orjrwAAAClBn7ZFFSwT/wAAAwAAAwAAR/vqva3C6LGB0MYl/vujhA7KbxfP\n",
       "1gADBgAAABwBn9V0QS8AAAMAAAMAAGvWMM/+eMNI2N0AADlhAAAAJAGf12pBLwAAAwAAAwAAa9zL\n",
       "Hq+GrkXOaxgNyfPPm7IAwAA+YQAAAChBm9xJqEFsmUwILf/+1qVQAAADAAADAAajjcSgBxJtU2jB\n",
       "6wAAAwKSAAAAHEGf+kUVLBP/AAADAAADAABH++q/bZ3CoQAAErEAAAAZAZ4ZdEEvAAADAAADAABr\n",
       "1jDP/ni2oAAB7QAAABkBnhtqQS8AAAMAAAMAAGvcyymUj5vQAAFVAAAC3EGaAEmoQWyZTAgt//7W\n",
       "pVAAAAMAAAMABvfPZhgwAItmkc/MnsbxP0S9Ni3kJV6/Hi29qhlE8h2qqm7iVA+2JnZNvdlPBxEb\n",
       "wIjBLogFeldaHL0zEj6yGP1UsSxz+RGDHH1rIHxV7ZpBED9ko+6IUaNfpqPOPOcUawz5dXXvR0pm\n",
       "ZkrP7GD2jq4m4NhPax5SVV7HUZ1G5kg2adSMO83ops2x1qOCWnOlKeB0pNA80woHo9Ns8z2d16ox\n",
       "ABxy06/bWPF31qjhwjErY9iliYoh4lwxQGyohJHe1PK+WvWK9iPz7rqRbP5OExOBhoG4OqWo9evL\n",
       "U+UpJENHLjxhKQFcPFtMC7PUahNw2yBugjZXIlR2SdIsRsfWhb+LDfiVgeERJlVGQaIK8I2Fzn1F\n",
       "mwu0rIvwQgnaEGoPZj8QS5BiRYsJFA4L5DIcE7jOGGRs8cXAo70NYAoc6hRmUdHg1be9syDPAwyH\n",
       "THj290wlqhNtiiUbNAe16okagt6WIcvjsF9FMr34vEsqkRxJVAPEqBCB9331ZqacRJiSbPQIlCel\n",
       "PprI6EniWnCIYv73dwQ9wBEEWV1NGiohXN3XyAM/DXDi1Dnf9x1Yc/kKQwnFUiByIFEy/a3CuPN3\n",
       "HRMpGbQioBnQLAH9V8IQWRjnC+kzfIjngM6wjcN0Ovt5O8p45Sk9Mm6Ry3mKTuY66E3cgOY/NRMT\n",
       "1Xq230dd279XS0muxexaYm/sB7TNdK040LqIXjXSO5tFDJFYe5Xv19+6MSkeHX+Mmr1tF0kBWUgR\n",
       "pBfx0JSR8JvOhFmYQ+TK3UScXKK+mKesBkX+AVbPkGgHL6fRdSXtXBClmbBf04t0+sBA/f6Z/2cj\n",
       "j3z1wJhXQh6ogwFwYk9Q1FCCpj80Ark4LaafjKw/ic6uopbz0ua7XPLhbVTJVF+AccqEZ5MWBAPg\n",
       "xr27T9D9rl68go/VD0Hdo/7UBfmvq0sIlM68/q0JTAABiwAAAChBnj5FFSwT/wAAAwAAAwAAR/vq\n",
       "va3C6LGB0MYl/vujhL8yZclAAEXAAAAAGQGeXXRBLwAAAwAAAwAAa9Ywz/54tqAAAe0AAABPAZ5f\n",
       "akEvAAADAAADAABr3MsWBYj50CaxK6db8JSyfyOADaYDHIG9MPYEvMEoba/RHaKvy2MR7wd5e3Ff\n",
       "0DdH1BIk9eC4MqDHJ9SDwAAm4QAAACdBmkRJqEFsmUwILf/+1qVQAAADAAADAAG843EoASKZq1QD\n",
       "mgAACggAAAAfQZ5iRRUsE/8AAAMAAAMAAEf76r9tncMYUf//gAAZUQAAABkBnoF0QS8AAAMAAAMA\n",
       "AGvWMM/+eLagAAHtAAAAGQGeg2pBLwAAAwAAAwAAa9zLKZSPm9AAAVUAAAKtQZqISahBbJlMCCv/\n",
       "/talUAAAAwAAAwAG99Ni4AAPx9CO6dPVJvKx417Lw5gV3pNJmYyJbIPl/0hqw6jAPIr5MMFNU1Rp\n",
       "h8djtyBlB/xe19yd7od9IGPgHdXZY6pxi6/RpaZs0sWN0oulhjb9N/3oUcTvdgidmuXv4kssSrOk\n",
       "LxzECmfgazR6m6PvNmGq8uXSBrjd9LpEk31ky9LPpQVfSDeYUJjNrfVkOUTyJrIU3cP8cagzdc5i\n",
       "xFN9SnA1BHx48S83RDkR51rKajdLmz/TYsVNVHRc7kjoi+k9D7hDCUFAQGM560RGAE5BQmstMNYI\n",
       "/tu0HgVpLXAtFHqZEU3h5bNfd24OZpW97l/JiXTDjo/NepxMDL4NxnB1MnTCTEvjpiE1O04t/G/Z\n",
       "WL4wsp/H6LOwWro31DxRkG2sa+XBdsRtQBwoIjHORHhs+AXOtS6wVPH7I0krgYjwpWbxUZSXMymy\n",
       "Ow1xPK/mXaJlFfFxNFSgSFkEtgUXz7KMbkqeiaLHk+9VjFLhLHD+cIJ0B5M/jpkgK8YnhoitEXzm\n",
       "3P1qThFoQtEe8+JmVK6UOiSZs9hEiiVGXqTnT4qYc/Z+Hi8iDG1V0gq0hWHkn+n7d+qjG45NQ5w1\n",
       "+GFJfzvgRK6zcRdfUX/4biHDaGfWN6fn6bLInicUxpoSLzu7O9/FQzQzWxzvn2h3c9kcLuJERwCI\n",
       "LXhEnpTnk7Z5qrTSnJMustM50RM3bRspiIfRf93aW8TVA3XQVaMrfnaqwO8yyclqfk35CUofHcWt\n",
       "e/RNw/x/1G5nWo35a/94Q0ONlxrC/HIUJrBncgxeqAeQfLozbtRyEscXGYP975SzjTXA12x+h2Ai\n",
       "tRPP2rY5axh5JYkxY1hD1z98956xOBxtttGEp7YAJmn4hERICUqrJAR7AAAccQAAAG1BnqZFFSwT\n",
       "/wAAAwAAAwAAR/vqvPf5cigAWuzg6Oo0s4ZTeMmiy8QOZ+WdodRFNzzoMqXaF58zOGs9wIbmLsAj\n",
       "qy4AOZZSRD/6H7bk0U/rG4OA8vGj+SJiOeKe7lWPw5zpX5iEzXZG3dCAAIOBAAAAJAGexXRBLwAA\n",
       "AwAAAwAAa9Ywwp8y02k8ezoRubLqMUPGdAACgwAAACUBnsdqQS8AAAMAAAMAAGvcyx6vhq5FyT1n\n",
       "QKYgLxL8a8o9AAGDAAAAJEGazEmoQWyZTAgr//7WpVAAAAMAAAMAAcn5+FZHOrcCsAACvgAAACFB\n",
       "nupFFSwT/wAAAwAAAwAAR/vqv22CyLHussKPbMAAGpEAAAAeAZ8JdEEvAAADAAADAABr1jDP/nlz\n",
       "vkf9frJAAAk4AAAAHAGfC2pBLwAAAwAAAwAAa9zLKSDUBlLu6gAAD5gAAAGhQZsQSahBbJlMCCf/\n",
       "/rUqgAAAAwAAAwA2fVhyXAAmYpMB9uIHOtrUiIxzGPivPxQEz2tB6cnCjiazB8pjuyHhHLtggpvz\n",
       "2FEQbqwjduAUFeIYN6S1O/76LKE/FcNew7146rmEnxupJnt5ZTZNhUtnYDlC1bSm7awiAo68gqlY\n",
       "0EEOjvnEXiPVZYkbhTZj4yyJzYq6GYfW4k/75YstjngqwyX1E1JjvAWwowYDdISotWJjNWwItdWs\n",
       "H7s/UfBZnk7x6vC2iNgL+HgViov+pfz+MoYMlFKqDkt9SQstvD1JnZcumYBV5/U1z0aAN6p/2/Wg\n",
       "Ycbw4Ych2HKtbvsGPWQBst9v+8PCNckUqa6OKCJTxJJuDNbUzfF8sOFz94y9Et4daTVDaudwSABX\n",
       "vJXF5bP2i1BJATtg0q2IbInJac6IpVCEmHzMV86A6CK+YjNDLHhkDgNcvDZvzwNC7wmEzA1YvQZc\n",
       "4QiGXSgG/V99fqUBrswLLnvIrbKSk7DmfaLzwPFQHObIWHfVJAN91hXgQR0rlK0dD9h09imdX0v9\n",
       "cCmvldXPAAAAwkGfLkUVLBP/AAADAAADAABH++q89/lyKABsu2siiCSSqkvpRhVRwUfHpqyOR3de\n",
       "vfTWSrEnkMF4sOUDR3E0Q+FsIFj/h3vt1T4GeBpTib0XVeJsM2d9ymxR+mzOT5aZw3ATfybdAIE6\n",
       "HXgIQuulDoPrwLeLVAeT8oGjiKLvn3w0qw1qvVt61LtldZhRZMNVBOas4FcSqMcNXE0AneUqz9l3\n",
       "Q6oMfLWzje9YMqXqzU0Q/mdB2SdYIckbbF21doGwAAeNAAAAJgGfTXRBLwAAAwAAAwAAa9YwvwSm\n",
       "Fmwt7nNjeQCOEq1Gc3AwAAKDAAAAKAGfT2pBLwAAAwAAAwAAa9zLHrGDutZa4vw4qACvicTwiiR4\n",
       "FO9S2NAAAAAmQZtRSahBbJlMCCX//rUqgAAAAwAAAwAN98azisQWd9ABWuUP3V8AAAV3bW9vdgAA\n",
       "AGxtdmhkAAAAAAAAAAAAAAAAAAAD6AAATiAAAQAAAQAAAAAAAAAAAAAAAAEAAAAAAAAAAAAAAAAA\n",
       "AAABAAAAAAAAAAAAAAAAAABAAAAAAAAAAAAAAAAAAAAAAAAAAAAAAAAAAAAAAAAAAgAABKF0cmFr\n",
       "AAAAXHRraGQAAAADAAAAAAAAAAAAAAABAAAAAAAATiAAAAAAAAAAAAAAAAAAAAAAAAEAAAAAAAAA\n",
       "AAAAAAAAAAABAAAAAAAAAAAAAAAAAABAAAAAA2AAAAJAAAAAAAAkZWR0cwAAABxlbHN0AAAAAAAA\n",
       "AAEAAE4gAAAgAAABAAAAAAQZbWRpYQAAACBtZGhkAAAAAAAAAAAAAAAAAAAoAAADIABVxAAAAAAA\n",
       "LWhkbHIAAAAAAAAAAHZpZGUAAAAAAAAAAAAAAABWaWRlb0hhbmRsZXIAAAADxG1pbmYAAAAUdm1o\n",
       "ZAAAAAEAAAAAAAAAAAAAACRkaW5mAAAAHGRyZWYAAAAAAAAAAQAAAAx1cmwgAAAAAQAAA4RzdGJs\n",
       "AAAAtHN0c2QAAAAAAAAAAQAAAKRhdmMxAAAAAAAAAAEAAAAAAAAAAAAAAAAAAAAAA2ACQABIAAAA\n",
       "SAAAAAAAAAABAAAAAAAAAAAAAAAAAAAAAAAAAAAAAAAAAAAAAAAAAAAAGP//AAAAMmF2Y0MBZAAf\n",
       "/+EAGWdkAB+s2UDYEmhAAAADAIAAAAMCg8YMZYABAAZo6+PLIsAAAAAcdXVpZGtoQPJfJE/Fujml\n",
       "G88DI/MAAAAAAAAAGHN0dHMAAAAAAAAAAQAAADIAABAAAAAAFHN0c3MAAAAAAAAAAQAAAAEAAAGQ\n",
       "Y3R0cwAAAAAAAAAwAAAAAQAAIAAAAAABAAAwAAAAAAEAABAAAAAAAQAAUAAAAAABAAAgAAAAAAEA\n",
       "AAAAAAAAAQAAEAAAAAABAABAAAAAAAIAABAAAAAAAQAAUAAAAAABAAAgAAAAAAEAAAAAAAAAAQAA\n",
       "EAAAAAABAABAAAAAAAIAABAAAAAAAQAAUAAAAAABAAAgAAAAAAEAAAAAAAAAAQAAEAAAAAABAABQ\n",
       "AAAAAAEAACAAAAAAAQAAAAAAAAABAAAQAAAAAAEAAFAAAAAAAQAAIAAAAAABAAAAAAAAAAEAABAA\n",
       "AAAAAQAAUAAAAAABAAAgAAAAAAEAAAAAAAAAAQAAEAAAAAABAABQAAAAAAEAACAAAAAAAQAAAAAA\n",
       "AAABAAAQAAAAAAEAAFAAAAAAAQAAIAAAAAABAAAAAAAAAAEAABAAAAAAAQAAUAAAAAABAAAgAAAA\n",
       "AAEAAAAAAAAAAQAAEAAAAAABAABQAAAAAAEAACAAAAAAAQAAAAAAAAABAAAQAAAAAAEAACAAAAAA\n",
       "HHN0c2MAAAAAAAAAAQAAAAEAAAAyAAAAAQAAANxzdHN6AAAAAAAAAAAAAAAyAAAfEwAAAOQAAAB6\n",
       "AAADfgAAACwAAAD9AAAAGwAAAnYAAAAnAAAAGwAAAe8AAAArAAAAJQAAABsAAAKGAAAAKgAAACoA\n",
       "AAHXAAAALAAAACcAAAAgAAAClAAAAC0AAAAgAAAAKAAAACwAAAAgAAAAHQAAAB0AAALgAAAALAAA\n",
       "AB0AAABTAAAAKwAAACMAAAAdAAAAHQAAArEAAABxAAAAKAAAACkAAAAoAAAAJQAAACIAAAAgAAAB\n",
       "pQAAAMYAAAAqAAAALAAAACoAAAAUc3RjbwAAAAAAAAABAAAALAAAAGJ1ZHRhAAAAWm1ldGEAAAAA\n",
       "AAAAIWhkbHIAAAAAAAAAAG1kaXJhcHBsAAAAAAAAAAAAAAAALWlsc3QAAAAlqXRvbwAAAB1kYXRh\n",
       "AAAAAQAAAABMYXZmNTguMjkuMTAw\n",
       "\">\n",
       "  Your browser does not support the video tag.\n",
       "</video>"
      ],
      "text/plain": [
       "<IPython.core.display.HTML object>"
      ]
     },
     "execution_count": 6,
     "metadata": {},
     "output_type": "execute_result"
    }
   ],
   "source": [
    "HTML(ani.to_html5_video())"
   ]
  },
  {
   "cell_type": "markdown",
   "metadata": {},
   "source": [
    "__Exhaustive feedback:__\n",
    "\n",
    "In its default configuration, the social partner gives __exhaustive feedbacks__. It outputs all the goals that the agent has achieved at the end of the episode. "
   ]
  },
  {
   "cell_type": "code",
   "execution_count": 7,
   "metadata": {},
   "outputs": [
    {
     "data": {
      "text/html": [
       "<div>\n",
       "<style scoped>\n",
       "    .dataframe tbody tr th:only-of-type {\n",
       "        vertical-align: middle;\n",
       "    }\n",
       "\n",
       "    .dataframe tbody tr th {\n",
       "        vertical-align: top;\n",
       "    }\n",
       "\n",
       "    .dataframe thead th {\n",
       "        text-align: right;\n",
       "    }\n",
       "</style>\n",
       "<table border=\"1\" class=\"dataframe\">\n",
       "  <thead>\n",
       "    <tr style=\"text-align: right;\">\n",
       "      <th></th>\n",
       "      <th>Descriptive Feedback from Social Partner</th>\n",
       "    </tr>\n",
       "  </thead>\n",
       "  <tbody>\n",
       "    <tr>\n",
       "      <th>0</th>\n",
       "      <td>Go right</td>\n",
       "    </tr>\n",
       "    <tr>\n",
       "      <th>1</th>\n",
       "      <td>Go bottom</td>\n",
       "    </tr>\n",
       "    <tr>\n",
       "      <th>2</th>\n",
       "      <td>Go bottom right</td>\n",
       "    </tr>\n",
       "    <tr>\n",
       "      <th>3</th>\n",
       "      <td>Grasp blue living_thing</td>\n",
       "    </tr>\n",
       "    <tr>\n",
       "      <th>4</th>\n",
       "      <td>Grasp blue lion</td>\n",
       "    </tr>\n",
       "    <tr>\n",
       "      <th>5</th>\n",
       "      <td>Grasp any blue thing</td>\n",
       "    </tr>\n",
       "    <tr>\n",
       "      <th>6</th>\n",
       "      <td>Grasp any living_thing</td>\n",
       "    </tr>\n",
       "    <tr>\n",
       "      <th>7</th>\n",
       "      <td>Grasp any lion</td>\n",
       "    </tr>\n",
       "  </tbody>\n",
       "</table>\n",
       "</div>"
      ],
      "text/plain": [
       "  Descriptive Feedback from Social Partner\n",
       "0                                 Go right\n",
       "1                                Go bottom\n",
       "2                          Go bottom right\n",
       "3                  Grasp blue living_thing\n",
       "4                          Grasp blue lion\n",
       "5                     Grasp any blue thing\n",
       "6                   Grasp any living_thing\n",
       "7                           Grasp any lion"
      ]
     },
     "execution_count": 7,
     "metadata": {},
     "output_type": "execute_result"
    }
   ],
   "source": [
    "from src.imagine.social_partner import SocialPartner\n",
    "oracle_reward_function = config.get_oracle_reward_function(goal_sampler, params)\n",
    "social_partner = SocialPartner(oracle_reward_function=oracle_reward_function, goal_sampler=goal_sampler,\n",
    "                                   feedback_strategy='exhaustive', p_availability=1.,\n",
    "                                   params=params)\n",
    "\n",
    "exhaustive_feedback = pd.DataFrame(social_partner.get_feedback([episode])[0][0], columns=['Descriptive Feedback from Social Partner'])\n",
    "exhaustive_feedback"
   ]
  },
  {
   "cell_type": "markdown",
   "metadata": {},
   "source": [
    "The agent can then infer the negative feedbacks by simply removing the communicated goals to the set of goal he has already discovered:"
   ]
  },
  {
   "cell_type": "code",
   "execution_count": 8,
   "metadata": {},
   "outputs": [
    {
     "data": {
      "text/html": [
       "<div>\n",
       "<style scoped>\n",
       "    .dataframe tbody tr th:only-of-type {\n",
       "        vertical-align: middle;\n",
       "    }\n",
       "\n",
       "    .dataframe tbody tr th {\n",
       "        vertical-align: top;\n",
       "    }\n",
       "\n",
       "    .dataframe thead th {\n",
       "        text-align: right;\n",
       "    }\n",
       "</style>\n",
       "<table border=\"1\" class=\"dataframe\">\n",
       "  <thead>\n",
       "    <tr style=\"text-align: right;\">\n",
       "      <th></th>\n",
       "      <th>Negative examples</th>\n",
       "    </tr>\n",
       "  </thead>\n",
       "  <tbody>\n",
       "    <tr>\n",
       "      <th>0</th>\n",
       "      <td>Go center right</td>\n",
       "    </tr>\n",
       "    <tr>\n",
       "      <th>1</th>\n",
       "      <td>Grow blue rose</td>\n",
       "    </tr>\n",
       "    <tr>\n",
       "      <th>2</th>\n",
       "      <td>Grasp green bonsai</td>\n",
       "    </tr>\n",
       "    <tr>\n",
       "      <th>3</th>\n",
       "      <td>Grow any dog</td>\n",
       "    </tr>\n",
       "    <tr>\n",
       "      <th>4</th>\n",
       "      <td>Grow any table</td>\n",
       "    </tr>\n",
       "    <tr>\n",
       "      <th>5</th>\n",
       "      <td>Grow red bonsai</td>\n",
       "    </tr>\n",
       "    <tr>\n",
       "      <th>6</th>\n",
       "      <td>Grasp blue plant</td>\n",
       "    </tr>\n",
       "    <tr>\n",
       "      <th>7</th>\n",
       "      <td>Grasp any grass</td>\n",
       "    </tr>\n",
       "    <tr>\n",
       "      <th>8</th>\n",
       "      <td>Grow blue chair</td>\n",
       "    </tr>\n",
       "    <tr>\n",
       "      <th>9</th>\n",
       "      <td>Grasp blue bonsai</td>\n",
       "    </tr>\n",
       "    <tr>\n",
       "      <th>10</th>\n",
       "      <td>Grow blue sink</td>\n",
       "    </tr>\n",
       "    <tr>\n",
       "      <th>11</th>\n",
       "      <td>Grasp any cupboard</td>\n",
       "    </tr>\n",
       "    <tr>\n",
       "      <th>12</th>\n",
       "      <td>Grasp blue lamp</td>\n",
       "    </tr>\n",
       "    <tr>\n",
       "      <th>13</th>\n",
       "      <td>Grow blue cactus</td>\n",
       "    </tr>\n",
       "    <tr>\n",
       "      <th>14</th>\n",
       "      <td>Grow blue window</td>\n",
       "    </tr>\n",
       "  </tbody>\n",
       "</table>\n",
       "</div>"
      ],
      "text/plain": [
       "     Negative examples\n",
       "0      Go center right\n",
       "1       Grow blue rose\n",
       "2   Grasp green bonsai\n",
       "3         Grow any dog\n",
       "4       Grow any table\n",
       "5      Grow red bonsai\n",
       "6     Grasp blue plant\n",
       "7      Grasp any grass\n",
       "8      Grow blue chair\n",
       "9    Grasp blue bonsai\n",
       "10      Grow blue sink\n",
       "11  Grasp any cupboard\n",
       "12     Grasp blue lamp\n",
       "13    Grow blue cactus\n",
       "14    Grow blue window"
      ]
     },
     "execution_count": 8,
     "metadata": {},
     "output_type": "execute_result"
    }
   ],
   "source": [
    "negative_examples = set(goal_sampler.feedback_memory['string']) - set([descr for sublist in exhaustive_feedback.values.tolist() for descr in sublist])\n",
    "negative_examples = pd.DataFrame(negative_examples, columns=['Negative examples'])\n",
    "negative_examples.head(15)"
   ]
  },
  {
   "cell_type": "code",
   "execution_count": 9,
   "metadata": {},
   "outputs": [],
   "source": [
    "a,_,_,_ = social_partner.get_feedback([episode]+[episode])"
   ]
  },
  {
   "cell_type": "code",
   "execution_count": 10,
   "metadata": {},
   "outputs": [
    {
     "data": {
      "text/plain": [
       "['Go right',\n",
       " 'Go bottom',\n",
       " 'Go bottom right',\n",
       " 'Grasp blue living_thing',\n",
       " 'Grasp blue lion',\n",
       " 'Grasp any blue thing',\n",
       " 'Grasp any living_thing',\n",
       " 'Grasp any lion']"
      ]
     },
     "execution_count": 10,
     "metadata": {},
     "output_type": "execute_result"
    }
   ],
   "source": [
    "a[1]"
   ]
  },
  {
   "cell_type": "code",
   "execution_count": 11,
   "metadata": {},
   "outputs": [
    {
     "name": "stdout",
     "output_type": "stream",
     "text": [
      "pos ['Grasp blue living_thing']\n",
      "neg ['Grasp green supply']\n"
     ]
    }
   ],
   "source": [
    "# Fix this the social partner has no switch between one_pos_one_neg and exhaustive\n"
   ]
  },
  {
   "cell_type": "markdown",
   "metadata": {
    "id": "KK5Cfu0ColeQ"
   },
   "source": [
    "### 1.2 The Reward Function Module"
   ]
  },
  {
   "cell_type": "markdown",
   "metadata": {
    "id": "ppouVDJ7tYIY"
   },
   "source": [
    "<img src=\"https://drive.google.com/uc?export=view&id=1-74Gx9PkoPz4DC2gNPkdlSDeQsRVCq5G\" alt=\"drawing\" width=\"700\"/>\n",
    "\n",
    "\n",
    "Explain inference of reward function"
   ]
  },
  {
   "cell_type": "markdown",
   "metadata": {
    "id": "bOyovQwWppfM"
   },
   "source": [
    "In the following lines of code we will compute the object specific reward and the overall reward of the scene\n",
    "\n",
    "Let's consider the following state (from our previous rollout):"
   ]
  },
  {
   "cell_type": "code",
   "execution_count": 1,
   "metadata": {
    "id": "Es80gPecozDr"
   },
   "outputs": [
    {
     "ename": "NameError",
     "evalue": "name 'plt' is not defined",
     "output_type": "error",
     "traceback": [
      "\u001b[0;31m---------------------------------------------------------------------------\u001b[0m",
      "\u001b[0;31mNameError\u001b[0m                                 Traceback (most recent call last)",
      "\u001b[0;32m<ipython-input-1-2aaf82b35fc2>\u001b[0m in \u001b[0;36m<module>\u001b[0;34m\u001b[0m\n\u001b[0;32m----> 1\u001b[0;31m \u001b[0mfig\u001b[0m \u001b[0;34m=\u001b[0m \u001b[0mplt\u001b[0m\u001b[0;34m.\u001b[0m\u001b[0mimshow\u001b[0m\u001b[0;34m(\u001b[0m\u001b[0mobs\u001b[0m\u001b[0;34m)\u001b[0m\u001b[0;34m\u001b[0m\u001b[0;34m\u001b[0m\u001b[0m\n\u001b[0m\u001b[1;32m      2\u001b[0m \u001b[0mfig\u001b[0m\u001b[0;34m.\u001b[0m\u001b[0maxes\u001b[0m\u001b[0;34m.\u001b[0m\u001b[0mget_xaxis\u001b[0m\u001b[0;34m(\u001b[0m\u001b[0;34m)\u001b[0m\u001b[0;34m.\u001b[0m\u001b[0mset_visible\u001b[0m\u001b[0;34m(\u001b[0m\u001b[0;32mFalse\u001b[0m\u001b[0;34m)\u001b[0m\u001b[0;34m\u001b[0m\u001b[0;34m\u001b[0m\u001b[0m\n\u001b[1;32m      3\u001b[0m \u001b[0mfig\u001b[0m\u001b[0;34m.\u001b[0m\u001b[0maxes\u001b[0m\u001b[0;34m.\u001b[0m\u001b[0mget_yaxis\u001b[0m\u001b[0;34m(\u001b[0m\u001b[0;34m)\u001b[0m\u001b[0;34m.\u001b[0m\u001b[0mset_visible\u001b[0m\u001b[0;34m(\u001b[0m\u001b[0;32mFalse\u001b[0m\u001b[0;34m)\u001b[0m\u001b[0;34m\u001b[0m\u001b[0;34m\u001b[0m\u001b[0m\n",
      "\u001b[0;31mNameError\u001b[0m: name 'plt' is not defined"
     ]
    }
   ],
   "source": [
    "fig = plt.imshow(obs)\n",
    "fig.axes.get_xaxis().set_visible(False)\n",
    "fig.axes.get_yaxis().set_visible(False)"
   ]
  },
  {
   "cell_type": "code",
   "execution_count": 12,
   "metadata": {},
   "outputs": [],
   "source": [
    "def compute_reward_probabilities(state, goal_str, reward_language_model, reward_function, env):\n",
    "    goal_encoding = reward_language_model.encode(goal_str)\n",
    "    input_o = torch.tensor(state).float().view(1,len(o))\n",
    "    input_goal = torch.tensor(goal_encoding).float().view(1,len(goal_encoding))\n",
    "    reward_per_object = reward_function.reward_function.compute_logits_before_or(input_o, input_goal)\n",
    "    reward_per_object = [elem.detach()[0][0].item() for elem in reward_per_object]\n",
    "    objects = [obj.object_descr['colors'] + ' ' + obj.object_descr['types'] for obj in env.objects]\n",
    "    d = {'Objects':objects, 'Reward':reward_per_object}\n",
    "    df_rew = pd.DataFrame(d)\n",
    "    return df_rew\n",
    "\n",
    "def generate_other_possible_goal(goal_str, env):\n",
    "    objects = [obj.object_descr['colors'] + ' ' + obj.object_descr['types'] for obj in env.objects]\n",
    "    other_objects = [o for o in objects if o not in goal_str]\n",
    "    return ' '.join(random.sample(['Grow', 'Grasp'], 1) + random.sample(other_objects, 1))"
   ]
  },
  {
   "cell_type": "code",
   "execution_count": 20,
   "metadata": {},
   "outputs": [
    {
     "name": "stdout",
     "output_type": "stream",
     "text": [
      "Grow green parrot\n"
     ]
    }
   ],
   "source": [
    "other_goal_str = generate_other_possible_goal(goal_str,env)\n",
    "print(other_goal_str)"
   ]
  },
  {
   "cell_type": "markdown",
   "metadata": {},
   "source": [
    "\n",
    "Explain that we scan the reward per object for:\n",
    "\n",
    "1. the achieved goal\n",
    "2. another feasible goal considering the scene which is not achieved\n",
    "\n",
    "Discuss the probabilities\n",
    "\n"
   ]
  },
  {
   "cell_type": "code",
   "execution_count": 19,
   "metadata": {},
   "outputs": [
    {
     "data": {
      "image/png": "[encoded data removed]",
      "text/plain": [
       "<Figure size 1152x504 with 2 Axes>"
      ]
     },
     "metadata": {
      "needs_background": "light"
     },
     "output_type": "display_data"
    }
   ],
   "source": [
    "df_rew1 = compute_reward_probabilities(o, goal_str, reward_language_model, reward_function, env)\n",
    "df_rew2 = compute_reward_probabilities(o, other_goal_str, reward_language_model, reward_function, env)\n",
    "\n",
    "f, axes = plt.subplots(1, 2, figsize=(16, 7), sharex=True)\n",
    "sns.despine(left=True)\n",
    "sns.barplot(x=\"Objects\", y=\"Reward\", data=df_rew1, ax=axes[0]).set_title(goal_str)\n",
    "for index, row in df_rew1.iterrows():\n",
    "    axes[0].text(row.name,row.Reward, row.Reward, color='black', ha=\"center\")\n",
    "    \n",
    "sns.despine(left=True)\n",
    "sns.barplot(x=\"Objects\", y=\"Reward\", data=df_rew2, ax=axes[1]).set_title(other_goal_str)\n",
    "for index, row in df_rew2.iterrows():\n",
    "    axes[1].text(row.name,row.Reward, row.Reward, color='black', ha=\"center\")\n"
   ]
  },
  {
   "cell_type": "markdown",
   "metadata": {
    "id": "O4MS1YhKpxAF"
   },
   "source": [
    "Explain intuition behind reward function architecture"
   ]
  },
  {
   "cell_type": "code",
   "execution_count": 3,
   "metadata": {
    "id": "OPjdOPCNpvz-"
   },
   "outputs": [],
   "source": [
    "# Load a pretrained reward function\n",
    "# Use reward function in inference\n",
    "# Show results of reward function before or (object specific rewards)\n",
    "# Show results of reward function "
   ]
  },
  {
   "cell_type": "markdown",
   "metadata": {
    "id": "5p-Lt8Bh1yGp"
   },
   "source": [
    "### 1.3 The Policy Module"
   ]
  },
  {
   "cell_type": "markdown",
   "metadata": {
    "id": "022mfhNz77IC"
   },
   "source": [
    "Dunno yet what we can show here. Maybe just a run towards a goal, and maybe the evolution of the norm of the signal before the deepset aggregation (showing the norm of the module handling the relevant object is higher).\n"
   ]
  },
  {
   "cell_type": "code",
   "execution_count": null,
   "metadata": {
    "id": "T_-ihcP72E9e"
   },
   "outputs": [],
   "source": [
    "# Dunno yet what we can show here. Maybe just a run towards a goal, and maybe the evolution of the norm of the signal before the deepset aggregation (showing the norm of the module handling the objects )"
   ]
  },
  {
   "cell_type": "markdown",
   "metadata": {
    "id": "UTRu83rCpDsh"
   },
   "source": [
    "### 1.4 The Goal Imagination Module"
   ]
  },
  {
   "cell_type": "code",
   "execution_count": null,
   "metadata": {
    "id": "ab-EDf1Gt8hG"
   },
   "outputs": [],
   "source": [
    "# Show the set of imagined goal generated from a subset of known goals"
   ]
  },
  {
   "cell_type": "markdown",
   "metadata": {
    "id": "JCTxPAQd2JO_"
   },
   "source": [
    "## 2. How to train IMAGINE\n",
    "\n",
    "------------"
   ]
  },
  {
   "cell_type": "code",
   "execution_count": 1,
   "metadata": {
    "id": "H7oGU_JD2Ko-"
   },
   "outputs": [],
   "source": [
    "# Insert train command here and explain arguments"
   ]
  },
  {
   "cell_type": "markdown",
   "metadata": {
    "id": "T3njuS192W5V"
   },
   "source": [
    "## 3. Examples of Generalization"
   ]
  },
  {
   "cell_type": "code",
   "execution_count": null,
   "metadata": {
    "id": "8l8oiTCC2ZxC"
   },
   "outputs": [],
   "source": [
    "# Enter goal here"
   ]
  },
  {
   "cell_type": "code",
   "execution_count": null,
   "metadata": {
    "id": "7kZ1_h2J2bOO"
   },
   "outputs": [],
   "source": [
    "# Load pretrained model and generate rollout here"
   ]
  },
  {
   "cell_type": "markdown",
   "metadata": {
    "id": "GdxUhwT82iOX"
   },
   "source": [
    "## 4.  Vizualization"
   ]
  },
  {
   "cell_type": "code",
   "execution_count": null,
   "metadata": {
    "id": "LdmD7YIw2jaI"
   },
   "outputs": [],
   "source": [
    "# Insert cool vizualization of attention vectors here"
   ]
  },
  {
   "cell_type": "code",
   "execution_count": null,
   "metadata": {
    "id": "aXrlM4Gg2nQY"
   },
   "outputs": [],
   "source": [
    "# Insert interactive viz of t-sne goals here"
   ]
  },
  {
   "cell_type": "code",
   "execution_count": null,
   "metadata": {
    "id": "1OhwwDSJ2qGg"
   },
   "outputs": [],
   "source": []
  }
 ],
 "metadata": {
  "colab": {
   "collapsed_sections": [],
   "name": "IMAGINE.ipynb",
   "provenance": [],
   "toc_visible": true
  },
  "kernelspec": {
   "display_name": "Python 3",
   "language": "python",
   "name": "python3"
  },
  "language_info": {
   "codemirror_mode": {
    "name": "ipython",
    "version": 3
   },
   "file_extension": ".py",
   "mimetype": "text/x-python",
   "name": "python",
   "nbconvert_exporter": "python",
   "pygments_lexer": "ipython3",
   "version": "3.6.9"
  }
 },
 "nbformat": 4,
 "nbformat_minor": 4
}
