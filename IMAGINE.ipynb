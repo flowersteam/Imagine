{
 "cells": [
  {
   "cell_type": "markdown",
   "metadata": {
    "id": "IVb1EQw89d7C"
   },
   "source": [
    "# <strong> Language as a Cognitive Tool to Imagine Goals in Curiosity Driven Exploration </strong>\n",
    "\n",
    "--------------------------------------------------------------------------------\n"
   ]
  },
  {
   "cell_type": "markdown",
   "metadata": {
    "id": "awPzJKCs5dmE"
   },
   "source": [
    "Here add general introduction blog-post like with motivations, and illustrate with the schema that shows all modules."
   ]
  },
  {
   "cell_type": "markdown",
   "metadata": {
    "id": "HmGFArOeXvps"
   },
   "source": [
    "Configuring everything:"
   ]
  },
  {
   "cell_type": "code",
   "execution_count": 1,
   "metadata": {
    "colab": {
     "base_uri": "https://localhost:8080/",
     "height": 443
    },
    "id": "Jo7scb9TnVcO",
    "outputId": "304576c4-9ef0-4f0f-9adf-8c742794bfa3"
   },
   "outputs": [],
   "source": [
    "%%capture\n",
    "\n",
    "import numpy as np\n",
    "import torch\n",
    "import random\n",
    "import gym\n",
    "import pygame\n",
    "import matplotlib.pyplot as plt\n",
    "import matplotlib.animation as animation\n",
    "import seaborn as sns\n",
    "import pandas as pd\n",
    "from IPython.display import HTML\n",
    "import os\n",
    "# os.environ['SDL_VIDEODRIVER'] = 'dummy'\n",
    "# os.environ['SDL_AUDIODRIVER'] = 'dummy'\n",
    "from src.imagine.experiment import config\n",
    "from src.imagine.goal_sampler import GoalSampler\n",
    "from src.utils.notebook_utils import get_params_for_notebook, get_modules_for_notebook\n",
    "\n",
    "\n",
    "path= 'pretrained_weights/'\n",
    "params = get_params_for_notebook(path)\n",
    "policy_language_model, reward_language_model, policy, reward_function, goal_sampler = get_modules_for_notebook(path, params)"
   ]
  },
  {
   "cell_type": "markdown",
   "metadata": {},
   "source": [
    "!!! TODO add packages to yml"
   ]
  },
  {
   "cell_type": "markdown",
   "metadata": {
    "id": "214I7YWy9h98"
   },
   "source": [
    "## 1. IMAGINE under the hood\n",
    "\n",
    "------------------------------------------------\n",
    "\n",
    "### 1.1 The Social Partner Module\n",
    "\n",
    "\n",
    "\n"
   ]
  },
  {
   "cell_type": "markdown",
   "metadata": {
    "id": "3LHg1vnYEIbK"
   },
   "source": [
    "#### 1.1.1 First Role of the Social Partner: Setting up the scene\n",
    "\n",
    "-----------\n",
    "\n",
    "The first role of the Social Partner is to set up the scene so that the goal targeted by the agent can be achieved.\n",
    "\n",
    "It provides the agent with optimal learning opportunities by organizing the scene with:\n",
    "1. The required objects to reach the goal (not too difficult)\n",
    "2. Procedurally-generated distracting objects (not too easy and providing further discovery opportunities)\n",
    "\n",
    "The following lines of code show how scenes are generated according to this assumption:"
   ]
  },
  {
   "cell_type": "code",
   "execution_count": 2,
   "metadata": {
    "id": "32QSAzXwWj1z"
   },
   "outputs": [],
   "source": [
    "# Enter a valid goal description\n",
    "goal_str = 'Grasp blue lion'\n",
    "if goal_str not in (params['train_descriptions'] + params['test_descriptions']):\n",
    "    print('Please enter a feasible goal description.')"
   ]
  },
  {
   "cell_type": "code",
   "execution_count": 3,
   "metadata": {},
   "outputs": [
    {
     "data": {
      "text/plain": [
       "<function src.imagine.experiment.config.configure_everything.<locals>.make_env()>"
      ]
     },
     "execution_count": 3,
     "metadata": {},
     "output_type": "execute_result"
    }
   ],
   "source": [
    "params['make_env']"
   ]
  },
  {
   "cell_type": "code",
   "execution_count": 4,
   "metadata": {
    "colab": {
     "base_uri": "https://localhost:8080/",
     "height": 531
    },
    "id": "WeVvEj0wbU8I",
    "outputId": "560e50ba-1c9b-4a98-cf34-b4ff15f00261"
   },
   "outputs": [
    {
     "data": {
      "image/png": "[encoded data removed]",
      "text/plain": [
       "<Figure size 864x576 with 1 Axes>"
      ]
     },
     "metadata": {
      "needs_background": "light"
     },
     "output_type": "display_data"
    }
   ],
   "source": [
    "# Generating a scene which is compatible with the goal description\n",
    "env = gym.make(params['conditions']['env_name'], display=False)\n",
    "env.reset()\n",
    "initial_o = env.unwrapped.reset_with_goal(goal_str)\n",
    "env.step(np.array([0, 0, 0]))\n",
    "env.render(close=True)\n",
    "obs = pygame.surfarray.array3d(env.viewer).transpose([1,0,2])\n",
    "# pygame.display.quit()\n",
    "# pygame.quit()\n",
    "\n",
    "\n",
    "plt.rcParams['figure.figsize'] = [12, 8]\n",
    "fig = plt.imshow(obs)\n",
    "fig.axes.get_xaxis().set_visible(False)\n",
    "fig.axes.get_yaxis().set_visible(False)"
   ]
  },
  {
   "cell_type": "markdown",
   "metadata": {},
   "source": [
    "We observe that the generated scene contains the object of the specified goal description as well as two distractor objects."
   ]
  },
  {
   "cell_type": "markdown",
   "metadata": {
    "id": "6UsYaxIE4jrw"
   },
   "source": [
    "#### 1.1.2 Second Role of the Social Partner: Providing Descriptions\n",
    "\n",
    "----------\n",
    "\n",
    "The second role of the social partner is to provide language descriptions about the goals reached by the agent __at the end of an episode__.\n",
    "\n",
    "In this section, we play a policy conditioned by the goal we defined in 1.1.1 and observe the descriptive feedback given by the Social Partner at the end of the episode.\n",
    "\n",
    "We first do the rollout of the policy:"
   ]
  },
  {
   "cell_type": "code",
   "execution_count": 5,
   "metadata": {},
   "outputs": [],
   "source": [
    "%%capture\n",
    "# In order to build vizualization\n",
    "fig = plt.figure()\n",
    "ims = []\n",
    "\n",
    "## Rollout of a policy\n",
    "o = initial_o.copy()\n",
    "goal_encoding = policy_language_model.encode(goal_str)\n",
    "episode={'obs':[]}\n",
    "for t in range(50):\n",
    "    action = policy.get_actions(o, goal_encoding)\n",
    "    o,_,_,_ = env.step(action)\n",
    "    episode['obs'].append(o)\n",
    "    env.render(close=True)\n",
    "    obs = pygame.surfarray.array3d(env.viewer).transpose([1,0,2])\n",
    "    plt.rcParams['figure.figsize'] = [12, 8]\n",
    "    im = plt.imshow(obs, animated=True)\n",
    "    ims.append([im])\n",
    "    \n",
    "ani = animation.ArtistAnimation(fig, ims, interval=400, blit=False,\n",
    "                                repeat=False)"
   ]
  },
  {
   "cell_type": "markdown",
   "metadata": {},
   "source": [
    "We generate a small animation in order to vizualise the rollout:"
   ]
  },
  {
   "cell_type": "code",
   "execution_count": 6,
   "metadata": {},
   "outputs": [
    {
     "data": {
      "text/html": [
       "<video width=\"864\" height=\"576\" controls autoplay>\n",
       "  <source type=\"video/mp4\" src=\"data:video/mp4;base64,AAAAHGZ0eXBNNFYgAAACAGlzb21pc28yYXZjMQAAAAhmcmVlAAAxvW1kYXQAAAKgBgX//5zcRem9\n",
       "5tlIt5Ys2CDZI+7veDI2NCAtIGNvcmUgMTU3IC0gSC4yNjQvTVBFRy00IEFWQyBjb2RlYyAtIENv\n",
       "cHlsZWZ0IDIwMDMtMjAxOCAtIGh0dHA6Ly93d3cudmlkZW9sYW4ub3JnL3gyNjQuaHRtbCAtIG9w\n",
       "dGlvbnM6IGNhYmFjPTEgcmVmPTMgZGVibG9jaz0xOjA6MCBhbmFseXNlPTB4MzoweDExMyBtZT1o\n",
       "ZXggc3VibWU9NyBwc3k9MSBwc3lfcmQ9MS4wMDowLjAwIG1peGVkX3JlZj0xIG1lX3JhbmdlPTE2\n",
       "IGNocm9tYV9tZT0xIHRyZWxsaXM9MSA4eDhkY3Q9MSBjcW09MCBkZWFkem9uZT0yMSwxMSBmYXN0\n",
       "X3Bza2lwPTEgY2hyb21hX3FwX29mZnNldD0tMiB0aHJlYWRzPTEyIGxvb2thaGVhZF90aHJlYWRz\n",
       "PTIgc2xpY2VkX3RocmVhZHM9MCBucj0wIGRlY2ltYXRlPTEgaW50ZXJsYWNlZD0wIGJsdXJheV9j\n",
       "b21wYXQ9MCBjb25zdHJhaW5lZF9pbnRyYT0wIGJmcmFtZXM9MyBiX3B5cmFtaWQ9MiBiX2FkYXB0\n",
       "PTEgYl9iaWFzPTAgZGlyZWN0PTEgd2VpZ2h0Yj0xIG9wZW5fZ29wPTAgd2VpZ2h0cD0yIGtleWlu\n",
       "dD0yNTAga2V5aW50X21pbj0yIHNjZW5lY3V0PTQwIGludHJhX3JlZnJlc2g9MCByY19sb29rYWhl\n",
       "YWQ9NDAgcmM9Y3JmIG1idHJlZT0xIGNyZj0yMy4wIHFjb21wPTAuNjAgcXBtaW49MCBxcG1heD02\n",
       "OSBxcHN0ZXA9NCBpcF9yYXRpbz0xLjQwIGFxPTE6MS4wMACAAAAYTmWIhAAW//730z/Msuv3ObXj\n",
       "qPeiniZfQ3UlAZuWxO06gAAAAwAAAwAAAwAC3JArPemTWkcwgAAAAwATwAHuAQKmSnfIqYwcQDJf\n",
       "Y5W/cve/jGZourZfKw81rTO7Mkvg7/kkqHZ4Wg4/hfAVfpga8Sh6GAVl9R2h6Bk1SHPfVipFw1eu\n",
       "KK0/p57LV898MPAt+3/6eArgAvA768noh6a1HRkg5zQf+35WuQZcaGpLutXJKLrLCcqq2lFc1fdu\n",
       "cAEvkOLRgc7FKEMq52c+OZQ+6MoT5E/yVjIuFn/+aPFLisk0AAB3gI8u3MTZAWCxuuQ817+xL6LF\n",
       "RcA7k8pjrI10FuNWN3ezy+qP5iTlpT+p0q2r++xIzzs1p3ofW7U/BbdKNpnRO/KJsObMR/RKfUOM\n",
       "N5r6Bfw64PRXmkuVRLSdEhWbFS38ORuarAIs5YFqViJXv9je8utTnHZ/exEE+sRBLFE4r4TZ8hbC\n",
       "WBHVB7TC4AJuSICeYJ6mhmUWRN8y3jq2jV9YZmn41DAdIRCk7KTD0wofmgjXeBb+TAKqBE0cL8nq\n",
       "S1iSW09nL5Rx10VImh7JGnw0HPfRYoulACcvk45P6LlYp/xHlRzEHHkm9XI2SN/OWT0RibvEAZbM\n",
       "OxI864m/kAToZVgOM78h7h4Sc8st9QQEEIk9iN49j8mP/kaApREriEqz9CdwACG96pKGhpIW8Gs0\n",
       "AvQI14prZq7BD5w48CFOAhsw0/BrznAygl1pts6M9lX5Ptd3Jv4489dT+YNVaJI9ZBZvVOBPwxZq\n",
       "G/L6MuBMADTatFZUmp5Jt9dt8Audm6bjqhfggfkdnLZnVpM2Qbe2jHJmBu0iChT7fTM10M1gSB1A\n",
       "3TjNmQfNF6p4KgJh6HT16++UJFlp5x+pygXwBegLKYK8nPOCyHYod2D5Hzu0Q5FRtGZs5MeXujqs\n",
       "dEA+/R1Q352lHRMOjIJfFx9mV0SsKVUEJ94AIKkxzDUE1ZofMRHjYbJ0rQj0gV2pvzrGUas9QKEL\n",
       "HWdW90VF54mEEIdSC5YEqyGzRmDMhUiTO6AhNZSKdd+wwI0Clmlgg9DLkxsYi1oESe4moEZX/K9e\n",
       "ZSRJOf+j8y7xuRlggEZUIEZGWnj7i2pKdtAYApgjihiWbvX342lABvgsMyM7bX+6ktQ/+OatEkkj\n",
       "+42PNmLql/T3K0OeAiXX3JlX47iRIybZal4tTYMWTfFrsk1/+Mt+ISxuF4ubt1WWRayUJExicnGL\n",
       "yr0U8PeYV8mmUlzG9gtgmPuv5jCtXs5NEJStZC3jtQxnMLc52DG1xxfDFG9w1klkFE1Y26h/d29x\n",
       "UbZEfkaprJRHEgwN7td6aAqiSR8pg75qYG5EgL2QC0hLBvFy1miK3HbpD2wzIbQDuWlNPLLYLEtZ\n",
       "DHlodCGKMRzitPW5+rD9IOxmBQ1ZOfoRREOgSkXpIcstTsId9p1p1cQE3wESvj937SuQHmuO367N\n",
       "g87/q/WDLfWJLvdscVwRgHFPSNdK6kqZhXWRFXh5T6+eja3fFG5H5/blrEk3wml2/9Sc07eV64VG\n",
       "0K65q2+pamo/SZveo2zeJ5iBg2IsuHX6scvF1T4F1AoqRo0eGEXCAHaN9FQbMc/KClazudEFQKKo\n",
       "cvr/ekjePyQKiqAlj3uXEq8T4Dn8/zrQbmhwAG/9EyKe2tItXicGwA+wNWVcHbvAZEkm2ZC26iA+\n",
       "UMFWCm6ngkiNuB89P6FAcf+1MuyDq5oznOmCuNDTar1V6ti6/Rp3x/JJzKKXGudU/CeRsGx1HYCR\n",
       "ar9Wez+AgYuvYlx0x/Rj36dCltOagMDXW6vXXXHOn7n4Aj7dU82qcE3QpwLuu4RRE0lTDRHKiWUj\n",
       "n1ufqA2OU6w1xjejcgryNsaqjTjUAIUw+yVpHKjok7q7+ZTsYTT3bYygTuCFwZFBW+uQ9Qddf83L\n",
       "F0R3kwLoycZZJPZgGzTQUI5M6RYYRj/5jHqyl3UbgP76goN0eyDzFmlvRw5MqB/lwR4BcjXJtUaP\n",
       "tIqWrN6h94L2eYGytF5wGxH05yws/WmUZ9xeHcc5oJ2v+RtNGPXA9wTLUiD9sRkoYRfS0kFz8P6N\n",
       "WndWTBbXttrn2aXAZqfwm4y3RLA7bZlPKVFvJUJx3Z99ovoBbe4t8dLq9SMXTbRLlqT/y8kZVIjz\n",
       "1rNqqrn5sl+uw39zkiXjpOtMfJEpt5frhCmyEzb24dS7JnizA3l32owf6Bg0M/+WZrhBtoBoISkm\n",
       "r8DA3TfeqhWODOPhiMNvZGCXwW2ip+AA6OWJ7ZfBFSDto13ywZa8JFOl7ZGDsPfbenZ6LZbIFWXU\n",
       "vXND6jnveAdbyna51k3h+u7r9dTROx3JmeUezkcXD4zCua+qDPYaeCDG1crZ8L9+e7VYLl2O/AD9\n",
       "vTLBh1hBraWhDuqJ//4hWybrRaCOdxeYZaS/ZLYC2EBqC08UsT3/+hpO4F5km2/fltATSfeMTELK\n",
       "GsFuwVQf0T1WoX9Gwu5GN+FkUGEpm/Qk7KR9WqyA8V4fnZw9l2uCF2VZWso/Pe8S1zoCJf8tI6Ef\n",
       "m4hHjEWjNYb1H3Vm23BfLICH1j33IIa+v1R2YQotrOj2uas4EajG0XTU9yElyCG3+TJTc1emja62\n",
       "9MHn3pD2dHbX4mUu2AtgiaF8JJbLEJIb1d05cYrfMkUCsE961n59aTDW//dsqZgAOiZPiiZ0NuVz\n",
       "JVZFEQzEWHc3ouxUujBBvTPXLm/lk09dcMbs5QsrtvrejErU9GA4zFglqSNIO/NBL1AYOkevYTJS\n",
       "iTD9xyQPkDWWKQMXj/EwX36tnZqeQnyan+G2VPfaXuIRdQlaYkqNhIAP2x6DVItvt7mr+nkHvYE7\n",
       "vYfd9gzq8L07KBCm9BWFKVDFVggyvCkBcl2C17+1KmSYeAEBViavEFhFjIDb7Daf43A/6q1+vQqB\n",
       "2piK6sXzm0y+LZ0FDVWc3tqxLaht8rMYTNWT4cT7OTKOm1HiItrnRsC6FopyYH0QIsElIxdow0Wi\n",
       "u5DbKYCyEVds13vwDsRtLVKRGNIj+Mpqr+0cy7IP0MrcP/y104C9y5ITPfQ16jWc9NPMkvqh6HWv\n",
       "nMRcNvyObjVgWiTGWpBn6Jq1JnyLHcHbfzfYoK4yh++7JDMCCziASUNUXmu+POW+ki7h6C/XUun4\n",
       "7xiw4RjEiHxzDVru8oyk3VZhYBpn9p7/GVoEvzEnqcR11lbeSZbhUfIiU4VaMIKfxb75tUZNNV8W\n",
       "EYncyAHItHe8JsxKzfwIHZWB+9e/GVRqhP9C/Lsl7Waw8V0J5g9YxJxs23yo2Ze1oc2fvwFp58Kr\n",
       "vawJesBGT18mQ7FtnlaEQTEQrDYCV5hojmP56gyYlneH16rVFC9IUZljG+MmNu6CgkU0AOLK2gwG\n",
       "bwoeTO+sluhZiW3ot6syCyaGka1scOnpFEopNnhuzGSgW62pokOLBE2rzja8trvynpTdpd6qY1k5\n",
       "PRirF6hzZJR1CAHjPf9FrtoYe0+AkBGOdAY8opgOoVP23Lxey48sBKL3JckiNZ624JTcQW5CAA2Q\n",
       "XdXOm27Lf1bewUL385sma5OFNYuf8Q7YYcAvwawEdschO/Zd4imCyiOWKu2jLR53C1eNn2m3u5cA\n",
       "ACzmzPDXji30Sv58x5fVE5L06ynJuBt/4a12P8YCxOvxL5vLsauPrLoD6je134jIvCFAZ73jxfV3\n",
       "NiMX2FINoceiJSQCk3d4Ir+lFYGO8xmhXsWxk1vVnlt68JMexvNYA+HQg0zxRlSdLHlI3QM5UdUa\n",
       "DybawLcWcP045K6M/Qj1yrmjhMinNgYzQPaYAnFRKiu2y0MQNPGJma8OYER1O0lCoKnfDjQgBzVM\n",
       "AFJkhH0h1roCXpt3G04qYfGdoHIovx7I+CbkK4CWBp7Hz0DINvr/Yd/Kk4Yq2rlBpgzo35BD4EF9\n",
       "GcsAtPfgXzgD35t2Gou47hS2YFVBFantX+vM0T1zQmxPYwSx24tJ9rfBjyTV9IBydWEr3QOSYWVk\n",
       "j0W7xaYFnRF0dT6RouHPnmj/kQjQxfwjAmBMfI9a2RlNI0X0m2WnAD5LbItXn3Czl1yVwbvMv8Vk\n",
       "LWFI5V65M9E1NP51mqMmZJ3TyZqq3oCbYLA3UbrnvTYgLB8qK0GLZ/VtUP9TOw4UMjOUWvNCS9R+\n",
       "Kfh/vLr5aCX6bQ+l6WwW72PTbs88eFg4/COi8b85jx/G+Ns3may1kPD0ZIk597j1jzHLjI+6Q4hY\n",
       "bq6V3J+fBmD5jsTxGbS8PZtmUQWHCciGvx/IaIUVH6AM6dDDd6TCOquHY3mLZi388qJmen+/Ow+k\n",
       "08HxZwkZxikc7vCDtlD5egRQ4o1jPqUg7KzfxMKzty3mVdms1GvvdXE5Nxuk9pe2H3XsVjvRtvZP\n",
       "yb6TNVuRRHEtk1zGwK2zYlJBslTPR1WP+X2zyXZrgER2BV3DUBYwyovrfk8H9nVFyhmssMihPL0+\n",
       "cLBG0CcByGphSrikfn/o0hpP0V1UFFnwR4SlScwrT3fkddhfgu+Uj3ICfwZpj3nAircOzuNvT06m\n",
       "kCFGrW1TKqLHGtHtJvrxuAlIfkjGaP6QE2SAzuNNkr/RK91BTyPWrbOkk94iflBgwjGk54A7roYM\n",
       "AucrEHhl9JpGTknOTiRSVrxH5AJuHQ2aIlPqBOUKmTwhWkHzEdplDgXkX182iCUSbP8KblsNg0hW\n",
       "fhLJdPoe8Tg8tskVI3rED9Sv1kMh9jVue6vS2Doxn5vex+uvSLq6hdDZC79NA/6jOlMDmhWv4OTQ\n",
       "HPMgWi1ZzJL4dtntjY7yztyogmUxlQxKci9EOW17b/5//1+YavxKdv9p12GnfkDq+U+RgPWsAeVH\n",
       "t2scRPyCp6/mHZmvmO/1gLkPxS00Fi4SKrmbZpSJMxKN6UXEImIcO/AqDabJYaRn2SHI3Gghhl8r\n",
       "rWQZuVzRphaX0N8y8Clo6P3E1WLcS2UzcP/ElXBgD7t/Mxtf/4gPbAAwWWSngRgYb9E07zbwK2Xz\n",
       "E4tXqLVfkUSkXts8NoACV4qGIzfDuP1wQbRP1dGVXopPXY4gm9yQDsGs/QQmg4zb1XLuIb1Y5Mrr\n",
       "FDavtPvdh/GCmi7sik6ydowIHZrgxIPxRYrbTXyK5zeedL1ES0uFxH3dwtWnDEYRq6a3SvrvrhS3\n",
       "/eIzwo6jSCNqCDLw+AZ2jAJvCzTRZvmG0wxXw05m5qwdaQi9zAmPiAWOE03O76ty7VVgvJmzt1Jm\n",
       "YkraXDqrVvrRk5dJiNnW9o8afobpZ2EyWWRmz+bv2xDqWXGkGze/UX4WJtVs+9GQE1O2IeMnp/vs\n",
       "PO8wmlgSvxlsbk6UZsfV9rHAE7nnymWkncUpwD7XW2BXgotLBj/XdE6XBhVUk5OZVZfs6CRftpS9\n",
       "gua9PChCMgZ3Rw5CLgAy2tAU6SzXCK2Kq1HIeU6rK/LY/mbfmeT+SSAB7eKodZPhbBHAqrfsp3GB\n",
       "6cvbtn+5Kk0MwBNawYHymgogohio8yqQIO1eRLELYfaDCdjrcHFAfOMlY4Sux02xDyFwHs7i6gxJ\n",
       "gCs8Uq7+z3N0hosNyJwbyhyuY4BUQ46+hMNLYJLYAQs7q5IjxxMtitH551RXEPwwxcoqRpUtTjSO\n",
       "L6oKCt3AOoOesrC8JRsnAMsERrKQAAHp4lE1VxB7NiWqiucRSJXgmmJPIc8cxfpF+64efVC1GrcG\n",
       "vY4S5w8y0j00wTWg0dSvNwc6g7tGZNS4O4A38ZkHkvt8sAfZPIAKxXRNJBABIH1i4D+zUeAA0rPU\n",
       "iAAUAONgQI/UC6Iqr7nWBfkc3aMJETJu3e9ffSJjhaJDDxIJqJH7PbPbqtXB+XF1sJxHBJ5CH1+Y\n",
       "eqbvonXGXvwl6qfsyv98dTLiHoeNNRk11tVyOBUN8sxdSKEnyevSyTcsVIpkdZTGakkF2O/CdKof\n",
       "JqKCmuulrcoTDL9v/JmWOefJaJI37sZnTF8RD2ZppArhcUbUtvdjnN+4cnR3QbjAAAADAAAH5tGL\n",
       "Af6s1q1dbWxbjIR+IvBLAFt2s8r7gcAHWlF/Q6DPnsp4RJpG31UoK8b5xUMiXIUBslDAhW2pNox+\n",
       "uk8LnWfI3Sj/GZ2LWv668Gi15owKhZAtD0hiO+DM5/hbh96DdLn1VY6AMiSzIcJxf6T4PleFC3Rr\n",
       "6wW5hUJLlZg6QRg35lpig8MFujYHJJ/5xBJXVx+kZ7mx8LT26+DBIxqdnkYlN6Q0GLv6c/+BtiKX\n",
       "1kq0T9OKYcwnwR7OK9drsry06G29AtomNHFluR1c6SjSxDnJcsdF95ao///zdQJD8VujZJvZx/90\n",
       "e+uwRk9SIxM4RUbQEQTrL1R+BaJaDagvBYS6ehjV8dYqbmvqwW8IgsxLTLOhro3K9658jtF3KDHC\n",
       "eX2LHkVUZkyaaOdyY5GzJXchsaZDPJZia1CJfJ6SRB//8nFgiw73ljd7wVQzh94bBUiQmtHMrm8l\n",
       "xpmBKg3eF3aGrgt07WDNCI2d/I0e8n5Kt4FQH3mCbF0KLoNRL4sStYsSjSX3WaZiMQd4N6kIE20r\n",
       "9iqIwDw/DedGQ4WJeFgoPCXdXvm0PWazyob6yVgTf54JRF0cEpT9u7SSwpKI7aUEgsnmMRiMLn6t\n",
       "wfwIdsNfsHxHf0RUiznd1RAXMLSCdwIHW2C8aHJn2tWm/n5efNgtN7qbjeeExyvvnY6Fp31qaaGz\n",
       "R6DI5oCTzPAmQFylD0wn0x1m7n5BLouV9hB+tb6wfQ+Xl0XNKJaoJK6uP0jLiqusfsq1GebzjQKU\n",
       "q3Rsah11uXLNsICrCTDnnhSU4J51m1+AiYq/i4wAegeSjVaTzqx0/rYM4J9MD2gvyNdrwJyjMP66\n",
       "8DgAABSTeAdY1bOFJenp/2iB0xH79/VZaC/vCfB1ssfrPPlhefXi9Vv1Kw17u5oPvtjxvsuja4pq\n",
       "BabtAh4OccnG9zdT+qBXuDGBMmguGey0gnXMEw+VjuKCMFLhrB0pzG9ak9hFZJ6yjIFeiux95sDv\n",
       "0G74IqUxh/Pe7CE0ZbQPAjc9QalvkDEA+YGT/XUZ+nfpjESkf745P/gaoKoYbbZsETK9lcBE96Ne\n",
       "0fc0WMrfZHXEZW4er0Y2nwCQZJinIKS8Oa/DoEC+OFaKNW9pcLiO8Em059MXg7+n+93QeJ4ID/jA\n",
       "L0xmngdP/IqIfNbSXvFYSnbTpqrafWOz70NByKJk7GJCVbhkae1D/qDfGHAG+BgGNbSbnVjZkEwo\n",
       "pfR40eVVDEeqfuqvomsVMdXyLWwTUReRmrpWPg1OERBJiSwi/J3Pyn6DBEUlUpwDHm2TvYcMw3Ux\n",
       "9B9krVWP35C9CsU9wjzsxtqBvp2KOL7j9bAZvgVZrRT+X1X7+6gRgMKqBHpjvmv1aAKflsbbcYOt\n",
       "wwtdVN9LPqW50wVKUgQbTgx3Fwd/ZdVq0uQynhJZYUYa1uTjHCZmL98qBXPjJwG9ZaZ8sSZr5ASl\n",
       "aVeWUOHnBcFKKOcr4SVouQHP5nIah3ElEi+ooYnT/k0E7qd3U8VbFP+lG1pRSJ87lBbJWSPznq52\n",
       "eangl3AWUExxmA9Y9MCTGSj+gvkMCt/2QIGZGjn9BU/4IetFYl/wmbfBz55lCTH1BbSl8YVJ/DT2\n",
       "TmdPs0YZly+tSHdJMG+MlX1OM4oFl6gIJQ0nCFH1vksr8zmZhatvFYqARVmeQR2A9824b2FHfCOK\n",
       "R7E4YmVmUNxqQRgjF2M3Ucmv/d/zuctrV4/XwsxaC59itLqQo3f7HWD6WAAMqUKxUHXxLmCpC5sF\n",
       "vQQxEzeC8/NpsKho/CsUwQH2hXF+XB0DgaQuPXOrGmpC+4CLc2WE2EMwVlaNMnhbpAqZeS/3mnXb\n",
       "dpixTIQASHyF3Ho5bOvw1xn1nCexHNXOhW2nqAfdt4lIHyngp2LpO+RtUQ5rtU/ktYyGz/H/q948\n",
       "PplO//52/qmc7wQSuORDXOrvqT2tQlISTDv9OStkSdRyVXkJEdgRRly+0Mkv95zuGUB6E41WAb0/\n",
       "9NpeFhZo+QW5Q7qzR90SodA6ZzkmiFxfP8/LUyEnZqg3Jf7xWvXpiJ5tP/rc4GYsdeixsASlIiKD\n",
       "Cpe9upi3+HJfe4AlexOozDg8ZB+X6gSt5345VZ0ma123ZQCdAPT1+P2RqzdYcpSKrhhkjHAJ/dgM\n",
       "VZ6CMfdv+Duq/qsV0uvRyDXhe2d0a7ZTLyh9KcDMM3ZRa0J1I65YlCeahz+d5DueiuJ7KkaQYnmK\n",
       "ilDpK6RBL1tu1OdZo1bh34xpElwm5VGaxxMYlz1WKePx2anQ7SY5EM7At8g8E6qcAJlsWEgzK02w\n",
       "9hguXVIBpwxnmOmsA83TEAAvRM8qCy4TNf2ACtUM9HYcaZwAGbLd1Q4wAAADAAAGJQAAAR9BmiJs\n",
       "QW/+1qVQAAADAAADAer9k8twDjoRWdt9MrANtMnOG+jdvVJg2w6RSyYBNR+WSEOaYyKSvBpQzlpF\n",
       "T3VRVxOihgRJ3ifn7llvk3RnLvgtbOFQDE11GDITWJRoZr1HvRn99AbrJBrX3vQAZET+5/LHGCV+\n",
       "eMXnC2PJjFira3AlF7cwFUYp1WS2Fmb0nNVivl7ZMupeD84US7cKJeQjy4zURi1mNhH8PbdA8waZ\n",
       "X23t780MfX3nhi3bLB5vt6m/HOuX/GIaLYzNSNh4GVN+35o6X99mtYQs9KSgQsBVCy9LKUsL9WaD\n",
       "uTq7LHHzNJ8pO2bglfXCnfKH8EPGPdMUjz80yMcEqR0nt6JGI7XIjsvTnBhBNeK3JMBAAABzQAAA\n",
       "AHgBnkF5BL8AAAMAAAMAB2kvztc2ZXEf1Chvv/OAEu5yP8ZxiVViKatqo6I0Mmw/ePAETHbFjXH/\n",
       "yQLDkMTIppBjgd9Tj5e0qwQiWoTQgB5/X1q8STeOF8789me3D/aEDVPXvrTce0I1FCN9lbdgg52U\n",
       "eeQv5EAAAYsAAAJ8QZpGPCGTKYQW//7WpVAAAAMAAAb79k8twD7fDYMBwcALXffcS+A1WQ+pKWbr\n",
       "Rn18PrnQG4as2hcrnSLvyfmfRsylh/D2XD0uB9ESIkqM0IqObpMemPQCy1WRnC57ZvkxhQY2tRsB\n",
       "aRqNiBM4SfwHCZQ+d7eiIS46yOorQ6Vqii1IHMNh5moKobP0ZOhY+xPttAr4lW3CkAnQuSNH5RIk\n",
       "rCTr3OcEEcoBrY4XvCcnFHvZQO9kbYgDIzX/XEO4wj822ygWiv5e6zhfLhLJQjA01FUM3FVLP68p\n",
       "z/0fXzbub9ZBOhtNvKpk/NtnJDcyIF9tpxSuRXe6LAWVSjS60XkvpzzQOxyJMgpuvAoc1Bw7K36Z\n",
       "hlamoMJBC0car/cJn+bmtjg6MmEbCtSvYZGi1cUiuadT5U0k5LJZvz5qYe7bQRnjQu6Ta0CegZjL\n",
       "IAsoSjI38CE0IeL/oG12ECY8PmKtAduakZkla7TIq5ogp0cxC134wb+bS42h0/1J7f8g4dyhWeac\n",
       "ovuNaC6ujEhP8WwpJj8sU9VEP2eRuxVUOmeW2d+KM3UAvY5V1LGmJDooiWZGvjhmPOp3/+24vRpA\n",
       "PGj0b9UhSFa8eh/LyaTX/NLr/nCCv7rMvO9YSwPVCDqhX1cUeAbOc4OhRvdESkL1ndqYynGf055f\n",
       "Zzf7JxK2dKnovLoaTQvHo4PB3LjqOLUS9pmJWvFTHd537m9lHKyw4zc9MuRP43HoNMDGGW5iZr17\n",
       "zIppR4FiN2ixqhDYGHnqn5UdQq9YjW19SbsfiTGKgwDxGykwm//M0RHiMYcE5Z1GgkFKkJ0vX0Ks\n",
       "Kv5mgQc746fsnSzOhSKh4jyi/qmgAAAAXEGeZGpTwT8AAAMAAAMAEf4dpXveY/b+P9PhB/fysAWF\n",
       "CqMxL6bDkdFaVKLICX3creRywCQedojfJDu4tydeqft+BScg4mD4dwJb+xY4YwdY+WPk3proACwv\n",
       "Avu5AAAAIwGeg3RBLwAAAwAAAwAa9Yu+DN7HkVM4uHeF/NQK/wAAAwMDAAAAIwGehWpBLwAAAwAA\n",
       "AwAG5cyT4ElPFWIrT6FJ8kqkb/AAAAYFAAAB50GaikmoQWiZTAgt//7WpVAAAAMAAAMBx4O6MAMn\n",
       "SCCDHLF12+hGJjGDiatzciBy5ulKYlEOYrs7cNnt2cIrjS4PeZucNC0RO2h/FpF51q1csxvoiAwG\n",
       "m3hGyh2vermqgsGFte9EYClre6619KcJzL0zBbqHvn4Xuh5O9pzBjQFYbOrPUQXacpnyWOIBKlU5\n",
       "YDFnNGNrRk2BfvOYOuY4/Xk3KxVAobZrT/29V/GaIqnMPyXCPKXIHFgH0Q4x1cnNWvP59L+xsooJ\n",
       "ZkHVgpVwjDRBmLC1TH7eeLlATpg081eS0KE1WJWktTqL7pp2EqxpFwgLTKybKJC1Xpz1urtd8D7g\n",
       "oabgKDpKd3hbaTPjPUEUKtXYJweRvd5PTOLzdsk8zSkKYtJ+Vt6NQrygIMW2fcxtnw+EMiUK7xTg\n",
       "9VwFkfwqQyCFTp9dCh0kfmSFyUWpiX3vc7R4nMg3W4AWn+mkJdvqLWRTbeiSpVnyBCexLKfcNuPg\n",
       "8/A2piKSnsJhUVxsyP9o+mjQD1abRNmNVzBUprpL34rOv8bjGzBSWbmYpDM9e9Mv5LelU8KgGEV/\n",
       "BjoAue0pq0RfkkDVCrVKB1ahtrpWP7n26AGTIHaxcle3tm/NgtIvUbhQXQjGP7grOau5q8WGLS4M\n",
       "P+EAAAAlQZ6oRREsE/8AAAMAAAMABJ/Uhg4lVo14q00Lrz54YYCgAACqgAAAABYBnsd0QS8AAAMA\n",
       "AAMAAAMAAAMAAD0gAAAAIQGeyWpBLwAAAwAAAwAG5UzT0FWv4JOzlbrn1FAKAAAKqQAAAXdBms5J\n",
       "qEFsmUwILf/+1qVQAAADAAADAceP9hgBX/ItZN497ZZ2NpEzKdiFU2Nb55FPHt9OD7PTu4la642G\n",
       "Nh4Ebk6psr42BFGvaOqGvIjWOGviBb8xqsrpwPXOWcbHJAo1hcp6O1FmsFbv+HVnSMsinWRmOPcs\n",
       "TWWkL3B1vTRAN/dMK2VZcfv26Zhibcta7lkwJKAxusIceeqnxlepLbXubWnyc79BLwl6YMHKH0J4\n",
       "9OsGwWrlRGQwSbBMK5dBgZ8FHPcWlabdN6dtG6iJZzydN7UeSDaaczQ4ZmDUFSQslHUtCDxsN/LW\n",
       "QIYUNOOyLaJirCVgXvexSiTEoXSKsQ8RX7B3RJmiukEJVNMJG7d3P89bo/bOo5m7qI1sVOkLbrXj\n",
       "MKYLqRkVvuCv8SF7Lh/Txy2tLV9dt7wMPju/MKwZtzkdngA0svebqO2GtlX2eyd5o/8d4GIKNhjT\n",
       "dbVhu5pDYSwIaJTQ2e7ZSif2snXoGOVz+dPVi4AAAAAlQZ7sRRUsE/8AAAMAAAMABJ/Uhg4lVo14\n",
       "q00Lrz54YYCgAACqgAAAABYBnwt0QS8AAAMAAAMAAAMAAAMAAD0hAAAAIQGfDWpBLwAAAwAAAwAG\n",
       "5UxjjmSLYgKVePLvU0+KAAAKqQAAAcpBmxJJqEFsmUwILf/+1qVQAAADAAADAceDvpQBVcUlSUSc\n",
       "QfXfdXIpfNT3rv7UhzC3DkUbC+g1tKfz8687j53bJhjJb2RuD6tiMxDuFfor2lFm0zYHY274tT2a\n",
       "mx2hTSCm6I+Myh0Jz57ravPZvP7ExTdvAWEQwkhhXjeigERbFQGIx6veGMoH6bbxjDGXO3DQGgph\n",
       "PglAxK3fNg3/gKDWxJe6G/JAjaKIKA8fQUr48+GJiXlINBpgS//Ewus4UHN0UtcMJTmK/MYZ7ibe\n",
       "tyy13E9+SFvLm7Au17Vdwv5vEVyfJCTVN1Ifl3LvdTVSIM98R4EgJdMgdDF6yPz9AFTAFhANE2k0\n",
       "oEPzj+qpHnR0WetdX5/xSkRd26v1lkgS7kNVZT96f35KkldwbD0o9oWCV1pSD4ksR5WA55pXZKwI\n",
       "ZE56DgwRw2mQLfrnZLbaI043Y9j9rwWrpmkFAhZSc6Hma3J4wUqizbFVgmBH4698kor6bsmLsdMy\n",
       "idohzMabNm3ygWvcRt1vNz58q9Qs3JDqgyWU/qHwU55Oe+a1EEjbtP6/aBoqJKz7DXp46qYQpDtu\n",
       "QRvdQ4DUQrfG7qK1gZz8h27VXl4bMUD/gQAAACVBnzBFFSwT/wAAAwAAAwAEn9SWcWbO89OXksoe\n",
       "6u2CqqHAAAGVAAAAFgGfT3RBLwAAAwAAAwAAAwAAAwAAPSAAAAAhAZ9RakEvAAADAAADAAblTNPQ\n",
       "Va/gk7OVuufUUAoAAAqpAAABT0GbVkmoQWyZTAgt//7WpVAAAAMAAAMBx4/r8ALVjwwKiJ+1NF3C\n",
       "yW2wcgyh0ZkWFON6/o6noFvnvBrEPyq4keNONwGxcPFnDj8SqFNcWCUSxGP/ct5tlgkLFGUJ2sCU\n",
       "TOLYqOD5Yea18a44V+4UDpk308PfZBImLNd6Y2+YgGSsU32NJ61Ta/dM+uorBDB/YsxQSbxA3YNB\n",
       "8wq3uePgikuHbF7r9CWZ1KiuUsYtcAiDllCo7gHTlxdgCkhN38hr2YoxUaP3xfOyNM3IiIsQmStS\n",
       "evX4b2TPjVFp47cO5Sg+3ip/S3Zuy3nEew+6TYtp+w+0LRO1wu3MjRE0gXmY9KDa/uGYTVAfcWFM\n",
       "J/yA4/OI4OWQIzXKrD8YIERE+f/4sV/oZG6e31jMXFoh/Zfjgwh4c5ZW4FJKj3J6sEEV72j/XFlE\n",
       "NUJV1UW7AAADAG9AAAAAIkGfdEUVLBP/AAADAAADAASfh2lbFzMmLvrAwsITVQAABNwAAAAgAZ+T\n",
       "dEEvAAADAAADAAbluUJ9rkxA/+7JsQiLqgAACbkAAAAWAZ+VakEvAAADAAADAAADAAADAAA9IAAA\n",
       "AcNBm5pJqEFsmUwILf/+1qVQAAADAAADAcmQ/6wAdj1PTy4sde4XdH65DOKdqVvreJvSlYKiZfXO\n",
       "dJiqPAMYBFYxzfiI9zXOXTTnzI9WKAiVMS9oyktntZVMTDk+ZVlrmuiL5t49HgOCPNKmqepITGLz\n",
       "IA0bDINsaxgJeW0efTtaGbscbWxN7zuMGlR1jTgpKWzgoTTH23yo3/GF5pfJbHH/er6Srs6tpAjl\n",
       "DoUKz8nMHvm2b2fL4b5fNXB1/pAxjQrhfq4O4YmNfyqzkuCe1wJtWuDGSx07ejJ6/SMsWK/joRPS\n",
       "YQABoD5mU1SsERdE1xFxwFUAM9RW7vPsy3xdT2myMf1149k5vAabqm1EPkVD3+fO5Uut57gdM9Nl\n",
       "aX0Kf8hwKPt1pl96oJbLwtDgY2IXv5D2mHrwSPgcRN1ESX5XaQe96YS1cdxFcW+8QQPh1Z5EyIa9\n",
       "++9cDIZeOlPC5zpp2vL3d+vdUHcWT15WAz4ZE3I7+LleIB0/qDpyF858H7923qu8QGrOyU5G/PRK\n",
       "drQpO3Yc6+0ndYYDTibxv8zCG2cqPytoygJXpGgO10Fh+/xi3df7D0nlLNEd2Zup+/mThem5AAAA\n",
       "JEGfuEUVLBP/AAADAAADAASf1JZxZs7z05hBzrBToR22AAAHtQAAABYBn9d0QS8AAAMAAAMAAAMA\n",
       "AAMAAD0gAAAAIQGf2WpBLwAAAwAAAwAG5UzT0FWv4JYmkSwfWtsAAAMD2wAAAQ5Bm95JqEFsmUwI\n",
       "Lf/+1qVQAAADAAADAcm2MgoEALWBwWnU2v0a/+57EZQ7q4c0sKLI/akojpl/RB9MmkjagMALpFbh\n",
       "PcKyWiBv+fXwD13mI1RaTUOR7VjrOP4eqvSHwemFWGA/KV7dNwH7tAeaN7iNZm3ApWYvkMT2FIA5\n",
       "LgXx1pNR8SGY2jJsXK3+4J7Hi/cBF0PI0jOjY113aVa6udWeb1STD7jZ/HhjMzIdE2m8CzxXom29\n",
       "93hbU5tQdo+OOjWaQOumSyVyzOejjOj1TEnSvBKsGmr8DE1BIMHFkHhrb2sY8DwEpBoAHeuDLpDB\n",
       "deVejMQ3rf+vK0Lz8x34kOxbz7HzxgK0QcUAAAMAoIAAAAAiQZ/8RRUsE/8AAAMAAAMABJ+HaVsX\n",
       "MyYu+sDCwhNVAAAE3QAAACEBnht0QS8AAAMAAAMABuVi738/MeA/RAWpJNqyoAAAm4EAAAAWAZ4d\n",
       "akEvAAADAAADAAADAAADAAA9IAAAAc1BmgJJqEFsmUwILf/+1qVQAAADAAADAcdTqmU5gwASI7HJ\n",
       "g/vGINwcWtklLZMjehq8yFLpzHjKAVn1KlLb+T2EJDoKDKplwXLOxM/mGutlB/LSpe+LYmugLjLP\n",
       "5T8mDGyAAZcTGh+WpkZ/SUGJuPvwgJEyCaOjvOxia+whfsFz0llhPYM32tkI3ApM8Xy3OmHkjVQC\n",
       "53Am2lW158s74Vy/FDIFp97Hb15yyGmQJmEKkHgl6DDTIvx6Gcb9EJToxm+Ed8810jO/t8GQLMZE\n",
       "j2c/wOV12VXQ720KnCQ/DvfWZUQ3rNAIld0UimJcx3AnEJOquwP0jQdTXu59Jm7N5EVX/lK8ZWxo\n",
       "b2iEL+A2OfPd/r+hv2+jLSg5asjouRwL2VrHcXLIuCVqYpNBb0WzKWA2zyqNKQ9G3dyDMgt3V2xd\n",
       "CYVLO18MkEv6VEyZpNg/Z6BRxWcdyaVps3fAYf0I8OTxsW2wsUKUsU1b7JzveLQiPJ14fd7pTDud\n",
       "Y+SyhuvOWEd+FGQ9JZdHP/TRNSLntpGoVvIe1FiISpf3uQB7vorqNhJGs23dUXRXiYKbe7Zf1BRf\n",
       "Lm6nA4S9ZWE07x68/dEHz4Bb8TMa5IE8gAABcQAAACdBniBFFSwT/wAAAwAAAwAEn9SAFhCCGFpE\n",
       "xbJOPq65b/BBngAAB7UAAAAYAZ5fdEEvAAADAAADAAa9YwysAAADAC7gAAAAJwGeQWpBLwAAAwAA\n",
       "AwAG5aG8aPm7gnNPRoyLFgtG76daByBWgAADawAAAC9BmkZJqEFsmUwILf/+1qVQAAADAAADABsu\n",
       "SEvgAIz5GjNLrBH55vZ4mSUgAAAHpAAAABxBnmRFFSwT/wAAAwAAAwABD++rCydyEhAAAA8ZAAAA\n",
       "FwGeg3RBLwAAAwAAAwAAcRSodUAAADRhAAAAFwGehWpBLwAAAwAAAwAAcRyYysAAACyhAAAB3kGa\n",
       "ikmoQWyZTAgr//7WpVAAAAMAAAMBx37TdgABytocRA+TB8KYY/Nz/s++2snJY4LE4v5aPJCC3Rhu\n",
       "jmXjt9zTzRjjCBI708z1iPrZvmGv8aOEAX7vclIF6V154Xoekdwz1VB4yFgXfMS17cW3KnuehY7T\n",
       "JG/ADVLAS9+tEltvwXrLxV3q7Golqixc+I5QkaHAE51utjXCUOcRai2PqtYAp3rPNl24orCSyWgn\n",
       "deHT0shzTezr7sUGuYr6mfr9/41oDC2C8WVpD3F0ZE2Ou82+beQYqWtYsGzY4Gr5LRbDmqVZr+9a\n",
       "/0Pt3anjsbtg53nRblsJHYnLIA4uSOdZaLgkX9h+raHcVrH8B4QPp61G6h9+7stKgWYix3Mf+fNq\n",
       "1hcIQCj826wpl6lOvw7XmgS3PHJgcc39COsd8fGe/+jQ0PW9mdEou/dBJ+Kv7mav1qehz8B1pecx\n",
       "vFwpCIH3r3EgacC9M5rGUl+1yrQzvc3Zjt7ypCzEITRFHa2G10fy+1uRDEB89QuzoHDWtEZWQh09\n",
       "fm4HzN3s0zmhlZ1Fze+eC5LldlbcKOCmSffU8bJg+Eem3+qAo5QZ1uhREewM8TqlhiO5pP2bfYiQ\n",
       "qIRmmjAH7UyfWRfH9omva90CmvUAAAAnQZ6oRRUsE/8AAAMAAAMABJ/Uhg4lVo14q7C8qCDeg48P\n",
       "3rgAAD/AAAAAFwGex3RBLwAAAwAAAwAAcRSodUAAADRgAAAAIgGeyWpBLwAAAwAAAwAG5UxjjmSL\n",
       "YgaCs1tLUeTTIAAAg4EAAAAfQZrOSahBbJlMCCn//taMsAAAAwAAAwAAAwAAAwAfcAAAABxBnuxF\n",
       "FSwT/wAAAwAAAwABD++rCydyEhAAAA8YAAAAFwGfC3RBLwAAAwAAAwAAcRSodUAAADRhAAAAFwGf\n",
       "DWpBLwAAAwAAAwAAcRyYysAAACyhAAAAQkGbEUmoQWyZTAgl//61KoAAAAMAAA3t6QG+ABm7Cbbz\n",
       "h0GZx4bWYDpv2NPptkXpkTDzYKtv4yKVBZBXylLhrAUUMQAAACZBny9FFSwS/wAAAwAAAwAG5cyg\n",
       "H0XJOA+bD5Qk0smRi65XAAAH+AAAACMBn1BqQS8AAAMAAAMABuXMoB9FyTgPpQ5OkOi259IIAAAM\n",
       "+AAABX9tb292AAAAbG12aGQAAAAAAAAAAAAAAAAAAAPoAABOIAABAAABAAAAAAAAAAAAAAAAAQAA\n",
       "AAAAAAAAAAAAAAAAAAEAAAAAAAAAAAAAAAAAAEAAAAAAAAAAAAAAAAAAAAAAAAAAAAAAAAAAAAAA\n",
       "AAACAAAEqXRyYWsAAABcdGtoZAAAAAMAAAAAAAAAAAAAAAEAAAAAAABOIAAAAAAAAAAAAAAAAAAA\n",
       "AAAAAQAAAAAAAAAAAAAAAAAAAAEAAAAAAAAAAAAAAAAAAEAAAAADYAAAAkAAAAAAACRlZHRzAAAA\n",
       "HGVsc3QAAAAAAAAAAQAATiAAACAAAAEAAAAABCFtZGlhAAAAIG1kaGQAAAAAAAAAAAAAAAAAACgA\n",
       "AAMgAFXEAAAAAAAtaGRscgAAAAAAAAAAdmlkZQAAAAAAAAAAAAAAAFZpZGVvSGFuZGxlcgAAAAPM\n",
       "bWluZgAAABR2bWhkAAAAAQAAAAAAAAAAAAAAJGRpbmYAAAAcZHJlZgAAAAAAAAABAAAADHVybCAA\n",
       "AAABAAADjHN0YmwAAAC0c3RzZAAAAAAAAAABAAAApGF2YzEAAAAAAAAAAQAAAAAAAAAAAAAAAAAA\n",
       "AAADYAJAAEgAAABIAAAAAAAAAAEAAAAAAAAAAAAAAAAAAAAAAAAAAAAAAAAAAAAAAAAAAAAY//8A\n",
       "AAAyYXZjQwFkAB//4QAZZ2QAH6zZQNgSaEAAAAMAgAAAAwKDxgxlgAEABmjr48siwAAAABx1dWlk\n",
       "a2hA8l8kT8W6OaUbzwMj8wAAAAAAAAAYc3R0cwAAAAAAAAABAAAAMgAAEAAAAAAUc3RzcwAAAAAA\n",
       "AAABAAAAAQAAAZhjdHRzAAAAAAAAADEAAAABAAAgAAAAAAEAADAAAAAAAQAAEAAAAAABAABQAAAA\n",
       "AAEAACAAAAAAAQAAAAAAAAABAAAQAAAAAAEAAFAAAAAAAQAAIAAAAAABAAAAAAAAAAEAABAAAAAA\n",
       "AQAAUAAAAAABAAAgAAAAAAEAAAAAAAAAAQAAEAAAAAABAABQAAAAAAEAACAAAAAAAQAAAAAAAAAB\n",
       "AAAQAAAAAAEAAFAAAAAAAQAAIAAAAAABAAAAAAAAAAEAABAAAAAAAQAAUAAAAAABAAAgAAAAAAEA\n",
       "AAAAAAAAAQAAEAAAAAABAABQAAAAAAEAACAAAAAAAQAAAAAAAAABAAAQAAAAAAEAAFAAAAAAAQAA\n",
       "IAAAAAABAAAAAAAAAAEAABAAAAAAAQAAUAAAAAABAAAgAAAAAAEAAAAAAAAAAQAAEAAAAAABAABQ\n",
       "AAAAAAEAACAAAAAAAQAAAAAAAAABAAAQAAAAAAEAAFAAAAAAAQAAIAAAAAABAAAAAAAAAAEAABAA\n",
       "AAAAAQAAQAAAAAACAAAQAAAAABxzdHNjAAAAAAAAAAEAAAABAAAAMgAAAAEAAADcc3RzegAAAAAA\n",
       "AAAAAAAAMgAAGvYAAAEjAAAAfAAAAoAAAABgAAAAJwAAACcAAAHrAAAAKQAAABoAAAAlAAABewAA\n",
       "ACkAAAAaAAAAJQAAAc4AAAApAAAAGgAAACUAAAFTAAAAJgAAACQAAAAaAAABxwAAACgAAAAaAAAA\n",
       "JQAAARIAAAAmAAAAJQAAABoAAAHRAAAAKwAAABwAAAArAAAAMwAAACAAAAAbAAAAGwAAAeIAAAAr\n",
       "AAAAGwAAACYAAAAjAAAAIAAAABsAAAAbAAAARgAAACoAAAAnAAAAFHN0Y28AAAAAAAAAAQAAACwA\n",
       "AABidWR0YQAAAFptZXRhAAAAAAAAACFoZGxyAAAAAAAAAABtZGlyYXBwbAAAAAAAAAAAAAAAAC1p\n",
       "bHN0AAAAJal0b28AAAAdZGF0YQAAAAEAAAAATGF2ZjU4LjI5LjEwMA==\n",
       "\">\n",
       "  Your browser does not support the video tag.\n",
       "</video>"
      ],
      "text/plain": [
       "<IPython.core.display.HTML object>"
      ]
     },
     "execution_count": 6,
     "metadata": {},
     "output_type": "execute_result"
    }
   ],
   "source": [
    "HTML(ani.to_html5_video())"
   ]
  },
  {
   "cell_type": "markdown",
   "metadata": {},
   "source": [
    "__Exhaustive feedback:__\n",
    "\n",
    "In its default configuration, the social partner gives __exhaustive feedbacks__. It outputs all the goals that the agent has achieved at the end of the episode. "
   ]
  },
  {
   "cell_type": "code",
   "execution_count": 7,
   "metadata": {},
   "outputs": [
    {
     "data": {
      "text/html": [
       "<div>\n",
       "<style scoped>\n",
       "    .dataframe tbody tr th:only-of-type {\n",
       "        vertical-align: middle;\n",
       "    }\n",
       "\n",
       "    .dataframe tbody tr th {\n",
       "        vertical-align: top;\n",
       "    }\n",
       "\n",
       "    .dataframe thead th {\n",
       "        text-align: right;\n",
       "    }\n",
       "</style>\n",
       "<table border=\"1\" class=\"dataframe\">\n",
       "  <thead>\n",
       "    <tr style=\"text-align: right;\">\n",
       "      <th></th>\n",
       "      <th>Descriptive Feedback from Social Partner</th>\n",
       "    </tr>\n",
       "  </thead>\n",
       "  <tbody>\n",
       "    <tr>\n",
       "      <th>0</th>\n",
       "      <td>Go right</td>\n",
       "    </tr>\n",
       "    <tr>\n",
       "      <th>1</th>\n",
       "      <td>Go bottom</td>\n",
       "    </tr>\n",
       "    <tr>\n",
       "      <th>2</th>\n",
       "      <td>Grasp blue living_thing</td>\n",
       "    </tr>\n",
       "    <tr>\n",
       "      <th>3</th>\n",
       "      <td>Grasp blue lion</td>\n",
       "    </tr>\n",
       "    <tr>\n",
       "      <th>4</th>\n",
       "      <td>Grasp any blue thing</td>\n",
       "    </tr>\n",
       "    <tr>\n",
       "      <th>5</th>\n",
       "      <td>Grasp any living_thing</td>\n",
       "    </tr>\n",
       "    <tr>\n",
       "      <th>6</th>\n",
       "      <td>Grasp any lion</td>\n",
       "    </tr>\n",
       "  </tbody>\n",
       "</table>\n",
       "</div>"
      ],
      "text/plain": [
       "  Descriptive Feedback from Social Partner\n",
       "0                                 Go right\n",
       "1                                Go bottom\n",
       "2                  Grasp blue living_thing\n",
       "3                          Grasp blue lion\n",
       "4                     Grasp any blue thing\n",
       "5                   Grasp any living_thing\n",
       "6                           Grasp any lion"
      ]
     },
     "execution_count": 7,
     "metadata": {},
     "output_type": "execute_result"
    }
   ],
   "source": [
    "from src.imagine.social_partner import SocialPartner\n",
    "oracle_reward_function = config.get_oracle_reward_function(goal_sampler, params)\n",
    "social_partner = SocialPartner(oracle_reward_function=oracle_reward_function, goal_sampler=goal_sampler,\n",
    "                                   feedback_strategy='exhaustive', p_availability=1.,\n",
    "                                   params=params)\n",
    "\n",
    "exhaustive_feedback = pd.DataFrame(social_partner.get_feedback([episode])[0][0], columns=['Descriptive Feedback from Social Partner'])\n",
    "exhaustive_feedback"
   ]
  },
  {
   "cell_type": "markdown",
   "metadata": {},
   "source": [
    "The agent can then infer the negative feedbacks by simply removing the communicated goals to the set of goal he has already discovered:"
   ]
  },
  {
   "cell_type": "code",
   "execution_count": 8,
   "metadata": {},
   "outputs": [
    {
     "data": {
      "text/html": [
       "<div>\n",
       "<style scoped>\n",
       "    .dataframe tbody tr th:only-of-type {\n",
       "        vertical-align: middle;\n",
       "    }\n",
       "\n",
       "    .dataframe tbody tr th {\n",
       "        vertical-align: top;\n",
       "    }\n",
       "\n",
       "    .dataframe thead th {\n",
       "        text-align: right;\n",
       "    }\n",
       "</style>\n",
       "<table border=\"1\" class=\"dataframe\">\n",
       "  <thead>\n",
       "    <tr style=\"text-align: right;\">\n",
       "      <th></th>\n",
       "      <th>Negative examples</th>\n",
       "    </tr>\n",
       "  </thead>\n",
       "  <tbody>\n",
       "    <tr>\n",
       "      <th>0</th>\n",
       "      <td>Grasp red window</td>\n",
       "    </tr>\n",
       "    <tr>\n",
       "      <th>1</th>\n",
       "      <td>Grow any red thing</td>\n",
       "    </tr>\n",
       "    <tr>\n",
       "      <th>2</th>\n",
       "      <td>Grow any bonsai</td>\n",
       "    </tr>\n",
       "    <tr>\n",
       "      <th>3</th>\n",
       "      <td>Grasp blue cat</td>\n",
       "    </tr>\n",
       "    <tr>\n",
       "      <th>4</th>\n",
       "      <td>Grasp green parrot</td>\n",
       "    </tr>\n",
       "    <tr>\n",
       "      <th>5</th>\n",
       "      <td>Grasp blue animal</td>\n",
       "    </tr>\n",
       "    <tr>\n",
       "      <th>6</th>\n",
       "      <td>Go right left</td>\n",
       "    </tr>\n",
       "    <tr>\n",
       "      <th>7</th>\n",
       "      <td>Go center left</td>\n",
       "    </tr>\n",
       "    <tr>\n",
       "      <th>8</th>\n",
       "      <td>Grasp any chameleon</td>\n",
       "    </tr>\n",
       "    <tr>\n",
       "      <th>9</th>\n",
       "      <td>Grow blue parrot</td>\n",
       "    </tr>\n",
       "    <tr>\n",
       "      <th>10</th>\n",
       "      <td>Grasp green sink</td>\n",
       "    </tr>\n",
       "    <tr>\n",
       "      <th>11</th>\n",
       "      <td>Grasp red cactus</td>\n",
       "    </tr>\n",
       "    <tr>\n",
       "      <th>12</th>\n",
       "      <td>Grow green table</td>\n",
       "    </tr>\n",
       "    <tr>\n",
       "      <th>13</th>\n",
       "      <td>Grow blue window</td>\n",
       "    </tr>\n",
       "    <tr>\n",
       "      <th>14</th>\n",
       "      <td>Grasp blue parrot</td>\n",
       "    </tr>\n",
       "  </tbody>\n",
       "</table>\n",
       "</div>"
      ],
      "text/plain": [
       "      Negative examples\n",
       "0      Grasp red window\n",
       "1    Grow any red thing\n",
       "2       Grow any bonsai\n",
       "3        Grasp blue cat\n",
       "4    Grasp green parrot\n",
       "5     Grasp blue animal\n",
       "6         Go right left\n",
       "7        Go center left\n",
       "8   Grasp any chameleon\n",
       "9      Grow blue parrot\n",
       "10     Grasp green sink\n",
       "11     Grasp red cactus\n",
       "12     Grow green table\n",
       "13     Grow blue window\n",
       "14    Grasp blue parrot"
      ]
     },
     "execution_count": 8,
     "metadata": {},
     "output_type": "execute_result"
    }
   ],
   "source": [
    "negative_examples = set(goal_sampler.feedback_memory['string']) - set([descr for sublist in exhaustive_feedback.values.tolist() for descr in sublist])\n",
    "negative_examples = pd.DataFrame(negative_examples, columns=['Negative examples'])\n",
    "negative_examples.head(15)"
   ]
  },
  {
   "cell_type": "code",
   "execution_count": 22,
   "metadata": {},
   "outputs": [],
   "source": [
    "a,_,_,_ = social_partner.get_feedback([episode]+[episode])"
   ]
  },
  {
   "cell_type": "code",
   "execution_count": 24,
   "metadata": {},
   "outputs": [
    {
     "data": {
      "text/plain": [
       "['Go right',\n",
       " 'Go bottom',\n",
       " 'Grasp blue living_thing',\n",
       " 'Grasp blue lion',\n",
       " 'Grasp any blue thing',\n",
       " 'Grasp any living_thing',\n",
       " 'Grasp any lion']"
      ]
     },
     "execution_count": 24,
     "metadata": {},
     "output_type": "execute_result"
    }
   ],
   "source": [
    "a[1]"
   ]
  },
  {
   "cell_type": "code",
   "execution_count": 9,
   "metadata": {},
   "outputs": [
    {
     "name": "stdout",
     "output_type": "stream",
     "text": [
      "pos ['Go right', 'Go bottom', 'Grasp blue living_thing', 'Grasp blue lion', 'Grasp any blue thing', 'Grasp any living_thing', 'Grasp any lion']\n",
      "neg Grow blue cow\n"
     ]
    },
    {
     "data": {
      "text/html": [
       "<div>\n",
       "<style scoped>\n",
       "    .dataframe tbody tr th:only-of-type {\n",
       "        vertical-align: middle;\n",
       "    }\n",
       "\n",
       "    .dataframe tbody tr th {\n",
       "        vertical-align: top;\n",
       "    }\n",
       "\n",
       "    .dataframe thead th {\n",
       "        text-align: right;\n",
       "    }\n",
       "</style>\n",
       "<table border=\"1\" class=\"dataframe\">\n",
       "  <thead>\n",
       "    <tr style=\"text-align: right;\">\n",
       "      <th></th>\n",
       "      <th>Descriptive Feedback from Social Partner</th>\n",
       "    </tr>\n",
       "  </thead>\n",
       "  <tbody>\n",
       "    <tr>\n",
       "      <th>0</th>\n",
       "      <td>Go right</td>\n",
       "    </tr>\n",
       "    <tr>\n",
       "      <th>1</th>\n",
       "      <td>Go bottom</td>\n",
       "    </tr>\n",
       "    <tr>\n",
       "      <th>2</th>\n",
       "      <td>Grasp blue living_thing</td>\n",
       "    </tr>\n",
       "    <tr>\n",
       "      <th>3</th>\n",
       "      <td>Grasp blue lion</td>\n",
       "    </tr>\n",
       "    <tr>\n",
       "      <th>4</th>\n",
       "      <td>Grasp any blue thing</td>\n",
       "    </tr>\n",
       "    <tr>\n",
       "      <th>5</th>\n",
       "      <td>Grasp any living_thing</td>\n",
       "    </tr>\n",
       "    <tr>\n",
       "      <th>6</th>\n",
       "      <td>Grasp any lion</td>\n",
       "    </tr>\n",
       "  </tbody>\n",
       "</table>\n",
       "</div>"
      ],
      "text/plain": [
       "  Descriptive Feedback from Social Partner\n",
       "0                                 Go right\n",
       "1                                Go bottom\n",
       "2                  Grasp blue living_thing\n",
       "3                          Grasp blue lion\n",
       "4                     Grasp any blue thing\n",
       "5                   Grasp any living_thing\n",
       "6                           Grasp any lion"
      ]
     },
     "execution_count": 9,
     "metadata": {},
     "output_type": "execute_result"
    }
   ],
   "source": [
    "# Fix this the social partner has no switch between one_pos_one_neg and exhaustive\n",
    "\n",
    "social_partner2 = SocialPartner(oracle_reward_function=oracle_reward_function, goal_sampler=goal_sampler,\n",
    "                                   feedback_strategy='one_pos_one_neg', p_availability=1.,\n",
    "                                   params=params)\n",
    "\n",
    "one_pos_one_neg_feedback = pd.DataFrame(social_partner2.get_feedback([episode])[0][0], columns=['Descriptive Feedback from Social Partner'])\n",
    "one_pos_one_neg_feedback"
   ]
  },
  {
   "cell_type": "markdown",
   "metadata": {
    "id": "KK5Cfu0ColeQ"
   },
   "source": [
    "### 1.2 The Reward Function Module"
   ]
  },
  {
   "cell_type": "markdown",
   "metadata": {
    "id": "ppouVDJ7tYIY"
   },
   "source": [
    "<img src=\"https://drive.google.com/uc?export=view&id=1-74Gx9PkoPz4DC2gNPkdlSDeQsRVCq5G\" alt=\"drawing\" width=\"700\"/>\n",
    "\n",
    "\n",
    "Explain inference of reward function"
   ]
  },
  {
   "cell_type": "markdown",
   "metadata": {
    "id": "bOyovQwWppfM"
   },
   "source": [
    "In the following lines of code we will compute the object specific reward and the overall reward of the scene\n",
    "\n",
    "Let's consider the following state (from our previous rollout):"
   ]
  },
  {
   "cell_type": "code",
   "execution_count": 1,
   "metadata": {
    "id": "Es80gPecozDr"
   },
   "outputs": [
    {
     "ename": "NameError",
     "evalue": "name 'plt' is not defined",
     "output_type": "error",
     "traceback": [
      "\u001b[0;31m---------------------------------------------------------------------------\u001b[0m",
      "\u001b[0;31mNameError\u001b[0m                                 Traceback (most recent call last)",
      "\u001b[0;32m<ipython-input-1-2aaf82b35fc2>\u001b[0m in \u001b[0;36m<module>\u001b[0;34m\u001b[0m\n\u001b[0;32m----> 1\u001b[0;31m \u001b[0mfig\u001b[0m \u001b[0;34m=\u001b[0m \u001b[0mplt\u001b[0m\u001b[0;34m.\u001b[0m\u001b[0mimshow\u001b[0m\u001b[0;34m(\u001b[0m\u001b[0mobs\u001b[0m\u001b[0;34m)\u001b[0m\u001b[0;34m\u001b[0m\u001b[0;34m\u001b[0m\u001b[0m\n\u001b[0m\u001b[1;32m      2\u001b[0m \u001b[0mfig\u001b[0m\u001b[0;34m.\u001b[0m\u001b[0maxes\u001b[0m\u001b[0;34m.\u001b[0m\u001b[0mget_xaxis\u001b[0m\u001b[0;34m(\u001b[0m\u001b[0;34m)\u001b[0m\u001b[0;34m.\u001b[0m\u001b[0mset_visible\u001b[0m\u001b[0;34m(\u001b[0m\u001b[0;32mFalse\u001b[0m\u001b[0;34m)\u001b[0m\u001b[0;34m\u001b[0m\u001b[0;34m\u001b[0m\u001b[0m\n\u001b[1;32m      3\u001b[0m \u001b[0mfig\u001b[0m\u001b[0;34m.\u001b[0m\u001b[0maxes\u001b[0m\u001b[0;34m.\u001b[0m\u001b[0mget_yaxis\u001b[0m\u001b[0;34m(\u001b[0m\u001b[0;34m)\u001b[0m\u001b[0;34m.\u001b[0m\u001b[0mset_visible\u001b[0m\u001b[0;34m(\u001b[0m\u001b[0;32mFalse\u001b[0m\u001b[0;34m)\u001b[0m\u001b[0;34m\u001b[0m\u001b[0;34m\u001b[0m\u001b[0m\n",
      "\u001b[0;31mNameError\u001b[0m: name 'plt' is not defined"
     ]
    }
   ],
   "source": [
    "fig = plt.imshow(obs)\n",
    "fig.axes.get_xaxis().set_visible(False)\n",
    "fig.axes.get_yaxis().set_visible(False)"
   ]
  },
  {
   "cell_type": "code",
   "execution_count": 12,
   "metadata": {},
   "outputs": [],
   "source": [
    "def compute_reward_probabilities(state, goal_str, reward_language_model, reward_function, env):\n",
    "    goal_encoding = reward_language_model.encode(goal_str)\n",
    "    input_o = torch.tensor(state).float().view(1,len(o))\n",
    "    input_goal = torch.tensor(goal_encoding).float().view(1,len(goal_encoding))\n",
    "    reward_per_object = reward_function.reward_function.compute_logits_before_or(input_o, input_goal)\n",
    "    reward_per_object = [elem.detach()[0][0].item() for elem in reward_per_object]\n",
    "    objects = [obj.object_descr['colors'] + ' ' + obj.object_descr['types'] for obj in env.objects]\n",
    "    d = {'Objects':objects, 'Reward':reward_per_object}\n",
    "    df_rew = pd.DataFrame(d)\n",
    "    return df_rew\n",
    "\n",
    "def generate_other_possible_goal(goal_str, env):\n",
    "    objects = [obj.object_descr['colors'] + ' ' + obj.object_descr['types'] for obj in env.objects]\n",
    "    other_objects = [o for o in objects if o not in goal_str]\n",
    "    return ' '.join(random.sample(['Grow', 'Grasp'], 1) + random.sample(other_objects, 1))"
   ]
  },
  {
   "cell_type": "code",
   "execution_count": 20,
   "metadata": {},
   "outputs": [
    {
     "name": "stdout",
     "output_type": "stream",
     "text": [
      "Grow green parrot\n"
     ]
    }
   ],
   "source": [
    "other_goal_str = generate_other_possible_goal(goal_str,env)\n",
    "print(other_goal_str)"
   ]
  },
  {
   "cell_type": "markdown",
   "metadata": {},
   "source": [
    "\n",
    "Explain that we scan the reward per object for:\n",
    "\n",
    "1. the achieved goal\n",
    "2. another feasible goal considering the scene which is not achieved\n",
    "\n",
    "Discuss the probabilities\n",
    "\n"
   ]
  },
  {
   "cell_type": "code",
   "execution_count": 19,
   "metadata": {},
   "outputs": [
    {
     "data": {
      "image/png": "[encoded data removed]",
      "text/plain": [
       "<Figure size 1152x504 with 2 Axes>"
      ]
     },
     "metadata": {
      "needs_background": "light"
     },
     "output_type": "display_data"
    }
   ],
   "source": [
    "df_rew1 = compute_reward_probabilities(o, goal_str, reward_language_model, reward_function, env)\n",
    "df_rew2 = compute_reward_probabilities(o, other_goal_str, reward_language_model, reward_function, env)\n",
    "\n",
    "f, axes = plt.subplots(1, 2, figsize=(16, 7), sharex=True)\n",
    "sns.despine(left=True)\n",
    "sns.barplot(x=\"Objects\", y=\"Reward\", data=df_rew1, ax=axes[0]).set_title(goal_str)\n",
    "for index, row in df_rew1.iterrows():\n",
    "    axes[0].text(row.name,row.Reward, row.Reward, color='black', ha=\"center\")\n",
    "    \n",
    "sns.despine(left=True)\n",
    "sns.barplot(x=\"Objects\", y=\"Reward\", data=df_rew2, ax=axes[1]).set_title(other_goal_str)\n",
    "for index, row in df_rew2.iterrows():\n",
    "    axes[1].text(row.name,row.Reward, row.Reward, color='black', ha=\"center\")\n"
   ]
  },
  {
   "cell_type": "markdown",
   "metadata": {
    "id": "O4MS1YhKpxAF"
   },
   "source": [
    "Explain intuition behind reward function architecture"
   ]
  },
  {
   "cell_type": "code",
   "execution_count": 3,
   "metadata": {
    "id": "OPjdOPCNpvz-"
   },
   "outputs": [],
   "source": [
    "# Load a pretrained reward function\n",
    "# Use reward function in inference\n",
    "# Show results of reward function before or (object specific rewards)\n",
    "# Show results of reward function "
   ]
  },
  {
   "cell_type": "markdown",
   "metadata": {
    "id": "5p-Lt8Bh1yGp"
   },
   "source": [
    "### 1.3 The Policy Module"
   ]
  },
  {
   "cell_type": "markdown",
   "metadata": {
    "id": "022mfhNz77IC"
   },
   "source": [
    "Dunno yet what we can show here. Maybe just a run towards a goal, and maybe the evolution of the norm of the signal before the deepset aggregation (showing the norm of the module handling the relevant object is higher).\n"
   ]
  },
  {
   "cell_type": "code",
   "execution_count": null,
   "metadata": {
    "id": "T_-ihcP72E9e"
   },
   "outputs": [],
   "source": [
    "# Dunno yet what we can show here. Maybe just a run towards a goal, and maybe the evolution of the norm of the signal before the deepset aggregation (showing the norm of the module handling the objects )"
   ]
  },
  {
   "cell_type": "markdown",
   "metadata": {
    "id": "UTRu83rCpDsh"
   },
   "source": [
    "### 1.4 The Goal Imagination Module"
   ]
  },
  {
   "cell_type": "code",
   "execution_count": null,
   "metadata": {
    "id": "ab-EDf1Gt8hG"
   },
   "outputs": [],
   "source": [
    "# Show the set of imagined goal generated from a subset of known goals"
   ]
  },
  {
   "cell_type": "markdown",
   "metadata": {
    "id": "JCTxPAQd2JO_"
   },
   "source": [
    "## 2. How to train IMAGINE\n",
    "\n",
    "------------"
   ]
  },
  {
   "cell_type": "code",
   "execution_count": 1,
   "metadata": {
    "id": "H7oGU_JD2Ko-"
   },
   "outputs": [],
   "source": [
    "# Insert train command here and explain arguments"
   ]
  },
  {
   "cell_type": "markdown",
   "metadata": {
    "id": "T3njuS192W5V"
   },
   "source": [
    "## 3. Examples of Generalization"
   ]
  },
  {
   "cell_type": "code",
   "execution_count": null,
   "metadata": {
    "id": "8l8oiTCC2ZxC"
   },
   "outputs": [],
   "source": [
    "# Enter goal here"
   ]
  },
  {
   "cell_type": "code",
   "execution_count": null,
   "metadata": {
    "id": "7kZ1_h2J2bOO"
   },
   "outputs": [],
   "source": [
    "# Load pretrained model and generate rollout here"
   ]
  },
  {
   "cell_type": "markdown",
   "metadata": {
    "id": "GdxUhwT82iOX"
   },
   "source": [
    "## 4.  Vizualization"
   ]
  },
  {
   "cell_type": "code",
   "execution_count": null,
   "metadata": {
    "id": "LdmD7YIw2jaI"
   },
   "outputs": [],
   "source": [
    "# Insert cool vizualization of attention vectors here"
   ]
  },
  {
   "cell_type": "code",
   "execution_count": null,
   "metadata": {
    "id": "aXrlM4Gg2nQY"
   },
   "outputs": [],
   "source": [
    "# Insert interactive viz of t-sne goals here"
   ]
  },
  {
   "cell_type": "code",
   "execution_count": null,
   "metadata": {
    "id": "1OhwwDSJ2qGg"
   },
   "outputs": [],
   "source": []
  }
 ],
 "metadata": {
  "colab": {
   "collapsed_sections": [],
   "name": "IMAGINE.ipynb",
   "provenance": [],
   "toc_visible": true
  },
  "kernelspec": {
   "display_name": "Python 3",
   "language": "python",
   "name": "python3"
  },
  "language_info": {
   "codemirror_mode": {
    "name": "ipython",
    "version": 3
   },
   "file_extension": ".py",
   "mimetype": "text/x-python",
   "name": "python",
   "nbconvert_exporter": "python",
   "pygments_lexer": "ipython3",
   "version": "3.6.9"
  }
 },
 "nbformat": 4,
 "nbformat_minor": 4
}
